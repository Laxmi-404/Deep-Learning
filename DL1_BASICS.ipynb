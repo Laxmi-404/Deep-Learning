{
  "nbformat": 4,
  "nbformat_minor": 0,
  "metadata": {
    "colab": {
      "provenance": [],
      "authorship_tag": "ABX9TyPTzLi/uL7kWOIezm7t2Zye",
      "include_colab_link": true
    },
    "kernelspec": {
      "name": "python3",
      "display_name": "Python 3"
    },
    "language_info": {
      "name": "python"
    }
  },
  "cells": [
    {
      "cell_type": "markdown",
      "metadata": {
        "id": "view-in-github",
        "colab_type": "text"
      },
      "source": [
        "<a href=\"https://colab.research.google.com/github/Laxmi-404/Deep-Learning/blob/main/DL1_BASICS.ipynb\" target=\"_parent\"><img src=\"https://colab.research.google.com/assets/colab-badge.svg\" alt=\"Open In Colab\"/></a>"
      ]
    },
    {
      "cell_type": "code",
      "source": [
        "# !conda install pytorch torchvision -c pytorch"
      ],
      "metadata": {
        "id": "rKnM9BUB8ZON"
      },
      "execution_count": null,
      "outputs": []
    },
    {
      "cell_type": "code",
      "execution_count": null,
      "metadata": {
        "id": "hP95F2hn0-aZ"
      },
      "outputs": [],
      "source": [
        "import torch"
      ]
    },
    {
      "cell_type": "markdown",
      "source": [
        "PyTorch is a library for processing tensors.A tensor is a a number,matrix,vector or n-dimensional array."
      ],
      "metadata": {
        "id": "8EhGLURT9c8v"
      }
    },
    {
      "cell_type": "code",
      "source": [
        "t1=torch.tensor(4.)\n",
        "t1"
      ],
      "metadata": {
        "colab": {
          "base_uri": "https://localhost:8080/"
        },
        "id": "-aVUJfdZ8QF6",
        "outputId": "8b36a41b-d3e8-43e4-90fb-76d7b860e90f"
      },
      "execution_count": null,
      "outputs": [
        {
          "output_type": "execute_result",
          "data": {
            "text/plain": [
              "tensor(4.)"
            ]
          },
          "metadata": {},
          "execution_count": 3
        }
      ]
    },
    {
      "cell_type": "code",
      "source": [
        "# 4.=4.0(floating point no)"
      ],
      "metadata": {
        "id": "nCJVFx_f95-U"
      },
      "execution_count": null,
      "outputs": []
    },
    {
      "cell_type": "code",
      "source": [
        "t1.dtype\n",
        "# int 64 for 4"
      ],
      "metadata": {
        "colab": {
          "base_uri": "https://localhost:8080/"
        },
        "id": "ybRNWPU39w8k",
        "outputId": "71b80c78-f63c-4ba1-de93-0bab48845155"
      },
      "execution_count": null,
      "outputs": [
        {
          "output_type": "execute_result",
          "data": {
            "text/plain": [
              "torch.float32"
            ]
          },
          "metadata": {},
          "execution_count": 5
        }
      ]
    },
    {
      "cell_type": "markdown",
      "source": [
        "Vector:array or list of number"
      ],
      "metadata": {
        "id": "HcpM7fvn-H5b"
      }
    },
    {
      "cell_type": "code",
      "source": [
        "t2=torch.tensor([1.,2,3,4])"
      ],
      "metadata": {
        "id": "1YaMIU1b90Jn"
      },
      "execution_count": null,
      "outputs": []
    },
    {
      "cell_type": "code",
      "source": [
        "t2"
      ],
      "metadata": {
        "colab": {
          "base_uri": "https://localhost:8080/"
        },
        "id": "V_f3Zr4o-TME",
        "outputId": "b8899092-db25-41da-bcde-c839b9375314"
      },
      "execution_count": null,
      "outputs": [
        {
          "output_type": "execute_result",
          "data": {
            "text/plain": [
              "tensor([1., 2., 3., 4.])"
            ]
          },
          "metadata": {},
          "execution_count": 7
        }
      ]
    },
    {
      "cell_type": "markdown",
      "source": [
        "Tensors require their number to have similar datatype."
      ],
      "metadata": {
        "id": "ECCYQUQU-ael"
      }
    },
    {
      "cell_type": "code",
      "source": [
        "# Matrix\n",
        "t3=torch.tensor([[5.,6],[7,8],[9,10]])\n",
        "t3"
      ],
      "metadata": {
        "colab": {
          "base_uri": "https://localhost:8080/"
        },
        "id": "Yt5CYrny-W57",
        "outputId": "cc5d4466-e137-4c50-87f1-cfc52664089b"
      },
      "execution_count": null,
      "outputs": [
        {
          "output_type": "execute_result",
          "data": {
            "text/plain": [
              "tensor([[ 5.,  6.],\n",
              "        [ 7.,  8.],\n",
              "        [ 9., 10.]])"
            ]
          },
          "metadata": {},
          "execution_count": 8
        }
      ]
    },
    {
      "cell_type": "markdown",
      "source": [
        "Regurality of data needs to be mantained."
      ],
      "metadata": {
        "id": "FNWZprpS_Aeu"
      }
    },
    {
      "cell_type": "code",
      "source": [
        "# t4=torch.tensor([[[11,12,13],[14,15]],[[15,16,17],[17,18,19]]])\n",
        "# list ke andar ke andar element equal no ke hone chahiye!:REGULARITY\n",
        "# 3d array\n",
        "t4=torch.tensor([[[11,12,13],[14,15,16]],[[15,16,17],[17,18,19]]])\n",
        "t4"
      ],
      "metadata": {
        "colab": {
          "base_uri": "https://localhost:8080/"
        },
        "id": "LGQ8cQ_S-xOi",
        "outputId": "c02d5164-34ea-40c1-e5ca-e271060ff281"
      },
      "execution_count": null,
      "outputs": [
        {
          "output_type": "execute_result",
          "data": {
            "text/plain": [
              "tensor([[[11, 12, 13],\n",
              "         [14, 15, 16]],\n",
              "\n",
              "        [[15, 16, 17],\n",
              "         [17, 18, 19]]])"
            ]
          },
          "metadata": {},
          "execution_count": 9
        }
      ]
    },
    {
      "cell_type": "markdown",
      "source": [
        "Tensors can have any no of dimensions and different length along each dimension.\n",
        "\n",
        "get length: .shape property"
      ],
      "metadata": {
        "id": "LvXRq5TJAGt8"
      }
    },
    {
      "cell_type": "code",
      "source": [
        "print(t1)\n",
        "t1.shape\n",
        "# scaler:empty array having no dimensions"
      ],
      "metadata": {
        "colab": {
          "base_uri": "https://localhost:8080/"
        },
        "id": "YAEthdO2_mOY",
        "outputId": "0098e830-49ef-47be-bbdc-38295b345689"
      },
      "execution_count": null,
      "outputs": [
        {
          "output_type": "stream",
          "name": "stdout",
          "text": [
            "tensor(4.)\n"
          ]
        },
        {
          "output_type": "execute_result",
          "data": {
            "text/plain": [
              "torch.Size([])"
            ]
          },
          "metadata": {},
          "execution_count": 10
        }
      ]
    },
    {
      "cell_type": "code",
      "source": [
        "print(t2)\n",
        "t2.shape\n",
        "# list mei no of elements"
      ],
      "metadata": {
        "colab": {
          "base_uri": "https://localhost:8080/"
        },
        "id": "W7APghvVAkFz",
        "outputId": "eed4d44b-0cf8-4e8d-8959-5bbc6fcb19c3"
      },
      "execution_count": null,
      "outputs": [
        {
          "output_type": "stream",
          "name": "stdout",
          "text": [
            "tensor([1., 2., 3., 4.])\n"
          ]
        },
        {
          "output_type": "execute_result",
          "data": {
            "text/plain": [
              "torch.Size([4])"
            ]
          },
          "metadata": {},
          "execution_count": 11
        }
      ]
    },
    {
      "cell_type": "code",
      "source": [
        "print(t3)\n",
        "t3.shape"
      ],
      "metadata": {
        "colab": {
          "base_uri": "https://localhost:8080/"
        },
        "id": "LQ4YnDZ8AxTU",
        "outputId": "d41af8c8-ea14-4f3a-f25f-ef7c41cab5b7"
      },
      "execution_count": null,
      "outputs": [
        {
          "output_type": "stream",
          "name": "stdout",
          "text": [
            "tensor([[ 5.,  6.],\n",
            "        [ 7.,  8.],\n",
            "        [ 9., 10.]])\n"
          ]
        },
        {
          "output_type": "execute_result",
          "data": {
            "text/plain": [
              "torch.Size([3, 2])"
            ]
          },
          "metadata": {},
          "execution_count": 12
        }
      ]
    },
    {
      "cell_type": "code",
      "source": [
        "print(t4)\n",
        "t4.shape"
      ],
      "metadata": {
        "colab": {
          "base_uri": "https://localhost:8080/"
        },
        "id": "hnayXPXqA55v",
        "outputId": "28d8cd93-0928-4383-98d1-0b47a3026fe7"
      },
      "execution_count": null,
      "outputs": [
        {
          "output_type": "stream",
          "name": "stdout",
          "text": [
            "tensor([[[11, 12, 13],\n",
            "         [14, 15, 16]],\n",
            "\n",
            "        [[15, 16, 17],\n",
            "         [17, 18, 19]]])\n"
          ]
        },
        {
          "output_type": "execute_result",
          "data": {
            "text/plain": [
              "torch.Size([2, 2, 3])"
            ]
          },
          "metadata": {},
          "execution_count": 13
        }
      ]
    },
    {
      "cell_type": "code",
      "source": [
        "# Creating Tensors:\n",
        "x=torch.tensor(3.)\n",
        "w=torch.tensor(4.,requires_grad=True)\n",
        "b=torch.tensor(5.,requires_grad=True)\n",
        "m=torch.tensor([[2,3.],[4,5]],requires_grad=True)\n",
        "d=torch.tensor([[[2,3.],[4,5]]])\n",
        "c=torch.tensor([[[2,3.,7],[4,5,9]],[[10.,7.,5],[8.,6,3]]])\n",
        "# Only Tensors of floating point and complex dtype can require gradients"
      ],
      "metadata": {
        "id": "ZHFt64S5BFMB"
      },
      "execution_count": null,
      "outputs": []
    },
    {
      "cell_type": "code",
      "source": [
        "# Arithmetic Operation:\n",
        "y = w * x + b\n",
        "y"
      ],
      "metadata": {
        "colab": {
          "base_uri": "https://localhost:8080/"
        },
        "id": "WHu7hBa8zRB6",
        "outputId": "49107b87-4ac9-485f-8f8e-f73bfc58b2de"
      },
      "execution_count": null,
      "outputs": [
        {
          "output_type": "execute_result",
          "data": {
            "text/plain": [
              "tensor(17., grad_fn=<AddBackward0>)"
            ]
          },
          "metadata": {},
          "execution_count": 15
        }
      ]
    },
    {
      "cell_type": "code",
      "source": [
        "z=1*y+m\n",
        "z"
      ],
      "metadata": {
        "colab": {
          "base_uri": "https://localhost:8080/"
        },
        "id": "SLYm_lPL29b7",
        "outputId": "0a2fdaa2-da0c-4366-942a-c7f567d01f87"
      },
      "execution_count": null,
      "outputs": [
        {
          "output_type": "execute_result",
          "data": {
            "text/plain": [
              "tensor([[19., 20.],\n",
              "        [21., 22.]], grad_fn=<AddBackward0>)"
            ]
          },
          "metadata": {},
          "execution_count": 16
        }
      ]
    },
    {
      "cell_type": "code",
      "source": [
        "z=1*m+m\n",
        "z"
      ],
      "metadata": {
        "colab": {
          "base_uri": "https://localhost:8080/"
        },
        "id": "FSdQHtEd3cDa",
        "outputId": "e73160e2-c137-4ee0-d7d7-d1ab8b1ad696"
      },
      "execution_count": null,
      "outputs": [
        {
          "output_type": "execute_result",
          "data": {
            "text/plain": [
              "tensor([[ 4.,  6.],\n",
              "        [ 8., 10.]], grad_fn=<AddBackward0>)"
            ]
          },
          "metadata": {},
          "execution_count": 17
        }
      ]
    },
    {
      "cell_type": "code",
      "source": [
        "# w=c*z+d\n",
        "# w\n",
        "# The size of tensor a (3) must match the size of tensor b (2) at non-singleton dimension 2"
      ],
      "metadata": {
        "id": "Cd_yXF1h3oj4"
      },
      "execution_count": null,
      "outputs": []
    },
    {
      "cell_type": "markdown",
      "source": [
        "We can automatically compoute the derivative of requires_grad=True."
      ],
      "metadata": {
        "id": "q6Nf2Jt-z0uQ"
      }
    },
    {
      "cell_type": "code",
      "source": [
        "y.backward()\n",
        "# Compute derivatives"
      ],
      "metadata": {
        "id": "yk1PHl2ezcr7"
      },
      "execution_count": null,
      "outputs": []
    },
    {
      "cell_type": "code",
      "source": [
        "# m.backward()\n",
        "# grad can be implicitly created only for scalar outputs\n",
        "f=(m**2).sum()\n",
        "f"
      ],
      "metadata": {
        "colab": {
          "base_uri": "https://localhost:8080/"
        },
        "id": "hYhK07q558_M",
        "outputId": "9f638111-6d16-44a4-c2f0-863f21d9b105"
      },
      "execution_count": null,
      "outputs": [
        {
          "output_type": "execute_result",
          "data": {
            "text/plain": [
              "tensor(54., grad_fn=<SumBackward0>)"
            ]
          },
          "metadata": {},
          "execution_count": 20
        }
      ]
    },
    {
      "cell_type": "code",
      "source": [
        "# Display gradients\n",
        "print('dy/dx:',x.grad)\n",
        "print('dy/dw:',w.grad)\n",
        "print('dy/db:',b.grad)\n",
        "print('dy/dm:',f.grad)"
      ],
      "metadata": {
        "colab": {
          "base_uri": "https://localhost:8080/"
        },
        "id": "wE5Jya3L0Hao",
        "outputId": "e66180b2-7060-4604-fd2b-8871d64727bf"
      },
      "execution_count": null,
      "outputs": [
        {
          "output_type": "stream",
          "name": "stdout",
          "text": [
            "dy/dx: None\n",
            "dy/dw: tensor(3.)\n",
            "dy/db: tensor(1.)\n",
            "dy/dm: None\n"
          ]
        },
        {
          "output_type": "stream",
          "name": "stderr",
          "text": [
            "<ipython-input-21-5847c92d926b>:5: UserWarning: The .grad attribute of a Tensor that is not a leaf Tensor is being accessed. Its .grad attribute won't be populated during autograd.backward(). If you indeed want the .grad field to be populated for a non-leaf Tensor, use .retain_grad() on the non-leaf Tensor. If you access the non-leaf Tensor by mistake, make sure you access the leaf Tensor instead. See github.com/pytorch/pytorch/pull/30531 for more informations. (Triggered internally at /pytorch/build/aten/src/ATen/core/TensorBody.h:489.)\n",
            "  print('dy/dm:',f.grad)\n"
          ]
        }
      ]
    },
    {
      "cell_type": "markdown",
      "source": [
        "The grad is gradient,another term for derivatives."
      ],
      "metadata": {
        "id": "whx2whJs0tVU"
      }
    },
    {
      "cell_type": "markdown",
      "source": [
        "A matrix is a special type of tensor.Tensor can be a vector,number,3 dimensional array."
      ],
      "metadata": {
        "id": "f4m-Agq407pn"
      }
    },
    {
      "cell_type": "code",
      "source": [
        "import numpy as np\n",
        "x=np.array([[1,2],[3,4.]])\n",
        "x"
      ],
      "metadata": {
        "colab": {
          "base_uri": "https://localhost:8080/"
        },
        "id": "AUO73j4A0y2Q",
        "outputId": "7d3ec86f-a535-4e15-a8d7-80cb9ad8a794"
      },
      "execution_count": null,
      "outputs": [
        {
          "output_type": "execute_result",
          "data": {
            "text/plain": [
              "array([[1., 2.],\n",
              "       [3., 4.]])"
            ]
          },
          "metadata": {},
          "execution_count": 22
        }
      ]
    },
    {
      "cell_type": "code",
      "source": [
        "# Convert from numpy array to torch tensor\n",
        "y=torch.from_numpy(x)\n",
        "y"
      ],
      "metadata": {
        "colab": {
          "base_uri": "https://localhost:8080/"
        },
        "id": "5SNxzMvM1lA2",
        "outputId": "e638d8de-2836-407f-f5ad-998cce28b064"
      },
      "execution_count": null,
      "outputs": [
        {
          "output_type": "execute_result",
          "data": {
            "text/plain": [
              "tensor([[1., 2.],\n",
              "        [3., 4.]], dtype=torch.float64)"
            ]
          },
          "metadata": {},
          "execution_count": 23
        }
      ]
    },
    {
      "cell_type": "code",
      "source": [
        "x.dtype,y.dtype"
      ],
      "metadata": {
        "colab": {
          "base_uri": "https://localhost:8080/"
        },
        "id": "7QxI8EOW15ce",
        "outputId": "f4a85f3c-9849-4a41-ce6c-b356e178ad0e"
      },
      "execution_count": null,
      "outputs": [
        {
          "output_type": "execute_result",
          "data": {
            "text/plain": [
              "(dtype('float64'), torch.float64)"
            ]
          },
          "metadata": {},
          "execution_count": 24
        }
      ]
    },
    {
      "cell_type": "code",
      "source": [
        "# Convert a torch tensor to a numpy array\n",
        "z=y.numpy()\n",
        "z"
      ],
      "metadata": {
        "colab": {
          "base_uri": "https://localhost:8080/"
        },
        "id": "afemKtpX18XK",
        "outputId": "10139b1a-7262-44f6-ac5a-1e14ce728358"
      },
      "execution_count": null,
      "outputs": [
        {
          "output_type": "execute_result",
          "data": {
            "text/plain": [
              "array([[1., 2.],\n",
              "       [3., 4.]])"
            ]
          },
          "metadata": {},
          "execution_count": 25
        }
      ]
    },
    {
      "cell_type": "code",
      "source": [
        "w=torch.tensor([3.])\n",
        "x=torch.tensor([4.])\n",
        "b=torch.tensor([5.])\n",
        "y=w*x+b\n",
        "y"
      ],
      "metadata": {
        "colab": {
          "base_uri": "https://localhost:8080/"
        },
        "id": "mW0k9Eef2LtF",
        "outputId": "4520e4d9-12b8-4f1d-931b-3b918ce0c6bf"
      },
      "execution_count": null,
      "outputs": [
        {
          "output_type": "execute_result",
          "data": {
            "text/plain": [
              "tensor([17.])"
            ]
          },
          "metadata": {},
          "execution_count": 26
        }
      ]
    },
    {
      "cell_type": "code",
      "source": [
        "y.shape"
      ],
      "metadata": {
        "colab": {
          "base_uri": "https://localhost:8080/"
        },
        "id": "tWQRxu9C5NiS",
        "outputId": "de6969dd-82cd-4bc4-88e8-24158608ed10"
      },
      "execution_count": null,
      "outputs": [
        {
          "output_type": "execute_result",
          "data": {
            "text/plain": [
              "torch.Size([1])"
            ]
          },
          "metadata": {},
          "execution_count": 27
        }
      ]
    },
    {
      "cell_type": "markdown",
      "source": [
        "Torch is the library and tensor is data structure(mathematical)"
      ],
      "metadata": {
        "id": "h2bYDQDs7cun"
      }
    },
    {
      "cell_type": "code",
      "source": [
        "# t5=torch.tensor(\"Hi\")\n",
        "# new(): invalid data type 'str'"
      ],
      "metadata": {
        "id": "fnhZs45M5QNq"
      },
      "execution_count": null,
      "outputs": []
    },
    {
      "cell_type": "code",
      "source": [
        "import torch\n",
        "print(torch.__version__)\n"
      ],
      "metadata": {
        "colab": {
          "base_uri": "https://localhost:8080/"
        },
        "id": "euPbJzBJ702l",
        "outputId": "d760155d-5e3a-4ee8-d478-095ed74d5af0"
      },
      "execution_count": null,
      "outputs": [
        {
          "output_type": "stream",
          "name": "stdout",
          "text": [
            "2.6.0+cu124\n"
          ]
        }
      ]
    },
    {
      "cell_type": "code",
      "source": [
        "# Linear Regression:"
      ],
      "metadata": {
        "id": "PHTNbbkN8cky"
      },
      "execution_count": null,
      "outputs": []
    },
    {
      "cell_type": "markdown",
      "source": [
        "In a linear regression model,each target variable is estimated to be weighted sum of the input variables,offset by some constant,bias:\n",
        "\n",
        "yield_apple=w11*temp+w12*humidity+w13*rainfall\n",
        "\n",
        "yield_orange=w21*temp+w22*humidity+w23*rainfall"
      ],
      "metadata": {
        "id": "YpW7QYAH-Q_a"
      }
    },
    {
      "cell_type": "markdown",
      "source": [
        "The learning part is:to figure out set of weights by training data to make aacurate predictions for new data by optimization technique called as gradient descent."
      ],
      "metadata": {
        "id": "HVsWQHum-5aa"
      }
    },
    {
      "cell_type": "code",
      "source": [
        "import numpy as np\n",
        "import torch"
      ],
      "metadata": {
        "id": "tlvM6tPP-z4d"
      },
      "execution_count": null,
      "outputs": []
    },
    {
      "cell_type": "code",
      "source": [
        "# Input(temp,rainfall,humidity)\n",
        "inputs=np.array([[73,67,43],\n",
        "                 [91,88,64],\n",
        "                 [87,134,58],\n",
        "                 [102,43,37],\n",
        "                 [69,96,70]],dtype='float32')"
      ],
      "metadata": {
        "id": "RW5rt_m__WEu"
      },
      "execution_count": null,
      "outputs": []
    },
    {
      "cell_type": "code",
      "source": [
        "# Targets(apples,oranges)\n",
        "targets=np.array([[56,70],\n",
        "                  [81,101],\n",
        "                  [119,133],\n",
        "                  [22,37],\n",
        "                  [103,119]],dtype='float32')"
      ],
      "metadata": {
        "id": "JIyR4MAHACBT"
      },
      "execution_count": null,
      "outputs": []
    },
    {
      "cell_type": "markdown",
      "source": [
        "We have created numpy arrays bcoz data csv files or numpy array form mei hota h."
      ],
      "metadata": {
        "id": "Dr3aGQViAVLB"
      }
    },
    {
      "cell_type": "code",
      "source": [
        "inputs=torch.from_numpy(inputs)\n",
        "targets=torch.from_numpy(targets)\n",
        "print(inputs)\n",
        "print(targets)"
      ],
      "metadata": {
        "colab": {
          "base_uri": "https://localhost:8080/"
        },
        "id": "f5znOB0CATdQ",
        "outputId": "97ec02af-e786-4c23-fa3b-38199cb0c66c"
      },
      "execution_count": null,
      "outputs": [
        {
          "output_type": "stream",
          "name": "stdout",
          "text": [
            "tensor([[ 73.,  67.,  43.],\n",
            "        [ 91.,  88.,  64.],\n",
            "        [ 87., 134.,  58.],\n",
            "        [102.,  43.,  37.],\n",
            "        [ 69.,  96.,  70.]])\n",
            "tensor([[ 56.,  70.],\n",
            "        [ 81., 101.],\n",
            "        [119., 133.],\n",
            "        [ 22.,  37.],\n",
            "        [103., 119.]])\n"
          ]
        }
      ]
    },
    {
      "cell_type": "code",
      "source": [
        "# Weights and biases\n",
        "w=torch.randn(2,3,requires_grad=True)\n",
        "b=torch.randn(2,requires_grad=True)\n",
        "print(w)\n",
        "print(b)"
      ],
      "metadata": {
        "colab": {
          "base_uri": "https://localhost:8080/"
        },
        "id": "Y8zQC3RbAsCi",
        "outputId": "807ab22e-80e4-4b30-c910-81dcff263167"
      },
      "execution_count": null,
      "outputs": [
        {
          "output_type": "stream",
          "name": "stdout",
          "text": [
            "tensor([[ 0.2203, -2.0167,  0.0845],\n",
            "        [ 2.0128, -0.2459, -1.7013]], requires_grad=True)\n",
            "tensor([ 0.1941, -1.4608], requires_grad=True)\n"
          ]
        }
      ]
    },
    {
      "cell_type": "markdown",
      "source": [
        "torch.randn creates a tensor with given shape with elements picked randomly from a normal distribution of mean 0 and standard deviation 1."
      ],
      "metadata": {
        "id": "plHsuF_TBsss"
      }
    },
    {
      "cell_type": "code",
      "source": [
        "# x*transpose(w)+b\n",
        "def model(x):\n",
        "  return x @ w.t()+b"
      ],
      "metadata": {
        "id": "s2bgdGOQCG3L"
      },
      "execution_count": null,
      "outputs": []
    },
    {
      "cell_type": "markdown",
      "source": [
        "@ represents matrix multiplication and .t means transpose of matrix."
      ],
      "metadata": {
        "id": "zEqvZlHXCoZC"
      }
    },
    {
      "cell_type": "code",
      "source": [
        "preds=model(inputs)\n",
        "print(preds)\n",
        "# negative preds mean?"
      ],
      "metadata": {
        "colab": {
          "base_uri": "https://localhost:8080/"
        },
        "id": "84_WtdxnCnC5",
        "outputId": "8d6fd6f9-d920-4576-ee59-1d0b2f7bfaad"
      },
      "execution_count": null,
      "outputs": [
        {
          "output_type": "stream",
          "name": "stdout",
          "text": [
            "tensor([[-115.2152,   55.8450],\n",
            "        [-151.8277,   51.1853],\n",
            "        [-245.9853,   42.0325],\n",
            "        [ -60.9331,  130.3241],\n",
            "        [-172.3003,   -5.2706]], grad_fn=<AddBackward0>)\n"
          ]
        }
      ]
    },
    {
      "cell_type": "code",
      "source": [
        "print(targets)"
      ],
      "metadata": {
        "colab": {
          "base_uri": "https://localhost:8080/"
        },
        "id": "BdXQjiHHC34h",
        "outputId": "c9d88879-0b5b-4b38-8851-d48cd0228fce"
      },
      "execution_count": null,
      "outputs": [
        {
          "output_type": "stream",
          "name": "stdout",
          "text": [
            "tensor([[ 56.,  70.],\n",
            "        [ 81., 101.],\n",
            "        [119., 133.],\n",
            "        [ 22.,  37.],\n",
            "        [103., 119.]])\n"
          ]
        }
      ]
    },
    {
      "cell_type": "code",
      "source": [
        "diff=preds-targets\n",
        "torch.sum(diff*diff)/diff.numel()\n",
        "# diff.numel() gives no of elements in diff(tensor)\n",
        "# This is called mean squared error...."
      ],
      "metadata": {
        "colab": {
          "base_uri": "https://localhost:8080/"
        },
        "id": "PEVPuVPrDEJR",
        "outputId": "59b5e9e4-62d7-4c72-b35c-a16935163df5"
      },
      "execution_count": null,
      "outputs": [
        {
          "output_type": "execute_result",
          "data": {
            "text/plain": [
              "tensor(33451.5391, grad_fn=<DivBackward0>)"
            ]
          },
          "metadata": {},
          "execution_count": 39
        }
      ]
    },
    {
      "cell_type": "code",
      "source": [
        "# high the loss,worse the model"
      ],
      "metadata": {
        "id": "XDHuy2DADpp0"
      },
      "execution_count": null,
      "outputs": []
    },
    {
      "cell_type": "markdown",
      "source": [
        "We need a way to evaluate our model:mean squared error:\n",
        "Calculate the difference between the two matrices.\n",
        "\n",
        "Square all the elements of difference matrix to remove negative values.\n",
        "\n",
        "Calculate the average of resulting matrix."
      ],
      "metadata": {
        "id": "0i_qfEjVD3g7"
      }
    },
    {
      "cell_type": "code",
      "source": [
        "def mse(t1,t2):\n",
        "  diff=t1-t2\n",
        "  return torch.sum(diff*diff)/diff.numel()"
      ],
      "metadata": {
        "id": "_Zz91AYND2iV"
      },
      "execution_count": null,
      "outputs": []
    },
    {
      "cell_type": "code",
      "source": [
        "loss=mse(preds,targets)\n",
        "loss"
      ],
      "metadata": {
        "colab": {
          "base_uri": "https://localhost:8080/"
        },
        "id": "StR1F3j4EmGx",
        "outputId": "414c8c4a-d115-4824-d08e-ff7adedceb85"
      },
      "execution_count": null,
      "outputs": [
        {
          "output_type": "execute_result",
          "data": {
            "text/plain": [
              "tensor(33451.5391, grad_fn=<DivBackward0>)"
            ]
          },
          "metadata": {},
          "execution_count": 42
        }
      ]
    },
    {
      "cell_type": "markdown",
      "source": [
        "On average,off by 145 in range 50 to 200,bad model? YUPSSS\n"
      ],
      "metadata": {
        "id": "Y3x_2dpKE3cS"
      }
    },
    {
      "cell_type": "code",
      "source": [
        "# Loss is function of weights.As we change weight,loss changes\n",
        "loss.backward()\n",
        "# inputs and targets are not changing,so no requires_grad=True\n",
        "# Here weights and biases are changing,so finding requires_grad=True(change hoga toh hi derivative niklega)\n",
        "# loss.backward() karne se torch knows that you are using all of these internally as tensors. The gradients are stored in .grad property of the tensors."
      ],
      "metadata": {
        "id": "1nllk84YErA_"
      },
      "execution_count": null,
      "outputs": []
    },
    {
      "cell_type": "code",
      "source": [
        "print(w)\n",
        "print(w.grad)"
      ],
      "metadata": {
        "colab": {
          "base_uri": "https://localhost:8080/"
        },
        "id": "6IbfW7xBMmTt",
        "outputId": "f6d75ec9-c8b3-4eca-e8b1-cb03df728f5b"
      },
      "execution_count": null,
      "outputs": [
        {
          "output_type": "stream",
          "name": "stdout",
          "text": [
            "tensor([[ 0.2203, -2.0167,  0.0845],\n",
            "        [ 2.0128, -0.2459, -1.7013]], requires_grad=True)\n",
            "tensor([[-18578.9316, -22172.6484, -13154.3838],\n",
            "        [ -2507.2480,  -5087.7534,  -2863.7744]])\n"
          ]
        }
      ]
    },
    {
      "cell_type": "markdown",
      "source": [
        "The gradient indicates the rate of change of the loss.\n",
        "\n",
        "The loss is quadratic fn of our weights and biases."
      ],
      "metadata": {
        "id": "u-WifEhCNqkn"
      }
    },
    {
      "cell_type": "markdown",
      "source": [
        "If gradient element is positive:(slope positive dir)\n",
        "\n",
        "1.   increasing: The elements value slightly increase the loss.\n",
        "\n",
        "2. decreasing:The elements value decrease the loss.\n",
        "\n"
      ],
      "metadata": {
        "id": "DipMbs0eOGgU"
      }
    },
    {
      "cell_type": "markdown",
      "source": [
        "If gradient element is negative:slope downwards(derivative negative):\n",
        "\n",
        "1.   increasing: The elements value slightly decrease the loss.\n",
        "\n",
        "2. decreasing:The elements value increase the loss.\n"
      ],
      "metadata": {
        "id": "jFjhF_1SOyiA"
      }
    },
    {
      "cell_type": "markdown",
      "source": [
        "Th idea is that we are going opposite to the direction of derivatives.\n",
        "\n",
        "positive der:decrease weight,\n",
        "\n",
        "negative:increase weight"
      ],
      "metadata": {
        "id": "NoHjBjwXPVMU"
      }
    },
    {
      "cell_type": "markdown",
      "source": [
        "The increase or decrease in loss by changing a weight element is proportional to change the gradient of the loss wrt that element."
      ],
      "metadata": {
        "id": "0m_nGJYAPtql"
      }
    },
    {
      "cell_type": "code",
      "source": [
        "w.grad.zero_()\n",
        "b.grad.zero_()\n",
        "print(w.grad)\n",
        "print(b.grad)"
      ],
      "metadata": {
        "colab": {
          "base_uri": "https://localhost:8080/"
        },
        "id": "6mtY1c1CPtYs",
        "outputId": "c9ecf9d9-4d51-4479-e7e2-237b89595382"
      },
      "execution_count": null,
      "outputs": [
        {
          "output_type": "stream",
          "name": "stdout",
          "text": [
            "tensor([[0., 0., 0.],\n",
            "        [0., 0., 0.]])\n",
            "tensor([0., 0.])\n"
          ]
        }
      ]
    },
    {
      "cell_type": "markdown",
      "source": [
        "PyTorch accumulates,gradients i.e the next time .grad is called,purana .grad value is added. so .zero_() set kardo."
      ],
      "metadata": {
        "id": "VWP08H9gQZjR"
      }
    },
    {
      "cell_type": "code",
      "source": [
        "w,b"
      ],
      "metadata": {
        "colab": {
          "base_uri": "https://localhost:8080/"
        },
        "id": "ywO5NtcYPUpm",
        "outputId": "13515945-5b86-4555-d0c1-75a934a0cac9"
      },
      "execution_count": null,
      "outputs": [
        {
          "output_type": "execute_result",
          "data": {
            "text/plain": [
              "(tensor([[ 0.2203, -2.0167,  0.0845],\n",
              "         [ 2.0128, -0.2459, -1.7013]], requires_grad=True),\n",
              " tensor([ 0.1941, -1.4608], requires_grad=True))"
            ]
          },
          "metadata": {},
          "execution_count": 46
        }
      ]
    },
    {
      "cell_type": "code",
      "source": [
        "# Using Gradient descent optimization algorithm\n",
        "# 1.Generate predictions\n",
        "# 2.calculate the loss\n",
        "# 3.Compute gradients wrt w an b\n",
        "# 4.Adjust the weights by subtracting a small quantity proportional to the gradient\n",
        "# 5.Reset the gradients to zero"
      ],
      "metadata": {
        "id": "3LttI-NjOsXw"
      },
      "execution_count": null,
      "outputs": []
    },
    {
      "cell_type": "code",
      "source": [
        "preds=model(inputs)\n",
        "preds"
      ],
      "metadata": {
        "colab": {
          "base_uri": "https://localhost:8080/"
        },
        "id": "775bYfDfMSr2",
        "outputId": "fa8f150f-7168-4958-91a8-72ea678bed7f"
      },
      "execution_count": null,
      "outputs": [
        {
          "output_type": "execute_result",
          "data": {
            "text/plain": [
              "tensor([[-115.2152,   55.8450],\n",
              "        [-151.8277,   51.1853],\n",
              "        [-245.9853,   42.0325],\n",
              "        [ -60.9331,  130.3241],\n",
              "        [-172.3003,   -5.2706]], grad_fn=<AddBackward0>)"
            ]
          },
          "metadata": {},
          "execution_count": 48
        }
      ]
    },
    {
      "cell_type": "code",
      "source": [
        "loss=mse(preds,targets)\n",
        "loss"
      ],
      "metadata": {
        "colab": {
          "base_uri": "https://localhost:8080/"
        },
        "id": "ZqjOjhA4RXaR",
        "outputId": "5a93dc25-5fcb-4d7a-bfa9-f3bd5fe25e7b"
      },
      "execution_count": null,
      "outputs": [
        {
          "output_type": "execute_result",
          "data": {
            "text/plain": [
              "tensor(33451.5391, grad_fn=<DivBackward0>)"
            ]
          },
          "metadata": {},
          "execution_count": 49
        }
      ]
    },
    {
      "cell_type": "code",
      "source": [
        "loss.backward()\n",
        "print(w.grad)\n",
        "print(b.grad)"
      ],
      "metadata": {
        "colab": {
          "base_uri": "https://localhost:8080/"
        },
        "id": "XdriBtw5RdSs",
        "outputId": "b2f72c88-c552-4609-a922-0231e21a7823"
      },
      "execution_count": null,
      "outputs": [
        {
          "output_type": "stream",
          "name": "stdout",
          "text": [
            "tensor([[-18578.9316, -22172.6484, -13154.3838],\n",
            "        [ -2507.2480,  -5087.7534,  -2863.7744]])\n",
            "tensor([-225.4523,  -37.1767])\n"
          ]
        }
      ]
    },
    {
      "cell_type": "code",
      "source": [
        "# Adjust the weights and reset gradients\n",
        "with torch.no_grad():\n",
        "  w -=w.grad* 1e-5\n",
        "  b -=b.grad*1e-5\n",
        "  w.grad.zero_()\n",
        "  b.grad.zero_()"
      ],
      "metadata": {
        "id": "GVNPPdO5Rkep"
      },
      "execution_count": null,
      "outputs": []
    },
    {
      "cell_type": "markdown",
      "source": [
        "We use torch.no_grad() to indicate PyTorch that we should not track,calculate,modify grad while updating w and b.\n",
        "\n",
        "not much decrease,just small decrease in downhill direction of grad(learning rate of algo,here 10^-5)\n"
      ],
      "metadata": {
        "id": "c0flno2-Su_S"
      }
    },
    {
      "cell_type": "code",
      "source": [
        "print(w)\n",
        "print(b)"
      ],
      "metadata": {
        "colab": {
          "base_uri": "https://localhost:8080/"
        },
        "id": "K94dthL6TOLn",
        "outputId": "9c9804a4-8afb-482f-adf5-384d535706eb"
      },
      "execution_count": null,
      "outputs": [
        {
          "output_type": "stream",
          "name": "stdout",
          "text": [
            "tensor([[ 0.4060, -1.7950,  0.2160],\n",
            "        [ 2.0379, -0.1950, -1.6726]], requires_grad=True)\n",
            "tensor([ 0.1963, -1.4605], requires_grad=True)\n"
          ]
        }
      ]
    },
    {
      "cell_type": "code",
      "source": [
        "preds=model(inputs)\n",
        "loss=mse(preds,targets)\n",
        "loss"
      ],
      "metadata": {
        "colab": {
          "base_uri": "https://localhost:8080/"
        },
        "id": "355ssN1WTdHU",
        "outputId": "fe0f5ef6-3fa1-4430-a8f4-4c1a1cb7ffb7"
      },
      "execution_count": null,
      "outputs": [
        {
          "output_type": "execute_result",
          "data": {
            "text/plain": [
              "tensor(23884.9668, grad_fn=<DivBackward0>)"
            ]
          },
          "metadata": {},
          "execution_count": 53
        }
      ]
    },
    {
      "cell_type": "code",
      "source": [
        "# Train this like multiple epochs(iterations)\n",
        "# for i in range(200):\n",
        "for i in range(100):\n",
        "  preds=model(inputs)\n",
        "  loss=mse(preds,targets)\n",
        "  loss.backward()\n",
        "  with torch.no_grad():\n",
        "    w -=w.grad*1e-5\n",
        "    b -=b.grad*1e-5\n",
        "    w.grad.zero_()\n",
        "    b.grad.zero_()\n",
        "\n",
        "# with same no of iterations why lossdecreasing more and more each tiime"
      ],
      "metadata": {
        "id": "qG6SD9O-T_OR"
      },
      "execution_count": null,
      "outputs": []
    },
    {
      "cell_type": "markdown",
      "source": [
        "If you're running the same code multiple times without resetting the model parameters or gradients between runs, the model could accumulate updates over successive runs. This could cause the loss to decrease more and more as you're effectively continuing training over previously trained parameters without restarting from an initial state."
      ],
      "metadata": {
        "id": "ggPxhriwV0Zl"
      }
    },
    {
      "cell_type": "markdown",
      "source": [
        "what if it stops at local minima rather than absolute minima?\n",
        "\n",
        "just try initially with small learning rate,make it more small try with that too..."
      ],
      "metadata": {
        "id": "dnHr-1qbWbbp"
      }
    },
    {
      "cell_type": "code",
      "source": [
        "loss"
      ],
      "metadata": {
        "colab": {
          "base_uri": "https://localhost:8080/"
        },
        "id": "DpQnXlKgUoow",
        "outputId": "00232963-83b5-43cb-d28b-210f133ea3f0"
      },
      "execution_count": null,
      "outputs": [
        {
          "output_type": "execute_result",
          "data": {
            "text/plain": [
              "tensor(1363.5150, grad_fn=<DivBackward0>)"
            ]
          },
          "metadata": {},
          "execution_count": 55
        }
      ]
    },
    {
      "cell_type": "code",
      "source": [
        "preds"
      ],
      "metadata": {
        "colab": {
          "base_uri": "https://localhost:8080/"
        },
        "id": "PRoVMEbjU1tp",
        "outputId": "6db60a8c-8c5e-487c-928f-13dc67aba5ba"
      },
      "execution_count": null,
      "outputs": [
        {
          "output_type": "execute_result",
          "data": {
            "text/plain": [
              "tensor([[ 66.9038,  82.8401],\n",
              "        [ 92.0227,  93.6669],\n",
              "        [ 80.7131, 128.7360],\n",
              "        [ 77.8146, 109.7119],\n",
              "        [ 85.9291,  64.2428]], grad_fn=<AddBackward0>)"
            ]
          },
          "metadata": {},
          "execution_count": 56
        }
      ]
    },
    {
      "cell_type": "code",
      "source": [
        "targets"
      ],
      "metadata": {
        "colab": {
          "base_uri": "https://localhost:8080/"
        },
        "id": "Bj1_F3DLVH3U",
        "outputId": "db747a13-84aa-4934-a0ae-ecb00aac443c"
      },
      "execution_count": null,
      "outputs": [
        {
          "output_type": "execute_result",
          "data": {
            "text/plain": [
              "tensor([[ 56.,  70.],\n",
              "        [ 81., 101.],\n",
              "        [119., 133.],\n",
              "        [ 22.,  37.],\n",
              "        [103., 119.]])"
            ]
          },
          "metadata": {},
          "execution_count": 57
        }
      ]
    },
    {
      "cell_type": "code",
      "source": [
        "import torch.nn as nn"
      ],
      "metadata": {
        "id": "ynlXi1GiVKN0"
      },
      "execution_count": null,
      "outputs": []
    },
    {
      "cell_type": "code",
      "source": [
        "inputs=np.array([[73,67,43],[91,88,64],[87,134,58],\n",
        "                [102,43,37],[69,96,70],[73,67,43],\n",
        "                [91,88,64],[87,134,58],[102,43,37],\n",
        "                [69,96,70],[73,67,43],[91,88,64],\n",
        "                [87,134,58],[102,43,37],[69,96,70]],dtype='float32')"
      ],
      "metadata": {
        "id": "WcN_WZZ6ZBvO"
      },
      "execution_count": null,
      "outputs": []
    },
    {
      "cell_type": "code",
      "source": [
        "targets"
      ],
      "metadata": {
        "colab": {
          "base_uri": "https://localhost:8080/"
        },
        "id": "vPNJ-03UZxnB",
        "outputId": "ac94c99a-250f-41bd-944b-6f05648b209c"
      },
      "execution_count": null,
      "outputs": [
        {
          "output_type": "execute_result",
          "data": {
            "text/plain": [
              "tensor([[ 56.,  70.],\n",
              "        [ 81., 101.],\n",
              "        [119., 133.],\n",
              "        [ 22.,  37.],\n",
              "        [103., 119.]])"
            ]
          },
          "metadata": {},
          "execution_count": 60
        }
      ]
    },
    {
      "cell_type": "code",
      "source": [
        "targets=np.array([[ 56.,  70.],[ 81., 101.], [119., 133.],\n",
        "                  [ 22.,  37.],[103., 119.],[ 56.,  70.],\n",
        "                  [ 81., 101.],[119., 133.],[ 22.,  37.],\n",
        "                  [103., 119.],[ 56.,  70.],[ 81., 101.],\n",
        "                  [119., 133.],  [ 22.,  37.], [103., 119.]],dtype='float32')"
      ],
      "metadata": {
        "id": "6hqEm9JTZnib"
      },
      "execution_count": null,
      "outputs": []
    },
    {
      "cell_type": "code",
      "source": [
        "inputs=torch.from_numpy(inputs)\n",
        "targets=torch.from_numpy(targets)"
      ],
      "metadata": {
        "id": "RREtns7PaUxH"
      },
      "execution_count": null,
      "outputs": []
    },
    {
      "cell_type": "markdown",
      "source": [
        "We are using TensorDataset which allows access to rows from inputs and targets as tuples."
      ],
      "metadata": {
        "id": "v5hCYQsoa9kC"
      }
    },
    {
      "cell_type": "code",
      "source": [
        "from torch.utils.data import TensorDataset"
      ],
      "metadata": {
        "id": "XPv3Qu2raoDw"
      },
      "execution_count": null,
      "outputs": []
    },
    {
      "cell_type": "code",
      "source": [
        "# Define dataset\n",
        "train_ds=TensorDataset(inputs,targets)\n",
        "train_ds[0:3]"
      ],
      "metadata": {
        "colab": {
          "base_uri": "https://localhost:8080/"
        },
        "id": "J_BxUGDUbOzz",
        "outputId": "6b5fefad-674b-4a76-c764-9704eb95df26"
      },
      "execution_count": null,
      "outputs": [
        {
          "output_type": "execute_result",
          "data": {
            "text/plain": [
              "(tensor([[ 73.,  67.,  43.],\n",
              "         [ 91.,  88.,  64.],\n",
              "         [ 87., 134.,  58.]]),\n",
              " tensor([[ 56.,  70.],\n",
              "         [ 81., 101.],\n",
              "         [119., 133.]]))"
            ]
          },
          "metadata": {},
          "execution_count": 64
        }
      ]
    },
    {
      "cell_type": "code",
      "source": [
        "from torch.utils.data import DataLoader"
      ],
      "metadata": {
        "id": "K4eewZIRbb6s"
      },
      "execution_count": null,
      "outputs": []
    },
    {
      "cell_type": "markdown",
      "source": [
        "1000s of rows data,modeling slow,batch size used..."
      ],
      "metadata": {
        "id": "9eEgmXPJbw2C"
      }
    },
    {
      "cell_type": "code",
      "source": [
        "# Define data loader\n",
        "batch_size=5\n",
        "train_dl=DataLoader(train_ds,batch_size,shuffle=True)"
      ],
      "metadata": {
        "id": "RCCUp4bKboL2"
      },
      "execution_count": null,
      "outputs": []
    },
    {
      "cell_type": "markdown",
      "source": [
        "more randomness:generalization:loss reduction fast"
      ],
      "metadata": {
        "id": "hn8SvzyPcGTJ"
      }
    },
    {
      "cell_type": "code",
      "source": [
        "for xb,yb in train_dl:\n",
        "  print(xb)\n",
        "  print(yb)\n",
        "  # b for batch"
      ],
      "metadata": {
        "colab": {
          "base_uri": "https://localhost:8080/"
        },
        "id": "7nZkp_2AcDM8",
        "outputId": "e72fc8cb-7ace-49df-c27a-fa47893f02f4"
      },
      "execution_count": null,
      "outputs": [
        {
          "output_type": "stream",
          "name": "stdout",
          "text": [
            "tensor([[73., 67., 43.],\n",
            "        [91., 88., 64.],\n",
            "        [73., 67., 43.],\n",
            "        [69., 96., 70.],\n",
            "        [73., 67., 43.]])\n",
            "tensor([[ 56.,  70.],\n",
            "        [ 81., 101.],\n",
            "        [ 56.,  70.],\n",
            "        [103., 119.],\n",
            "        [ 56.,  70.]])\n",
            "tensor([[ 91.,  88.,  64.],\n",
            "        [102.,  43.,  37.],\n",
            "        [ 87., 134.,  58.],\n",
            "        [ 87., 134.,  58.],\n",
            "        [ 91.,  88.,  64.]])\n",
            "tensor([[ 81., 101.],\n",
            "        [ 22.,  37.],\n",
            "        [119., 133.],\n",
            "        [119., 133.],\n",
            "        [ 81., 101.]])\n",
            "tensor([[102.,  43.,  37.],\n",
            "        [102.,  43.,  37.],\n",
            "        [ 87., 134.,  58.],\n",
            "        [ 69.,  96.,  70.],\n",
            "        [ 69.,  96.,  70.]])\n",
            "tensor([[ 22.,  37.],\n",
            "        [ 22.,  37.],\n",
            "        [119., 133.],\n",
            "        [103., 119.],\n",
            "        [103., 119.]])\n"
          ]
        }
      ]
    },
    {
      "cell_type": "code",
      "source": [
        "for xb,yb in train_dl:\n",
        "  print(xb)\n",
        "  print(yb)\n",
        "  break"
      ],
      "metadata": {
        "colab": {
          "base_uri": "https://localhost:8080/"
        },
        "id": "qsvrVA9Ocg3Q",
        "outputId": "e6fa22fc-e957-493f-b6f7-98523670c825"
      },
      "execution_count": null,
      "outputs": [
        {
          "output_type": "stream",
          "name": "stdout",
          "text": [
            "tensor([[ 69.,  96.,  70.],\n",
            "        [102.,  43.,  37.],\n",
            "        [ 69.,  96.,  70.],\n",
            "        [ 87., 134.,  58.],\n",
            "        [ 73.,  67.,  43.]])\n",
            "tensor([[103., 119.],\n",
            "        [ 22.,  37.],\n",
            "        [103., 119.],\n",
            "        [119., 133.],\n",
            "        [ 56.,  70.]])\n"
          ]
        }
      ]
    },
    {
      "cell_type": "code",
      "source": [
        "# Define model\n",
        "model=nn.Linear(3,2)\n",
        "print(model.weight)\n",
        "print(model.bias)"
      ],
      "metadata": {
        "colab": {
          "base_uri": "https://localhost:8080/"
        },
        "id": "zGYa9m_NctKe",
        "outputId": "559a62b6-821d-4141-ed4d-ffd071eab577"
      },
      "execution_count": null,
      "outputs": [
        {
          "output_type": "stream",
          "name": "stdout",
          "text": [
            "Parameter containing:\n",
            "tensor([[ 0.3861,  0.0886, -0.2108],\n",
            "        [-0.2006,  0.0237,  0.4153]], requires_grad=True)\n",
            "Parameter containing:\n",
            "tensor([-0.3723,  0.2159], requires_grad=True)\n"
          ]
        }
      ]
    },
    {
      "cell_type": "code",
      "source": [
        "list(model.parameters())"
      ],
      "metadata": {
        "colab": {
          "base_uri": "https://localhost:8080/"
        },
        "id": "04O4_1_ZdB8o",
        "outputId": "0e408e7b-1e50-4097-e5cb-aad5d6a762f3"
      },
      "execution_count": null,
      "outputs": [
        {
          "output_type": "execute_result",
          "data": {
            "text/plain": [
              "[Parameter containing:\n",
              " tensor([[ 0.3861,  0.0886, -0.2108],\n",
              "         [-0.2006,  0.0237,  0.4153]], requires_grad=True),\n",
              " Parameter containing:\n",
              " tensor([-0.3723,  0.2159], requires_grad=True)]"
            ]
          },
          "metadata": {},
          "execution_count": 70
        }
      ]
    },
    {
      "cell_type": "markdown",
      "source": [
        "PyTorch models require .parameters method returning a list containing all w and b matrices in model."
      ],
      "metadata": {
        "id": "kSRnkXt3dNGx"
      }
    },
    {
      "cell_type": "code",
      "source": [
        "preds=model(inputs)\n",
        "preds"
      ],
      "metadata": {
        "colab": {
          "base_uri": "https://localhost:8080/"
        },
        "id": "U5-XQGQPdbrw",
        "outputId": "c4d57e53-d03b-4aa3-dc6b-0b6b1d45759f"
      },
      "execution_count": null,
      "outputs": [
        {
          "output_type": "execute_result",
          "data": {
            "text/plain": [
              "tensor([[24.6844,  5.0205],\n",
              "        [29.0682, 10.6294],\n",
              "        [32.8629, 10.0286],\n",
              "        [35.0198, -3.8557],\n",
              "        [20.0181, 17.7229],\n",
              "        [24.6844,  5.0205],\n",
              "        [29.0682, 10.6294],\n",
              "        [32.8629, 10.0286],\n",
              "        [35.0198, -3.8557],\n",
              "        [20.0181, 17.7229],\n",
              "        [24.6844,  5.0205],\n",
              "        [29.0682, 10.6294],\n",
              "        [32.8629, 10.0286],\n",
              "        [35.0198, -3.8557],\n",
              "        [20.0181, 17.7229]], grad_fn=<AddmmBackward0>)"
            ]
          },
          "metadata": {},
          "execution_count": 71
        }
      ]
    },
    {
      "cell_type": "code",
      "source": [
        "# Import nn.functional\n",
        "import torch.nn.functional as F\n",
        "# mse_loss"
      ],
      "metadata": {
        "id": "SxdIuN-5dp2p"
      },
      "execution_count": null,
      "outputs": []
    },
    {
      "cell_type": "markdown",
      "source": [
        "The nn.functional package contains many useful loss functions and several other utilities."
      ],
      "metadata": {
        "id": "tPjT-jMod58z"
      }
    },
    {
      "cell_type": "code",
      "source": [
        "loss_fn=F.mse_loss"
      ],
      "metadata": {
        "id": "bevAHFDSd0qf"
      },
      "execution_count": null,
      "outputs": []
    },
    {
      "cell_type": "code",
      "source": [
        "loss=loss_fn(model(inputs),targets)\n",
        "loss"
      ],
      "metadata": {
        "colab": {
          "base_uri": "https://localhost:8080/"
        },
        "id": "PC1bwTJBeJVG",
        "outputId": "227fc738-6136-4e13-f9e9-5a4ce20a2dbc"
      },
      "execution_count": null,
      "outputs": [
        {
          "output_type": "execute_result",
          "data": {
            "text/plain": [
              "tensor(5759.0063, grad_fn=<MseLossBackward0>)"
            ]
          },
          "metadata": {},
          "execution_count": 74
        }
      ]
    },
    {
      "cell_type": "markdown",
      "source": [
        "Instead of manually manipulating the models weoght and bias, we can use optim.SGD(STOCHASTIC GRADIENT DESCENT):stochastic becoz samples are selected in batches (with random shuffling) instead of single group.\n",
        "\n",
        "lr:learning rate"
      ],
      "metadata": {
        "id": "FFkMgxYNz5te"
      }
    },
    {
      "cell_type": "code",
      "source": [
        "# Define optimizer\n",
        "opt=torch.optim.SGD(model.parameters(),lr=1e-5)"
      ],
      "metadata": {
        "id": "5hwTZh-jz4rA"
      },
      "execution_count": null,
      "outputs": []
    },
    {
      "cell_type": "code",
      "source": [
        "# Utility function to train the model:\n",
        "def fit(num_epochs,model,loss_fn,opt,train_dl):\n",
        "  # Repeat for given number of epochs\n",
        "  for epoch in range(num_epochs):\n",
        "    # Train eith batch of data\n",
        "    for xb,yb in train_dl:\n",
        "      # Generate preds\n",
        "      preds=model(xb)\n",
        "      loss=loss_fn(preds,yb)\n",
        "      # Compute gradient\n",
        "      loss.backward()\n",
        "      # Update parameters using gradients\n",
        "      opt.step()\n",
        "      # it has got w andb so w=w-w*lr\n",
        "      # Reset grad to zero\n",
        "      opt.zero_grad()\n",
        "\n",
        "      # print the progress\n",
        "      if (epoch+1)%10 ==0:\n",
        "        print('Epoch [{}/{}],Loss:{:.4f}'.format(epoch+1,num_epochs,loss.item()))\n"
      ],
      "metadata": {
        "id": "cwMEZ99N0qJr"
      },
      "execution_count": null,
      "outputs": []
    },
    {
      "cell_type": "markdown",
      "source": [
        "After computing the gradients using loss.backward(), opt.step() is called to update the parameters of the model based on the gradients. It uses the gradients to adjust the parameters in the direction that minimizes the loss.\n"
      ],
      "metadata": {
        "id": "3zgqQ0qO6tnP"
      }
    },
    {
      "cell_type": "markdown",
      "source": [
        "epoch + 1: This is just to ensure the epoch count starts from 1, instead of 0 (common practice in training loops to start counting from 1).\n",
        "\n",
        "num_epochs: Total number of epochs you are training for.\n",
        "\n",
        "loss.item(): This method is used to retrieve the scalar value of the loss from the tensor. You can't print a tensor directly, so you call .item() to get the scalar value.\n",
        "\n",
        "\n",
        "if (epoch + 1) % 10 == 0::\n",
        "\n",
        " This condition checks if the current epoch is a multiple of 10, so it will print the loss every 10th epoch (i.e., epoch 10, 20, 30, ...).\n",
        "\n",
        "print('Epoch [{}/{}], Loss: {:.4f}'.format(epoch + 1, num_epochs, loss.item())):\n",
        "\n",
        "This prints the epoch number, the total number of epochs, and the loss value. The \"{:.4f}\" formatting ensures the loss is printed with 4 decimal places."
      ],
      "metadata": {
        "id": "VwkbKhAM36Q0"
      }
    },
    {
      "cell_type": "code",
      "source": [
        "fit(100,model,loss_fn,opt,train_dl)"
      ],
      "metadata": {
        "colab": {
          "base_uri": "https://localhost:8080/"
        },
        "id": "r18at1cH4Fpq",
        "outputId": "38b9c990-de46-4f89-9687-b15b5fbd7aae"
      },
      "execution_count": null,
      "outputs": [
        {
          "output_type": "stream",
          "name": "stdout",
          "text": [
            "Epoch [10/100],Loss:455.2126\n",
            "Epoch [10/100],Loss:361.8072\n",
            "Epoch [10/100],Loss:400.8440\n",
            "Epoch [20/100],Loss:398.3780\n",
            "Epoch [20/100],Loss:191.9667\n",
            "Epoch [20/100],Loss:300.3520\n",
            "Epoch [30/100],Loss:179.6232\n",
            "Epoch [30/100],Loss:302.6955\n",
            "Epoch [30/100],Loss:151.5550\n",
            "Epoch [40/100],Loss:229.4061\n",
            "Epoch [40/100],Loss:59.3340\n",
            "Epoch [40/100],Loss:141.6337\n",
            "Epoch [50/100],Loss:103.1442\n",
            "Epoch [50/100],Loss:74.5330\n",
            "Epoch [50/100],Loss:132.5193\n",
            "Epoch [60/100],Loss:48.2525\n",
            "Epoch [60/100],Loss:104.5878\n",
            "Epoch [60/100],Loss:72.6896\n",
            "Epoch [70/100],Loss:49.0180\n",
            "Epoch [70/100],Loss:56.6200\n",
            "Epoch [70/100],Loss:68.0895\n",
            "Epoch [80/100],Loss:23.0893\n",
            "Epoch [80/100],Loss:22.9581\n",
            "Epoch [80/100],Loss:83.1942\n",
            "Epoch [90/100],Loss:2.9493\n",
            "Epoch [90/100],Loss:33.7041\n",
            "Epoch [90/100],Loss:71.4238\n",
            "Epoch [100/100],Loss:17.6078\n",
            "Epoch [100/100],Loss:13.5700\n",
            "Epoch [100/100],Loss:51.3335\n"
          ]
        }
      ]
    },
    {
      "cell_type": "code",
      "source": [
        "# generate preds\n",
        "preds=model(inputs)\n",
        "preds"
      ],
      "metadata": {
        "colab": {
          "base_uri": "https://localhost:8080/"
        },
        "id": "3pDwkYlH4gyA",
        "outputId": "2009d69d-a4d4-497c-cf06-e602c439b2a4"
      },
      "execution_count": null,
      "outputs": [
        {
          "output_type": "execute_result",
          "data": {
            "text/plain": [
              "tensor([[ 58.9063,  71.1603],\n",
              "        [ 79.6266, 100.1607],\n",
              "        [121.9550, 132.6272],\n",
              "        [ 31.0331,  41.7389],\n",
              "        [ 91.5363, 115.5469],\n",
              "        [ 58.9063,  71.1603],\n",
              "        [ 79.6266, 100.1607],\n",
              "        [121.9550, 132.6272],\n",
              "        [ 31.0331,  41.7389],\n",
              "        [ 91.5363, 115.5469],\n",
              "        [ 58.9063,  71.1603],\n",
              "        [ 79.6266, 100.1607],\n",
              "        [121.9550, 132.6272],\n",
              "        [ 31.0331,  41.7389],\n",
              "        [ 91.5363, 115.5469]], grad_fn=<AddmmBackward0>)"
            ]
          },
          "metadata": {},
          "execution_count": 78
        }
      ]
    },
    {
      "cell_type": "code",
      "source": [
        "targets"
      ],
      "metadata": {
        "colab": {
          "base_uri": "https://localhost:8080/"
        },
        "id": "_d-pGPXK4p1U",
        "outputId": "0009c447-f819-423f-b82d-b69d63f6d167"
      },
      "execution_count": null,
      "outputs": [
        {
          "output_type": "execute_result",
          "data": {
            "text/plain": [
              "tensor([[ 56.,  70.],\n",
              "        [ 81., 101.],\n",
              "        [119., 133.],\n",
              "        [ 22.,  37.],\n",
              "        [103., 119.],\n",
              "        [ 56.,  70.],\n",
              "        [ 81., 101.],\n",
              "        [119., 133.],\n",
              "        [ 22.,  37.],\n",
              "        [103., 119.],\n",
              "        [ 56.,  70.],\n",
              "        [ 81., 101.],\n",
              "        [119., 133.],\n",
              "        [ 22.,  37.],\n",
              "        [103., 119.]])"
            ]
          },
          "metadata": {},
          "execution_count": 79
        }
      ]
    }
  ]
}
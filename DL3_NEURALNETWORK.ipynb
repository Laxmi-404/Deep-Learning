{
  "nbformat": 4,
  "nbformat_minor": 0,
  "metadata": {
    "colab": {
      "provenance": [],
      "gpuType": "T4",
      "authorship_tag": "ABX9TyNgf2b8fvsj2cuaSKfJvems",
      "include_colab_link": true
    },
    "kernelspec": {
      "name": "python3",
      "display_name": "Python 3"
    },
    "language_info": {
      "name": "python"
    },
    "accelerator": "GPU"
  },
  "cells": [
    {
      "cell_type": "markdown",
      "metadata": {
        "id": "view-in-github",
        "colab_type": "text"
      },
      "source": [
        "<a href=\"https://colab.research.google.com/github/Laxmi-404/Deep-Learning/blob/main/DL3_NEURALNETWORK.ipynb\" target=\"_parent\"><img src=\"https://colab.research.google.com/assets/colab-badge.svg\" alt=\"Open In Colab\"/></a>"
      ]
    },
    {
      "cell_type": "code",
      "execution_count": null,
      "metadata": {
        "id": "nV8fLzFqF73r"
      },
      "outputs": [],
      "source": [
        "import torch\n",
        "import torchvision\n",
        "import numpy as np\n",
        "import matplotlib.pyplot as plt\n",
        "import torch.nn as nn\n",
        "import torch.nn.functional as F\n",
        "from torchvision.datasets import MNIST\n",
        "from torchvision.transforms import ToTensor\n",
        "from torchvision.utils import make_grid\n",
        "from torch.utils.data.dataloader import DataLoader\n",
        "from torch.utils.data import random_split\n",
        "%matplotlib inline"
      ]
    },
    {
      "cell_type": "code",
      "source": [
        "# using MNIST class\n",
        "root=r'C:\\Users\\Admin\\OneDrive\\Desktop\\DEEP_LEARNING'\n",
        "dataset=MNIST(root=root,download=True,transform=ToTensor())\n",
        "# image converted to pytorch tensors"
      ],
      "metadata": {
        "id": "AeIzen95Omnt"
      },
      "execution_count": null,
      "outputs": []
    },
    {
      "cell_type": "code",
      "source": [
        "val_size=10000\n",
        "train_size=len(dataset)-val_size\n",
        "train_ds,val_ds=random_split(dataset,[train_size,val_size])\n",
        "len(train_ds),len(val_ds)"
      ],
      "metadata": {
        "id": "Yulcue4iPNym",
        "colab": {
          "base_uri": "https://localhost:8080/"
        },
        "outputId": "4bd93798-dee2-4224-c42e-cce12960db82"
      },
      "execution_count": null,
      "outputs": [
        {
          "output_type": "execute_result",
          "data": {
            "text/plain": [
              "(50000, 10000)"
            ]
          },
          "metadata": {},
          "execution_count": 31
        }
      ]
    },
    {
      "cell_type": "code",
      "source": [
        "batch_size=128"
      ],
      "metadata": {
        "id": "DGBxUxiGP0zP"
      },
      "execution_count": null,
      "outputs": []
    },
    {
      "cell_type": "code",
      "source": [
        "train_loader=DataLoader(train_ds, batch_size=128,shuffle=True,num_workers=2,pin_memory=True)\n",
        "val_loader=DataLoader(val_ds,batch_size*2,num_workers=2,pin_memory=True)"
      ],
      "metadata": {
        "id": "mpjkunpARYTG"
      },
      "execution_count": null,
      "outputs": []
    },
    {
      "cell_type": "markdown",
      "source": [
        "num_workers=4:\n",
        "What it does: This parameter specifies how many subprocesses to use for data loading in parallel.\n",
        "\n",
        "How it works: By default, PyTorch uses a single worker to load data, which can slow down the training process, especially if your dataset is large.\n",
        "\n",
        "Setting num_workers=4 means that the DataLoader will use 4 subprocesses to load the data, potentially speeding up the data loading time and improving overall training efficiency, particularly for large datasets."
      ],
      "metadata": {
        "id": "tlg4r_2ySEPt"
      }
    },
    {
      "cell_type": "markdown",
      "source": [
        "pin_memory=True:\n",
        "\n",
        "What it does: This parameter tells PyTorch to allocate the data in page-locked memory (also known as pinned memory) during loading.\n",
        "\n",
        "How it works: By default, PyTorch loads data onto the CPU and then transfers it to the GPU during training.\n",
        "\n",
        "When pin_memory=True is set, the DataLoader will allocate the memory in such a way that the data can be transferred to the GPU more efficiently, as pinned memory is faster to transfer from the CPU to GPU."
      ],
      "metadata": {
        "id": "Qkc0x3gtSRqc"
      }
    },
    {
      "cell_type": "markdown",
      "source": [
        "WHY TO TRANSFER DATA FROM CPU TO GPU?\n",
        "\n",
        "GPUs are Optimized for Parallel Processing:\n",
        "GPUs (Graphics Processing Units) are designed specifically to handle many calculations simultaneously (parallel processing), which is perfect for the massive number of operations required in deep learning models.\n",
        "\n",
        "While a CPU (Central Processing Unit) is great for general-purpose computing and tasks that require serial processing, GPUs excel in tasks that can be parallelized (like matrix multiplications, which are common in neural networks).\n",
        "\n",
        "A GPU can process thousands of operations at once, speeding up tasks like training large models, computing gradients during backpropagation, and making predictions with complex models."
      ],
      "metadata": {
        "id": "AlhvnQi0SxuX"
      }
    },
    {
      "cell_type": "markdown",
      "source": [
        "Stochastic gradient descent works on batches as it cant load whole data at a time."
      ],
      "metadata": {
        "id": "qDrhgvM-TF1k"
      }
    },
    {
      "cell_type": "code",
      "source": [
        "for images,_ in train_loader:\n",
        "  print('images.shape',images.shape)\n",
        "  break"
      ],
      "metadata": {
        "id": "Ydtf63LJSVtf",
        "colab": {
          "base_uri": "https://localhost:8080/"
        },
        "outputId": "0ccdc4b0-0990-4378-d4c4-0e3dea8a8238"
      },
      "execution_count": null,
      "outputs": [
        {
          "output_type": "stream",
          "name": "stdout",
          "text": [
            "images.shape torch.Size([128, 1, 28, 28])\n"
          ]
        }
      ]
    },
    {
      "cell_type": "markdown",
      "source": [
        "But matplotlib expects the tensor to move the channels to the last dimension by .permute method.\n",
        "\n",
        "make_grid to analyse batch of image"
      ],
      "metadata": {
        "id": "RK_0Hhzz1a8M"
      }
    },
    {
      "cell_type": "markdown",
      "source": [
        "nrow parameter in make_grid() specifies the number of images to display per row.\n",
        "\n",
        "plt.imshow requires an image and hence using make_grid to plot."
      ],
      "metadata": {
        "id": "hLSvRpYf2qTN"
      }
    },
    {
      "cell_type": "code",
      "source": [
        "for images,_ in train_loader:\n",
        "  print('images.shape:',images.shape)\n",
        "  plt.figure(figsize=(16,8))\n",
        "  plt.axis('off')\n",
        "  plt.imshow(make_grid(images,nrow=28).permute(1,2,0))\n",
        "  break"
      ],
      "metadata": {
        "id": "_9vnhgXH1NUD",
        "colab": {
          "base_uri": "https://localhost:8080/",
          "height": 221
        },
        "outputId": "cf3e54d9-1459-422f-a7ef-23d4df7d4d7d"
      },
      "execution_count": null,
      "outputs": [
        {
          "output_type": "stream",
          "name": "stdout",
          "text": [
            "images.shape: torch.Size([128, 1, 28, 28])\n"
          ]
        },
        {
          "output_type": "display_data",
          "data": {
            "text/plain": [
              "<Figure size 1600x800 with 1 Axes>"
            ],
            "image/png": "[encoded data removed]"
          },
          "metadata": {}
        }
      ]
    },
    {
      "cell_type": "markdown",
      "source": [
        "images.permute(1, 2, 0)\n",
        "This is reordering the dimensions from (batch_size, channels, height, width) to (height, width, channels):\n",
        "\n",
        "1: This moves the channel dimension (which is 1 for grayscale) to the last position.\n",
        "\n",
        "2: This moves the height dimension (28) to the first position.\n",
        "\n",
        "0: This moves the batch size (which is 1) to the second position (we are using just one image here, so this doesn't change the tensor much in this case)."
      ],
      "metadata": {
        "id": "fSW1TxlJ3NfP"
      }
    },
    {
      "cell_type": "markdown",
      "source": [
        "F.relu() is a function in PyTorch that applies the ReLU activation function element-wise to the input tensor. ReLU stands for Rectified Linear Unit and is one of the most commonly used activation functions in neural networks, especially in deep learning.\n",
        "\n",
        "Capturing Complex Patterns:\n",
        "Real-world data is often highly non-linear. For example, in image recognition, the relationship between pixels and the objects they represent is not simply linear — it's complex and involves interactions between various features of the image (e.g., edges, textures, shapes).\n",
        "\n",
        "A neural network without non-linear activation functions would simply learn linear transformations, meaning it could only approximate linear relationships between inputs and outputs. This would make the network much less capable in tasks like classification, regression, or any task that involves more intricate patterns.\n",
        "\n",
        "Non-linear activations (like ReLU, sigmoid, tanh, etc.) allow the network to learn these non-linear relationships, enabling it to approximate any kind of mapping between inputs and outputs, making it much more powerful for a variety of tasks.\n",
        "\n",
        "\n",
        "2. Increasing Expressive Power:\n",
        "With a linear model, even if you stack multiple layers (deep layers), the network would still behave like a single linear transformation. This is because a composition of linear functions is still a linear function."
      ],
      "metadata": {
        "id": "t9HBpb2L9omc"
      }
    },
    {
      "cell_type": "code",
      "source": [
        "def model(xb):\n",
        "  return xb @ w.t()+b\n",
        "\n",
        "# nn.Linear(in_size,out_size)\n",
        "\n",
        "# nn.Linear(28*28,16)\n",
        "# nn.Linear(16,10)\n",
        "# Taking batch of 16 outputs and converting it to 10\n",
        "\n",
        "# forward():\n",
        "#   out=self.linear1(xb)\n",
        "#   out=F.relu()\n",
        "# Applying something non linear,so that you can no longer simplify eqn and hence model has much more capability than just a matrix multiplication.\n",
        "#   out=self.linear2(out)\n",
        "#    return out\n",
        "\n",
        "# out=self.linear2(self.linear1(xb))\n",
        "# out=self.linear2(xb @ w1.t()+b1) @ w2.t()+b2\n",
        "# = xb @(w1 @ w2)+ xb@(b1 @ w1)+b2\n",
        "# = xb @((w1 @ w2)+ (b1 @ w1))+b2\n",
        "# xb*w3+b2=self.linear3(xb)\n"
      ],
      "metadata": {
        "id": "GViVSK1z2xlq"
      },
      "execution_count": null,
      "outputs": []
    },
    {
      "cell_type": "markdown",
      "source": [
        "To improve the logistic regression,we willl cfreate a neural n/w.\n",
        "\n",
        "** Instead of using a single nn.Linear obj to transform a batch of inputs(pixel intensities) and a batch of outputs(class probabilities),we will use 2 nn.Linear objects.Each of these is called layer in the network.\n",
        "\n",
        "** The first layer(hidden layer) will transform the input matrix of shape batch_size 784 into an intermediate output matrix of shape batch_size*hidden_size,where hidden_size is preconfigured parameter.\n",
        "\n",
        "** The intermediate outputs are then passed into a non linear activation function,which operates on individual elements of output matrix.\n",
        "\n",
        "** The result of activation function of size btch_size*hidden_size,is passed into the second layer(output layer) which transforms it into batch_size*10 identical to outputof logistic regression model."
      ],
      "metadata": {
        "id": "p_MbrtzhCAa9"
      }
    },
    {
      "cell_type": "markdown",
      "source": [
        "The activation function is called Rectified Linear Unit(Relu function) using relu(x)=max(0,x) if negative change to 0 rest same."
      ],
      "metadata": {
        "id": "ULg6B1_HEWQp"
      }
    },
    {
      "cell_type": "code",
      "source": [
        "# Model\n",
        "# dim=0 refers to operating along the rows (axis 0), meaning you would be looking across all elements in each column.\n",
        "# dim=1 refers to operating along the columns (axis 1), meaning you would be looking across all elements in each row.\n",
        "def accuracy(outputs,labels):\n",
        "  _,preds=torch.max(outputs,dim=1)\n",
        "  return torch.tensor(torch.sum(preds==labels).item()/len(preds))"
      ],
      "metadata": {
        "id": "GB7OG2xV4iAq"
      },
      "execution_count": null,
      "outputs": []
    },
    {
      "cell_type": "markdown",
      "source": [
        "xb is your input tensor, typically with a shape like [batch_size, channels, height, width] for image data.\n",
        "\n",
        "xb.size(0) retrieves the batch size, which is the number of samples in the batch.\n",
        "\n",
        "-1 in the view() function is a special argument that tells PyTorch to infer the correct size for that dimension based on the other dimensions and the total number of elements in the tensor.\n",
        "\n",
        "Imagine you have a batch of images, like a group of 32 pictures, and each picture is 28x28 pixels with 3 color channels (RGB). This is the shape of the data you have: [32, 3, 28, 28].\n",
        "\n",
        "Now, when you want to feed these images into a fully connected layer (like a layer that makes decisions based on the features), it doesn't work well with the image shape [32, 3, 28, 28] because the fully connected layer expects each image to be one long \"list\" of numbers (instead of a 2D grid of pixels).\n",
        "\n",
        "So, the line xb = xb.view(xb.size(0), -1) does the following:\n",
        "\n",
        "Flattens each image: It takes each image (which has a size of 3x28x28, or 2352 numbers per image) and flattens it into a long list of 2352 numbers.\n",
        "\n",
        "Keeps the batch size: The batch size (32 in this case) stays the same, meaning you still have 32 images, but each image is now just a long list of numbers.\n",
        "\n",
        "The result is a new shape of [32, 2352], where each of the 32 images is now represented as a list of 2352 numbers (the original 28x28 pixels, with 3 color channels, all flattened out).\n",
        "\n",
        "It's like taking a 2D picture and rolling it out into a 1D line, so the model can look at all the values in that \"line\" to make decisions!"
      ],
      "metadata": {
        "id": "rW34O_bPfMzv"
      }
    },
    {
      "cell_type": "code",
      "source": [
        "class MnistModel(nn.Module):\n",
        "  def __init__(self,in_size,hidden_size,out_size):\n",
        "    super().__init__()\n",
        "    # hidden layer\n",
        "    self.linear1=nn.Linear(in_size,hidden_size)\n",
        "    # output layer\n",
        "    self.linear2=nn.Linear(hidden_size,out_size)\n",
        "\n",
        "  def forward(self,xb):\n",
        "    # Flatten the image tensors\n",
        "    xb=xb.view(xb.size(0),-1)\n",
        "    # Get intermediate outputs using hidden layers\n",
        "    out=self.linear1(xb)\n",
        "    # Apply activation function\n",
        "    out=F.relu(out)\n",
        "    # Get predictions using output layer\n",
        "    out=self.linear2(out)\n",
        "    return out\n",
        "\n",
        "  def training_step(self,batch):\n",
        "    images,labels=batch\n",
        "    out=self(images)\n",
        "    loss=F.cross_entropy(out,labels)\n",
        "    # acc=accuracy(out,labels)\n",
        "    return loss\n",
        "\n",
        "  def validation_step(self,batch):\n",
        "    images,labels=batch\n",
        "    out=self(images)\n",
        "    loss=F.cross_entropy(out,labels)\n",
        "    acc=accuracy(out,labels)\n",
        "    return {'val_loss':loss.detach(),'val_acc':acc}\n",
        "\n",
        "# In PyTorch, loss.detach() is used to create a new tensor that shares the same data as the original loss tensor but without tracking gradients. This means that the detached tensor will not be part of the computation graph for backpropagation.\n",
        "# Memory Efficiency:\n",
        "# By detaching the tensor, you save memory by not storing the intermediate operations that would otherwise be tracked for backpropagation.\n",
        "\n",
        "\n",
        "  def validation_epoch_end(self,outputs):\n",
        "    print(outputs)\n",
        "    # for x in outputs:\n",
        "    # print(x.keys())  # Check the dictionary keys to ensure 'val_loss' is present\n",
        "    # print(x['val_loss'].shape)  # Inspect the shape of the 'val_loss' tensor\n",
        "\n",
        "    # device = outputs[0]['val_loss'].device\n",
        "    # print(device)\n",
        "    batch_losses=[x['val_loss'] for x in outputs]\n",
        "    epoch_loss=torch.stack(batch_losses).mean().item()\n",
        "    batch_accs=[x['val_acc'] for x in outputs]\n",
        "    epoch_acc=torch.stack(batch_accs).mean().item()\n",
        "    return [{'val_loss':epoch_loss.item(),'val_acc':epoch_acc.item()}]\n",
        "\n",
        "  def epoch_end(self,epoch,result):\n",
        "    print(\"Epoch[{}],val_loss{:.4f},val_acc{:.4f}\".format(epoch,result['val_loss'],result['val_acc']))\n"
      ],
      "metadata": {
        "id": "tZtVbtffFUzV"
      },
      "execution_count": null,
      "outputs": []
    },
    {
      "cell_type": "code",
      "source": [
        "input_size=784\n",
        "out_size=10\n",
        "hidden_size=32\n",
        "# Making hidden layers give power to your model as each layer is learning something about your model"
      ],
      "metadata": {
        "id": "IIhvmhsSoS9O"
      },
      "execution_count": null,
      "outputs": []
    },
    {
      "cell_type": "code",
      "source": [
        "model=MnistModel(input_size,hidden_size,out_size)"
      ],
      "metadata": {
        "id": "y5lWCrwPofoP"
      },
      "execution_count": null,
      "outputs": []
    },
    {
      "cell_type": "code",
      "source": [
        "model"
      ],
      "metadata": {
        "id": "RVrL5myko-ds",
        "colab": {
          "base_uri": "https://localhost:8080/"
        },
        "outputId": "6b4b7b03-2f8f-4bcb-a1f1-6ec65957ac75"
      },
      "execution_count": null,
      "outputs": [
        {
          "output_type": "execute_result",
          "data": {
            "text/plain": [
              "MnistModel(\n",
              "  (linear1): Linear(in_features=784, out_features=32, bias=True)\n",
              "  (linear2): Linear(in_features=32, out_features=10, bias=True)\n",
              ")"
            ]
          },
          "metadata": {},
          "execution_count": 129
        }
      ]
    },
    {
      "cell_type": "code",
      "source": [
        "for t in model.parameters():\n",
        "  print(t.shape)"
      ],
      "metadata": {
        "id": "HMeuCu0KpA3j",
        "colab": {
          "base_uri": "https://localhost:8080/"
        },
        "outputId": "51c17b50-acc9-4514-a9dc-7dff64cf24d1"
      },
      "execution_count": null,
      "outputs": [
        {
          "output_type": "stream",
          "name": "stdout",
          "text": [
            "torch.Size([32, 784])\n",
            "torch.Size([32])\n",
            "torch.Size([10, 32])\n",
            "torch.Size([10])\n"
          ]
        }
      ]
    },
    {
      "cell_type": "markdown",
      "source": [
        "torch.Size([32, 784]):\n",
        "This is likely the weight matrix of a fully connected (linear) layer.\n",
        "\n",
        "784 corresponds to the number of input features (for example, if you're working with 28x28 grayscale images, this is the flattened size: 28 * 28 = 784).\n",
        "\n",
        "32 is the number of output neurons or the number of units in this layer (i.e., how many features the model outputs after this layer).\n",
        "\n",
        "So, this matrix contains the weights that are used to transform the 784 input features into 32 output features (activations).\n",
        "\n",
        "torch.Size([32]):\n",
        "This is likely the bias vector for the same layer.\n",
        "\n",
        "There’s one bias value for each of the 32 output neurons. It’s a 1D tensor of size 32, where each value is added to the corresponding neuron’s output after the weights are applied.\n",
        "\n",
        "\n",
        "torch.Size([10, 32]):\n",
        "This is likely another weight matrix, for a subsequent layer in the network.\n",
        "\n",
        "32 is the number of input features (which would be the number of outputs from the previous layer).\n",
        "\n",
        "10 is the number of output neurons (this is typical for a classification problem with 10 classes, like MNIST, where the model needs to predict one of 10 classes).\n",
        "\n",
        "This matrix maps the 32 activations from the previous layer into 10 output classes.\n",
        "\n",
        "torch.Size([10]):\n",
        "This is likely the bias vector for the output layer.\n",
        "\n",
        "There’s one bias value for each of the 10 output neurons (one per class).\n",
        "\n",
        "Your model seems to be a fully connected neural network with:\n",
        "\n",
        "A layer that takes a 784-dimensional input (e.g., flattened 28x28 image) and outputs 32 features.\n",
        "\n",
        "A second layer that takes those 32 features and outputs 10 values (likely corresponding to class probabilities for classification)."
      ],
      "metadata": {
        "id": "NJAE35wnp7oz"
      }
    },
    {
      "cell_type": "markdown",
      "source": [
        "Each weight matrix has a shape of [output_size, input_size], and each bias vector has a shape of [output_size]."
      ],
      "metadata": {
        "id": "m5yOjFV6qPyP"
      }
    },
    {
      "cell_type": "code",
      "source": [
        "for images,labels in train_loader:\n",
        "  output=model(images)\n",
        "  loss=F.cross_entropy(output,labels)\n",
        "  print('Loss',loss)\n",
        "  break\n",
        "\n",
        "print('output shape:',output.shape)\n",
        "print('Sample output: \\n',output[:2].data)"
      ],
      "metadata": {
        "id": "dvBtJUi6qT-V",
        "colab": {
          "base_uri": "https://localhost:8080/"
        },
        "outputId": "a6249b35-723b-495d-8d49-c135746b63be"
      },
      "execution_count": null,
      "outputs": [
        {
          "output_type": "stream",
          "name": "stdout",
          "text": [
            "Loss tensor(2.3154, grad_fn=<NllLossBackward0>)\n",
            "output shape: torch.Size([128, 10])\n",
            "Sample output: \n",
            " tensor([[ 0.1317,  0.2017, -0.0315, -0.1154, -0.0539, -0.1436, -0.2072,  0.1312,\n",
            "          0.0647,  0.1276],\n",
            "        [ 0.1382,  0.1264, -0.0821, -0.0526, -0.1111, -0.1693, -0.1301,  0.0745,\n",
            "          0.0890,  0.0625]])\n"
          ]
        }
      ]
    },
    {
      "cell_type": "markdown",
      "source": [
        "print('Sample output: \\n', output[:2].data)\n",
        "\n",
        "This prints the first two rows of the output tensor (i.e., the predictions for the first two images in the batch)."
      ],
      "metadata": {
        "id": "9DTspnN1sXOX"
      }
    },
    {
      "cell_type": "markdown",
      "source": [
        "torch.nn contains different layers like convolutional layer,hidden layer etc.it has w and b.\n",
        "\n",
        "torch.nn.functional contains functions like activation function(relu),sigmoid etc.\n",
        "\n",
        "Some functions works as layers also.\n",
        "\n",
        "nn.relu=F.relu()"
      ],
      "metadata": {
        "id": "mKXJsSU5s9pk"
      }
    },
    {
      "cell_type": "markdown",
      "source": [
        "The Universal Approximation Theorem is a fundamental concept in neural networks and machine learning. It essentially states that:\n",
        "\n",
        "A feedforward neural network with at least one hidden layer, and a sufficiently large number of neurons in that layer, can approximate any continuous function to arbitrary precision, provided the activation function is non-linear.(perfectly learn a dataset)"
      ],
      "metadata": {
        "id": "YM8jmJ24vONg"
      }
    },
    {
      "cell_type": "markdown",
      "source": [
        "As the size of our model and dataset increase,we need to use GPU to train our models within a reasonable amount of time.GPUs contain hundreds of cores that are optimized for performing expensive matrix operations on floating point no in short time,which makes them ideal for training deep neural networks with many layers.\n",
        "\n",
        "Can use nvidia Gpu(lang:cuda)"
      ],
      "metadata": {
        "id": "6-GDvC8p367T"
      }
    },
    {
      "cell_type": "markdown",
      "source": [
        "Colab: If you're using Google Colab, the GPU should be available automatically if you've enabled it under\n",
        "\n",
        " Runtime → Change runtime type → Hardware accelerator → GPU."
      ],
      "metadata": {
        "id": "iFEAsKdZ31ks"
      }
    },
    {
      "cell_type": "code",
      "source": [
        "torch.cuda.is_available()"
      ],
      "metadata": {
        "id": "WpZWzWbqsp93",
        "colab": {
          "base_uri": "https://localhost:8080/"
        },
        "outputId": "0298f1bc-be38-4f25-afb9-edae476698df"
      },
      "execution_count": null,
      "outputs": [
        {
          "output_type": "execute_result",
          "data": {
            "text/plain": [
              "False"
            ]
          },
          "metadata": {},
          "execution_count": 132
        }
      ]
    },
    {
      "cell_type": "code",
      "source": [
        "def get_default_device():\n",
        "  # Pick GPU if available,else CPU\n",
        "  if torch.cuda.is_available():\n",
        "    return torch.device('cuda')\n",
        "  else:\n",
        "    return torch.device('cpu')"
      ],
      "metadata": {
        "id": "bDF7I82P22b3"
      },
      "execution_count": null,
      "outputs": []
    },
    {
      "cell_type": "code",
      "source": [
        "device=get_default_device()\n",
        "device"
      ],
      "metadata": {
        "id": "5gU3QecBEe9S",
        "colab": {
          "base_uri": "https://localhost:8080/"
        },
        "outputId": "07c7145d-1bd4-4f3b-a291-a03ba5cc21d7"
      },
      "execution_count": null,
      "outputs": [
        {
          "output_type": "execute_result",
          "data": {
            "text/plain": [
              "device(type='cpu')"
            ]
          },
          "metadata": {},
          "execution_count": 134
        }
      ]
    },
    {
      "cell_type": "code",
      "source": [
        "def to_device(dataset,device):\n",
        "  # Move tensor to chosen device\n",
        "  if isinstance(dataset,(list,tuple)):\n",
        "    return [to_device(x,device) for x in dataset]\n",
        "  return dataset.to(device,non_blocking=True)"
      ],
      "metadata": {
        "id": "biC89SR2EnFg"
      },
      "execution_count": null,
      "outputs": []
    },
    {
      "cell_type": "markdown",
      "source": [
        "The non_blocking=True argument in PyTorch's Tensor.to() function tells PyTorch to attempt to move the tensor to the specified device asynchronously, without blocking the execution of the code while the transfer is happening.\n",
        "\n",
        "If data is not a list or tuple: If data is just a single tensor (not a list or tuple), it moves the tensor to the specified device using data.to(device, non_blocking=True).\n",
        "\n",
        "The non_blocking=True argument tells PyTorch to move the tensor asynchronously if possible, which can speed up the transfer to the GPU in some cases.\n",
        "\n",
        "Check if data is a list or tuple: The function first checks if data is a list or tuple using isinstance(data, (list, tuple)). This allows the function to handle collections of tensors, not just a single tensor.\n",
        "\n",
        "If data is a list or tuple, the function will recursively call to_device on each element of the collection and return a list of tensors moved to the specified device. This is done using a list comprehension."
      ],
      "metadata": {
        "id": "Ynox78yxGRdn"
      }
    },
    {
      "cell_type": "code",
      "source": [
        "for images,labels in train_loader:\n",
        "  print(images.shape)\n",
        "  images=to_device(images,device)\n",
        "  print(images.device)\n",
        "  # print(images)\n",
        "  break\n",
        "  # batches access ho gye\n",
        "  # You're iterating through the train_loader (which likely contains batches of data) and accessing individual batches of images and labels"
      ],
      "metadata": {
        "id": "u22dlJepGjBA",
        "colab": {
          "base_uri": "https://localhost:8080/"
        },
        "outputId": "89e94809-3f26-49e7-ac04-3744e73512cd"
      },
      "execution_count": null,
      "outputs": [
        {
          "output_type": "stream",
          "name": "stdout",
          "text": [
            "torch.Size([128, 1, 28, 28])\n",
            "cpu\n"
          ]
        }
      ]
    },
    {
      "cell_type": "markdown",
      "source": [
        "We define a DataLoader class to wrap our existing data loaders and move data to selected devide,as a batches are accessed.\n",
        "\n",
        "We don't need to extend an existing class to create a pytorch daatloader."
      ],
      "metadata": {
        "id": "nhFDfHugOwNM"
      }
    },
    {
      "cell_type": "code",
      "source": [
        "class DeviceDataLoader():\n",
        "  # Wrap a adataloader to move data to device\n",
        "  def __init__(self,dl,device):\n",
        "    self.dl=dl\n",
        "    self.device=device\n",
        "\n",
        "  def __iter__(self):\n",
        "    # Yield a batch of  data after moving it to device\n",
        "    for b in self.dl:\n",
        "      yield to_device(b,self.device)\n",
        "\n",
        "  def __len__(self):\n",
        "    # no of batches\n",
        "    return len(self.dl)"
      ],
      "metadata": {
        "id": "DQOID0WrIf6I"
      },
      "execution_count": null,
      "outputs": []
    },
    {
      "cell_type": "markdown",
      "source": [
        "yield is used in Python to make a function a generator. When yield is called in a function, it pauses the function's execution and sends a value back to the caller. The function can then be resumed where it left off when next() is called on the generator object.\n",
        "\n",
        "\n",
        "Using yield instead of return allows the function to produce a series of values one at a time, which is useful for iterating over large datasets or streams of data without loading everything into memory at once."
      ],
      "metadata": {
        "id": "IsARQfPyQbCY"
      }
    },
    {
      "cell_type": "code",
      "source": [
        "train_loader"
      ],
      "metadata": {
        "id": "FKx_I24LScvI",
        "colab": {
          "base_uri": "https://localhost:8080/"
        },
        "outputId": "23feb806-b988-4458-8429-206094a41be5"
      },
      "execution_count": null,
      "outputs": [
        {
          "output_type": "execute_result",
          "data": {
            "text/plain": [
              "<torch.utils.data.dataloader.DataLoader at 0x7c4c77817810>"
            ]
          },
          "metadata": {},
          "execution_count": 138
        }
      ]
    },
    {
      "cell_type": "code",
      "source": [
        "train_loader=DataLoader(train_ds,batch_size=128)\n",
        "val_loader=DataLoader(val_ds,batch_size=128)"
      ],
      "metadata": {
        "id": "gh08RXJCQxUA"
      },
      "execution_count": null,
      "outputs": []
    },
    {
      "cell_type": "code",
      "source": [
        "for xb,yb in val_loader:\n",
        "  xb=xb.to(device)\n",
        "  yb=yb.to(device)\n",
        "\n",
        "  print('xb.device:',xb.device)\n",
        "  print(yb)\n",
        "  break"
      ],
      "metadata": {
        "id": "0FWzIqdjRwxg",
        "colab": {
          "base_uri": "https://localhost:8080/"
        },
        "outputId": "7e8472cb-7a62-42e3-a3e0-69f6089e928c"
      },
      "execution_count": null,
      "outputs": [
        {
          "output_type": "stream",
          "name": "stdout",
          "text": [
            "xb.device: cpu\n",
            "tensor([2, 8, 4, 2, 3, 4, 2, 6, 2, 7, 2, 1, 3, 2, 6, 7, 7, 6, 9, 0, 8, 4, 6, 8,\n",
            "        3, 1, 1, 1, 9, 9, 8, 4, 7, 2, 1, 7, 5, 9, 6, 6, 2, 4, 4, 2, 0, 1, 8, 4,\n",
            "        3, 2, 1, 5, 2, 6, 4, 2, 8, 6, 4, 4, 1, 5, 7, 1, 9, 4, 3, 9, 5, 5, 0, 0,\n",
            "        2, 9, 4, 4, 7, 6, 5, 8, 3, 0, 9, 1, 0, 8, 9, 3, 5, 4, 8, 3, 8, 4, 6, 1,\n",
            "        8, 0, 9, 4, 8, 1, 1, 9, 6, 9, 3, 0, 1, 5, 0, 2, 7, 7, 3, 4, 2, 4, 6, 6,\n",
            "        9, 3, 3, 0, 2, 2, 0, 9])\n"
          ]
        }
      ]
    },
    {
      "cell_type": "code",
      "source": [],
      "metadata": {
        "id": "T6dwCZ0q7FTN"
      },
      "execution_count": null,
      "outputs": []
    },
    {
      "cell_type": "code",
      "source": [
        "class MnistModel(nn.Module):\n",
        "  def __init__(self,in_size,hidden_size,out_size):\n",
        "    super().__init__()\n",
        "    # hidden layer\n",
        "    self.linear1=nn.Linear(in_size,hidden_size)\n",
        "    # output layer\n",
        "    self.linear2=nn.Linear(hidden_size,out_size)\n",
        "\n",
        "  def forward(self,xb):\n",
        "    # Flatten the image tensors\n",
        "    xb=xb.view(xb.size(0),-1)\n",
        "    # Get intermediate outputs using hidden layers\n",
        "    out=self.linear1(xb)\n",
        "    # Apply activation function\n",
        "    out=F.relu(out)\n",
        "    # Get predictions using output layer\n",
        "    out=self.linear2(out)\n",
        "    return out\n",
        "\n",
        "  def training_step(self,batch):\n",
        "    images,labels=batch\n",
        "    out=self(images)\n",
        "    loss=F.cross_entropy(out,labels)\n",
        "    # acc=accuracy(out,labels)\n",
        "    return loss\n",
        "\n",
        "  def validation_step(self,batch):\n",
        "    images,labels=batch\n",
        "    out=self(images)\n",
        "    loss=F.cross_entropy(out,labels)\n",
        "    acc=accuracy(out,labels)\n",
        "    return {'val_loss':loss.detach(),'val_acc':acc}\n",
        "\n",
        "# In PyTorch, loss.detach() is used to create a new tensor that shares the same data as the original loss tensor but without tracking gradients. This means that the detached tensor will not be part of the computation graph for backpropagation.\n",
        "# Memory Efficiency:\n",
        "# By detaching the tensor, you save memory by not storing the intermediate operations that would otherwise be tracked for backpropagation.\n",
        "\n",
        "\n",
        "  def validation_epoch_end(self,outputs):\n",
        "    print(outputs)\n",
        "    # for x in outputs:\n",
        "    # print(x.keys())  # Check the dictionary keys to ensure 'val_loss' is present\n",
        "    # print(x['val_loss'].shape)  # Inspect the shape of the 'val_loss' tensor\n",
        "\n",
        "    # device = outputs[0]['val_loss'].device\n",
        "    # print(device)\n",
        "    batch_losses=[x['val_loss'] for x in outputs]\n",
        "    epoch_loss=torch.stack(batch_losses).mean()\n",
        "    batch_accs=[x['val_acc'] for x in outputs]\n",
        "    epoch_acc=torch.stack(batch_accs).mean()\n",
        "    return [{'val_loss':epoch_loss.item(),'val_acc':epoch_acc.item()}]\n",
        "\n",
        "  def epoch_end(self,epoch,result):\n",
        "    print(\"Epoch[{}],val_loss{:.4f},val_acc{:.4f}\".format(epoch,result['val_loss'],result['val_acc']))\n"
      ],
      "metadata": {
        "id": "rha3Lxz27Fng"
      },
      "execution_count": null,
      "outputs": []
    },
    {
      "cell_type": "code",
      "source": [
        "@torch.no_grad()\n",
        "def evaluate(model,val_loader):\n",
        "  model.eval()\n",
        "  outputs=[model.validation_step(batch) for batch in val_loader]\n",
        "  return model.validation_epoch_end(outputs)\n",
        "\n",
        "def fit(epochs,lr,model,train_loader,val_loader,opt_func=torch.optim.SGD):\n",
        "  history=[]\n",
        "  optimizer=opt_func(model.parameters(),lr)\n",
        "  for epoch in range(epochs):\n",
        "    # Training phase\n",
        "    for batch in train_loader:\n",
        "      loss=model.training_step(batch)\n",
        "      loss.backward()\n",
        "      # gradients of 2nd layer and calculate the first layer:backpropagation\n",
        "      optimizer.step()\n",
        "      optimizer.zero_grad()\n",
        "      result=evaluate(model,val_loader)\n",
        "      model.validation_epoch_end(result)\n",
        "      history.append(result)\n",
        "  return history"
      ],
      "metadata": {
        "id": "6vNJGSqbTf1R"
      },
      "execution_count": null,
      "outputs": []
    },
    {
      "cell_type": "markdown",
      "source": [
        "Before we train the model,we need to ensure that the data and models parameters (weights and biases) are on same device.----\n",
        "to_device use hoga!"
      ],
      "metadata": {
        "id": "XEWMTpreWp2p"
      }
    },
    {
      "cell_type": "code",
      "source": [
        "model=MnistModel(input_size,hidden_size=hidden_size,out_size=10)\n",
        "# to_device(model,device)"
      ],
      "metadata": {
        "id": "SM6GFVTiV7O1"
      },
      "execution_count": null,
      "outputs": []
    },
    {
      "cell_type": "code",
      "source": [
        "history=[evaluate(model,val_loader)]\n",
        "history\n",
        "device"
      ],
      "metadata": {
        "id": "yDlMOe9gWnEh",
        "colab": {
          "base_uri": "https://localhost:8080/",
          "height": 359
        },
        "outputId": "d18eb287-c59a-45a2-cfb7-fb3abb2b0e52"
      },
      "execution_count": null,
      "outputs": [
        {
          "output_type": "stream",
          "name": "stdout",
          "text": [
            "[{'val_loss': tensor(2.3168), 'val_acc': 0.0625}, {'val_loss': tensor(2.3030), 'val_acc': 0.046875}, {'val_loss': tensor(2.3230), 'val_acc': 0.0703125}, {'val_loss': tensor(2.3151), 'val_acc': 0.1015625}, {'val_loss': tensor(2.3065), 'val_acc': 0.1171875}, {'val_loss': tensor(2.3145), 'val_acc': 0.0703125}, {'val_loss': tensor(2.3104), 'val_acc': 0.09375}, {'val_loss': tensor(2.2986), 'val_acc': 0.0546875}, {'val_loss': tensor(2.3114), 'val_acc': 0.109375}, {'val_loss': tensor(2.2999), 'val_acc': 0.0625}, {'val_loss': tensor(2.3052), 'val_acc': 0.09375}, {'val_loss': tensor(2.3109), 'val_acc': 0.0390625}, {'val_loss': tensor(2.2953), 'val_acc': 0.1015625}, {'val_loss': tensor(2.3139), 'val_acc': 0.1015625}, {'val_loss': tensor(2.3188), 'val_acc': 0.0625}, {'val_loss': tensor(2.3026), 'val_acc': 0.1015625}, {'val_loss': tensor(2.3327), 'val_acc': 0.0625}, {'val_loss': tensor(2.2930), 'val_acc': 0.140625}, {'val_loss': tensor(2.2815), 'val_acc': 0.140625}, {'val_loss': tensor(2.2957), 'val_acc': 0.125}, {'val_loss': tensor(2.2984), 'val_acc': 0.1171875}, {'val_loss': tensor(2.2934), 'val_acc': 0.078125}, {'val_loss': tensor(2.3034), 'val_acc': 0.125}, {'val_loss': tensor(2.3120), 'val_acc': 0.0546875}, {'val_loss': tensor(2.3020), 'val_acc': 0.140625}, {'val_loss': tensor(2.3062), 'val_acc': 0.109375}, {'val_loss': tensor(2.2879), 'val_acc': 0.109375}, {'val_loss': tensor(2.2715), 'val_acc': 0.140625}, {'val_loss': tensor(2.2995), 'val_acc': 0.1015625}, {'val_loss': tensor(2.3121), 'val_acc': 0.0859375}, {'val_loss': tensor(2.2892), 'val_acc': 0.1171875}, {'val_loss': tensor(2.2893), 'val_acc': 0.0703125}, {'val_loss': tensor(2.2933), 'val_acc': 0.0859375}, {'val_loss': tensor(2.3112), 'val_acc': 0.1171875}, {'val_loss': tensor(2.3212), 'val_acc': 0.0625}, {'val_loss': tensor(2.3011), 'val_acc': 0.0859375}, {'val_loss': tensor(2.2972), 'val_acc': 0.1171875}, {'val_loss': tensor(2.3207), 'val_acc': 0.0703125}, {'val_loss': tensor(2.3146), 'val_acc': 0.0625}, {'val_loss': tensor(2.2986), 'val_acc': 0.0859375}, {'val_loss': tensor(2.2870), 'val_acc': 0.1328125}, {'val_loss': tensor(2.3172), 'val_acc': 0.1171875}, {'val_loss': tensor(2.2819), 'val_acc': 0.125}, {'val_loss': tensor(2.3225), 'val_acc': 0.0859375}, {'val_loss': tensor(2.2758), 'val_acc': 0.171875}, {'val_loss': tensor(2.2920), 'val_acc': 0.1875}, {'val_loss': tensor(2.3054), 'val_acc': 0.0703125}, {'val_loss': tensor(2.3088), 'val_acc': 0.078125}, {'val_loss': tensor(2.3145), 'val_acc': 0.0703125}, {'val_loss': tensor(2.3237), 'val_acc': 0.0546875}, {'val_loss': tensor(2.3121), 'val_acc': 0.0859375}, {'val_loss': tensor(2.2927), 'val_acc': 0.109375}, {'val_loss': tensor(2.3201), 'val_acc': 0.0625}, {'val_loss': tensor(2.3090), 'val_acc': 0.09375}, {'val_loss': tensor(2.3099), 'val_acc': 0.0625}, {'val_loss': tensor(2.3017), 'val_acc': 0.1328125}, {'val_loss': tensor(2.2807), 'val_acc': 0.1640625}, {'val_loss': tensor(2.2908), 'val_acc': 0.1328125}, {'val_loss': tensor(2.3250), 'val_acc': 0.0703125}, {'val_loss': tensor(2.3002), 'val_acc': 0.109375}, {'val_loss': tensor(2.3009), 'val_acc': 0.0859375}, {'val_loss': tensor(2.3231), 'val_acc': 0.03125}, {'val_loss': tensor(2.2853), 'val_acc': 0.1171875}, {'val_loss': tensor(2.2899), 'val_acc': 0.109375}, {'val_loss': tensor(2.2838), 'val_acc': 0.0859375}, {'val_loss': tensor(2.2951), 'val_acc': 0.125}, {'val_loss': tensor(2.3169), 'val_acc': 0.125}, {'val_loss': tensor(2.3015), 'val_acc': 0.09375}, {'val_loss': tensor(2.2972), 'val_acc': 0.1015625}, {'val_loss': tensor(2.3067), 'val_acc': 0.078125}, {'val_loss': tensor(2.3067), 'val_acc': 0.109375}, {'val_loss': tensor(2.2908), 'val_acc': 0.0859375}, {'val_loss': tensor(2.2921), 'val_acc': 0.0625}, {'val_loss': tensor(2.3044), 'val_acc': 0.109375}, {'val_loss': tensor(2.3047), 'val_acc': 0.0625}, {'val_loss': tensor(2.3120), 'val_acc': 0.109375}, {'val_loss': tensor(2.2827), 'val_acc': 0.1171875}, {'val_loss': tensor(2.3261), 'val_acc': 0.0703125}, {'val_loss': tensor(2.3116), 'val_acc': 0.0}]\n"
          ]
        },
        {
          "output_type": "error",
          "ename": "TypeError",
          "evalue": "expected Tensor as element 0 in argument 0, but got float",
          "traceback": [
            "\u001b[0;31m---------------------------------------------------------------------------\u001b[0m",
            "\u001b[0;31mTypeError\u001b[0m                                 Traceback (most recent call last)",
            "\u001b[0;32m<ipython-input-160-98f6859ba89c>\u001b[0m in \u001b[0;36m<cell line: 0>\u001b[0;34m()\u001b[0m\n\u001b[0;32m----> 1\u001b[0;31m \u001b[0mhistory\u001b[0m\u001b[0;34m=\u001b[0m\u001b[0;34m[\u001b[0m\u001b[0mevaluate\u001b[0m\u001b[0;34m(\u001b[0m\u001b[0mmodel\u001b[0m\u001b[0;34m,\u001b[0m\u001b[0mval_loader\u001b[0m\u001b[0;34m)\u001b[0m\u001b[0;34m]\u001b[0m\u001b[0;34m\u001b[0m\u001b[0;34m\u001b[0m\u001b[0m\n\u001b[0m\u001b[1;32m      2\u001b[0m \u001b[0mhistory\u001b[0m\u001b[0;34m\u001b[0m\u001b[0;34m\u001b[0m\u001b[0m\n\u001b[1;32m      3\u001b[0m \u001b[0mdevice\u001b[0m\u001b[0;34m\u001b[0m\u001b[0;34m\u001b[0m\u001b[0m\n",
            "\u001b[0;32m/usr/local/lib/python3.11/dist-packages/torch/utils/_contextlib.py\u001b[0m in \u001b[0;36mdecorate_context\u001b[0;34m(*args, **kwargs)\u001b[0m\n\u001b[1;32m    114\u001b[0m     \u001b[0;32mdef\u001b[0m \u001b[0mdecorate_context\u001b[0m\u001b[0;34m(\u001b[0m\u001b[0;34m*\u001b[0m\u001b[0margs\u001b[0m\u001b[0;34m,\u001b[0m \u001b[0;34m**\u001b[0m\u001b[0mkwargs\u001b[0m\u001b[0;34m)\u001b[0m\u001b[0;34m:\u001b[0m\u001b[0;34m\u001b[0m\u001b[0;34m\u001b[0m\u001b[0m\n\u001b[1;32m    115\u001b[0m         \u001b[0;32mwith\u001b[0m \u001b[0mctx_factory\u001b[0m\u001b[0;34m(\u001b[0m\u001b[0;34m)\u001b[0m\u001b[0;34m:\u001b[0m\u001b[0;34m\u001b[0m\u001b[0;34m\u001b[0m\u001b[0m\n\u001b[0;32m--> 116\u001b[0;31m             \u001b[0;32mreturn\u001b[0m \u001b[0mfunc\u001b[0m\u001b[0;34m(\u001b[0m\u001b[0;34m*\u001b[0m\u001b[0margs\u001b[0m\u001b[0;34m,\u001b[0m \u001b[0;34m**\u001b[0m\u001b[0mkwargs\u001b[0m\u001b[0;34m)\u001b[0m\u001b[0;34m\u001b[0m\u001b[0;34m\u001b[0m\u001b[0m\n\u001b[0m\u001b[1;32m    117\u001b[0m \u001b[0;34m\u001b[0m\u001b[0m\n\u001b[1;32m    118\u001b[0m     \u001b[0;32mreturn\u001b[0m \u001b[0mdecorate_context\u001b[0m\u001b[0;34m\u001b[0m\u001b[0;34m\u001b[0m\u001b[0m\n",
            "\u001b[0;32m<ipython-input-158-492728b8f028>\u001b[0m in \u001b[0;36mevaluate\u001b[0;34m(model, val_loader)\u001b[0m\n\u001b[1;32m      3\u001b[0m   \u001b[0mmodel\u001b[0m\u001b[0;34m.\u001b[0m\u001b[0meval\u001b[0m\u001b[0;34m(\u001b[0m\u001b[0;34m)\u001b[0m\u001b[0;34m\u001b[0m\u001b[0;34m\u001b[0m\u001b[0m\n\u001b[1;32m      4\u001b[0m   \u001b[0moutputs\u001b[0m\u001b[0;34m=\u001b[0m\u001b[0;34m[\u001b[0m\u001b[0mmodel\u001b[0m\u001b[0;34m.\u001b[0m\u001b[0mvalidation_step\u001b[0m\u001b[0;34m(\u001b[0m\u001b[0mbatch\u001b[0m\u001b[0;34m)\u001b[0m \u001b[0;32mfor\u001b[0m \u001b[0mbatch\u001b[0m \u001b[0;32min\u001b[0m \u001b[0mval_loader\u001b[0m\u001b[0;34m]\u001b[0m\u001b[0;34m\u001b[0m\u001b[0;34m\u001b[0m\u001b[0m\n\u001b[0;32m----> 5\u001b[0;31m   \u001b[0;32mreturn\u001b[0m \u001b[0mmodel\u001b[0m\u001b[0;34m.\u001b[0m\u001b[0mvalidation_epoch_end\u001b[0m\u001b[0;34m(\u001b[0m\u001b[0moutputs\u001b[0m\u001b[0;34m)\u001b[0m\u001b[0;34m\u001b[0m\u001b[0;34m\u001b[0m\u001b[0m\n\u001b[0m\u001b[1;32m      6\u001b[0m \u001b[0;34m\u001b[0m\u001b[0m\n\u001b[1;32m      7\u001b[0m \u001b[0;32mdef\u001b[0m \u001b[0mfit\u001b[0m\u001b[0;34m(\u001b[0m\u001b[0mepochs\u001b[0m\u001b[0;34m,\u001b[0m\u001b[0mlr\u001b[0m\u001b[0;34m,\u001b[0m\u001b[0mmodel\u001b[0m\u001b[0;34m,\u001b[0m\u001b[0mtrain_loader\u001b[0m\u001b[0;34m,\u001b[0m\u001b[0mval_loader\u001b[0m\u001b[0;34m,\u001b[0m\u001b[0mopt_func\u001b[0m\u001b[0;34m=\u001b[0m\u001b[0mtorch\u001b[0m\u001b[0;34m.\u001b[0m\u001b[0moptim\u001b[0m\u001b[0;34m.\u001b[0m\u001b[0mSGD\u001b[0m\u001b[0;34m)\u001b[0m\u001b[0;34m:\u001b[0m\u001b[0;34m\u001b[0m\u001b[0;34m\u001b[0m\u001b[0m\n",
            "\u001b[0;32m<ipython-input-153-3433df4134b5>\u001b[0m in \u001b[0;36mvalidation_epoch_end\u001b[0;34m(self, outputs)\u001b[0m\n\u001b[1;32m     48\u001b[0m     \u001b[0mepoch_loss\u001b[0m\u001b[0;34m=\u001b[0m\u001b[0mtorch\u001b[0m\u001b[0;34m.\u001b[0m\u001b[0mstack\u001b[0m\u001b[0;34m(\u001b[0m\u001b[0mbatch_losses\u001b[0m\u001b[0;34m)\u001b[0m\u001b[0;34m.\u001b[0m\u001b[0mmean\u001b[0m\u001b[0;34m(\u001b[0m\u001b[0;34m)\u001b[0m\u001b[0;34m\u001b[0m\u001b[0;34m\u001b[0m\u001b[0m\n\u001b[1;32m     49\u001b[0m     \u001b[0mbatch_accs\u001b[0m\u001b[0;34m=\u001b[0m\u001b[0;34m[\u001b[0m\u001b[0mx\u001b[0m\u001b[0;34m[\u001b[0m\u001b[0;34m'val_acc'\u001b[0m\u001b[0;34m]\u001b[0m \u001b[0;32mfor\u001b[0m \u001b[0mx\u001b[0m \u001b[0;32min\u001b[0m \u001b[0moutputs\u001b[0m\u001b[0;34m]\u001b[0m\u001b[0;34m\u001b[0m\u001b[0;34m\u001b[0m\u001b[0m\n\u001b[0;32m---> 50\u001b[0;31m     \u001b[0mepoch_acc\u001b[0m\u001b[0;34m=\u001b[0m\u001b[0mtorch\u001b[0m\u001b[0;34m.\u001b[0m\u001b[0mstack\u001b[0m\u001b[0;34m(\u001b[0m\u001b[0mbatch_accs\u001b[0m\u001b[0;34m)\u001b[0m\u001b[0;34m.\u001b[0m\u001b[0mmean\u001b[0m\u001b[0;34m(\u001b[0m\u001b[0;34m)\u001b[0m\u001b[0;34m\u001b[0m\u001b[0;34m\u001b[0m\u001b[0m\n\u001b[0m\u001b[1;32m     51\u001b[0m     \u001b[0;32mreturn\u001b[0m \u001b[0;34m[\u001b[0m\u001b[0;34m{\u001b[0m\u001b[0;34m'val_loss'\u001b[0m\u001b[0;34m:\u001b[0m\u001b[0mepoch_loss\u001b[0m\u001b[0;34m.\u001b[0m\u001b[0mitem\u001b[0m\u001b[0;34m(\u001b[0m\u001b[0;34m)\u001b[0m\u001b[0;34m,\u001b[0m\u001b[0;34m'val_acc'\u001b[0m\u001b[0;34m:\u001b[0m\u001b[0mepoch_acc\u001b[0m\u001b[0;34m.\u001b[0m\u001b[0mitem\u001b[0m\u001b[0;34m(\u001b[0m\u001b[0;34m)\u001b[0m\u001b[0;34m}\u001b[0m\u001b[0;34m]\u001b[0m\u001b[0;34m\u001b[0m\u001b[0;34m\u001b[0m\u001b[0m\n\u001b[1;32m     52\u001b[0m \u001b[0;34m\u001b[0m\u001b[0m\n",
            "\u001b[0;31mTypeError\u001b[0m: expected Tensor as element 0 in argument 0, but got float"
          ]
        }
      ]
    },
    {
      "cell_type": "code",
      "source": [
        "import torch\n",
        "import torch.nn as nn\n",
        "import torch.nn.functional as F\n",
        "import torch.optim as optim\n",
        "\n",
        "class MnistModel(nn.Module):\n",
        "    def __init__(self, in_size, hidden_size, out_size):\n",
        "        super().__init__()\n",
        "        # Hidden layer\n",
        "        self.linear1 = nn.Linear(in_size, hidden_size)\n",
        "        # Output layer\n",
        "        self.linear2 = nn.Linear(hidden_size, out_size)\n",
        "\n",
        "    def forward(self, xb):\n",
        "        # Flatten the image tensors\n",
        "        xb = xb.view(xb.size(0), -1)\n",
        "        # Get intermediate outputs using hidden layers\n",
        "        out = self.linear1(xb)\n",
        "        # Apply activation function\n",
        "        out = F.relu(out)\n",
        "        # Get predictions using output layer\n",
        "        out = self.linear2(out)\n",
        "        return out\n",
        "\n",
        "    def training_step(self, batch):\n",
        "        images, labels = batch\n",
        "        out = self(images)\n",
        "        loss = F.cross_entropy(out, labels)\n",
        "        return loss\n",
        "\n",
        "    def validation_step(self, batch):\n",
        "        images, labels = batch\n",
        "        out = self(images)\n",
        "        loss = F.cross_entropy(out, labels)\n",
        "        acc = accuracy(out, labels)\n",
        "        return {'val_loss': loss.detach(), 'val_acc': acc}\n",
        "\n",
        "    def validation_epoch_end(self, outputs):\n",
        "        batch_losses = [x['val_loss'] for x in outputs]\n",
        "        epoch_loss = torch.stack(batch_losses).mean()\n",
        "        batch_accs = [x['val_acc'] for x in outputs]\n",
        "        epoch_acc = torch.stack(batch_accs).mean()\n",
        "        return {'val_loss': epoch_loss, 'val_acc': epoch_acc}\n",
        "\n",
        "    def epoch_end(self, epoch, result):\n",
        "        print(f\"Epoch[{epoch}], val_loss: {result['val_loss']:.4f}, val_acc: {result['val_acc']:.4f}\")\n",
        "\n",
        "def evaluate(model, val_loader, device):\n",
        "    model.eval()  # Set model to evaluation mode\n",
        "    outputs = []\n",
        "    with torch.no_grad():\n",
        "        for batch in val_loader:\n",
        "            images, labels = batch\n",
        "            images, labels = images.to(device), labels.to(device)\n",
        "            output = model.validation_step((images, labels))\n",
        "            outputs.append(output)\n",
        "    return model.validation_epoch_end(outputs)\n",
        "\n",
        "def fit(epochs, lr, model, train_loader, val_loader, device, opt_func=optim.SGD):\n",
        "    history = []\n",
        "    optimizer = opt_func(model.parameters(), lr)\n",
        "    model = model.to(device)  # Move model to the appropriate device\n",
        "\n",
        "    for epoch in range(epochs):\n",
        "        model.train()  # Set model to training mode\n",
        "        for batch in train_loader:\n",
        "            images, labels = batch\n",
        "            images, labels = images.to(device), labels.to(device)\n",
        "\n",
        "            # Training step\n",
        "            loss = model.training_step((images, labels))\n",
        "            loss.backward()\n",
        "            optimizer.step()\n",
        "            optimizer.zero_grad()\n",
        "\n",
        "        # After each epoch, evaluate the model\n",
        "        result = evaluate(model, val_loader, device)\n",
        "        model.epoch_end(epoch, result)\n",
        "        history.append(result)\n",
        "    return history\n",
        "\n",
        "# Device configuration\n",
        "device = torch.device(\"cuda\" if torch.cuda.is_available() else \"cpu\")\n",
        "\n",
        "# Assuming `model`, `train_loader`, and `val_loader` are defined elsewhere\n",
        "history = fit(5, 0.5, MnistModel(784, 128, 10), train_loader, val_loader, device)\n"
      ],
      "metadata": {
        "colab": {
          "base_uri": "https://localhost:8080/",
          "height": 321
        },
        "id": "WvcL8Y9E8kc3",
        "outputId": "0e410bc0-63b6-4b6a-ca6b-60e7b585c822"
      },
      "execution_count": null,
      "outputs": [
        {
          "output_type": "error",
          "ename": "TypeError",
          "evalue": "expected Tensor as element 0 in argument 0, but got float",
          "traceback": [
            "\u001b[0;31m---------------------------------------------------------------------------\u001b[0m",
            "\u001b[0;31mTypeError\u001b[0m                                 Traceback (most recent call last)",
            "\u001b[0;32m<ipython-input-161-61d3fb22c082>\u001b[0m in \u001b[0;36m<cell line: 0>\u001b[0;34m()\u001b[0m\n\u001b[1;32m     84\u001b[0m \u001b[0;34m\u001b[0m\u001b[0m\n\u001b[1;32m     85\u001b[0m \u001b[0;31m# Assuming `model`, `train_loader`, and `val_loader` are defined elsewhere\u001b[0m\u001b[0;34m\u001b[0m\u001b[0;34m\u001b[0m\u001b[0m\n\u001b[0;32m---> 86\u001b[0;31m \u001b[0mhistory\u001b[0m \u001b[0;34m=\u001b[0m \u001b[0mfit\u001b[0m\u001b[0;34m(\u001b[0m\u001b[0;36m5\u001b[0m\u001b[0;34m,\u001b[0m \u001b[0;36m0.5\u001b[0m\u001b[0;34m,\u001b[0m \u001b[0mMnistModel\u001b[0m\u001b[0;34m(\u001b[0m\u001b[0;36m784\u001b[0m\u001b[0;34m,\u001b[0m \u001b[0;36m128\u001b[0m\u001b[0;34m,\u001b[0m \u001b[0;36m10\u001b[0m\u001b[0;34m)\u001b[0m\u001b[0;34m,\u001b[0m \u001b[0mtrain_loader\u001b[0m\u001b[0;34m,\u001b[0m \u001b[0mval_loader\u001b[0m\u001b[0;34m,\u001b[0m \u001b[0mdevice\u001b[0m\u001b[0;34m)\u001b[0m\u001b[0;34m\u001b[0m\u001b[0;34m\u001b[0m\u001b[0m\n\u001b[0m",
            "\u001b[0;32m<ipython-input-161-61d3fb22c082>\u001b[0m in \u001b[0;36mfit\u001b[0;34m(epochs, lr, model, train_loader, val_loader, device, opt_func)\u001b[0m\n\u001b[1;32m     75\u001b[0m \u001b[0;34m\u001b[0m\u001b[0m\n\u001b[1;32m     76\u001b[0m         \u001b[0;31m# After each epoch, evaluate the model\u001b[0m\u001b[0;34m\u001b[0m\u001b[0;34m\u001b[0m\u001b[0m\n\u001b[0;32m---> 77\u001b[0;31m         \u001b[0mresult\u001b[0m \u001b[0;34m=\u001b[0m \u001b[0mevaluate\u001b[0m\u001b[0;34m(\u001b[0m\u001b[0mmodel\u001b[0m\u001b[0;34m,\u001b[0m \u001b[0mval_loader\u001b[0m\u001b[0;34m,\u001b[0m \u001b[0mdevice\u001b[0m\u001b[0;34m)\u001b[0m\u001b[0;34m\u001b[0m\u001b[0;34m\u001b[0m\u001b[0m\n\u001b[0m\u001b[1;32m     78\u001b[0m         \u001b[0mmodel\u001b[0m\u001b[0;34m.\u001b[0m\u001b[0mepoch_end\u001b[0m\u001b[0;34m(\u001b[0m\u001b[0mepoch\u001b[0m\u001b[0;34m,\u001b[0m \u001b[0mresult\u001b[0m\u001b[0;34m)\u001b[0m\u001b[0;34m\u001b[0m\u001b[0;34m\u001b[0m\u001b[0m\n\u001b[1;32m     79\u001b[0m         \u001b[0mhistory\u001b[0m\u001b[0;34m.\u001b[0m\u001b[0mappend\u001b[0m\u001b[0;34m(\u001b[0m\u001b[0mresult\u001b[0m\u001b[0;34m)\u001b[0m\u001b[0;34m\u001b[0m\u001b[0;34m\u001b[0m\u001b[0m\n",
            "\u001b[0;32m<ipython-input-161-61d3fb22c082>\u001b[0m in \u001b[0;36mevaluate\u001b[0;34m(model, val_loader, device)\u001b[0m\n\u001b[1;32m     55\u001b[0m             \u001b[0moutput\u001b[0m \u001b[0;34m=\u001b[0m \u001b[0mmodel\u001b[0m\u001b[0;34m.\u001b[0m\u001b[0mvalidation_step\u001b[0m\u001b[0;34m(\u001b[0m\u001b[0;34m(\u001b[0m\u001b[0mimages\u001b[0m\u001b[0;34m,\u001b[0m \u001b[0mlabels\u001b[0m\u001b[0;34m)\u001b[0m\u001b[0;34m)\u001b[0m\u001b[0;34m\u001b[0m\u001b[0;34m\u001b[0m\u001b[0m\n\u001b[1;32m     56\u001b[0m             \u001b[0moutputs\u001b[0m\u001b[0;34m.\u001b[0m\u001b[0mappend\u001b[0m\u001b[0;34m(\u001b[0m\u001b[0moutput\u001b[0m\u001b[0;34m)\u001b[0m\u001b[0;34m\u001b[0m\u001b[0;34m\u001b[0m\u001b[0m\n\u001b[0;32m---> 57\u001b[0;31m     \u001b[0;32mreturn\u001b[0m \u001b[0mmodel\u001b[0m\u001b[0;34m.\u001b[0m\u001b[0mvalidation_epoch_end\u001b[0m\u001b[0;34m(\u001b[0m\u001b[0moutputs\u001b[0m\u001b[0;34m)\u001b[0m\u001b[0;34m\u001b[0m\u001b[0;34m\u001b[0m\u001b[0m\n\u001b[0m\u001b[1;32m     58\u001b[0m \u001b[0;34m\u001b[0m\u001b[0m\n\u001b[1;32m     59\u001b[0m \u001b[0;32mdef\u001b[0m \u001b[0mfit\u001b[0m\u001b[0;34m(\u001b[0m\u001b[0mepochs\u001b[0m\u001b[0;34m,\u001b[0m \u001b[0mlr\u001b[0m\u001b[0;34m,\u001b[0m \u001b[0mmodel\u001b[0m\u001b[0;34m,\u001b[0m \u001b[0mtrain_loader\u001b[0m\u001b[0;34m,\u001b[0m \u001b[0mval_loader\u001b[0m\u001b[0;34m,\u001b[0m \u001b[0mdevice\u001b[0m\u001b[0;34m,\u001b[0m \u001b[0mopt_func\u001b[0m\u001b[0;34m=\u001b[0m\u001b[0moptim\u001b[0m\u001b[0;34m.\u001b[0m\u001b[0mSGD\u001b[0m\u001b[0;34m)\u001b[0m\u001b[0;34m:\u001b[0m\u001b[0;34m\u001b[0m\u001b[0;34m\u001b[0m\u001b[0m\n",
            "\u001b[0;32m<ipython-input-161-61d3fb22c082>\u001b[0m in \u001b[0;36mvalidation_epoch_end\u001b[0;34m(self, outputs)\u001b[0m\n\u001b[1;32m     40\u001b[0m         \u001b[0mepoch_loss\u001b[0m \u001b[0;34m=\u001b[0m \u001b[0mtorch\u001b[0m\u001b[0;34m.\u001b[0m\u001b[0mstack\u001b[0m\u001b[0;34m(\u001b[0m\u001b[0mbatch_losses\u001b[0m\u001b[0;34m)\u001b[0m\u001b[0;34m.\u001b[0m\u001b[0mmean\u001b[0m\u001b[0;34m(\u001b[0m\u001b[0;34m)\u001b[0m\u001b[0;34m\u001b[0m\u001b[0;34m\u001b[0m\u001b[0m\n\u001b[1;32m     41\u001b[0m         \u001b[0mbatch_accs\u001b[0m \u001b[0;34m=\u001b[0m \u001b[0;34m[\u001b[0m\u001b[0mx\u001b[0m\u001b[0;34m[\u001b[0m\u001b[0;34m'val_acc'\u001b[0m\u001b[0;34m]\u001b[0m \u001b[0;32mfor\u001b[0m \u001b[0mx\u001b[0m \u001b[0;32min\u001b[0m \u001b[0moutputs\u001b[0m\u001b[0;34m]\u001b[0m\u001b[0;34m\u001b[0m\u001b[0;34m\u001b[0m\u001b[0m\n\u001b[0;32m---> 42\u001b[0;31m         \u001b[0mepoch_acc\u001b[0m \u001b[0;34m=\u001b[0m \u001b[0mtorch\u001b[0m\u001b[0;34m.\u001b[0m\u001b[0mstack\u001b[0m\u001b[0;34m(\u001b[0m\u001b[0mbatch_accs\u001b[0m\u001b[0;34m)\u001b[0m\u001b[0;34m.\u001b[0m\u001b[0mmean\u001b[0m\u001b[0;34m(\u001b[0m\u001b[0;34m)\u001b[0m\u001b[0;34m\u001b[0m\u001b[0;34m\u001b[0m\u001b[0m\n\u001b[0m\u001b[1;32m     43\u001b[0m         \u001b[0;32mreturn\u001b[0m \u001b[0;34m{\u001b[0m\u001b[0;34m'val_loss'\u001b[0m\u001b[0;34m:\u001b[0m \u001b[0mepoch_loss\u001b[0m\u001b[0;34m,\u001b[0m \u001b[0;34m'val_acc'\u001b[0m\u001b[0;34m:\u001b[0m \u001b[0mepoch_acc\u001b[0m\u001b[0;34m}\u001b[0m\u001b[0;34m\u001b[0m\u001b[0;34m\u001b[0m\u001b[0m\n\u001b[1;32m     44\u001b[0m \u001b[0;34m\u001b[0m\u001b[0m\n",
            "\u001b[0;31mTypeError\u001b[0m: expected Tensor as element 0 in argument 0, but got float"
          ]
        }
      ]
    },
    {
      "cell_type": "code",
      "source": [
        "import torch\n",
        "import torch.nn as nn\n",
        "import torch.nn.functional as F\n",
        "import torch.optim as optim\n",
        "\n",
        "# Define the Model Class\n",
        "class MnistModel(nn.Module):\n",
        "    def __init__(self, in_size, hidden_size, out_size):\n",
        "        super().__init__()\n",
        "        # Hidden layer\n",
        "        self.linear1 = nn.Linear(in_size, hidden_size)\n",
        "        # Output layer\n",
        "        self.linear2 = nn.Linear(hidden_size, out_size)\n",
        "\n",
        "    def forward(self, xb):\n",
        "        # Flatten the image tensors\n",
        "        xb = xb.view(xb.size(0), -1)\n",
        "        # Get intermediate outputs using hidden layers\n",
        "        out = self.linear1(xb)\n",
        "        # Apply activation function\n",
        "        out = F.relu(out)\n",
        "        # Get predictions using output layer\n",
        "        out = self.linear2(out)\n",
        "        return out\n",
        "\n",
        "    def training_step(self, batch):\n",
        "        images, labels = batch\n",
        "        out = self(images)\n",
        "        loss = F.cross_entropy(out, labels)  # Tensor loss\n",
        "        return loss\n",
        "\n",
        "    def validation_step(self, batch):\n",
        "        images, labels = batch\n",
        "        out = self(images)\n",
        "        loss = F.cross_entropy(out, labels)  # Tensor loss\n",
        "        acc = accuracy(out, labels)  # Float accuracy\n",
        "        return {'val_loss': loss.detach(), 'val_acc': acc}  # Ensure returning tensors\n",
        "\n",
        "    def validation_epoch_end(self, outputs):\n",
        "        # Ensure that we are stacking Tensors, not floats\n",
        "        batch_losses = [x['val_loss'] for x in outputs]\n",
        "        epoch_loss = torch.stack(batch_losses).mean()  # Tensor operation\n",
        "\n",
        "        batch_accs = [x['val_acc'] for x in outputs]\n",
        "        epoch_acc = torch.tensor(batch_accs).mean()  # Convert accuracies to tensor and compute mean\n",
        "\n",
        "        return {'val_loss': epoch_loss, 'val_acc': epoch_acc}  # Return tensors\n",
        "\n",
        "    def epoch_end(self, epoch, result):\n",
        "        print(f\"Epoch[{epoch}], val_loss: {result['val_loss']:.4f}, val_acc: {result['val_acc']:.4f}\")\n",
        "\n",
        "\n",
        "# Accuracy function for calculating accuracy\n",
        "def accuracy(out, labels):\n",
        "    _, preds = torch.max(out, dim=1)  # Get the predicted labels\n",
        "    correct = (preds == labels).sum().item()  # Count correct predictions\n",
        "    return correct / labels.size(0)  # Return accuracy as a float\n",
        "\n",
        "# Evaluate function that calls validation_step and validation_epoch_end\n",
        "def evaluate(model, val_loader, device):\n",
        "    model.eval()  # Set model to evaluation mode\n",
        "    outputs = []\n",
        "    with torch.no_grad():  # Disable gradient tracking during evaluation\n",
        "        for batch in val_loader:\n",
        "            images, labels = batch\n",
        "            images, labels = images.to(device), labels.to(device)\n",
        "            output = model.validation_step((images, labels))\n",
        "            outputs.append(output)\n",
        "    return model.validation_epoch_end(outputs)\n",
        "\n",
        "# Training function that handles model fitting\n",
        "def fit(epochs, lr, model, train_loader, val_loader, device, opt_func=optim.SGD):\n",
        "    history = []\n",
        "    optimizer = opt_func(model.parameters(), lr)\n",
        "    model = model.to(device)  # Move model to the appropriate device\n",
        "\n",
        "    for epoch in range(epochs):\n",
        "        model.train()  # Set model to training mode\n",
        "        for batch in train_loader:\n",
        "            images, labels = batch\n",
        "            images, labels = images.to(device), labels.to(device)\n",
        "\n",
        "            # Training step\n",
        "            loss = model.training_step((images, labels))\n",
        "            loss.backward()\n",
        "            optimizer.step()\n",
        "            optimizer.zero_grad()\n",
        "\n",
        "        # After each epoch, evaluate the model\n",
        "        result = evaluate(model, val_loader, device)\n",
        "        model.epoch_end(epoch, result)\n",
        "        history.append(result)  # Store epoch results\n",
        "\n",
        "    return history\n",
        "\n",
        "\n",
        "# Device configuration (GPU or CPU)\n",
        "device = torch.device(\"cuda\" if torch.cuda.is_available() else \"cpu\")\n",
        "\n",
        "# Assuming you have a model, train_loader, and val_loader\n",
        "# Example: Using MnistModel with 784 input size, 128 hidden size, and 10 output classes for MNIST\n",
        "\n",
        "# Initialize the model with input, hidden, and output sizes\n",
        "model = MnistModel(784, 128, 10)\n",
        "\n",
        "# Assuming `train_loader` and `val_loader` are defined somewhere else\n",
        "history += fit(5, 0.5, model, train_loader, val_loader, device)  # Train the model\n"
      ],
      "metadata": {
        "colab": {
          "base_uri": "https://localhost:8080/"
        },
        "id": "b-csfL9X9Tqf",
        "outputId": "1e25bfda-8fcc-4ac4-ed49-d6faa348cb37"
      },
      "execution_count": null,
      "outputs": [
        {
          "output_type": "stream",
          "name": "stdout",
          "text": [
            "Epoch[0], val_loss: 0.2099, val_acc: 0.9368\n",
            "Epoch[1], val_loss: 0.1399, val_acc: 0.9583\n",
            "Epoch[2], val_loss: 0.1099, val_acc: 0.9683\n",
            "Epoch[3], val_loss: 0.0966, val_acc: 0.9713\n",
            "Epoch[4], val_loss: 0.0898, val_acc: 0.9726\n"
          ]
        }
      ]
    },
    {
      "cell_type": "markdown",
      "source": [
        "Try out learning rate with 0.01(standard ones)..."
      ],
      "metadata": {
        "id": "t033sXzSRBur"
      }
    },
    {
      "cell_type": "code",
      "source": [
        "history=[evaluate(model,val_loader)]\n",
        "history\n",
        "history+=fit(5,0.5,model,train_loader,val_loader)"
      ],
      "metadata": {
        "id": "mzBfs0RwPwWK",
        "colab": {
          "base_uri": "https://localhost:8080/",
          "height": 141
        },
        "outputId": "74cb67ca-97cc-43a2-baf7-8133477c7fb7"
      },
      "execution_count": null,
      "outputs": [
        {
          "output_type": "error",
          "ename": "TypeError",
          "evalue": "fit() missing 1 required positional argument: 'device'",
          "traceback": [
            "\u001b[0;31m---------------------------------------------------------------------------\u001b[0m",
            "\u001b[0;31mTypeError\u001b[0m                                 Traceback (most recent call last)",
            "\u001b[0;32m<ipython-input-162-596f353e274f>\u001b[0m in \u001b[0;36m<cell line: 0>\u001b[0;34m()\u001b[0m\n\u001b[0;32m----> 1\u001b[0;31m \u001b[0mhistory\u001b[0m\u001b[0;34m+=\u001b[0m\u001b[0mfit\u001b[0m\u001b[0;34m(\u001b[0m\u001b[0;36m5\u001b[0m\u001b[0;34m,\u001b[0m\u001b[0;36m0.5\u001b[0m\u001b[0;34m,\u001b[0m\u001b[0mmodel\u001b[0m\u001b[0;34m,\u001b[0m\u001b[0mtrain_loader\u001b[0m\u001b[0;34m,\u001b[0m\u001b[0mval_loader\u001b[0m\u001b[0;34m)\u001b[0m\u001b[0;34m\u001b[0m\u001b[0;34m\u001b[0m\u001b[0m\n\u001b[0m",
            "\u001b[0;31mTypeError\u001b[0m: fit() missing 1 required positional argument: 'device'"
          ]
        }
      ]
    },
    {
      "cell_type": "markdown",
      "source": [
        "96% accuracy is pretty good!\n",
        "\n"
      ],
      "metadata": {
        "id": "IHHos_wpXbkF"
      }
    },
    {
      "cell_type": "code",
      "source": [
        "history+=fit(5,0.1,model,train_loader,val_loader)"
      ],
      "metadata": {
        "id": "1fggb6xXXa80"
      },
      "execution_count": null,
      "outputs": []
    },
    {
      "cell_type": "code",
      "source": [
        "import matplotlib.pyplot as plt\n",
        "%matplotlib inline"
      ],
      "metadata": {
        "id": "HfKSig5cXw5l"
      },
      "execution_count": null,
      "outputs": []
    },
    {
      "cell_type": "code",
      "source": [
        "losses=[x['val_loss'] for x in history]\n",
        "plt.plot(losses,'-x')\n",
        "plt.xlabel('epoch')\n",
        "plt.ylabel('loss')\n",
        "plt.title('loss vs No of epoch')"
      ],
      "metadata": {
        "id": "lbCJBELVX9QU",
        "colab": {
          "base_uri": "https://localhost:8080/",
          "height": 489
        },
        "outputId": "dd1a2bb8-4831-4689-9683-ba69e5dbb52f"
      },
      "execution_count": null,
      "outputs": [
        {
          "output_type": "execute_result",
          "data": {
            "text/plain": [
              "Text(0.5, 1.0, 'loss vs No of epoch')"
            ]
          },
          "metadata": {},
          "execution_count": 166
        },
        {
          "output_type": "display_data",
          "data": {
            "text/plain": [
              "<Figure size 640x480 with 1 Axes>"
            ],
            "image/png": "[encoded data removed]"
          },
          "metadata": {}
        }
      ]
    },
    {
      "cell_type": "code",
      "source": [
        "accuracies=[x['val_acc'] for x in history]\n",
        "plt.plot(accuracies,'-x')\n",
        "plt.xlabel('epoch')\n",
        "plt.ylabel('accuracy')\n",
        "plt.title('Accuracy vs No of Epoch')"
      ],
      "metadata": {
        "id": "wiDSWRGSYZu8",
        "colab": {
          "base_uri": "https://localhost:8080/",
          "height": 489
        },
        "outputId": "3b43c3db-3180-42df-f606-85b83eef2628"
      },
      "execution_count": null,
      "outputs": [
        {
          "output_type": "execute_result",
          "data": {
            "text/plain": [
              "Text(0.5, 1.0, 'Accuracy vs No of Epoch')"
            ]
          },
          "metadata": {},
          "execution_count": 167
        },
        {
          "output_type": "display_data",
          "data": {
            "text/plain": [
              "<Figure size 640x480 with 1 Axes>"
            ],
            "image/png": "[encoded data removed]"
          },
          "metadata": {}
        }
      ]
    },
    {
      "cell_type": "markdown",
      "source": [
        "Our current model outperforms the logistic regression model(86% accuracy) by a high margin.It quickly reaches 97% accuracy.To make model more powerful,more hidden layers need to be add."
      ],
      "metadata": {
        "id": "fBA3m9kPY-a5"
      }
    },
    {
      "cell_type": "code",
      "source": [
        "# SUMMARY"
      ],
      "metadata": {
        "id": "gRnFn2y4ZSqR"
      },
      "execution_count": null,
      "outputs": []
    },
    {
      "cell_type": "code",
      "source": [
        "import torch\n",
        "import torchvision\n",
        "import numpy as np\n",
        "import matplotlib.pyplot as plt\n",
        "import torch.nn as nn\n",
        "import torch.nn.functional as F\n",
        "from torchvision.datasets import FashionMNIST\n",
        "from torchvision.transforms import ToTensor\n",
        "from torchvision.utils import make_grid\n",
        "from torch.utils.data.dataloader import DataLoader\n",
        "from torch.utils.data import random_split"
      ],
      "metadata": {
        "id": "oQl7Skys-D7B"
      },
      "execution_count": null,
      "outputs": []
    },
    {
      "cell_type": "code",
      "source": [
        "dataset=FashionMNIST(root=root,transform=ToTensor(),download=True)"
      ],
      "metadata": {
        "id": "O43bhszI-wJb"
      },
      "execution_count": null,
      "outputs": []
    },
    {
      "cell_type": "code",
      "source": [
        "test_dataset=FashionMNIST(root=root,transform=ToTensor(),download=True)"
      ],
      "metadata": {
        "id": "ixePlPhjAE5l"
      },
      "execution_count": null,
      "outputs": []
    },
    {
      "cell_type": "code",
      "source": [
        "val_size=10000\n",
        "train_size=len(dataset)-val_size\n",
        "train_ds,val_ds=random_split(dataset,(train_size,val_size))\n",
        "len(train_ds)\n",
        "len(val_ds)"
      ],
      "metadata": {
        "id": "WESrqHKFAYGp"
      },
      "execution_count": null,
      "outputs": []
    },
    {
      "cell_type": "code",
      "source": [
        "batch_size=128"
      ],
      "metadata": {
        "id": "iL8R8u1bA2kN"
      },
      "execution_count": null,
      "outputs": []
    },
    {
      "cell_type": "code",
      "source": [
        "train_loader=DataLoader(train_ds,batch_size,shuffle=True,num_workers=2,pin_memory=True)\n",
        "val_loader=DataLoader(val_ds,batch_size*2,num_workers=4,pin_memory=True)"
      ],
      "metadata": {
        "id": "uJUHAC89A59P"
      },
      "execution_count": null,
      "outputs": []
    },
    {
      "cell_type": "code",
      "source": [
        "test_loader=DataLoader(test_dataset,batch_size*2,num_workers=4,pin_memory=True)"
      ],
      "metadata": {
        "id": "xsSQmVr8BIKt"
      },
      "execution_count": null,
      "outputs": []
    },
    {
      "cell_type": "code",
      "source": [
        "for images,labels in train_loader:\n",
        "  print('images.shape:',images.shape)\n",
        "  plt.figure(figsize=(16,8))\n",
        "  plt.axis('off')\n",
        "  plt.imshow(make_grid(images,nrow=16).permute(1,2,0))\n",
        "  break"
      ],
      "metadata": {
        "id": "G7kCIc8uBxOH"
      },
      "execution_count": null,
      "outputs": []
    },
    {
      "cell_type": "code",
      "source": [
        "# Modelling:\n",
        "def accuracy(outputs,labels):\n",
        "  _,preds=torch.max(outputs,dim=1)\n",
        "  return torch.tensor(torch.sum(preds==labels).item()/len(preds))"
      ],
      "metadata": {
        "id": "gykhLjdECfnf"
      },
      "execution_count": null,
      "outputs": []
    },
    {
      "cell_type": "code",
      "source": [
        "class MnistModel(nn.Module):\n",
        "  # FeedForward neural network with one hidden layer\n",
        "  def __init__(self,in_size,out_size):\n",
        "    super().__init__()\n",
        "    self.linear1=nn.Linear(in_size,16)\n",
        "    self.linear2=nn.Linear(16,32)\n",
        "    self.linear3=nn.Linear(32,out_size)\n",
        "\n",
        "  def forward(self,xb):\n",
        "    # Flatten the image tensor\n",
        "    out=xb.view(xb.size(0),-1)\n",
        "    # Get imtermediate outputs using output layers\n",
        "    out=self.linear1(out)\n",
        "    # apply activatio fn\n",
        "    out=F.relu(out)\n",
        "    out=self.linear2(out)\n",
        "    out=F.relu(out)\n",
        "    out=self.linear3(out)\n",
        "    return out\n",
        "\n",
        "  def training_step(self,batch):\n",
        "    images,labels=batch\n",
        "    out=self(images)\n",
        "    loss=F.cross_entropy(out,labels)\n",
        "    return loss\n",
        "\n",
        "  def validation_step(self,batch):\n",
        "    images,labels=batch\n",
        "    out=self(images)\n",
        "    loss=F.cross_entropy(out,labels)\n",
        "    acc=accuracy(out,labels)\n",
        "    return {'val_loss':loss.detach(),'val_acc':acc}\n",
        "\n",
        "  def validation_epoch_end(self,outputs):\n",
        "    batch_losses=[x['val_loss'] for x in outputs]\n",
        "    epoch_loss=torch.stack(batch_losses).mean()\n",
        "    batch_accs=[x['val_acc'] for x in outputs]\n",
        "    epoch_acc=torch.stack(batch_accs).mean()\n",
        "    return {'val_loss':epoch_loss.item(),'val_acc':epoch_acc.item()}\n",
        "\n",
        "  def epoch_end(self,epoch,result):\n",
        "    print(\"Epoch[{}],val_loss:{:.4f},val_acc:{:.4f}\".format(epoch,result['val_loss'],result['val_acc']))"
      ],
      "metadata": {
        "id": "fGH_pFMMDVA1"
      },
      "execution_count": null,
      "outputs": []
    },
    {
      "cell_type": "markdown",
      "source": [
        "view() is a PyTorch function used to reshape a tensor without changing its underlying data. It's similar to NumPy's reshape() function.\n",
        "It returns a new tensor with the same data but with a different shape.\n",
        "\n",
        "\n",
        "xb.size(0): This gives the size of the first dimension of xb, which typically represents the batch size in deep learning models. For example, if xb has a shape of (32, 3, 28, 28) (representing 32 images of size 28x28 with 3 channels), xb.size(0) would return 32.\n",
        "\n",
        "-1: The -1 is a special value that tells PyTorch to infer the size of that dimension based on the other dimensions. In this case, it automatically computes the number of features in the second dimension based on the total number of elements in the tensor."
      ],
      "metadata": {
        "id": "tCxyVpy8Ft48"
      }
    },
    {
      "cell_type": "markdown",
      "source": [
        "In regression tasks, the goal is to predict continuous values (such as house prices, temperatures, or any real number). The key reason why you don’t need an activation function on the final output in regression tasks is that the raw output (the result from the final linear layer) is unbounded, meaning it can take any real value, both positive and negative.\n",
        "\n",
        "If you're doing regression, you don’t need any activation on the final output (keep it raw)."
      ],
      "metadata": {
        "id": "dLJNOhpWG9tw"
      }
    },
    {
      "cell_type": "code",
      "source": [
        "# Using a GPU:\n",
        "torch.cuda.is_available()"
      ],
      "metadata": {
        "id": "1JEl2PkNEQQF"
      },
      "execution_count": null,
      "outputs": []
    },
    {
      "cell_type": "code",
      "source": [
        "def get_deffault_device():\n",
        "  if torch.cuda.is_available():\n",
        "    return torch.device('cuda')\n",
        "  else:\n",
        "    return torch.device('cpu')"
      ],
      "metadata": {
        "id": "CxP-F1HQJRpN"
      },
      "execution_count": null,
      "outputs": []
    },
    {
      "cell_type": "code",
      "source": [
        "device=get_default_device()\n",
        "device"
      ],
      "metadata": {
        "id": "e9ErhYbyMXSb"
      },
      "execution_count": null,
      "outputs": []
    },
    {
      "cell_type": "code",
      "source": [
        "# move tensor to chosen device\n",
        "def to_device(data,device):\n",
        "  if isinstance(data,(list,tuple)):\n",
        "    return [to_device(x,device) for x in data]\n",
        "  return data.to(device,non_blocking=True)"
      ],
      "metadata": {
        "id": "xDVsWS2zMeRV"
      },
      "execution_count": null,
      "outputs": []
    },
    {
      "cell_type": "markdown",
      "source": [
        "By setting non_blocking=True, PyTorch performs the data transfer asynchronously, which allows the CPU to continue executing other operations while the data is being transferred to the GPU."
      ],
      "metadata": {
        "id": "dGwr4kRNNKYa"
      }
    },
    {
      "cell_type": "code",
      "source": [
        "class DeviceDataLoader():\n",
        "  # Wrap a dataloader to move data to a device\n",
        "  def __init__(self,dl,device):\n",
        "    self.dl=dl\n",
        "    self.device=device\n",
        "\n",
        "  def __iter__(self):\n",
        "    # Yield a batch after moving it to device\n",
        "    for b in self.dl:\n",
        "      yield to_device(b,self.device)\n",
        "\n",
        "  def __len__(self):\n",
        "    # Numbers of batches\n",
        "    return len(self.dl)"
      ],
      "metadata": {
        "id": "s06dnrIkNMoU"
      },
      "execution_count": null,
      "outputs": []
    },
    {
      "cell_type": "code",
      "source": [
        "train_loader=DeviceDataLoader(train_loader,device)\n",
        "val_loader=DeviceDataLoader(val_loader,device)\n",
        "test_loader=DeviceDataLoader(test_loader,device)"
      ],
      "metadata": {
        "id": "b9562IjMONni"
      },
      "execution_count": null,
      "outputs": []
    },
    {
      "cell_type": "code",
      "source": [
        "# Training the model"
      ],
      "metadata": {
        "id": "2HBrfvaTPq_P"
      },
      "execution_count": null,
      "outputs": []
    },
    {
      "cell_type": "code",
      "source": [
        "def evaluate(model,val_loader):\n",
        "  outputs=[model.validation_step(batch) for batch in val_loader]\n",
        "  return model.validation_epoch_end(outputs)"
      ],
      "metadata": {
        "id": "vmX_4MtHPw-o"
      },
      "execution_count": null,
      "outputs": []
    },
    {
      "cell_type": "code",
      "source": [
        "def fit(epochs, lr, model, train_loader, val_loader, opt_func=torch.optim.SGD):\n",
        "    history = []  # Initialize history\n",
        "    optimizer = opt_func(model.parameters(), lr)\n",
        "    for epoch in range(epochs):  # This should iterate exactly 'epochs' times\n",
        "        model.train()  # Set model to training mode\n",
        "        for batch in train_loader:\n",
        "            loss = model.training_step(batch)\n",
        "            loss.backward()\n",
        "            optimizer.step()\n",
        "            optimizer.zero_grad()\n",
        "\n",
        "        # Validation Phase\n",
        "        model.eval()  # Set model to evaluation mode\n",
        "        result = evaluate(model, val_loader)  # Evaluate on validation set\n",
        "        model.epoch_end(epoch, result)  # Log epoch results\n",
        "        history.append(result)  # Append results to history\n",
        "\n",
        "    return history\n"
      ],
      "metadata": {
        "id": "t9mgV1QJQJ06"
      },
      "execution_count": null,
      "outputs": []
    },
    {
      "cell_type": "code",
      "source": [
        "input_size=784\n",
        "num_classes=10"
      ],
      "metadata": {
        "id": "oJCcz1nFRX1e"
      },
      "execution_count": null,
      "outputs": []
    },
    {
      "cell_type": "code",
      "source": [
        "model=MnistModel(input_size,num_classes)\n",
        "to_device(model,device)"
      ],
      "metadata": {
        "id": "eogSyXIcR9gp"
      },
      "execution_count": null,
      "outputs": []
    },
    {
      "cell_type": "code",
      "source": [
        "history=[evaluate (model,val_loader)]\n",
        "history"
      ],
      "metadata": {
        "id": "1uEgFxpdSFCC"
      },
      "execution_count": null,
      "outputs": []
    },
    {
      "cell_type": "code",
      "source": [
        "history+=fit(5,0.5,model,train_loader,val_loader)"
      ],
      "metadata": {
        "id": "CR9SfwuSSgyi"
      },
      "execution_count": null,
      "outputs": []
    },
    {
      "cell_type": "markdown",
      "source": [
        "Training Without model.train():\n",
        "\n",
        "If you forget to call model.train(), the model might still perform training, but any layers like dropout or batch normalization will behave as though they are in evaluation mode. This might not stop training, but it will hinder the model's ability to generalize and learn effectively.\n",
        "Evaluation Without model.eval():\n",
        "\n",
        "If you forget to call model.eval() during validation, dropout and batch normalization will still behave as though you're training the model, causing inaccurate or inconsistent evaluation results."
      ],
      "metadata": {
        "id": "EUwHo8rmVq6c"
      }
    },
    {
      "cell_type": "code",
      "source": [
        "history+=fit(5,0.1,model,train_loader,val_loader)"
      ],
      "metadata": {
        "id": "97Yqfe-oTUlj"
      },
      "execution_count": null,
      "outputs": []
    },
    {
      "cell_type": "code",
      "source": [
        "losses=[x['val_loss'] for x in history]\n",
        "plt.plot(losses,'-x')\n",
        "plt.xlabel('epoch')\n",
        "plt.ylabel('loss')\n",
        "plt.title('Epoch vs loss')"
      ],
      "metadata": {
        "id": "u8VkAYvsWLb0"
      },
      "execution_count": null,
      "outputs": []
    },
    {
      "cell_type": "code",
      "source": [
        "accuracies=[x['val_acc'] for x in history]\n",
        "plt.plot(accuracies,'-x')\n",
        "plt.xlabel('Epochs')\n",
        "plt.ylabel('accuracies')\n",
        "plt.title('Epoch vs Accuracies')"
      ],
      "metadata": {
        "id": "suWfHQaFYv97"
      },
      "execution_count": null,
      "outputs": []
    },
    {
      "cell_type": "code",
      "source": [
        "def predict_image(img,model):\n",
        "  xb=to_device(img.unsqueeze(0),device)\n",
        "  yb=model(xb)\n",
        "  return preds[0].item()"
      ],
      "metadata": {
        "id": "EvYvUo8xZS_u"
      },
      "execution_count": null,
      "outputs": []
    },
    {
      "cell_type": "code",
      "source": [
        "img,label= test_dataset[0]\n",
        "plt.imshow(img[0],cmap='gray')\n",
        "print('Label:',dataset.classes[label],'Predicted:',daatset.classes[predicted_image])"
      ],
      "metadata": {
        "id": "0crpt69tasmg"
      },
      "execution_count": null,
      "outputs": []
    },
    {
      "cell_type": "code",
      "source": [
        "evaluate(model,test_loader)"
      ],
      "metadata": {
        "id": "jvs1BWAdbUmw"
      },
      "execution_count": null,
      "outputs": []
    },
    {
      "cell_type": "code",
      "source": [
        "saved_weights_fname='fashion-feedforward.pth'"
      ],
      "metadata": {
        "id": "kVYAKe1fbiRU"
      },
      "execution_count": null,
      "outputs": []
    },
    {
      "cell_type": "code",
      "source": [
        "torch.save(model.state_dict,saved_weights_fname)"
      ],
      "metadata": {
        "id": "t5qgBP-4bpHE"
      },
      "execution_count": null,
      "outputs": []
    },
    {
      "cell_type": "markdown",
      "source": [
        "When we are talking about non linear does not mean,v complex but dropping negative values and it is used in all deep learning models today.(translate text,use images,create text,google autocomplete)\n",
        "\n",
        "sigmoid( 0 to 1) by applying e to power -x"
      ],
      "metadata": {
        "id": "u6dGntQjcYPa"
      }
    },
    {
      "cell_type": "markdown",
      "source": [
        "FeedForward network means to feed one hidden layer output to other and all."
      ],
      "metadata": {
        "id": "L8t8TMaJfHIh"
      }
    },
    {
      "cell_type": "markdown",
      "source": [
        "Does the length of each layer should be smaller than prev one? no"
      ],
      "metadata": {
        "id": "r78hsb-5fbCL"
      }
    },
    {
      "cell_type": "markdown",
      "source": [
        "Convolutional neural netwiorks solve the problem of spatial invariance(not properly aligned grid)"
      ],
      "metadata": {
        "id": "5DJhZNzvfryH"
      }
    }
  ]
}
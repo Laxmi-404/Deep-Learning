{
  "nbformat": 4,
  "nbformat_minor": 0,
  "metadata": {
    "colab": {
      "provenance": [],
      "gpuType": "T4",
      "authorship_tag": "ABX9TyO7xxPApuL9Tx8BvyfeO+v7",
      "include_colab_link": true
    },
    "kernelspec": {
      "name": "python3",
      "display_name": "Python 3"
    },
    "language_info": {
      "name": "python"
    },
    "accelerator": "GPU"
  },
  "cells": [
    {
      "cell_type": "markdown",
      "metadata": {
        "id": "view-in-github",
        "colab_type": "text"
      },
      "source": [
        "<a href=\"https://colab.research.google.com/github/Laxmi-404/Deep-Learning/blob/main/DL4_ConvolutionalNetwork.ipynb\" target=\"_parent\"><img src=\"https://colab.research.google.com/assets/colab-badge.svg\" alt=\"Open In Colab\"/></a>"
      ]
    },
    {
      "cell_type": "markdown",
      "source": [
        "\n",
        "One tyhing to realise is that no matter how much hyperparameters you are using,it stops performing beyong 57% accuracy with some simple neural network layers on CIFAR-10.\n",
        "\n",
        "It is possible to make a anetwork with more hidden layers but that is going to be slow and take large amount of RAM.(withn small amount of time).\n",
        "\n",
        "\n",
        "\n",
        "\n",
        "\n"
      ],
      "metadata": {
        "id": "uX4s7vGUn309"
      }
    },
    {
      "cell_type": "code",
      "execution_count": null,
      "metadata": {
        "id": "S6-q_doiWQfE"
      },
      "outputs": [],
      "source": [
        "import os\n",
        "import torch\n",
        "import torchvision\n",
        "import tarfile\n",
        "from torchvision.datasets.utils import download_url\n",
        "from torch.utils.data import random_split"
      ]
    },
    {
      "cell_type": "markdown",
      "source": [
        "\n",
        "A tarfile is a file format used to store multiple files and directories in a single file, often referred to as a \"tarball.\" It's a type of archive file, commonly used in Unix-based systems (like Linux and macOS) for compressing and bundling files. The tar command (short for \"tape archive\") is used to create and extract these archive files.\n",
        "\n",
        "\n",
        "You can create a .tar file, or combine it with compression methods like gzip (.tar.gz or .tgz) or bzip2 (.tar.bz2), to save space."
      ],
      "metadata": {
        "id": "esMzZcuSqAjG"
      }
    },
    {
      "cell_type": "code",
      "source": [
        "dataset_url=\"https://files.fast.ai/data/cifar10.tgz\"\n",
        "# dataset_url = \"https://s3.amazonaws.com/fast-ai-imageclas/cifar10.tgz\""
      ],
      "metadata": {
        "id": "xYuWKKw1pVjg"
      },
      "execution_count": null,
      "outputs": []
    },
    {
      "cell_type": "code",
      "source": [
        "root= r'C:\\Users\\Admin\\OneDrive\\Desktop\\DEEP_LEARNING'\n",
        "download_url(dataset_url,root=root)"
      ],
      "metadata": {
        "colab": {
          "base_uri": "https://localhost:8080/"
        },
        "id": "2r6Ms_BuqVXN",
        "outputId": "fa517b06-2418-4b5f-e327-ab3c15e8a5b3"
      },
      "execution_count": null,
      "outputs": [
        {
          "output_type": "stream",
          "name": "stdout",
          "text": [
            "Using downloaded and verified file: C:\\Users\\Admin\\OneDrive\\Desktop\\DEEP_LEARNING/cifar10.tgz\n"
          ]
        }
      ]
    },
    {
      "cell_type": "code",
      "source": [
        "# Extract from archive:\n",
        "with tarfile.open(r'C:\\Users\\Admin\\OneDrive\\Desktop\\DEEP_LEARNING/cifar10.tgz','r:gz') as tar:\n",
        "  tar.extractall(path=root)"
      ],
      "metadata": {
        "id": "__XuoU7mswvW"
      },
      "execution_count": null,
      "outputs": []
    },
    {
      "cell_type": "markdown",
      "source": [
        "tarfile.open(file_path, 'r:gz'):\n",
        "\n",
        "'r:gz' indicates you're opening the file in read mode (r) with gzip compression (gz).\n",
        "tar.extractall(path='path_to_extract_directory'):\n",
        "\n",
        "This extracts all files from the archive to the specified directory (path_to_extract_directory).\n",
        "\n",
        "The gzip module in Python provides a way to compress and decompress files using the Gzip compression algorithm, which is commonly used for compressing files (like .gz files) in Unix-like systems."
      ],
      "metadata": {
        "id": "muGwGHzethQ3"
      }
    },
    {
      "cell_type": "markdown",
      "source": [
        "FINAL:\n",
        "The dataset is extracted to directory root.It contains 2 folders(train and test).Training set:50000 images,test set:10000 images.Each of them contains 10 folders one of each class of image."
      ],
      "metadata": {
        "id": "1jJbzQp3zCPQ"
      }
    },
    {
      "cell_type": "code",
      "source": [
        "# data_dir=root+'/cifar10'\n",
        "data_dir=r'C:\\Users\\Admin\\OneDrive\\Desktop\\DEEP_LEARNING/cifar10'\n",
        "print(os.listdir(data_dir))\n",
        "# str of train folder in cifar10\n",
        "classes=os.listdir(data_dir+'/train')\n",
        "print(classes)"
      ],
      "metadata": {
        "id": "3R5Q5qaItit3",
        "colab": {
          "base_uri": "https://localhost:8080/"
        },
        "outputId": "221a01e5-06c9-4f7f-b66a-65dc76e0e38c"
      },
      "execution_count": null,
      "outputs": [
        {
          "output_type": "stream",
          "name": "stdout",
          "text": [
            "['test', 'train']\n",
            "['bird', 'airplane', 'horse', 'frog', 'cat', 'automobile', 'truck', 'deer', 'ship', 'dog']\n"
          ]
        }
      ]
    },
    {
      "cell_type": "code",
      "source": [
        "airplane_files=os.listdir(data_dir+'/train/airplane')\n",
        "print('No. of training examples for airplanes:',len(airplane_files))\n",
        "print(airplane_files[:5])"
      ],
      "metadata": {
        "id": "ymJGoemS09eP",
        "colab": {
          "base_uri": "https://localhost:8080/"
        },
        "outputId": "4f01a3f3-068a-4abb-8449-91b600a00c40"
      },
      "execution_count": null,
      "outputs": [
        {
          "output_type": "stream",
          "name": "stdout",
          "text": [
            "No. of training examples for airplanes: 5000\n",
            "['3796.png', '2431.png', '3772.png', '3041.png', '1112.png']\n"
          ]
        }
      ]
    },
    {
      "cell_type": "code",
      "source": [
        "ship_test_files=os.listdir(data_dir+'/test/ship')\n",
        "print('No of test examples for ship:',len(ship_test_files))\n",
        "print(ship_test_files[:5])"
      ],
      "metadata": {
        "id": "HuBuW-Cj1Tom",
        "colab": {
          "base_uri": "https://localhost:8080/"
        },
        "outputId": "ca74d5f3-50a5-450b-f999-9f4a28a8e745"
      },
      "execution_count": null,
      "outputs": [
        {
          "output_type": "stream",
          "name": "stdout",
          "text": [
            "No of test examples for ship: 1000\n",
            "['0158.png', '0034.png', '0292.png', '0949.png', '0010.png']\n"
          ]
        }
      ]
    },
    {
      "cell_type": "markdown",
      "source": [
        "The above directory structure (one folder per class) is used by many computer vision datasets,most DL library provide utility to work with such datasets.We can use ImageFolder class from torchvision to load the data as Pytorch tensor."
      ],
      "metadata": {
        "id": "gORghxaD2NDQ"
      }
    },
    {
      "cell_type": "code",
      "source": [
        "from torchvision.datasets import ImageFolder\n",
        "from torchvision.transforms import ToTensor"
      ],
      "metadata": {
        "id": "Ep9XIUPW2CXB"
      },
      "execution_count": null,
      "outputs": []
    },
    {
      "cell_type": "code",
      "source": [
        "dataset=ImageFolder(data_dir+'/train',transform=ToTensor())"
      ],
      "metadata": {
        "id": "3TtJdksK2zLp"
      },
      "execution_count": null,
      "outputs": []
    },
    {
      "cell_type": "markdown",
      "source": [
        "Looking at sample element from training dataset.each element is tuple containing a image tensor and a label.Since the data consist of 32*32 px color image with 3 channel(RGB with image tensor shape(3,32,32)"
      ],
      "metadata": {
        "id": "T239VqyK3ZvJ"
      }
    },
    {
      "cell_type": "code",
      "source": [
        "img,label=dataset[0]\n",
        "print(img.shape,label)\n",
        "img\n",
        "# RGB values"
      ],
      "metadata": {
        "id": "SlIZ10Iw3Hao",
        "colab": {
          "base_uri": "https://localhost:8080/"
        },
        "outputId": "9bad751a-446f-41ef-c41e-ef9108ce0037"
      },
      "execution_count": null,
      "outputs": [
        {
          "output_type": "stream",
          "name": "stdout",
          "text": [
            "torch.Size([3, 32, 32]) 0\n"
          ]
        },
        {
          "output_type": "execute_result",
          "data": {
            "text/plain": [
              "tensor([[[0.7922, 0.7922, 0.8000,  ..., 0.8118, 0.8039, 0.7961],\n",
              "         [0.8078, 0.8078, 0.8118,  ..., 0.8235, 0.8157, 0.8078],\n",
              "         [0.8235, 0.8275, 0.8314,  ..., 0.8392, 0.8314, 0.8235],\n",
              "         ...,\n",
              "         [0.8549, 0.8235, 0.7608,  ..., 0.9529, 0.9569, 0.9529],\n",
              "         [0.8588, 0.8510, 0.8471,  ..., 0.9451, 0.9451, 0.9451],\n",
              "         [0.8510, 0.8471, 0.8510,  ..., 0.9373, 0.9373, 0.9412]],\n",
              "\n",
              "        [[0.8000, 0.8000, 0.8078,  ..., 0.8157, 0.8078, 0.8000],\n",
              "         [0.8157, 0.8157, 0.8196,  ..., 0.8275, 0.8196, 0.8118],\n",
              "         [0.8314, 0.8353, 0.8392,  ..., 0.8392, 0.8353, 0.8275],\n",
              "         ...,\n",
              "         [0.8510, 0.8196, 0.7608,  ..., 0.9490, 0.9490, 0.9529],\n",
              "         [0.8549, 0.8471, 0.8471,  ..., 0.9412, 0.9412, 0.9412],\n",
              "         [0.8471, 0.8431, 0.8471,  ..., 0.9333, 0.9333, 0.9333]],\n",
              "\n",
              "        [[0.7804, 0.7804, 0.7882,  ..., 0.7843, 0.7804, 0.7765],\n",
              "         [0.7961, 0.7961, 0.8000,  ..., 0.8039, 0.7961, 0.7882],\n",
              "         [0.8118, 0.8157, 0.8235,  ..., 0.8235, 0.8157, 0.8078],\n",
              "         ...,\n",
              "         [0.8706, 0.8392, 0.7765,  ..., 0.9686, 0.9686, 0.9686],\n",
              "         [0.8745, 0.8667, 0.8627,  ..., 0.9608, 0.9608, 0.9608],\n",
              "         [0.8667, 0.8627, 0.8667,  ..., 0.9529, 0.9529, 0.9529]]])"
            ]
          },
          "metadata": {},
          "execution_count": 42
        }
      ]
    },
    {
      "cell_type": "markdown",
      "source": [
        "The list of classes  is stored in the .classes property of the dataset.the numeric label for each element corresponds to index of the elements label in the list of classes."
      ],
      "metadata": {
        "id": "qT9-zRlp4Wl8"
      }
    },
    {
      "cell_type": "code",
      "source": [
        "print(dataset.classes)"
      ],
      "metadata": {
        "id": "dN8I5SHQ4KnW",
        "colab": {
          "base_uri": "https://localhost:8080/"
        },
        "outputId": "2487ed7e-d95f-4fe4-f32a-9f13377d1653"
      },
      "execution_count": null,
      "outputs": [
        {
          "output_type": "stream",
          "name": "stdout",
          "text": [
            "['airplane', 'automobile', 'bird', 'cat', 'deer', 'dog', 'frog', 'horse', 'ship', 'truck']\n"
          ]
        }
      ]
    },
    {
      "cell_type": "markdown",
      "source": [
        "We can view the image using matplolib,but we need to change the tensor dimension (32,32,3)"
      ],
      "metadata": {
        "id": "o5vTjYae481l"
      }
    },
    {
      "cell_type": "code",
      "source": [
        "import matplotlib.pyplot as plt\n",
        "%matplotlib inline\n",
        "\n",
        "def show_example(img,label):\n",
        "  print('label:',dataset.classes[label],\"(\"+str(label)+\")\")\n",
        "  plt.imshow(img.permute(1,2,0))"
      ],
      "metadata": {
        "id": "_h9JG29R48fc"
      },
      "execution_count": null,
      "outputs": []
    },
    {
      "cell_type": "code",
      "source": [
        "img,label=dataset[0]\n",
        "show_example(img,label)"
      ],
      "metadata": {
        "id": "eGPsHsa-4sGp",
        "colab": {
          "base_uri": "https://localhost:8080/",
          "height": 447
        },
        "outputId": "912c78a9-8dca-4ab6-ff7f-1aba7afdf0fb"
      },
      "execution_count": null,
      "outputs": [
        {
          "output_type": "stream",
          "name": "stdout",
          "text": [
            "label: airplane (0)\n"
          ]
        },
        {
          "output_type": "display_data",
          "data": {
            "text/plain": [
              "<Figure size 640x480 with 1 Axes>"
            ],
            "image/png": "[encoded data removed]"
          },
          "metadata": {}
        }
      ]
    },
    {
      "cell_type": "code",
      "source": [
        "show_example(*dataset[1099])"
      ],
      "metadata": {
        "id": "Ft74NZ7H4r7U",
        "colab": {
          "base_uri": "https://localhost:8080/",
          "height": 447
        },
        "outputId": "819e6c4b-67e6-4925-a99b-36892cfac554"
      },
      "execution_count": null,
      "outputs": [
        {
          "output_type": "stream",
          "name": "stdout",
          "text": [
            "label: airplane (0)\n"
          ]
        },
        {
          "output_type": "display_data",
          "data": {
            "text/plain": [
              "<Figure size 640x480 with 1 Axes>"
            ],
            "image/png": "[encoded data removed]"
          },
          "metadata": {}
        }
      ]
    },
    {
      "cell_type": "markdown",
      "source": [
        " The asterisk (*) to unpack or reference an item from a dataset. It seems like you want to display an example from a dataset, specifically the one at index 1099."
      ],
      "metadata": {
        "id": "9ZQKRi8sb4WG"
      }
    },
    {
      "cell_type": "code",
      "source": [
        "show_example(*dataset[10099])"
      ],
      "metadata": {
        "id": "jbLfziLlb5NI",
        "colab": {
          "base_uri": "https://localhost:8080/",
          "height": 447
        },
        "outputId": "a07a2a4a-f812-4502-a4de-c6dccbed69a0"
      },
      "execution_count": null,
      "outputs": [
        {
          "output_type": "stream",
          "name": "stdout",
          "text": [
            "label: bird (2)\n"
          ]
        },
        {
          "output_type": "display_data",
          "data": {
            "text/plain": [
              "<Figure size 640x480 with 1 Axes>"
            ],
            "image/png": "[encoded data removed]"
          },
          "metadata": {}
        }
      ]
    },
    {
      "cell_type": "markdown",
      "source": [
        "Splits of dataset:\n",
        "\n",
        "Training set - used to train the model i.e. compute the loss and adjust the weights of the model using gradient descent.\n",
        "\n",
        "Validation set - used to evaluate the model while training, adjust hyperparameters (learning rate etc.) and pick the best version of the model.\n",
        "\n",
        "Test set - used to compare different models, or different types of modeling approaches, and report the final accuracy of the model."
      ],
      "metadata": {
        "id": "U4r8HKXPcrIk"
      }
    },
    {
      "cell_type": "code",
      "source": [
        "random_seed=42\n",
        "torch.manual_seed(random_seed)"
      ],
      "metadata": {
        "id": "eOB5Ru-wcOfw",
        "colab": {
          "base_uri": "https://localhost:8080/"
        },
        "outputId": "a8b1ee5e-d450-48ff-c2cc-f87da7edc0de"
      },
      "execution_count": null,
      "outputs": [
        {
          "output_type": "execute_result",
          "data": {
            "text/plain": [
              "<torch._C.Generator at 0x791e64721ff0>"
            ]
          },
          "metadata": {},
          "execution_count": 48
        }
      ]
    },
    {
      "cell_type": "markdown",
      "source": [
        "The code torch.manual_seed(random_seed) is used in PyTorch to set the seed for generating random numbers, ensuring reproducibility. By setting a specific random_seed, you make sure that any random operations (like initializing model weights, shuffling data, etc.) will produce the same result each time you run your code, which is helpful for debugging and experiments."
      ],
      "metadata": {
        "id": "KL8S38MQdZ9h"
      }
    },
    {
      "cell_type": "code",
      "source": [
        "val_size=5000\n",
        "train_size=len(dataset)-val_size\n",
        "\n",
        "train_ds,val_ds=random_split(dataset,[train_size,val_size])\n",
        "len(train_ds),len(val_ds)"
      ],
      "metadata": {
        "id": "aL16a6LKda0s",
        "colab": {
          "base_uri": "https://localhost:8080/"
        },
        "outputId": "0db26bd6-973e-4a01-c0e6-ba9998c3ee24"
      },
      "execution_count": null,
      "outputs": [
        {
          "output_type": "execute_result",
          "data": {
            "text/plain": [
              "(45000, 5000)"
            ]
          },
          "metadata": {},
          "execution_count": 49
        }
      ]
    },
    {
      "cell_type": "code",
      "source": [
        "from torch.utils.data.dataloader import DataLoader"
      ],
      "metadata": {
        "id": "-bOqI_ytd2Gl"
      },
      "execution_count": null,
      "outputs": []
    },
    {
      "cell_type": "code",
      "source": [
        "batch_size=128"
      ],
      "metadata": {
        "id": "XoUNdQXzeD3Q"
      },
      "execution_count": null,
      "outputs": []
    },
    {
      "cell_type": "code",
      "source": [
        "train_dl=DataLoader(train_ds,batch_size,shuffle=True,num_workers=2,pin_memory=True)\n",
        "val_dl=DataLoader(val_ds,batch_size*2,num_workers=2,pin_memory=True)"
      ],
      "metadata": {
        "id": "oqrEHzp0eHB7"
      },
      "execution_count": null,
      "outputs": []
    },
    {
      "cell_type": "markdown",
      "source": [
        "We can look at batches of images from the dataset using the make_grid method from torchvision. Each time the following code is run, we get a different bach, since the sampler shuffles the indices before creating batches."
      ],
      "metadata": {
        "id": "oSIxHWy-ekgh"
      }
    },
    {
      "cell_type": "markdown",
      "source": [
        "Yes, setting shuffle=True is often a good practice when tuning hyperparameters, particularly during training, because it ensures that the data is presented in a random order for each epoch"
      ],
      "metadata": {
        "id": "eanYhS5ffUFd"
      }
    },
    {
      "cell_type": "code",
      "source": [
        "from torchvision.utils import make_grid\n",
        "def show_batch(dl):\n",
        "  for images,labels in dl:\n",
        "    fig,ax=plt.subplots(figsize=(12,6))\n",
        "    ax.set_xticks([])\n",
        "    ax.set_yticks([])\n",
        "    ax.imshow(make_grid(images,nrow=16).permute(1,2,0))\n",
        "    break"
      ],
      "metadata": {
        "id": "ah6DKRQGeZZV"
      },
      "execution_count": null,
      "outputs": []
    },
    {
      "cell_type": "markdown",
      "source": [
        "***\n",
        "ax as the container for the image:\n",
        "The key reason ax is used here is that Matplotlib works by placing elements (like images, lines, or annotations) inside an \"axes\" container. ax represents the plot area where you add the image and other visual elements. Without it, you wouldn't have a way to control or customize the layout of your plot."
      ],
      "metadata": {
        "id": "ryw95vNIgV8Y"
      }
    },
    {
      "cell_type": "markdown",
      "source": [
        "We defined a deep neural network using nn.Linear."
      ],
      "metadata": {
        "id": "2q9ps6vohQCG"
      }
    },
    {
      "cell_type": "markdown",
      "source": [
        "\n",
        "The 2D convolution is a fairly simple operation at heart: you start with a kernel, which is simply a small matrix of weights. This kernel “slides” over the 2D input data, performing an elementwise multiplication with the part of the input it is currently on, and then summing up the results into a single output **pixel**\n",
        "\n",
        "we will use a convolutional neural network, using the nn.Conv2d class from PyTorch.\n",
        "\n",
        "https://medium.com/towards-data-science/intuitively-understanding-convolutions-for-deep-learning-1f6f42faee1\n",
        "\n",
        "The size of the kernel directly determines how many (or few) input features get combined in the production of a new output feature.\n",
        "\n",
        "Padding: If you see the animation above, notice that during the sliding process, the edges essentially get “trimmed off”, converting a 5×5 feature matrix to a 3×3 one. The pixels on the edge are never at the center of the kernel, because there is nothing for the kernel to extend to beyond the edge. This isn’t ideal, as often we’d like the size of the output to equal the input.\n",
        "\n",
        "Padding does something pretty clever to solve this: pad the edges with extra, “fake” pixels (usually of value 0, hence the oft-used term “zero padding”). This way, the kernel when sliding can allow the original edge pixels to be at its center, while extending into the fake pixels beyond the edge, producing an output the same size as the input.\n",
        "\n",
        "Striding: Often when running a convolution layer, you want an output with a lower size than the input. This is commonplace in convolutional neural networks, where the size of the spatial dimensions are reduced when increasing the number of channels. One way of accomplishing this is by using a pooling layer (eg. taking the average/max of every 2×2 grid to reduce each spatial dimensions in half). Yet another way to do is is to use a stride:\n",
        "\n",
        "The idea of the stride is to skip some of the slide locations of the kernel. A stride of 1 means to pick slides a pixel apart, so basically every single slide, acting as a standard convolution. A stride of 2 means picking slides 2 pixels apart, skipping every other slide in the process, downsizing by roughly a factor of 2, a stride of 3 means skipping every 2 slides, downsizing roughly by factor 3, and so on.\n",
        "\n",
        "More modern networks, such as the ResNet architectures entirely forgo pooling layers in their internal layers, in favor of strided convolutions when needing to reduce their output sizes.\n",
        "\n"
      ],
      "metadata": {
        "id": "J593nikQhY0h"
      }
    },
    {
      "cell_type": "markdown",
      "source": [
        "***\n",
        "So this is where a key distinction between terms comes in handy: whereas in the 1 channel case, where the term filter and kernel are interchangeable, in the general case, they’re actually pretty different. Each filter actually happens to be a collection of kernels, with there being one kernel for every single input channel to the layer, and each kernel being unique.\n",
        "\n",
        "Each filter in a convolution layer produces one and only one output channel, and they do it like so:\n",
        "\n",
        "Each of the kernels of the filter “slides” over their respective input channels, producing a processed version of each. Some kernels may have stronger weights than others, to give more emphasis to certain input channels than others (eg. a filter may have a red kernel channel with stronger weights than others, and hence, respond more to differences in the red channel features than the others).\n",
        "\n",
        "\n",
        "Each of the per-channel processed versions are then summed together to form one channel. The kernels of a filter each produce one version of each channel, and the filter as a whole produces one overall output channel.\n",
        "\n"
      ],
      "metadata": {
        "id": "FLac1h42UVIK"
      }
    },
    {
      "cell_type": "code",
      "source": [
        "def apply_kernel(image,kernel):\n",
        "  ri,ci=image.shape\n",
        "  rk,ck=kernel.shape\n",
        "  ro,co=ri-rk+1,ci-ck+1\n",
        "  output=torch.zeros([ro,co])\n",
        "  for i in range(ro):\n",
        "    for j in range(co):\n",
        "      output=torch.sum(image[i:i+rk,j:j+ck]*kernel)\n",
        "    return output"
      ],
      "metadata": {
        "id": "a78iXa7mgW0u"
      },
      "execution_count": null,
      "outputs": []
    },
    {
      "cell_type": "markdown",
      "source": [
        " output=torch.zeros([ro,co]):\n",
        "\n",
        "This can be useful if you're initializing a tensor to store some results (like matrix operations, output of a model, etc.) but don't have values for it yet and want to fill it with zeros initially."
      ],
      "metadata": {
        "id": "XcRyIofYXiUl"
      }
    },
    {
      "cell_type": "code",
      "source": [
        "sample_image=torch.tensor([\n",
        "    [3,3,2,1,0],\n",
        "    [0,0,1,3,1],\n",
        "    [3,1,2,2,3],\n",
        "    [2,0,0,2,2],\n",
        "    [2,0,0,0,1]\n",
        "],dtype='float32'\n",
        ")"
      ],
      "metadata": {
        "id": "AvliR7lfX-dS",
        "colab": {
          "base_uri": "https://localhost:8080/",
          "height": 211
        },
        "outputId": "e6420d25-1d82-4a9f-cf04-ec7ea215a081"
      },
      "execution_count": null,
      "outputs": [
        {
          "output_type": "error",
          "ename": "TypeError",
          "evalue": "tensor(): argument 'dtype' must be torch.dtype, not str",
          "traceback": [
            "\u001b[0;31m---------------------------------------------------------------------------\u001b[0m",
            "\u001b[0;31mTypeError\u001b[0m                                 Traceback (most recent call last)",
            "\u001b[0;32m<ipython-input-55-7c43b46efb5b>\u001b[0m in \u001b[0;36m<cell line: 0>\u001b[0;34m()\u001b[0m\n\u001b[0;32m----> 1\u001b[0;31m sample_image=torch.tensor([\n\u001b[0m\u001b[1;32m      2\u001b[0m     \u001b[0;34m[\u001b[0m\u001b[0;36m3\u001b[0m\u001b[0;34m,\u001b[0m\u001b[0;36m3\u001b[0m\u001b[0;34m,\u001b[0m\u001b[0;36m2\u001b[0m\u001b[0;34m,\u001b[0m\u001b[0;36m1\u001b[0m\u001b[0;34m,\u001b[0m\u001b[0;36m0\u001b[0m\u001b[0;34m]\u001b[0m\u001b[0;34m,\u001b[0m\u001b[0;34m\u001b[0m\u001b[0;34m\u001b[0m\u001b[0m\n\u001b[1;32m      3\u001b[0m     \u001b[0;34m[\u001b[0m\u001b[0;36m0\u001b[0m\u001b[0;34m,\u001b[0m\u001b[0;36m0\u001b[0m\u001b[0;34m,\u001b[0m\u001b[0;36m1\u001b[0m\u001b[0;34m,\u001b[0m\u001b[0;36m3\u001b[0m\u001b[0;34m,\u001b[0m\u001b[0;36m1\u001b[0m\u001b[0;34m]\u001b[0m\u001b[0;34m,\u001b[0m\u001b[0;34m\u001b[0m\u001b[0;34m\u001b[0m\u001b[0m\n\u001b[1;32m      4\u001b[0m     \u001b[0;34m[\u001b[0m\u001b[0;36m3\u001b[0m\u001b[0;34m,\u001b[0m\u001b[0;36m1\u001b[0m\u001b[0;34m,\u001b[0m\u001b[0;36m2\u001b[0m\u001b[0;34m,\u001b[0m\u001b[0;36m2\u001b[0m\u001b[0;34m,\u001b[0m\u001b[0;36m3\u001b[0m\u001b[0;34m]\u001b[0m\u001b[0;34m,\u001b[0m\u001b[0;34m\u001b[0m\u001b[0;34m\u001b[0m\u001b[0m\n\u001b[1;32m      5\u001b[0m     \u001b[0;34m[\u001b[0m\u001b[0;36m2\u001b[0m\u001b[0;34m,\u001b[0m\u001b[0;36m0\u001b[0m\u001b[0;34m,\u001b[0m\u001b[0;36m0\u001b[0m\u001b[0;34m,\u001b[0m\u001b[0;36m2\u001b[0m\u001b[0;34m,\u001b[0m\u001b[0;36m2\u001b[0m\u001b[0;34m]\u001b[0m\u001b[0;34m,\u001b[0m\u001b[0;34m\u001b[0m\u001b[0;34m\u001b[0m\u001b[0m\n",
            "\u001b[0;31mTypeError\u001b[0m: tensor(): argument 'dtype' must be torch.dtype, not str"
          ]
        }
      ]
    },
    {
      "cell_type": "code",
      "source": [
        "sample_kernel=torch.tensor([\n",
        "    [0,1,2],\n",
        "    [2,2,0],\n",
        "    [0,1,2]\n",
        "],dtype='float32'\n",
        ")"
      ],
      "metadata": {
        "id": "GoQe5ngjYh8c"
      },
      "execution_count": null,
      "outputs": []
    },
    {
      "cell_type": "code",
      "source": [
        "apply_kernel(sample_image,sample_kernel)"
      ],
      "metadata": {
        "id": "tQSYQfkhYpM6"
      },
      "execution_count": null,
      "outputs": []
    },
    {
      "cell_type": "markdown",
      "source": [
        "By other parameters,kernels(weights randomly initialised) gets better and better."
      ],
      "metadata": {
        "id": "jcEPQg30Z8em"
      }
    },
    {
      "cell_type": "markdown",
      "source": [
        "There are certain advantages offered by convolutional layers when working with image data:\n",
        "\n",
        "Fewer parameters: A small set of parameters (the kernel) is used to calculate outputs of the entire image, so the model has much fewer parameters compared to a fully connected layer.\n",
        "\n",
        "Sparsity of connections: In each layer, each output element only depends on a small number of input elements, which makes the forward and backward passes more efficient.\n",
        "\n",
        "Parameter sharing and spatial invariance: The features learned by a kernel in one part of the image can be used to detect similar pattern in a different part of another image.\n",
        "\n",
        "We will also use a max-pooling layers to progressively decrease the height & width of the output tensors from each convolutional layer."
      ],
      "metadata": {
        "id": "qJ-pbyUfaely"
      }
    },
    {
      "cell_type": "markdown",
      "source": [
        "***\n",
        "Max pooling is a downsampling operation commonly used in Convolutional Neural Networks (CNNs). It reduces the spatial dimensions of an input (such as an image or feature map) by taking the maximum value from a specific region of the input. This operation helps retain the most important features and reduces computational load."
      ],
      "metadata": {
        "id": "HzSJNCetbDdN"
      }
    },
    {
      "cell_type": "code",
      "source": [
        "import torch.nn as nn\n",
        "import torch.nn.functional as F"
      ],
      "metadata": {
        "id": "LacrJzHGYvQN"
      },
      "execution_count": null,
      "outputs": []
    },
    {
      "cell_type": "code",
      "source": [
        "simple_model=nn.Sequential(\n",
        "    nn.Conv2d(3,8,kernel_size=3,stride=1,padding=1),\n",
        "    nn.MaxPool(2,2)\n",
        ")"
      ],
      "metadata": {
        "id": "P26wdRnIbMtY"
      },
      "execution_count": null,
      "outputs": []
    },
    {
      "cell_type": "markdown",
      "source": [
        "nn.Sequential: give many layers\n",
        "\n",
        "Each of the 8 filters applies across all 3 channels (RGB), so the kernel for each filter will have dimensions [3, 3, 3]:\n",
        "\n",
        "3 corresponds to the number of input channels (RGB).\n",
        "3x3 is the size of the filter applied spatially.\n",
        "For each filter:\n",
        "\n",
        "The kernel will be applied to the 3 input channels.\n",
        "For each 3x3 region of the input, the filter computes a weighted sum of the values across all 3 channels and produces a single output value.\n",
        "\n",
        "After applying this to the entire image, you get one output feature map per filter.\n",
        "\n",
        "Since there are 8 filters, you will get 8 output feature maps (one per filter), and these maps will form the 8 output channels.\n",
        "\n",
        "The stride of 1 means that the filter moves by one unit at a time across the image.\n",
        "\n",
        "Padding of 1 ensures that the spatial dimensions (height and width) of the output are the same as the input (when the kernel size is 3, padding of 1 keeps the input size the same as the output size)."
      ],
      "metadata": {
        "id": "81H1lbbpeOd5"
      }
    },
    {
      "cell_type": "code",
      "source": [
        "for images,labels in train_dl:\n",
        "  print('images.shape',images.shape)\n",
        "  out=simple_model(images)\n",
        "  print('out.shape',out.shape)\n",
        "  break"
      ],
      "metadata": {
        "id": "J1z_okMVbt3H"
      },
      "execution_count": null,
      "outputs": []
    },
    {
      "cell_type": "markdown",
      "source": [
        "The Conv2d layer transforms a 3-channel image to a 16-channel feature map, and the MaxPool2d layer halves the height and width. The feature map gets smaller as we add more layers, until we are finally left with a small feature map, which can be flattened into a vector. We can then add some fully connected layers at the end to get vector of size 10 for each image"
      ],
      "metadata": {
        "id": "E3viHxX3hB1M"
      }
    },
    {
      "cell_type": "code",
      "source": [
        " def accuracy(outputs,labels):\n",
        "  _,preds=torch.max(outputs,dim=1)\n",
        "  return torch.tensor(torch.sum(preds==labels).item()/len(preds))\n",
        "\n",
        "class ImageClassificationBase(nn.Module):\n",
        "  def training_step(self,batch):\n",
        "    images,labels=batch\n",
        "    out=self(images)\n",
        "    loss=F.cross_entropy(out,labels)\n",
        "    return loss\n",
        "\n",
        "  def validation_step(self,batch):\n",
        "    images,labels=batch\n",
        "    out=self(images)\n",
        "    loss=F.cross_entropy(out,labels)\n",
        "    accuracy=accuracy(out,labels)\n",
        "    return {'val_loss':loss.detach(),'val_accuracy':accuracy}\n",
        "\n",
        "  def validation_epoch_end(self,outputs):\n",
        "    batch_losses=[x['val_loss'] for x in outputs]\n",
        "    epoch_loss=torch.stack(batch_losses).mean()\n",
        "    batch_accuracies=[x['val_accuracy'] for x in outputs ]\n",
        "    epoch_accuracy=torch.stack(batch_accuracies).mean()\n",
        "    return {'val_loss':epoch_losses.item(),'val_accuracy':epoch_accuracy.item()}\n",
        "\n",
        "  def epoch_end(self,epoch,result):\n",
        "    print(\"Epoch [{}],train_loss:{:.4f},val_loss:{:.4f}\".format(epoch,result['train_loss'],result['val_loss']))\n"
      ],
      "metadata": {
        "id": "W_579DE_fm43"
      },
      "execution_count": null,
      "outputs": []
    },
    {
      "cell_type": "markdown",
      "source": [
        "In the context of Convolutional Neural Networks (CNNs), increasing the number of channels typically means adding more filters in the convolutional layer. Each filter learns to detect different features in the input image, such as edges, textures, or more complex patterns.\n",
        "\n",
        "Here’s what increasing channels (or filters) means in more detail:\n",
        "\n",
        "1. Channels in the Input (RGB Image Example):\n",
        "For an RGB image, there are 3 input channels: Red, Green, and Blue.\n",
        "Each channel holds pixel values corresponding to the color intensity for that channel across the image.\n",
        "2. Convolutional Layers and Output Channels:\n",
        "When you apply a convolutional layer with multiple filters, each filter produces its own output channel (feature map).\n",
        "The number of output channels is determined by the number of filters in the convolutional layer.\n",
        "If you increase the number of filters, you increase the number of output channels in the feature map.\n",
        "Why Increase the Number of Channels (Filters)?\n",
        "Capture More Features:\n",
        "\n",
        "Each filter detects different features. For example, some filters might learn to detect edges, others might detect textures, and others might capture more complex patterns.\n",
        "Increasing the number of channels (filters) allows the network to capture more complex and diverse features from the input.\n",
        "More Expressive Power:\n",
        "\n",
        "With more filters, the network has more capacity to learn from the data and detect more abstract features at each layer, which can be important for complex tasks (e.g., object recognition).\n",
        "More filters provide more expressive power, allowing the model to learn a richer set of features.\n",
        "Deep Networks:\n",
        "\n",
        "In deep CNN architectures, it is common to see the number of channels increase as you move deeper into the network. Early layers might use a smaller number of filters (e.g., 32 or 64), while deeper layers may use a larger number of filters (e.g., 256, 512, etc.).\n",
        "The intuition is that as you go deeper, the model can capture higher-level, more abstract features, so the network needs more channels to represent this complexity.\n",
        "Example: Increasing Channels in a CNN\n",
        "Consider a simple CNN with 3 layers. Let's examine how the number of channels can increase as we go deeper into the network:\n",
        "\n",
        "Input: Let's assume the input is a color image with 3 channels (RGB), and its size is 32x32 pixels.\n",
        "\n",
        "First Convolutional Layer:\n",
        "\n",
        "Let's use 16 filters in the first convolutional layer. Each filter will produce one output channel.\n",
        "After applying the filters, the output will have 16 channels (one for each filter).\n",
        "The spatial size of the image might stay the same (e.g., 32x32) if we use padding to preserve the dimensions.\n",
        "Second Convolutional Layer:\n",
        "\n",
        "The second layer could have 32 filters. Now, we’re working with an input of 16 channels (from the previous layer).\n",
        "The output of this layer will have 32 channels, and again, the spatial size can be kept the same using padding.\n",
        "Third Convolutional Layer:\n",
        "\n",
        "The third layer could have 64 filters, so the output will have 64 channels."
      ],
      "metadata": {
        "id": "zqG8coJrjs_e"
      }
    },
    {
      "cell_type": "markdown",
      "source": [
        "***\n",
        "Adding non-linearity (typically using activation functions like ReLU, Sigmoid, Tanh, etc.) after each layer in a neural network is crucial for the model’s ability to learn and represent complex patterns. Here's why it \"powers\" the model:\n",
        "\n",
        "1. Breaking Linearity (Enabling Complex Mapping):\n",
        "If you didn't add non-linear activation functions, your network would just be a series of linear transformations.\n",
        "\n",
        "A linear transformation (such as a matrix multiplication or a convolution) maps input to output through simple weighted sums. Even if you stacked many layers, the overall function would still be linear.\n",
        "\n",
        "Mathematically, if you have:\n",
        "\n",
        "𝑦\n",
        "=\n",
        "𝑊\n",
        "2\n",
        "(\n",
        "𝑊\n",
        "1\n",
        "𝑥\n",
        ")\n",
        "y=W\n",
        "2\n",
        "​\n",
        " (W\n",
        "1\n",
        "​\n",
        " x)\n",
        "where\n",
        "𝑊\n",
        "1\n",
        "W\n",
        "1\n",
        "​\n",
        "  and\n",
        "𝑊\n",
        "2\n",
        "W\n",
        "2\n",
        "​\n",
        "  are weight matrices, the entire operation remains a linear function of\n",
        "𝑥\n",
        "x.\n",
        "\n",
        "Without non-linearity, no matter how deep your network is, it would only be able to represent linear functions, limiting its power. For example, even with many layers, it could only draw straight lines or hyperplanes and would struggle to model more complex data like images or natural language.\n",
        "\n",
        "2. Learning Complex, High-Dimensional Functions:\n",
        "When you add a non-linear activation like ReLU, Sigmoid, or Tanh, each layer can learn more complex relationships in the data.\n",
        "Non-linearity allows the network to approximate complex functions. It lets the model learn intricate patterns, such as curves or other complex behaviors, which are essential for tasks like image classification, speech recognition, or machine translation.\n",
        "3. Universal Approximation Theorem:\n",
        "A key result in neural networks is the Universal Approximation Theorem, which states that a feedforward neural network with at least one hidden layer, non-linear activation functions, and enough units can approximate any continuous function (with sufficient precision).\n",
        "This means that by adding non-linearity, the model has the ability to represent any complex pattern in the data, no matter how complicated.\n",
        "4. Intuition Behind Non-Linearity:\n",
        "Here’s an intuitive explanation:\n",
        "\n",
        "Suppose you want to separate a set of points that form a circle in 2D space (e.g., classifying points inside and outside the circle). A straight line (linear classifier) can’t do this, but a neural network with non-linear activations can!\n",
        "The network can learn to separate points in non-linear ways, like using a curved boundary, which is necessary for many real-world tasks"
      ],
      "metadata": {
        "id": "m3Y3LJfakVEk"
      }
    },
    {
      "cell_type": "markdown",
      "source": [
        "We will use nn.Sequential to chain activation functions and single network architecture."
      ],
      "metadata": {
        "id": "JjR5A6G9D4Jf"
      }
    },
    {
      "cell_type": "code",
      "source": [
        "class Cifar10CnnModel(ImageClassificationBase):\n",
        "  def __init__(self):\n",
        "    super().__init__()\n",
        "    self.network=nn.Sequential(\n",
        "        nn.Conv2d(3,32,kernel_size=3,padding=1),\n",
        "        nn.ReLu(),\n",
        "        nn.Conv2d(32,64,kernel_size=3,padding=1),\n",
        "        nn.ReLu(),\n",
        "        nn.MaxPool2d(2,2)\n",
        "        # output is 64X16X16\n",
        "\n",
        "        nn.Conv2d(64,128,kernel_size=3,padding=1);\n",
        "        nn.ReLu()\n",
        "        nn.Conv2d(128,128,kernel_size=3,padding=1),\n",
        "        nn.ReLu()\n",
        "        nn.MaxPool2d(2,2)\n",
        "        # output is (128*8*8)\n",
        "\n",
        "        nn.Conv2d(128,256,kernel_size=3,padding=1),\n",
        "        nn.Relu(),\n",
        "        nn.Conv2d(256,256,kernel_size=3,stride=1,padding=1)\n",
        "        nn.ReLu()\n",
        "        nn.MaxPool(2,2)\n",
        "        # output is 256*4*4\n",
        "\n",
        "        nn.Flatten()\n",
        "        nn.Linear(256*4*4,1024),\n",
        "        nn.ReLu(),\n",
        "        nn.Linear(1024,512),\n",
        "        nn.ReLu(),\n",
        "        nn.Linear(512,10)\n",
        "    )\n",
        "\n",
        "    def forward(self,xb):\n",
        "      return self.network(xb)\n",
        "\n",
        "      # self.network is a sequential module."
      ],
      "metadata": {
        "id": "zQXrz07Vju6H"
      },
      "execution_count": null,
      "outputs": []
    },
    {
      "cell_type": "markdown",
      "source": [
        "\n",
        "\n",
        "### Your Code\n",
        "\n",
        "```python\n",
        "def __init__(self):\n",
        "    super().__init__()\n",
        "    self.network = nn.Sequential(\n",
        "        nn.Conv2d(3, 32, kernel_size=3, padding=1),  # 1st Conv Layer\n",
        "        nn.ReLU(),  # ReLU Activation\n",
        "        nn.Conv2d(32, 64, kernel_size=3, padding=1),  # 2nd Conv Layer\n",
        "        nn.ReLU(),  # ReLU Activation\n",
        "        nn.MaxPool2d(2, 2)  # Max Pooling\n",
        "    )\n",
        "```\n",
        "\n",
        "### Breaking It Down\n",
        "\n",
        "1. **Input Size**:\n",
        "   - The input size is typically assumed to be something like **3 x 32 x 32**, where:\n",
        "     - **3**: Number of channels (e.g., for RGB images).\n",
        "     - **32**: Height and width of the image.\n",
        "\n",
        "2. **First Convolutional Layer**: `nn.Conv2d(3, 32, kernel_size=3, padding=1)`\n",
        "   - This layer takes an input with **3 channels** (e.g., RGB image) and applies **32 filters** of size **3x3**.\n",
        "   - The **padding=1** means we add one pixel padding on all sides of the input image, keeping the spatial dimensions the same.\n",
        "   - The output dimensions will be the same as the input, i.e., the height and width remain **32**. After this convolution, the output will have **32 channels** (one for each filter), and the shape of the output will be **32 x 32 x 32**.\n",
        "\n",
        "3. **ReLU Activation**: `nn.ReLU()`\n",
        "   - The ReLU activation function doesn't change the dimensions, it simply applies a non-linear transformation. The output remains **32 x 32 x 32**.\n",
        "\n",
        "4. **Second Convolutional Layer**: `nn.Conv2d(32, 64, kernel_size=3, padding=1)`\n",
        "   - This layer takes the **32 channels** from the previous layer and applies **64 filters** of size **3x3**.\n",
        "   - The **padding=1** again ensures that the spatial dimensions (height and width) are preserved.\n",
        "   - The output dimensions will still be **32 x 32** (height and width), but now there are **64 channels**. So, after this convolution, the output will be **64 x 32 x 32**.\n",
        "\n",
        "5. **ReLU Activation**: `nn.ReLU()`\n",
        "   - As before, ReLU just applies a non-linear activation function, keeping the output dimensions the same at **64 x 32 x 32**.\n",
        "\n",
        "6. **Max Pooling Layer**: `nn.MaxPool2d(2, 2)`\n",
        "   - The **Max Pooling** operation with a **kernel size of 2** and **stride of 2** reduces the spatial dimensions by a factor of 2 (both height and width).\n",
        "   - The output size after max pooling can be calculated as:\n",
        "     \\[\n",
        "     \\text{Output size} = \\frac{\\text{Input size}}{\\text{Stride}} = \\frac{32}{2} = 16\n",
        "     \\]\n",
        "   - Therefore, after applying max pooling, the spatial dimensions (height and width) are reduced to **16 x 16**, and the number of channels remains **64**.\n",
        "   - The output of this layer will be **64 x 16 x 16**.\n",
        "\n",
        "### Final Output Dimensions\n",
        "\n",
        "- After all the layers, the output tensor has dimensions of **64 x 16 x 16**, where:\n",
        "  - **64** is the number of channels (due to the 64 filters in the second convolutional layer).\n",
        "  - **16 x 16** is the reduced spatial size (height and width) after the convolution layers and the max pooling operation.\n",
        "\n",
        "### Summary:\n",
        "\n",
        "- The input image (assumed **3 x 32 x 32**) undergoes two convolutional layers, each followed by a ReLU activation.\n",
        "- After the first convolution, the output has **32 channels** with spatial dimensions of **32 x 32**.\n",
        "- After the second convolution, the output has **64 channels** with spatial dimensions still **32 x 32**.\n",
        "- Finally, after the max pooling operation, the spatial dimensions are halved to **16 x 16**, resulting in an output of **64 x 16 x 16**.\n",
        "\n"
      ],
      "metadata": {
        "id": "_NvtwL04HgMJ"
      }
    },
    {
      "cell_type": "markdown",
      "source": [
        "------------------------------------------------\n",
        "\n",
        "The actual process of selecting and refining kernels happens during the training phase, specifically through the backpropagation algorithm and gradient descent.\n",
        "\n",
        "Steps:\n",
        "\n",
        "Forward Pass:\n",
        "\n",
        "The input image (or feature map) is passed through the CNN layers, where each layer applies its respective kernels to extract features.\n",
        "Initially, the kernels produce arbitrary feature maps since they were initialized randomly.\n",
        "Loss Calculation:\n",
        "\n",
        "The output of the network is compared with the target label (for example, a class label in classification tasks).\n",
        "A loss function (e.g., cross-entropy loss for classification) is calculated, which measures how well the network's output matches the desired result.\n",
        "\n",
        "Backpropagation:\n",
        "\n",
        "The backpropagation algorithm computes the gradient of the loss function with respect to the kernel values. This tells the network how to adjust the kernels to minimize the loss.\n",
        "\n",
        "Essentially, the network \"learns\" which kernels (filters) help reduce the error and improve its predictions.\n",
        "Gradient Descent Update:\n",
        "\n",
        "Using an optimization technique like gradient descent (or variants like Adam, SGD, etc.), the network updates the kernel values. The gradients indicate how the kernels should be modified to reduce the loss.\n",
        "\n",
        "The weights (values of the kernels) are adjusted to improve the network’s performance on the task.\n",
        "Repetition:\n",
        "\n",
        "This process repeats for each batch of training data, allowing the network to gradually refine the kernels over many iterations (epochs).\n",
        "\n",
        "As the kernels are updated over time, they learn to detect more useful and abstract features, such as edges, textures, and eventually high-level features like shapes and objects."
      ],
      "metadata": {
        "id": "tSy8-LHe_2G8"
      }
    },
    {
      "cell_type": "markdown",
      "source": [
        "***\n",
        "Convolutional Layers: Learn spatial features (edges, textures, objects, etc.).\n",
        "\n",
        "Example: After several convolutional layers, you might have learned features like \"horizontal edge,\" \"vertical edge,\" \"red color,\" or \"round shape\" in an image.\n",
        "\n",
        "Flattening: After convolutional layers, the output is typically in the form of a multi-dimensional tensor (height, width, and depth). Before passing this output to a linear layer, it is often flattened into a 1D vector. This flattening process turns the 2D feature maps (the output of the convolutional layers) into a 1D vector of features that the linear layer can use.\n",
        "\n",
        "Linear Layer: The linear layer then takes this vector of features and processes them in a way that allows the model to make a final decision (such as classifying an image into one of several categories)."
      ],
      "metadata": {
        "id": "LzmQiQ6EL7ou"
      }
    },
    {
      "cell_type": "code",
      "source": [
        "model=Cifar10CnnModel()\n",
        "model"
      ],
      "metadata": {
        "id": "VtciQhxB_9TU"
      },
      "execution_count": null,
      "outputs": []
    },
    {
      "cell_type": "markdown",
      "source": [
        "Let's verify that the model produces the expected output on a batch of training data. The 10 outputs for each image can be interpreted as probabilities for the 10 target classes (after applying softmax), and the class with the highest probability is chosen as the label predicted by the model for the input image."
      ],
      "metadata": {
        "id": "uigmHeb5M4o2"
      }
    },
    {
      "cell_type": "code",
      "source": [
        "for images,labels in train_dl:\n",
        "  print('images.shape',images.shape)\n",
        "  out=model(images)\n",
        "  print('out shape:',out.shape)\n",
        "  print('out[0]',out[0])\n",
        "  break"
      ],
      "metadata": {
        "id": "ZUfBSMwkMYsL"
      },
      "execution_count": null,
      "outputs": []
    },
    {
      "cell_type": "code",
      "source": [
        "def get_default_device():\n",
        "  # pick GPU else CPU\n",
        "  if torch.cuda.is_available():\n",
        "    return torch.device('cuda')\n",
        "  else:\n",
        "    return torch.device('cpu')\n",
        "\n",
        "def to_device(data,device):\n",
        "  # Move tensor to chosen device\n",
        "  if isinstance(data,(list,tuple)):\n",
        "    return [to_device(x,device) for x in data]\n",
        "  return daat.to_device(device,non_blocking=True)\n",
        "\n",
        "def DeviceDataLoader():\n",
        "  # Wrap a dataloader to move data to device\n",
        "  def __init__(self,dl,device):\n",
        "    self.dl=dl\n",
        "    self.device=device\n",
        "\n",
        "# Yield a batch of data after moving to device\n",
        "  def __iter__(self):\n",
        "    for b in self.dl:\n",
        "      yield to_device(b,self.device)\n",
        "#Count the no of batches\n",
        "  def __len__(self):\n",
        "    return len(self.dl)"
      ],
      "metadata": {
        "id": "c4YFUj_ENNtw"
      },
      "execution_count": null,
      "outputs": []
    },
    {
      "cell_type": "markdown",
      "source": [
        "When training neural networks, you often have to deal with batches of data (e.g., a batch of images or a batch of input features). These batches could be in the form of:\n",
        "\n",
        "A list or tuple containing multiple individual tensors, such as different parts of the input data (e.g., image data and labels).\n",
        "\n",
        "\n",
        "A single tensor representing the whole batch.\n",
        "In such cases, the to_device function recursively checks if data is a list or tuple.\n",
        "\n",
        "If it is, it applies the same to_device function to each element inside the list or tuple. This ensures that all the tensors in the list or tuple are moved to the same device (CPU or GPU)."
      ],
      "metadata": {
        "id": "c5HP4n3qOWju"
      }
    },
    {
      "cell_type": "code",
      "source": [
        "device=get_default_device()\n",
        "device"
      ],
      "metadata": {
        "id": "XF1ZMv0-PPu4"
      },
      "execution_count": null,
      "outputs": []
    },
    {
      "cell_type": "code",
      "source": [
        "train_loader=DeviceDataLoader(train_dl,device)\n",
        "val_loader=DeviceDataLoader(val_dl,device)"
      ],
      "metadata": {
        "id": "OhApH0TwPmxV"
      },
      "execution_count": null,
      "outputs": []
    },
    {
      "cell_type": "code",
      "source": [
        "to_device(model,device)\n",
        "# pehle wale se cpu mei jaa raha then gpu mei"
      ],
      "metadata": {
        "id": "xjv-vH4uP6w-"
      },
      "execution_count": null,
      "outputs": []
    },
    {
      "cell_type": "markdown",
      "source": [
        "A feature map is an essential concept in Convolutional Neural Networks (CNNs). It refers to the output of a convolutional layer (or any layer that performs feature extraction) after it has been applied to the input data. Essentially, it's a transformed version of the input data that highlights certain patterns or features."
      ],
      "metadata": {
        "id": "ou3roL4AQ39n"
      }
    },
    {
      "cell_type": "code",
      "source": [
        "@torch.no_grad()\n",
        "def evaluate(model,val_loader):\n",
        "  model.eval()\n",
        "  outputs=[model.validation_step(batch) for batch in val_loader]\n",
        "  return model.validation_epoch_end(outputs)\n",
        "\n",
        "def fit(epochs,lr,model,train_loader,val_loader,opt_func=torch.optim.SGD):\n",
        "  history=[]\n",
        "  optimizer=opt_func(model.parameters(),lr)\n",
        "  for epoch in range(epochs):\n",
        "    model.train()\n",
        "    train_losses=[]\n",
        "    for batch in train_loader:\n",
        "      loss=model.training_step(batch)\n",
        "      train_losses.append(loss)\n",
        "      loss.backward()\n",
        "      optimizer.step()\n",
        "      optimizer.zero_grad()\n",
        "\n",
        "    # Validation Phase:\n",
        "    result=evaluate(model,val_loader)\n",
        "    result['train_loss']=torch.stack(train_losses).mean().item()\n",
        "    model.epoch_end(epoch,result)\n",
        "    history.append(result)\n",
        "  return history"
      ],
      "metadata": {
        "id": "bKngchi5Q4w-"
      },
      "execution_count": null,
      "outputs": []
    },
    {
      "cell_type": "markdown",
      "source": [
        " @torch.no_grad() decorator in PyTorch is a context manager that disables gradient tracking during the execution of a specific block of code. This is especially useful when you are performing inference (i.e., testing or validation) and do not need to compute gradients, which helps to save memory and improve performance.\n",
        "\n",
        "\n",
        "The model.eval() method in PyTorch is used to set a model into evaluation mode. This is an important part of working with neural networks, especially when you're switching from training mode to inference (testing or validation) mode.\n",
        "\n",
        "In PyTorch, some layers in a neural network, such as Dropout and Batch Normalization, behave differently during training and evaluation.\n",
        "\n",
        "Training Mode: During training, Dropout randomly deactivates certain neurons to prevent overfitting, and Batch Normalization normalizes activations based on the current batch of data.\n",
        "\n",
        "Evaluation Mode: During evaluation, we don’t want Dropout to deactivate any neurons, and we want Batch Normalization to use the running statistics (mean and variance) computed during training, not the statistics of the current batch.\n",
        "\n",
        "By calling model.eval(), you're telling PyTorch to disable Dropout and use the fixed statistics for Batch Normalization during inference.\n",
        "\n",
        "What Happens When You Call model.eval()?\n",
        "Dropout Layers: Dropout is disabled, meaning that no neurons will be randomly deactivated. All neurons will be active.\n",
        "\n",
        "Batch Normalization: Instead of using the statistics of the current batch (which can be noisy), the model will use the running averages of the mean and variance computed during training."
      ],
      "metadata": {
        "id": "hwmRpT-WpRKO"
      }
    },
    {
      "cell_type": "markdown",
      "source": [
        "Why Use model.train()?\n",
        "When you're training a model, you want some layers to behave in a specific way:\n",
        "\n",
        "Dropout should be active and randomly deactivate neurons during training to prevent overfitting.\n",
        "\n",
        "Batch Normalization should compute statistics (mean and variance) from the current batch of data, as it helps the model learn the distribution of the data during training."
      ],
      "metadata": {
        "id": "dfG5zFfFrIUO"
      }
    },
    {
      "cell_type": "code",
      "source": [
        "model=to_device(Cifar10CnnModel(),device)"
      ],
      "metadata": {
        "id": "efTJ5b5sp_Sa"
      },
      "execution_count": null,
      "outputs": []
    },
    {
      "cell_type": "code",
      "source": [
        "evaluate(model,val_loader)"
      ],
      "metadata": {
        "id": "qRlZq2-Nsk9Q"
      },
      "execution_count": null,
      "outputs": []
    },
    {
      "cell_type": "code",
      "source": [
        "num_epochs=10\n",
        "opt_Func=torch.optim.Adam\n",
        "lr=0.001"
      ],
      "metadata": {
        "id": "jasJe9P3soHz"
      },
      "execution_count": null,
      "outputs": []
    },
    {
      "cell_type": "code",
      "source": [
        "history=fit(num_epochs,lr,model,train_loader,val_loader,opt_func)"
      ],
      "metadata": {
        "id": "jXCpmsudtCVS"
      },
      "execution_count": null,
      "outputs": []
    },
    {
      "cell_type": "markdown",
      "source": [
        "Adam (Adaptive Moment Estimation) and SGD (Stochastic Gradient Descent) are both optimization algorithms commonly used to train machine learning models, especially in the context of deep learning.\n",
        "\n",
        "Both algorithms aim to minimize the loss function by updating the model's weights during training, but they do so in different ways.\n",
        "\n",
        "How SGD Works:\n",
        "\n",
        "In SGD, we compute the gradient of the loss function with respect to the parameters (weights) using a small batch (or a single data point) at each step. This is in contrast to Batch Gradient Descent, where the gradient is computed over the entire dataset.\n",
        "\n",
        "We update the model parameters after every batch or data point, which is why it's called stochastic.\n",
        "\n",
        "Adam maintains two moving averages for each parameter:\n",
        "First moment (mt): The running average of the gradients.\n",
        "Second moment (vt): The running average of the squared gradients.\n",
        "\n",
        "These moments are used to adjust the learning rate for each parameter individually, making Adam more robust to different types of data and model architectures"
      ],
      "metadata": {
        "id": "T9gX17nhuBYE"
      }
    },
    {
      "cell_type": "code",
      "source": [
        "def plot_accuracies(history):\n",
        "  accuracies=[x['val_accuracy'] for x in history]\n",
        "  plt.plot(accuracies,'-x')\n",
        "  plt.xlabel('epoch')\n",
        "  plt.ylabel('accuracy')\n",
        "  plt.title('Accuracy vs No of Epoch')"
      ],
      "metadata": {
        "id": "daPL_lqTur3f"
      },
      "execution_count": null,
      "outputs": []
    },
    {
      "cell_type": "code",
      "source": [
        "plot_accuracies(history)"
      ],
      "metadata": {
        "id": "EJ2Rk434vPqY"
      },
      "execution_count": null,
      "outputs": []
    },
    {
      "cell_type": "markdown",
      "source": [
        "Our model reaches an accuracy of around 75%, and by looking at the graph, it seems unlikely that the model will achieve an accuracy higher than 80% even after training for a long time. This suggests that we might need to use a more powerful model to capture the relationship between the images and the labels more accurately. This can be done by adding more convolutional layers to our model, or incrasing the no. of channels in each convolutional layer, or by using regularization techniques."
      ],
      "metadata": {
        "id": "D0FLdwhmviNi"
      }
    },
    {
      "cell_type": "code",
      "source": [
        "def plot_losses(history):\n",
        "  train_losses=[x.get('train_loss') for x in history]\n",
        "  val_losses=[x['val_loss'] for x in history]\n",
        "  plt.plot(train_losses,'-bx')\n",
        "  plt.plot(val_losses,'-rx')\n",
        "  plt.xlabel('epoch')\n",
        "  plt.ylabel('loss')\n",
        "  plt.legend(['Training','Validation'])\n",
        "  plt.title('Loss vs no of Epochs')"
      ],
      "metadata": {
        "id": "bWzNG2FFvZD4"
      },
      "execution_count": null,
      "outputs": []
    },
    {
      "cell_type": "markdown",
      "source": [
        "get() is safer because if the key is missing, it will return None (or a default value) instead of raising an error.\n",
        "Direct access (x['train_loss']) is faster but will raise an error if the key is missing."
      ],
      "metadata": {
        "id": "66yJHOmOwgJW"
      }
    },
    {
      "cell_type": "markdown",
      "source": [
        "Initialy, both the training and validation losses seem to decrease over time. However, if you train the model for long enough, you will notice that the training loss continues to decrease, while the validation loss stops decreasing, and even starts to increase after a certain point!"
      ],
      "metadata": {
        "id": "n0FmVr0-vtFT"
      }
    },
    {
      "cell_type": "markdown",
      "source": [
        "This phenomenon is called overfitting, and it is the no. 1 why many machine learning models give rather terrible results on real-world data. It happens because the model, in an attempt to minimize the loss, starts to learn patters are are unique to the training data, sometimes even memorizing specific training examples. Because of this, the model does not generalize well to previously unseen data"
      ],
      "metadata": {
        "id": "BUs8Rygax9X3"
      }
    },
    {
      "cell_type": "code",
      "source": [
        "plot_losses(history)"
      ],
      "metadata": {
        "id": "X0hAzZCpvS_t"
      },
      "execution_count": null,
      "outputs": []
    },
    {
      "cell_type": "markdown",
      "source": [
        "Following are some common stragegies for avoiding overfitting:\n",
        "\n",
        "Gathering and generating more training data, or adding noise to it\n",
        "\n",
        "Using regularization techniques like batch normalization & dropout(nn.dropout(0.4))\n",
        "\n",
        "Early stopping of model's training, when validation loss starts to increase"
      ],
      "metadata": {
        "id": "aRCE2mViyw5b"
      }
    },
    {
      "cell_type": "code",
      "source": [
        "test_dataset=ImageFolder(data_dir+'/test',transform=Totensor())"
      ],
      "metadata": {
        "id": "V__yIF7QxLtP"
      },
      "execution_count": null,
      "outputs": []
    },
    {
      "cell_type": "code",
      "source": [
        "def predict_image(img,model):\n",
        "  # Convert to a batch of 1\n",
        "  xb=to_device(img.unsqueeze(0),device)\n",
        "  # Get prediction from model\n",
        "  yb=model(xb)\n",
        "  # Pick index with highest probability\n",
        "  _,preds=torch.max(yb,dim=1)\n",
        "  # Retrieve the class label\n",
        "  return dataset.classes[preds[0].item()]\n"
      ],
      "metadata": {
        "id": "bSZw6GczzY67"
      },
      "execution_count": null,
      "outputs": []
    },
    {
      "cell_type": "markdown",
      "source": [
        "If your image has a shape of (channels, height, width), adding the batch dimension will change the shape to (1, channels, height, width), representing a single image in a batch."
      ],
      "metadata": {
        "id": "11sZkFkc0jAg"
      }
    },
    {
      "cell_type": "markdown",
      "source": [
        "--------------------------------------------\n",
        "WHY ARE WE MAKING IT TO BATCH OF 1 NOT 128?\n",
        "\n",
        "When Would You Use Larger Batches?\n",
        "You would use larger batch sizes (e.g., 128) when:\n",
        "\n",
        "You're training the model and want to accelerate the training process by feeding multiple images at once.\n",
        "You're running inference in bulk and have a large dataset or need to process multiple images in parallel.\n",
        "\n",
        "This is most likely for model inference or evaluation on a single image.\n",
        "\n",
        "When you're passing a single image to a model, PyTorch still expects the input to be in the format of a batch, even if that batch contains only one image.\n",
        "\n",
        "Why a batch?: Neural networks are usually designed to process multiple inputs simultaneously, even if you're working with just one. By adding a batch dimension with unsqueeze(0), you're preparing the image in the correct format for the model, which expects an input of shape (batch_size, channels, height, width)."
      ],
      "metadata": {
        "id": "X650gfAY1Sum"
      }
    },
    {
      "cell_type": "markdown",
      "source": [
        "***\n",
        "preds[0] extracts the predictions for the first image in the batch.\n",
        "\n",
        ".item() gets the index of the predicted class from those logits or probabilities.\n",
        "\n",
        "dataset.classes[...] maps the class index to the actual class name or label."
      ],
      "metadata": {
        "id": "e4Z_F1bT3TVk"
      }
    },
    {
      "cell_type": "markdown",
      "source": [
        "***\n",
        "What .item() Does?\n",
        "\n",
        "\n",
        ".item() is a method that extracts a single value from a tensor and returns it as a Python native type (like an integer or a float), but it does not return the tensor as it is.\n",
        "\n",
        "Typically, .item() is used when a tensor has only one value, such as when you're extracting a scalar from a tensor of shape (1,)\n",
        "\n",
        "But in the context of classification, .item() can be used for a different purpose: it’s used to get the index of the predicted class when dealing with logits or probabilities."
      ],
      "metadata": {
        "id": "YBtbdB3f38tb"
      }
    },
    {
      "cell_type": "code",
      "source": [
        "img,label=test_dataset[0]\n",
        "plt.imshow(img.permute(1,2,0))\n",
        "print('Label:',dataset.classes[label],'Predicted:',predict_image(img,model))"
      ],
      "metadata": {
        "id": "rz4Ke4SS1hZ6"
      },
      "execution_count": null,
      "outputs": []
    },
    {
      "cell_type": "code",
      "source": [
        "img,label=test_dataset[1002]\n",
        "plt.imshow(img.permute(1,2,0))\n",
        "print('Label:',dataset.classes[label],'Predicted:',predict_image(img,model))"
      ],
      "metadata": {
        "id": "WBHcdu8146WO"
      },
      "execution_count": null,
      "outputs": []
    },
    {
      "cell_type": "code",
      "source": [
        "img,label=test_dataset[6153]\n",
        "plt.imshow(img.permute(1,2,0))\n",
        "print('Label:',dataset.classes[label],'Predicted:',predict_image(img,model))"
      ],
      "metadata": {
        "id": "bS4em-vu5QzB"
      },
      "execution_count": null,
      "outputs": []
    },
    {
      "cell_type": "code",
      "source": [
        "test_loader=DeviceDataLoader(DataLoader(test_dataset,batch_size*2),device)\n",
        "result=evaluate(model,test_loader)\n",
        "result"
      ],
      "metadata": {
        "id": "L6kbeD6I5lxc"
      },
      "execution_count": null,
      "outputs": []
    },
    {
      "cell_type": "code",
      "source": [
        "torch.save(model.state_dict(),'cifar10-cnn.pth')"
      ],
      "metadata": {
        "id": "wY0lALnc577k"
      },
      "execution_count": null,
      "outputs": []
    },
    {
      "cell_type": "markdown",
      "source": [
        "The `.state_dict` method returns an `OrderedDict` containing all the weights and bias matrices mapped to the right attributes of the model. To load the model weights, we can redefine the model with the same structure, and use the `.load_state_dict` method."
      ],
      "metadata": {
        "id": "8xBEYKx16Rw3"
      }
    },
    {
      "cell_type": "code",
      "source": [
        "model2=to_device(Cifar10CnnModel(),device)"
      ],
      "metadata": {
        "id": "djXjlskx6Svo"
      },
      "execution_count": null,
      "outputs": []
    },
    {
      "cell_type": "code",
      "source": [
        "model2.load_state_dict(torch.load('cifar10-cnn.pth'))"
      ],
      "metadata": {
        "id": "l99iBaf96cNr"
      },
      "execution_count": null,
      "outputs": []
    },
    {
      "cell_type": "code",
      "source": [
        "evaluate(model2,test_loader)"
      ],
      "metadata": {
        "id": "f_jjqRRn6tYW"
      },
      "execution_count": null,
      "outputs": []
    },
    {
      "cell_type": "markdown",
      "source": [
        "Network architecture refers to the structure and design of a neural network, including the number of layers, the types of layers used, and how they are connected. It defines the model's ability to learn from data and make predictions or classifications."
      ],
      "metadata": {
        "id": "WoAgabXq7MNm"
      }
    },
    {
      "cell_type": "code",
      "source": [
        "# BlogPosts"
      ],
      "metadata": {
        "id": "Kbvcb2hm63GQ"
      },
      "execution_count": null,
      "outputs": []
    }
  ]
}
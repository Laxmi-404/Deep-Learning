{
  "nbformat": 4,
  "nbformat_minor": 0,
  "metadata": {
    "colab": {
      "provenance": [],
      "authorship_tag": "ABX9TyOJ/ijv6xO1VEhnkKUQR5Iq",
      "include_colab_link": true
    },
    "kernelspec": {
      "name": "python3",
      "display_name": "Python 3"
    },
    "language_info": {
      "name": "python"
    }
  },
  "cells": [
    {
      "cell_type": "markdown",
      "metadata": {
        "id": "view-in-github",
        "colab_type": "text"
      },
      "source": [
        "<a href=\"https://colab.research.google.com/github/Laxmi-404/Deep-Learning/blob/main/DL2_BASICS.ipynb\" target=\"_parent\"><img src=\"https://colab.research.google.com/assets/colab-badge.svg\" alt=\"Open In Colab\"/></a>"
      ]
    },
    {
      "cell_type": "code",
      "execution_count": null,
      "metadata": {
        "id": "qr0nU-WR9GNy"
      },
      "outputs": [],
      "source": [
        "# Image Classification of using Logistic Regression in PyTorch\n",
        "import torch\n",
        "import torchvision"
      ]
    },
    {
      "cell_type": "code",
      "source": [
        "from torchvision.datasets import MNIST\n",
        "# Torchvision contains utility for working with image data"
      ],
      "metadata": {
        "id": "3TXkkiYs_4oP"
      },
      "execution_count": null,
      "outputs": []
    },
    {
      "cell_type": "code",
      "source": [
        "# Download training dataset\n",
        "dataset=MNIST(root=r'C:\\Users\\Admin\\OneDrive\\Desktop\\DEEP_LEARNING',download=True)\n",
        "# dataset=MNIST(root='data/',download=True)\n"
      ],
      "metadata": {
        "id": "_e3yyW_EAVL7"
      },
      "execution_count": null,
      "outputs": []
    },
    {
      "cell_type": "code",
      "source": [
        "dataset"
      ],
      "metadata": {
        "colab": {
          "base_uri": "https://localhost:8080/"
        },
        "id": "mTebLq85Ao8e",
        "outputId": "a5f0833e-92f0-4e2e-887f-8bdd4605c12a"
      },
      "execution_count": null,
      "outputs": [
        {
          "output_type": "execute_result",
          "data": {
            "text/plain": [
              "Dataset MNIST\n",
              "    Number of datapoints: 60000\n",
              "    Root location: C:\\Users\\Admin\\OneDrive\\Desktop\\DEEP_LEARNING\n",
              "    Split: Train"
            ]
          },
          "metadata": {},
          "execution_count": 150
        }
      ]
    },
    {
      "cell_type": "code",
      "source": [
        "len(dataset)"
      ],
      "metadata": {
        "colab": {
          "base_uri": "https://localhost:8080/"
        },
        "id": "9Mx87zADAxFD",
        "outputId": "f5cbc759-f4fa-48ac-e86f-7a11bfd43758"
      },
      "execution_count": null,
      "outputs": [
        {
          "output_type": "execute_result",
          "data": {
            "text/plain": [
              "60000"
            ]
          },
          "metadata": {},
          "execution_count": 151
        }
      ]
    },
    {
      "cell_type": "code",
      "source": [
        "test_dataset=MNIST(root=r\"C:\\Users\\Admin\\OneDrive\\Desktop\\DEEP_LEARNING\",train=False)\n",
        "len(test_dataset)"
      ],
      "metadata": {
        "colab": {
          "base_uri": "https://localhost:8080/"
        },
        "id": "qIBAL6OXBDtY",
        "outputId": "dfdcfd8e-6e64-4c85-89ab-64c9644fc120"
      },
      "execution_count": null,
      "outputs": [
        {
          "output_type": "execute_result",
          "data": {
            "text/plain": [
              "10000"
            ]
          },
          "metadata": {},
          "execution_count": 152
        }
      ]
    },
    {
      "cell_type": "code",
      "source": [
        "dataset[0]"
      ],
      "metadata": {
        "colab": {
          "base_uri": "https://localhost:8080/"
        },
        "id": "aZze05zWCEhq",
        "outputId": "d287ee2a-2d59-4adc-e34b-200b7c22231a"
      },
      "execution_count": null,
      "outputs": [
        {
          "output_type": "execute_result",
          "data": {
            "text/plain": [
              "(<PIL.Image.Image image mode=L size=28x28>, 5)"
            ]
          },
          "metadata": {},
          "execution_count": 153
        }
      ]
    },
    {
      "cell_type": "markdown",
      "source": [
        "Its a pair,consisting of 28*28 image and label.The image is an object of class PIL.Image.Image,which is part of Python Imaginary library Pillow.We can view the image using matplotlib,the de facto plotting and graphing library for data science in python."
      ],
      "metadata": {
        "id": "Q0SCEMkIPHuD"
      }
    },
    {
      "cell_type": "code",
      "source": [
        "import matplotlib.pyplot as plt\n",
        "%matplotlib inline\n",
        "# no popup\n",
        "# Statements starting with % are called iPython magic commands."
      ],
      "metadata": {
        "id": "hz7xAO7KO4yO"
      },
      "execution_count": null,
      "outputs": []
    },
    {
      "cell_type": "code",
      "source": [
        "image,label=dataset[0]\n",
        "plt.imshow(image,cmap='gray')\n",
        "print('Label:',label)\n",
        "# gray scale image\n",
        "# pixel by pixel plot of color of image"
      ],
      "metadata": {
        "colab": {
          "base_uri": "https://localhost:8080/",
          "height": 447
        },
        "id": "56VJeVKoLvQZ",
        "outputId": "642765e0-118d-4896-b2c3-1616c937bd21"
      },
      "execution_count": null,
      "outputs": [
        {
          "output_type": "stream",
          "name": "stdout",
          "text": [
            "Label: 5\n"
          ]
        },
        {
          "output_type": "display_data",
          "data": {
            "text/plain": [
              "<Figure size 640x480 with 1 Axes>"
            ],
            "image/png": "[encoded data removed]"
          },
          "metadata": {}
        }
      ]
    },
    {
      "cell_type": "code",
      "source": [
        "image,label=dataset[10]\n",
        "plt.imshow(image,cmap='gray')\n",
        "print('Label:',label)"
      ],
      "metadata": {
        "colab": {
          "base_uri": "https://localhost:8080/",
          "height": 447
        },
        "id": "U3ICcnpvNKtT",
        "outputId": "b1937dcc-2423-47f9-c68b-26bed22e31d1"
      },
      "execution_count": null,
      "outputs": [
        {
          "output_type": "stream",
          "name": "stdout",
          "text": [
            "Label: 3\n"
          ]
        },
        {
          "output_type": "display_data",
          "data": {
            "text/plain": [
              "<Figure size 640x480 with 1 Axes>"
            ],
            "image/png": "[encoded data removed]"
          },
          "metadata": {}
        }
      ]
    },
    {
      "cell_type": "code",
      "source": [
        "# need for image to convert to tensors(identify karna hard hai!)\n",
        "import torchvision.transforms as transforms"
      ],
      "metadata": {
        "id": "Q8HFdhA3Ngkh"
      },
      "execution_count": null,
      "outputs": []
    },
    {
      "cell_type": "code",
      "source": [
        "root=r'C:\\Users\\Admin\\OneDrive\\Desktop\\DEEP_LEARNING'\n",
        "# MNIST(image and label)\n",
        "dataset=MNIST(root=root,\n",
        "              train=True,\n",
        "              transform=transforms.ToTensor())"
      ],
      "metadata": {
        "id": "kIElEIReN7KR"
      },
      "execution_count": null,
      "outputs": []
    },
    {
      "cell_type": "code",
      "source": [
        "dataset"
      ],
      "metadata": {
        "colab": {
          "base_uri": "https://localhost:8080/"
        },
        "id": "4gskpmj9PNk2",
        "outputId": "e054ded4-be4f-4386-870f-eed7707ac06f"
      },
      "execution_count": null,
      "outputs": [
        {
          "output_type": "execute_result",
          "data": {
            "text/plain": [
              "Dataset MNIST\n",
              "    Number of datapoints: 60000\n",
              "    Root location: C:\\Users\\Admin\\OneDrive\\Desktop\\DEEP_LEARNING\n",
              "    Split: Train\n",
              "    StandardTransform\n",
              "Transform: ToTensor()"
            ]
          },
          "metadata": {},
          "execution_count": 159
        }
      ]
    },
    {
      "cell_type": "code",
      "source": [
        "img_tensor,label=dataset[0]\n",
        "print(img_tensor.shape,label)"
      ],
      "metadata": {
        "colab": {
          "base_uri": "https://localhost:8080/"
        },
        "id": "Z1aaV6lyPQJs",
        "outputId": "83a378ac-3715-4dfd-ea5c-e73bd6e8f1c8"
      },
      "execution_count": null,
      "outputs": [
        {
          "output_type": "stream",
          "name": "stdout",
          "text": [
            "torch.Size([1, 28, 28]) 5\n"
          ]
        }
      ]
    },
    {
      "cell_type": "markdown",
      "source": [
        "In machine learning, the label is the target or ground truth that a model is trying to predict or classify. It’s the value that the model aims to output correctly, given the input features.\n",
        "\n",
        "In the context of the MNIST dataset:\n",
        "\n",
        "Input: The images of the handwritten digits (28x28 pixel grayscale images).\n",
        "\n",
        "Label (Target): The actual digit (from 0 to 9) that the image represents. For example, if an image shows the digit 5, the label for that image will be 5."
      ],
      "metadata": {
        "id": "KBi0CRtPPsK8"
      }
    },
    {
      "cell_type": "markdown",
      "source": [
        "The image is now converted to 28 * 28 tensor.The first dimension is used to keep record of no of color channels.\n",
        "\n",
        "For grayscale,there is one channel...RGB:3 Channel(red,green,blue)"
      ],
      "metadata": {
        "id": "zEcZBjy3PyM7"
      }
    },
    {
      "cell_type": "code",
      "source": [
        "print(img_tensor[:,10:15,10:15])"
      ],
      "metadata": {
        "colab": {
          "base_uri": "https://localhost:8080/"
        },
        "id": "bClV-KctPvdT",
        "outputId": "1ff8eb12-1f6c-45be-ad3d-dcd571cb18ea"
      },
      "execution_count": null,
      "outputs": [
        {
          "output_type": "stream",
          "name": "stdout",
          "text": [
            "tensor([[[0.0039, 0.6039, 0.9922, 0.3529, 0.0000],\n",
            "         [0.0000, 0.5451, 0.9922, 0.7451, 0.0078],\n",
            "         [0.0000, 0.0431, 0.7451, 0.9922, 0.2745],\n",
            "         [0.0000, 0.0000, 0.1373, 0.9451, 0.8824],\n",
            "         [0.0000, 0.0000, 0.0000, 0.3176, 0.9412]]])\n"
          ]
        }
      ]
    },
    {
      "cell_type": "code",
      "source": [
        "print(img_tensor.min(),img_tensor.max())"
      ],
      "metadata": {
        "colab": {
          "base_uri": "https://localhost:8080/"
        },
        "id": "HSMBXldfQcdO",
        "outputId": "814e684e-0134-48cb-8bd0-d5d385801d8d"
      },
      "execution_count": null,
      "outputs": [
        {
          "output_type": "stream",
          "name": "stdout",
          "text": [
            "tensor(0.) tensor(1.)\n"
          ]
        }
      ]
    },
    {
      "cell_type": "markdown",
      "source": [
        "values from 0 to 1: 0 for black and 1 for white and rest different values of gray..\n",
        "\n",
        "plot image using plt.imshow"
      ],
      "metadata": {
        "id": "Kzj21Z8dQwSi"
      }
    },
    {
      "cell_type": "code",
      "source": [
        "img_tensor"
      ],
      "metadata": {
        "colab": {
          "base_uri": "https://localhost:8080/"
        },
        "id": "GpRwHhA5QlB3",
        "outputId": "b0eacf86-e705-4c09-f4a1-838aa7f19e4f"
      },
      "execution_count": null,
      "outputs": [
        {
          "output_type": "execute_result",
          "data": {
            "text/plain": [
              "tensor([[[0.0000, 0.0000, 0.0000, 0.0000, 0.0000, 0.0000, 0.0000, 0.0000,\n",
              "          0.0000, 0.0000, 0.0000, 0.0000, 0.0000, 0.0000, 0.0000, 0.0000,\n",
              "          0.0000, 0.0000, 0.0000, 0.0000, 0.0000, 0.0000, 0.0000, 0.0000,\n",
              "          0.0000, 0.0000, 0.0000, 0.0000],\n",
              "         [0.0000, 0.0000, 0.0000, 0.0000, 0.0000, 0.0000, 0.0000, 0.0000,\n",
              "          0.0000, 0.0000, 0.0000, 0.0000, 0.0000, 0.0000, 0.0000, 0.0000,\n",
              "          0.0000, 0.0000, 0.0000, 0.0000, 0.0000, 0.0000, 0.0000, 0.0000,\n",
              "          0.0000, 0.0000, 0.0000, 0.0000],\n",
              "         [0.0000, 0.0000, 0.0000, 0.0000, 0.0000, 0.0000, 0.0000, 0.0000,\n",
              "          0.0000, 0.0000, 0.0000, 0.0000, 0.0000, 0.0000, 0.0000, 0.0000,\n",
              "          0.0000, 0.0000, 0.0000, 0.0000, 0.0000, 0.0000, 0.0000, 0.0000,\n",
              "          0.0000, 0.0000, 0.0000, 0.0000],\n",
              "         [0.0000, 0.0000, 0.0000, 0.0000, 0.0000, 0.0000, 0.0000, 0.0000,\n",
              "          0.0000, 0.0000, 0.0000, 0.0000, 0.0000, 0.0000, 0.0000, 0.0000,\n",
              "          0.0000, 0.0000, 0.0000, 0.0000, 0.0000, 0.0000, 0.0000, 0.0000,\n",
              "          0.0000, 0.0000, 0.0000, 0.0000],\n",
              "         [0.0000, 0.0000, 0.0000, 0.0000, 0.0000, 0.0000, 0.0000, 0.0000,\n",
              "          0.0000, 0.0000, 0.0000, 0.0000, 0.0000, 0.0000, 0.0000, 0.0000,\n",
              "          0.0000, 0.0000, 0.0000, 0.0000, 0.0000, 0.0000, 0.0000, 0.0000,\n",
              "          0.0000, 0.0000, 0.0000, 0.0000],\n",
              "         [0.0000, 0.0000, 0.0000, 0.0000, 0.0000, 0.0000, 0.0000, 0.0000,\n",
              "          0.0000, 0.0000, 0.0000, 0.0000, 0.0118, 0.0706, 0.0706, 0.0706,\n",
              "          0.4941, 0.5333, 0.6863, 0.1020, 0.6510, 1.0000, 0.9686, 0.4980,\n",
              "          0.0000, 0.0000, 0.0000, 0.0000],\n",
              "         [0.0000, 0.0000, 0.0000, 0.0000, 0.0000, 0.0000, 0.0000, 0.0000,\n",
              "          0.1176, 0.1412, 0.3686, 0.6039, 0.6667, 0.9922, 0.9922, 0.9922,\n",
              "          0.9922, 0.9922, 0.8824, 0.6745, 0.9922, 0.9490, 0.7647, 0.2510,\n",
              "          0.0000, 0.0000, 0.0000, 0.0000],\n",
              "         [0.0000, 0.0000, 0.0000, 0.0000, 0.0000, 0.0000, 0.0000, 0.1922,\n",
              "          0.9333, 0.9922, 0.9922, 0.9922, 0.9922, 0.9922, 0.9922, 0.9922,\n",
              "          0.9922, 0.9843, 0.3647, 0.3216, 0.3216, 0.2196, 0.1529, 0.0000,\n",
              "          0.0000, 0.0000, 0.0000, 0.0000],\n",
              "         [0.0000, 0.0000, 0.0000, 0.0000, 0.0000, 0.0000, 0.0000, 0.0706,\n",
              "          0.8588, 0.9922, 0.9922, 0.9922, 0.9922, 0.9922, 0.7765, 0.7137,\n",
              "          0.9686, 0.9451, 0.0000, 0.0000, 0.0000, 0.0000, 0.0000, 0.0000,\n",
              "          0.0000, 0.0000, 0.0000, 0.0000],\n",
              "         [0.0000, 0.0000, 0.0000, 0.0000, 0.0000, 0.0000, 0.0000, 0.0000,\n",
              "          0.3137, 0.6118, 0.4196, 0.9922, 0.9922, 0.8039, 0.0431, 0.0000,\n",
              "          0.1686, 0.6039, 0.0000, 0.0000, 0.0000, 0.0000, 0.0000, 0.0000,\n",
              "          0.0000, 0.0000, 0.0000, 0.0000],\n",
              "         [0.0000, 0.0000, 0.0000, 0.0000, 0.0000, 0.0000, 0.0000, 0.0000,\n",
              "          0.0000, 0.0549, 0.0039, 0.6039, 0.9922, 0.3529, 0.0000, 0.0000,\n",
              "          0.0000, 0.0000, 0.0000, 0.0000, 0.0000, 0.0000, 0.0000, 0.0000,\n",
              "          0.0000, 0.0000, 0.0000, 0.0000],\n",
              "         [0.0000, 0.0000, 0.0000, 0.0000, 0.0000, 0.0000, 0.0000, 0.0000,\n",
              "          0.0000, 0.0000, 0.0000, 0.5451, 0.9922, 0.7451, 0.0078, 0.0000,\n",
              "          0.0000, 0.0000, 0.0000, 0.0000, 0.0000, 0.0000, 0.0000, 0.0000,\n",
              "          0.0000, 0.0000, 0.0000, 0.0000],\n",
              "         [0.0000, 0.0000, 0.0000, 0.0000, 0.0000, 0.0000, 0.0000, 0.0000,\n",
              "          0.0000, 0.0000, 0.0000, 0.0431, 0.7451, 0.9922, 0.2745, 0.0000,\n",
              "          0.0000, 0.0000, 0.0000, 0.0000, 0.0000, 0.0000, 0.0000, 0.0000,\n",
              "          0.0000, 0.0000, 0.0000, 0.0000],\n",
              "         [0.0000, 0.0000, 0.0000, 0.0000, 0.0000, 0.0000, 0.0000, 0.0000,\n",
              "          0.0000, 0.0000, 0.0000, 0.0000, 0.1373, 0.9451, 0.8824, 0.6275,\n",
              "          0.4235, 0.0039, 0.0000, 0.0000, 0.0000, 0.0000, 0.0000, 0.0000,\n",
              "          0.0000, 0.0000, 0.0000, 0.0000],\n",
              "         [0.0000, 0.0000, 0.0000, 0.0000, 0.0000, 0.0000, 0.0000, 0.0000,\n",
              "          0.0000, 0.0000, 0.0000, 0.0000, 0.0000, 0.3176, 0.9412, 0.9922,\n",
              "          0.9922, 0.4667, 0.0980, 0.0000, 0.0000, 0.0000, 0.0000, 0.0000,\n",
              "          0.0000, 0.0000, 0.0000, 0.0000],\n",
              "         [0.0000, 0.0000, 0.0000, 0.0000, 0.0000, 0.0000, 0.0000, 0.0000,\n",
              "          0.0000, 0.0000, 0.0000, 0.0000, 0.0000, 0.0000, 0.1765, 0.7294,\n",
              "          0.9922, 0.9922, 0.5882, 0.1059, 0.0000, 0.0000, 0.0000, 0.0000,\n",
              "          0.0000, 0.0000, 0.0000, 0.0000],\n",
              "         [0.0000, 0.0000, 0.0000, 0.0000, 0.0000, 0.0000, 0.0000, 0.0000,\n",
              "          0.0000, 0.0000, 0.0000, 0.0000, 0.0000, 0.0000, 0.0000, 0.0627,\n",
              "          0.3647, 0.9882, 0.9922, 0.7333, 0.0000, 0.0000, 0.0000, 0.0000,\n",
              "          0.0000, 0.0000, 0.0000, 0.0000],\n",
              "         [0.0000, 0.0000, 0.0000, 0.0000, 0.0000, 0.0000, 0.0000, 0.0000,\n",
              "          0.0000, 0.0000, 0.0000, 0.0000, 0.0000, 0.0000, 0.0000, 0.0000,\n",
              "          0.0000, 0.9765, 0.9922, 0.9765, 0.2510, 0.0000, 0.0000, 0.0000,\n",
              "          0.0000, 0.0000, 0.0000, 0.0000],\n",
              "         [0.0000, 0.0000, 0.0000, 0.0000, 0.0000, 0.0000, 0.0000, 0.0000,\n",
              "          0.0000, 0.0000, 0.0000, 0.0000, 0.0000, 0.0000, 0.1804, 0.5098,\n",
              "          0.7176, 0.9922, 0.9922, 0.8118, 0.0078, 0.0000, 0.0000, 0.0000,\n",
              "          0.0000, 0.0000, 0.0000, 0.0000],\n",
              "         [0.0000, 0.0000, 0.0000, 0.0000, 0.0000, 0.0000, 0.0000, 0.0000,\n",
              "          0.0000, 0.0000, 0.0000, 0.0000, 0.1529, 0.5804, 0.8980, 0.9922,\n",
              "          0.9922, 0.9922, 0.9804, 0.7137, 0.0000, 0.0000, 0.0000, 0.0000,\n",
              "          0.0000, 0.0000, 0.0000, 0.0000],\n",
              "         [0.0000, 0.0000, 0.0000, 0.0000, 0.0000, 0.0000, 0.0000, 0.0000,\n",
              "          0.0000, 0.0000, 0.0941, 0.4471, 0.8667, 0.9922, 0.9922, 0.9922,\n",
              "          0.9922, 0.7882, 0.3059, 0.0000, 0.0000, 0.0000, 0.0000, 0.0000,\n",
              "          0.0000, 0.0000, 0.0000, 0.0000],\n",
              "         [0.0000, 0.0000, 0.0000, 0.0000, 0.0000, 0.0000, 0.0000, 0.0000,\n",
              "          0.0902, 0.2588, 0.8353, 0.9922, 0.9922, 0.9922, 0.9922, 0.7765,\n",
              "          0.3176, 0.0078, 0.0000, 0.0000, 0.0000, 0.0000, 0.0000, 0.0000,\n",
              "          0.0000, 0.0000, 0.0000, 0.0000],\n",
              "         [0.0000, 0.0000, 0.0000, 0.0000, 0.0000, 0.0000, 0.0706, 0.6706,\n",
              "          0.8588, 0.9922, 0.9922, 0.9922, 0.9922, 0.7647, 0.3137, 0.0353,\n",
              "          0.0000, 0.0000, 0.0000, 0.0000, 0.0000, 0.0000, 0.0000, 0.0000,\n",
              "          0.0000, 0.0000, 0.0000, 0.0000],\n",
              "         [0.0000, 0.0000, 0.0000, 0.0000, 0.2157, 0.6745, 0.8863, 0.9922,\n",
              "          0.9922, 0.9922, 0.9922, 0.9569, 0.5216, 0.0431, 0.0000, 0.0000,\n",
              "          0.0000, 0.0000, 0.0000, 0.0000, 0.0000, 0.0000, 0.0000, 0.0000,\n",
              "          0.0000, 0.0000, 0.0000, 0.0000],\n",
              "         [0.0000, 0.0000, 0.0000, 0.0000, 0.5333, 0.9922, 0.9922, 0.9922,\n",
              "          0.8314, 0.5294, 0.5176, 0.0627, 0.0000, 0.0000, 0.0000, 0.0000,\n",
              "          0.0000, 0.0000, 0.0000, 0.0000, 0.0000, 0.0000, 0.0000, 0.0000,\n",
              "          0.0000, 0.0000, 0.0000, 0.0000],\n",
              "         [0.0000, 0.0000, 0.0000, 0.0000, 0.0000, 0.0000, 0.0000, 0.0000,\n",
              "          0.0000, 0.0000, 0.0000, 0.0000, 0.0000, 0.0000, 0.0000, 0.0000,\n",
              "          0.0000, 0.0000, 0.0000, 0.0000, 0.0000, 0.0000, 0.0000, 0.0000,\n",
              "          0.0000, 0.0000, 0.0000, 0.0000],\n",
              "         [0.0000, 0.0000, 0.0000, 0.0000, 0.0000, 0.0000, 0.0000, 0.0000,\n",
              "          0.0000, 0.0000, 0.0000, 0.0000, 0.0000, 0.0000, 0.0000, 0.0000,\n",
              "          0.0000, 0.0000, 0.0000, 0.0000, 0.0000, 0.0000, 0.0000, 0.0000,\n",
              "          0.0000, 0.0000, 0.0000, 0.0000],\n",
              "         [0.0000, 0.0000, 0.0000, 0.0000, 0.0000, 0.0000, 0.0000, 0.0000,\n",
              "          0.0000, 0.0000, 0.0000, 0.0000, 0.0000, 0.0000, 0.0000, 0.0000,\n",
              "          0.0000, 0.0000, 0.0000, 0.0000, 0.0000, 0.0000, 0.0000, 0.0000,\n",
              "          0.0000, 0.0000, 0.0000, 0.0000]]])"
            ]
          },
          "metadata": {},
          "execution_count": 163
        }
      ]
    },
    {
      "cell_type": "code",
      "source": [
        "# Plot the image by passing it in 28*28 matrix\n",
        "# plt.imshow(img_tensor[0,10:15,10:15])\n",
        "plt.imshow(img_tensor[0,10:15,10:15],cmap='gray')"
      ],
      "metadata": {
        "colab": {
          "base_uri": "https://localhost:8080/",
          "height": 447
        },
        "id": "tUrOR3rQRDJJ",
        "outputId": "9a0d6151-5577-4746-d4f1-7cf5376abca0"
      },
      "execution_count": null,
      "outputs": [
        {
          "output_type": "execute_result",
          "data": {
            "text/plain": [
              "<matplotlib.image.AxesImage at 0x7af3a663fd50>"
            ]
          },
          "metadata": {},
          "execution_count": 164
        },
        {
          "output_type": "display_data",
          "data": {
            "text/plain": [
              "<Figure size 640x480 with 1 Axes>"
            ],
            "image/png": "[encoded data removed]"
          },
          "metadata": {}
        }
      ]
    },
    {
      "cell_type": "markdown",
      "source": [
        "img_tensor[0]: This is selecting the first image in the batch of images.\n",
        "\n",
        "If you have a batch of images, img_tensor will be a 4D tensor with dimensions (batch_size, channels, height, width).\n",
        "\n",
        "Here, 0 refers to the first image in the batch."
      ],
      "metadata": {
        "id": "Yr9hXwY0RwRa"
      }
    },
    {
      "cell_type": "markdown",
      "source": [
        "Training and Validation Sets:\n",
        "\n",
        "Training Set: used to train the model,compute the loss and adjust the weights using gradient descent.\n",
        "\n",
        "Validation Set:used to evaluate the model while training ,adjust hyperparameters(lr) and pick the best version.\n",
        "\n",
        "Test Set:used to compare diff models and report final accuracy of model.\n",
        "\n"
      ],
      "metadata": {
        "id": "VtbH-Bq1S-4S"
      }
    },
    {
      "cell_type": "code",
      "source": [
        "from torch.utils.data import random_split\n",
        "train_ds,val_ds=random_split(dataset,[50000,10000])\n",
        "len(train_ds),len(val_ds)"
      ],
      "metadata": {
        "colab": {
          "base_uri": "https://localhost:8080/"
        },
        "id": "jSS0sDPGRMaq",
        "outputId": "382ac5b7-25df-4b3b-a061-35f7711b718a"
      },
      "execution_count": null,
      "outputs": [
        {
          "output_type": "execute_result",
          "data": {
            "text/plain": [
              "(50000, 10000)"
            ]
          },
          "metadata": {},
          "execution_count": 165
        }
      ]
    },
    {
      "cell_type": "markdown",
      "source": [
        "Its important to choose a random sample for creating a validation set,because training daat is often ordered by labels that is image of 0s,1s,...If you were to pick 20% val dataset,the val will only contain 8 and 9 never seen by training set:imposible to train good model."
      ],
      "metadata": {
        "id": "9Em_NUwQzIZj"
      }
    },
    {
      "cell_type": "code",
      "source": [
        "# we need our data to be in batches\n",
        "from torch.utils.data import DataLoader\n",
        "batch_size=128\n",
        "train_loader=DataLoader(train_ds,batch_size,shuffle=True)\n",
        "val_loader=DataLoader(val_ds,batch_size)\n"
      ],
      "metadata": {
        "id": "1XzFGmtLy4By"
      },
      "execution_count": null,
      "outputs": []
    },
    {
      "cell_type": "markdown",
      "source": [
        "We set shuffle=True for training dataset,so that batches for each epoch will be diff helping more generalization and speed up training process.\n",
        "\n",
        "val_loader:evaluate the model,no need to shuffle"
      ],
      "metadata": {
        "id": "GgzAUWV61xnj"
      }
    },
    {
      "cell_type": "markdown",
      "source": [
        "Logistic Regression is almost identical to linear regression where pred=x @ w.t()+b\n",
        "\n",
        "We can use nn.Linear to create a model.\n",
        "\n",
        "Since nn.Linear expects the training example to be vector,each 1X28X28 image tensor needs to be flattened out into a vector of size 784(28*28) before being passed into model.\n",
        "\n",
        "The output for each image label is vector of size 10(for 0 to 9) representing prob of particular target,highest prob is that image."
      ],
      "metadata": {
        "id": "fdEGRyAO4LaA"
      }
    },
    {
      "cell_type": "code",
      "source": [
        "import torch.nn as nn\n",
        "input_size=28*28\n",
        "num_classes=10\n",
        "\n",
        "# Logistic Regression model\n",
        "model=nn.Linear(input_size,num_classes)"
      ],
      "metadata": {
        "id": "bYrXvZhD38i_"
      },
      "execution_count": null,
      "outputs": []
    },
    {
      "cell_type": "code",
      "source": [
        "print(model.weight.shape)\n",
        "print(model.bias.shape)"
      ],
      "metadata": {
        "colab": {
          "base_uri": "https://localhost:8080/"
        },
        "id": "dAYvhOFK5Xzr",
        "outputId": "5948d019-16a4-4cba-d927-c82ebb9e67f8"
      },
      "execution_count": null,
      "outputs": [
        {
          "output_type": "stream",
          "name": "stdout",
          "text": [
            "torch.Size([10, 784])\n",
            "torch.Size([10])\n"
          ]
        }
      ]
    },
    {
      "cell_type": "code",
      "source": [
        "model.weight\n",
        "# 6 weights,2 bias(nn.Linear)--prev eg\n",
        "# 10 weights/prob,784 images(784 bias)"
      ],
      "metadata": {
        "colab": {
          "base_uri": "https://localhost:8080/"
        },
        "id": "JR47Zs_H2HGd",
        "outputId": "917c100c-1f5c-40ad-cbd6-9b277fdb42e2"
      },
      "execution_count": null,
      "outputs": [
        {
          "output_type": "execute_result",
          "data": {
            "text/plain": [
              "Parameter containing:\n",
              "tensor([[ 3.2218e-02, -1.0356e-02, -1.7161e-02,  ...,  2.1150e-02,\n",
              "          8.1957e-03,  3.2171e-02],\n",
              "        [-2.4287e-02, -3.3673e-02,  1.4448e-02,  ..., -1.4004e-03,\n",
              "         -1.7257e-02,  2.0640e-02],\n",
              "        [ 1.5046e-02,  4.1027e-03,  5.3280e-03,  ..., -1.6705e-02,\n",
              "         -8.4653e-04, -3.2217e-02],\n",
              "        ...,\n",
              "        [ 3.4351e-03,  2.6459e-02, -7.5096e-03,  ..., -2.7832e-02,\n",
              "         -1.3086e-02, -2.6548e-03],\n",
              "        [ 2.2224e-03, -7.1784e-03,  6.9273e-05,  ..., -2.8631e-02,\n",
              "         -2.8335e-02,  4.6570e-03],\n",
              "        [-1.9274e-03,  2.9255e-02, -1.7519e-02,  ...,  1.5463e-02,\n",
              "         -2.1266e-02, -1.1036e-02]], requires_grad=True)"
            ]
          },
          "metadata": {},
          "execution_count": 169
        }
      ]
    },
    {
      "cell_type": "code",
      "source": [
        "model.bias"
      ],
      "metadata": {
        "colab": {
          "base_uri": "https://localhost:8080/"
        },
        "id": "tEfeLMCg6sfO",
        "outputId": "606ef481-f509-4e6c-ef5f-37946f424854"
      },
      "execution_count": null,
      "outputs": [
        {
          "output_type": "execute_result",
          "data": {
            "text/plain": [
              "Parameter containing:\n",
              "tensor([-0.0195, -0.0241,  0.0137, -0.0279, -0.0302,  0.0083,  0.0209, -0.0129,\n",
              "         0.0336,  0.0265], requires_grad=True)"
            ]
          },
          "metadata": {},
          "execution_count": 170
        }
      ]
    },
    {
      "cell_type": "markdown",
      "source": [
        "Weights are the parameters in a neural network that connect one layer to the next. They determine the importance of each feature or input in relation to the next layer's neurons.\n",
        "\n",
        "How it works:\n",
        "Each input feature (e.g., the pixel values in the MNIST image) is multiplied by a corresponding weight.\n",
        "The weighted inputs are then summed together, and this sum is passed through an activation function (like ReLU or sigmoid) to generate the output of a neuron.\n",
        "Shape of the Weights:\n",
        "In a fully connected (dense) neural network, the shape of the weight matrix depends on the number of neurons in the input and output layers.\n",
        "For example, if the input layer has 784 neurons (one for each pixel of a flattened 28x28 MNIST image) and the next layer has 128 neurons, the weight matrix between these layers will have a shape of (784, 128).\n",
        "This means each of the 784 input features will be multiplied by 128 corresponding weights to produce the 128 values for the next layer's neurons.\n",
        "Example:\n",
        "Let's say the model has:\n",
        "\n",
        "784 input features (for a flattened 28x28 image).\n",
        "\n",
        "128 neurons in the hidden layer.\n",
        "\n",
        "10 neurons in the output layer (for the 10 digits: 0-9).\n",
        "The weight matrices will look like this:\n",
        "\n",
        "From input layer to hidden layer: The weight matrix will have shape (784, 128).\n",
        "\n",
        "From hidden layer to output layer: The weight matrix will have shape (128, 10).\n",
        "\n",
        "Each weight determines how much influence each input has on the output neurons.\n",
        "\n",
        "2. Biases:\n",
        "A bias is an additional parameter that helps the model shift the activation function. While weights determine the strength of the connection between neurons, the bias allows the model to better fit the data by shifting the output of the neuron.\n",
        "\n",
        "How it works:\n",
        "After calculating the weighted sum of inputs, a bias term is added to this sum before passing it through the activation function.\n",
        "\n",
        "This bias helps the model make better predictions, especially when all inputs are zero. Without bias, the output would always be zero, regardless of the inputs.\n",
        "\n",
        "Shape of the Bias:\n",
        "For each layer in the network, the bias is typically a vector with the same number of neurons as the layer.\n",
        "\n",
        "For example, if the hidden layer has 128 neurons, then the bias vector for the hidden layer will have a shape of (128,), with one bias value for each neuron.\n",
        "\n",
        "Similarly, if the output layer has 10 neurons, the bias vector for the output layer will have a shape of (10,)."
      ],
      "metadata": {
        "id": "OEfAAvo9-01p"
      }
    },
    {
      "cell_type": "code",
      "source": [
        "for images,labels in train_loader:\n",
        "  print(labels)\n",
        "  print(images.shape)\n",
        "  # btach,colorchannels,pixels\n",
        "  # outputs=model(images)\n",
        "  # Our model expects batch of vector but we have given it batch of tensors.( deep nested tensors)\n",
        "  break"
      ],
      "metadata": {
        "colab": {
          "base_uri": "https://localhost:8080/"
        },
        "id": "3YHF6hL8_Fzp",
        "outputId": "26d117c1-b396-4a08-83d6-31651b7f85ab"
      },
      "execution_count": null,
      "outputs": [
        {
          "output_type": "stream",
          "name": "stdout",
          "text": [
            "tensor([7, 3, 3, 7, 5, 2, 1, 7, 6, 3, 2, 6, 8, 6, 8, 9, 7, 4, 4, 1, 2, 0, 9, 6,\n",
            "        3, 4, 9, 4, 6, 6, 8, 2, 5, 8, 1, 7, 5, 3, 9, 3, 5, 3, 5, 1, 4, 6, 9, 7,\n",
            "        4, 6, 6, 2, 9, 2, 0, 1, 9, 3, 0, 0, 7, 3, 6, 7, 1, 2, 5, 1, 4, 9, 8, 5,\n",
            "        9, 6, 5, 5, 8, 8, 2, 7, 4, 8, 4, 9, 7, 2, 0, 5, 6, 8, 2, 3, 1, 1, 1, 9,\n",
            "        0, 9, 4, 9, 7, 0, 2, 4, 1, 8, 0, 8, 0, 5, 2, 0, 3, 1, 9, 5, 3, 5, 2, 2,\n",
            "        0, 1, 4, 8, 1, 1, 4, 1])\n",
            "torch.Size([128, 1, 28, 28])\n"
          ]
        }
      ]
    },
    {
      "cell_type": "markdown",
      "source": [
        "This leads to error,because our input data does not have right shape.Our images are of the shape(1*28*28) but we need them to be vectors of size 784,we need to flatten them out.We will use reshape method of tensor which allows us to view each image as a flat vector without really changing the underlying data."
      ],
      "metadata": {
        "id": "HqUeMGaMIbo8"
      }
    },
    {
      "cell_type": "code",
      "source": [
        "class MnistModel(nn.Module):\n",
        "  def __init__(self):\n",
        "    super().__init__()\n",
        "    self.linear=nn.Linear(input_size,num_classes)\n",
        "\n",
        "  def forward(self,xb):\n",
        "    xb=xb.reshape(-1,784)\n",
        "    out=self.linear(xb)\n",
        "    return out\n",
        "\n",
        "model=MnistModel()\n"
      ],
      "metadata": {
        "id": "u3qDQKKfADre"
      },
      "execution_count": null,
      "outputs": []
    },
    {
      "cell_type": "markdown",
      "source": [
        "To include additional functionality within our model,we need to define custom model,by extending the nn.module class from PyTorch.\n",
        "\n",
        "def __init__(self)---->constructor\n",
        "This is made when you instantiate the class.\n",
        "\n",
        "super():upar se sare command utha lo...\n",
        "\n",
        "nn.Linear ke andar self.Linear class\n",
        "\n",
        "forward method gets batch of data(inputs-images)\n",
        "reshape it to (128,784):retain 128 batches rest flatten out to 784\n",
        "\n",
        "-1:figure out batch size on own\n",
        "\n",
        "out=self.linear(xb)"
      ],
      "metadata": {
        "id": "B1OgQJhvJvnf"
      }
    },
    {
      "cell_type": "markdown",
      "source": [
        "EXPLANATION:\n",
        "Here, MnistModel is a custom subclass of torch.nn.Module. This subclass defines a neural network that will be used for classification on the MNIST dataset.\n",
        "\n",
        "nn.Module is the base class for all neural network modules in PyTorch. Every neural network you build will subclass this nn.Module class.\n",
        "\n",
        "The __init__ method initializes the model and its layers. This is where we define the structure of the model.\n",
        "\n",
        "super().__init__() ensures that the parent class (nn.Module) is properly initialized.\n",
        "\n",
        "self.linear = nn.Linear(input_size, num_classes) creates a fully connected layer (dense layer).\n",
        "\n",
        "input_size: This would be the size of the input to this layer. In the case of the MNIST dataset, each image is 28x28 pixels, so the input size should be 28 * 28 = 784.\n",
        "\n",
        "num_classes: This is the number of output classes (in the case of MNIST, it would be 10 classes, representing digits 0 through 9).\n",
        "\n",
        "The forward method defines how data flows through the network. It is called automatically during the forward pass.\n",
        "\n",
        "xb = xb.reshape(-1, 784): The MNIST images are 28x28 pixels, which is reshaped into a flat vector of size 784 (28 * 28).\n",
        "\n",
        "-1 is used as a placeholder for batch size, meaning that it automatically adjusts to the batch size.\n",
        "\n",
        "out = self.linear(xb): This applies the fully connected layer (self.linear) to the input xb (which is now a vector of size 784).\n",
        "\n",
        "return out: This returns the output of the linear layer.\n",
        "\n",
        " The output would be a tensor of size [batch_size, num_classes] where each value represents the predicted probability for each class.\n",
        "\n",
        " Batch size is the number of training samples (data points) that will be passed through the model at once before updating the model's weights.\n",
        "\n",
        "Instead of training the model on the entire dataset at once (which is computationally expensive), we divide the dataset into smaller \"batches\" and train the model on each batch one at a time.\n"
      ],
      "metadata": {
        "id": "yNFhV9-TLjmp"
      }
    },
    {
      "cell_type": "code",
      "source": [
        "print(model.linear.weight.shape,model.linear.bias.shape)"
      ],
      "metadata": {
        "colab": {
          "base_uri": "https://localhost:8080/"
        },
        "id": "zSzs2tJfM0UF",
        "outputId": "223651c4-243d-4806-80ca-c82ec2b048b0"
      },
      "execution_count": null,
      "outputs": [
        {
          "output_type": "stream",
          "name": "stdout",
          "text": [
            "torch.Size([10, 784]) torch.Size([10])\n"
          ]
        }
      ]
    },
    {
      "cell_type": "code",
      "source": [
        "list(model.parameters())"
      ],
      "metadata": {
        "colab": {
          "base_uri": "https://localhost:8080/"
        },
        "id": "_3Wt7Or9Nmt9",
        "outputId": "693138ed-ecca-409c-965d-f1f92ecc3680"
      },
      "execution_count": null,
      "outputs": [
        {
          "output_type": "execute_result",
          "data": {
            "text/plain": [
              "[Parameter containing:\n",
              " tensor([[-0.0301, -0.0211, -0.0210,  ..., -0.0087,  0.0242,  0.0312],\n",
              "         [-0.0328, -0.0319, -0.0260,  ..., -0.0136,  0.0353,  0.0241],\n",
              "         [-0.0087,  0.0064, -0.0035,  ..., -0.0292,  0.0235,  0.0203],\n",
              "         ...,\n",
              "         [-0.0136, -0.0066, -0.0215,  ..., -0.0266,  0.0252,  0.0263],\n",
              "         [ 0.0253, -0.0108, -0.0009,  ..., -0.0007,  0.0286, -0.0103],\n",
              "         [ 0.0125,  0.0052, -0.0163,  ..., -0.0211, -0.0034, -0.0274]],\n",
              "        requires_grad=True),\n",
              " Parameter containing:\n",
              " tensor([-0.0338,  0.0066,  0.0273,  0.0278, -0.0035,  0.0336, -0.0013, -0.0259,\n",
              "          0.0094,  0.0353], requires_grad=True)]"
            ]
          },
          "metadata": {},
          "execution_count": 174
        }
      ]
    },
    {
      "cell_type": "markdown",
      "source": [
        "Note that the model no longer has .weight and .bias (as they are now inside .linear attribute) but have .parameters method returning a list containing w and b."
      ],
      "metadata": {
        "id": "fzjzVRbQNEGK"
      }
    },
    {
      "cell_type": "code",
      "source": [
        "for images,labels in train_loader:\n",
        "  print('images.shape:',images.shape)\n",
        "  outputs=model(images)\n",
        "  break\n",
        "print('outputs.shape:',outputs.shape)\n",
        "print('Sample outputs:',outputs[:2].data)\n",
        "# print('Sample outputs:',outputs.data)"
      ],
      "metadata": {
        "colab": {
          "base_uri": "https://localhost:8080/"
        },
        "id": "7S0g5cDoNt40",
        "outputId": "b38ff50b-5e5d-4442-a223-2822935ef301"
      },
      "execution_count": null,
      "outputs": [
        {
          "output_type": "stream",
          "name": "stdout",
          "text": [
            "images.shape: torch.Size([128, 1, 28, 28])\n",
            "outputs.shape: torch.Size([128, 10])\n",
            "Sample outputs: tensor([[-0.2263, -0.0089,  0.1869,  0.5590,  0.5434, -0.1132, -0.1176,  0.1150,\n",
            "         -0.1243,  0.0294],\n",
            "        [-0.1654,  0.1922,  0.1901,  0.1654,  0.4649, -0.2310, -0.2877,  0.0104,\n",
            "          0.1171, -0.3453]])\n"
          ]
        }
      ]
    },
    {
      "cell_type": "markdown",
      "source": [
        "For each of 100 input images,we get 10 outputs,one for each class.\n",
        "\n",
        "prob:0 to 1 mei lie...error?"
      ],
      "metadata": {
        "id": "I2AKmXplOxBu"
      }
    },
    {
      "cell_type": "code",
      "source": [
        "outputs[0]"
      ],
      "metadata": {
        "colab": {
          "base_uri": "https://localhost:8080/"
        },
        "id": "Idh7_y7kOvNo",
        "outputId": "5d2cb5df-d815-49b1-a6f5-de25900f0109"
      },
      "execution_count": null,
      "outputs": [
        {
          "output_type": "execute_result",
          "data": {
            "text/plain": [
              "tensor([-0.2263, -0.0089,  0.1869,  0.5590,  0.5434, -0.1132, -0.1176,  0.1150,\n",
              "        -0.1243,  0.0294], grad_fn=<SelectBackward0>)"
            ]
          },
          "metadata": {},
          "execution_count": 176
        }
      ]
    },
    {
      "cell_type": "code",
      "source": [
        "# convert output row to probabilities:\n",
        "# make elements positive\n",
        "exps=torch.exp(outputs[0])\n",
        "exps"
      ],
      "metadata": {
        "colab": {
          "base_uri": "https://localhost:8080/"
        },
        "id": "y7b0JVgZPYov",
        "outputId": "c5fd902f-672d-4625-f962-7ee0a8a0e159"
      },
      "execution_count": null,
      "outputs": [
        {
          "output_type": "execute_result",
          "data": {
            "text/plain": [
              "tensor([0.7975, 0.9912, 1.2055, 1.7489, 1.7219, 0.8929, 0.8891, 1.1219, 0.8831,\n",
              "        1.0299], grad_fn=<ExpBackward0>)"
            ]
          },
          "metadata": {},
          "execution_count": 177
        }
      ]
    },
    {
      "cell_type": "code",
      "source": [
        "# divide to get sum 1\n",
        "probs=exps/torch.sum(exps)\n",
        "probs"
      ],
      "metadata": {
        "colab": {
          "base_uri": "https://localhost:8080/"
        },
        "id": "STZUfoW2QCXb",
        "outputId": "f49754fc-7925-4dc2-ab31-d86d8a84d173"
      },
      "execution_count": null,
      "outputs": [
        {
          "output_type": "execute_result",
          "data": {
            "text/plain": [
              "tensor([0.0707, 0.0879, 0.1069, 0.1550, 0.1526, 0.0791, 0.0788, 0.0994, 0.0783,\n",
              "        0.0913], grad_fn=<DivBackward0>)"
            ]
          },
          "metadata": {},
          "execution_count": 178
        }
      ]
    },
    {
      "cell_type": "code",
      "source": [
        "torch.sum(probs)"
      ],
      "metadata": {
        "colab": {
          "base_uri": "https://localhost:8080/"
        },
        "id": "b6bv7i66SGiV",
        "outputId": "2cc3fef6-3953-408b-a720-0a19cc1fe021"
      },
      "execution_count": null,
      "outputs": [
        {
          "output_type": "execute_result",
          "data": {
            "text/plain": [
              "tensor(1., grad_fn=<SumBackward0>)"
            ]
          },
          "metadata": {},
          "execution_count": 179
        }
      ]
    },
    {
      "cell_type": "markdown",
      "source": [
        "The softmax function converts a vector of raw logits into probabilities, where the output is a vector of probabilities that sum to 1. Each element in the output represents the probability of each class."
      ],
      "metadata": {
        "id": "TpRla9HiQty8"
      }
    },
    {
      "cell_type": "code",
      "source": [
        "import torch.nn.functional as F"
      ],
      "metadata": {
        "id": "1AIWmOEzQuxx"
      },
      "execution_count": null,
      "outputs": []
    },
    {
      "cell_type": "code",
      "source": [
        "# Apply softmax for each output row:\n",
        "probs=F.softmax(outputs,dim=1)\n",
        "# dim=0 represents batch size(128,10)\n",
        "\n",
        "# Look at Sample distribution:\n",
        "print('Sample probabilities:',probs[:2].data)\n",
        "\n",
        "# Add the probab of each row\n",
        "print('Sum:',torch.sum(probs[0]).item())\n"
      ],
      "metadata": {
        "colab": {
          "base_uri": "https://localhost:8080/"
        },
        "id": "vGV-cqyDRjWC",
        "outputId": "a50453d9-202a-4998-842e-5097c49f114b"
      },
      "execution_count": null,
      "outputs": [
        {
          "output_type": "stream",
          "name": "stdout",
          "text": [
            "Sample probabilities: tensor([[0.0707, 0.0879, 0.1069, 0.1550, 0.1526, 0.0791, 0.0788, 0.0994, 0.0783,\n",
            "         0.0913],\n",
            "        [0.0813, 0.1162, 0.1160, 0.1132, 0.1527, 0.0761, 0.0719, 0.0969, 0.1078,\n",
            "         0.0679]])\n",
            "Sum: 1.0\n"
          ]
        }
      ]
    },
    {
      "cell_type": "markdown",
      "source": [
        ".item( )is used to retrieve a single value from a scalar tensor (a tensor with just one element)."
      ],
      "metadata": {
        "id": "wZlDfJ6BTx7R"
      }
    },
    {
      "cell_type": "markdown",
      "source": [
        "We can determine the predicted label for each image by simply choosing the index of the element with highest probability in each output row.\n",
        "\n",
        "This is done using torch.max,which returns the largest element and index of largest element along a particular dim of tensor."
      ],
      "metadata": {
        "id": "azcOPZ-rUau3"
      }
    },
    {
      "cell_type": "code",
      "source": [
        "max_probs,preds=torch.max(probs,dim=1)\n",
        "print(preds)\n",
        "print(max_probs)"
      ],
      "metadata": {
        "colab": {
          "base_uri": "https://localhost:8080/"
        },
        "id": "BhSrjoENTxnk",
        "outputId": "af17bfdd-7bd9-4d14-c5c5-1f00fdf3c1ea"
      },
      "execution_count": null,
      "outputs": [
        {
          "output_type": "stream",
          "name": "stdout",
          "text": [
            "tensor([3, 4, 3, 4, 4, 3, 3, 2, 3, 4, 8, 4, 4, 3, 2, 3, 4, 3, 2, 2, 4, 3, 0, 3,\n",
            "        4, 4, 3, 5, 2, 3, 0, 4, 3, 3, 8, 2, 4, 3, 8, 4, 3, 3, 4, 3, 4, 4, 4, 4,\n",
            "        4, 3, 4, 3, 3, 3, 8, 4, 4, 4, 4, 3, 3, 3, 2, 3, 2, 3, 4, 4, 4, 4, 3, 3,\n",
            "        3, 4, 4, 2, 3, 3, 2, 4, 4, 4, 2, 3, 4, 5, 2, 3, 4, 4, 9, 3, 4, 2, 3, 3,\n",
            "        4, 4, 4, 4, 4, 4, 4, 4, 5, 3, 2, 4, 3, 0, 2, 2, 3, 3, 4, 0, 3, 4, 2, 3,\n",
            "        3, 3, 3, 4, 4, 4, 3, 3])\n",
            "tensor([0.1550, 0.1527, 0.1644, 0.1375, 0.1564, 0.1334, 0.1279, 0.1542, 0.1291,\n",
            "        0.1807, 0.1257, 0.1217, 0.1770, 0.1544, 0.1527, 0.1287, 0.1232, 0.1437,\n",
            "        0.1232, 0.1125, 0.1598, 0.1412, 0.1172, 0.1237, 0.1278, 0.1546, 0.1527,\n",
            "        0.1195, 0.1145, 0.1408, 0.1197, 0.1120, 0.1708, 0.1486, 0.1380, 0.1299,\n",
            "        0.1409, 0.1374, 0.1346, 0.1198, 0.1448, 0.1165, 0.1286, 0.1378, 0.1555,\n",
            "        0.1374, 0.1723, 0.1457, 0.1597, 0.1512, 0.1256, 0.1391, 0.1252, 0.1622,\n",
            "        0.1223, 0.1704, 0.1673, 0.1209, 0.1443, 0.1592, 0.1244, 0.1366, 0.1368,\n",
            "        0.1505, 0.1323, 0.1725, 0.1481, 0.1347, 0.1393, 0.1338, 0.1589, 0.1277,\n",
            "        0.1562, 0.1357, 0.1492, 0.1608, 0.1448, 0.1251, 0.1428, 0.1234, 0.1388,\n",
            "        0.1222, 0.1422, 0.1171, 0.1258, 0.1264, 0.1207, 0.1351, 0.1377, 0.1230,\n",
            "        0.1158, 0.1175, 0.1647, 0.1289, 0.1256, 0.1493, 0.1564, 0.1278, 0.1408,\n",
            "        0.1418, 0.1261, 0.1938, 0.1640, 0.1322, 0.1282, 0.1160, 0.1518, 0.1942,\n",
            "        0.1335, 0.1179, 0.1270, 0.1443, 0.1419, 0.1552, 0.1737, 0.1193, 0.1387,\n",
            "        0.1526, 0.1414, 0.1562, 0.1741, 0.1184, 0.1492, 0.1449, 0.1313, 0.1446,\n",
            "        0.1452, 0.1225], grad_fn=<MaxBackward0>)\n"
          ]
        }
      ]
    },
    {
      "cell_type": "code",
      "source": [
        "labels"
      ],
      "metadata": {
        "colab": {
          "base_uri": "https://localhost:8080/"
        },
        "id": "EPTKKspUVJp-",
        "outputId": "8e87aeba-4755-4dfc-b25f-7f748d880563"
      },
      "execution_count": null,
      "outputs": [
        {
          "output_type": "execute_result",
          "data": {
            "text/plain": [
              "tensor([4, 7, 1, 4, 9, 3, 3, 5, 5, 7, 2, 6, 7, 5, 8, 3, 4, 1, 4, 6, 9, 4, 1, 5,\n",
              "        1, 4, 4, 1, 5, 7, 1, 7, 6, 8, 2, 6, 8, 4, 3, 7, 5, 1, 1, 0, 2, 7, 7, 1,\n",
              "        2, 6, 1, 1, 0, 0, 9, 7, 8, 1, 6, 0, 1, 5, 5, 0, 4, 6, 4, 2, 4, 9, 2, 6,\n",
              "        0, 8, 2, 0, 1, 5, 0, 1, 4, 1, 4, 7, 0, 3, 2, 2, 7, 3, 0, 4, 7, 4, 5, 1,\n",
              "        9, 8, 3, 8, 6, 7, 1, 3, 1, 1, 6, 2, 0, 8, 0, 5, 0, 3, 6, 1, 2, 9, 7, 0,\n",
              "        0, 4, 2, 2, 4, 2, 5, 5])"
            ]
          },
          "metadata": {},
          "execution_count": 183
        }
      ]
    },
    {
      "cell_type": "code",
      "source": [
        "def accuracy(outputs,labels):\n",
        "  _,preds=torch.max(outputs,dim=1)\n",
        "  return torch.tensor(torch.sum(preds==labels).item()/len(preds))"
      ],
      "metadata": {
        "id": "SEyEhi3XVLl0"
      },
      "execution_count": null,
      "outputs": []
    },
    {
      "cell_type": "markdown",
      "source": [
        "The underscore (_) represents a placeholder for a value that you do not need or care about"
      ],
      "metadata": {
        "id": "09RzX5F8WBL0"
      }
    },
    {
      "cell_type": "markdown",
      "source": [
        "==: element wise comparison of 2 tensors with same shape and returns tensor of same shape(0:unequal,1 for equal)\n",
        "\n",
        "Passing the results to torch.sum returns the no of labels that were predicted correctly.\n",
        "\n",
        "softmax do not change relative order of the results,its increasing function..."
      ],
      "metadata": {
        "id": "BxfTxf2KWJXN"
      }
    },
    {
      "cell_type": "code",
      "source": [
        "accuracy(outputs,labels)"
      ],
      "metadata": {
        "colab": {
          "base_uri": "https://localhost:8080/"
        },
        "id": "aoRpVvpPWAhb",
        "outputId": "839428a0-ed55-423b-ccf5-4b0873df9976"
      },
      "execution_count": null,
      "outputs": [
        {
          "output_type": "execute_result",
          "data": {
            "text/plain": [
              "tensor(0.0938)"
            ]
          },
          "metadata": {},
          "execution_count": 185
        }
      ]
    },
    {
      "cell_type": "markdown",
      "source": [
        "While the accuracy is a great way for us to evaluate the models,it cant be used as loss function for optimizing our model using gradient descent.\n",
        "\n",
        "Its not a differentiable fn.torch.max and == are both continous and non-diffferentiable operations,so we cant use accuracy for computing gradient wrt w and b.\n",
        "\n",
        "accuracy doesnt tell how well the model doing for correct value,just capturing max value.\n",
        "\n",
        "It doesnot take into account the actual probabilities predicted by model so it cant provide sufficient feedback for incremental improvement."
      ],
      "metadata": {
        "id": "lOaNxPvfcTAH"
      }
    },
    {
      "cell_type": "markdown",
      "source": [
        "Commonly used loss function for classification problems is cross entropy function."
      ],
      "metadata": {
        "id": "GiYu3bPOd_ov"
      }
    },
    {
      "cell_type": "markdown",
      "source": [
        "-For each output,pick the predicted probability for correct label.Eg:if the predicted prob:[0.1,0.3,0.2...] and correct label is 1,we pick 3\n",
        "\n",
        "Then take logarithm of picked probab.\n",
        "\n",
        "probability is high,close to 1,then logarithm is a v small negative no(log1=0),low loss\n",
        "\n",
        "probability low,close to 0,log/ln is v high and added is - sign increasing the exponential value,high loss.\n",
        "\n",
        "The take the average of cross entropy across all output rows to get overall loss.\n",
        "\n",
        "Unlike accuracy,cross entropy is continous and differentiable fn(target label ko one hot encoded vector mei convert karlia) and finding log of all probab,so only those probability will be left with correct label(finding dot product)"
      ],
      "metadata": {
        "id": "eO4R4KQDgnoB"
      }
    },
    {
      "cell_type": "code",
      "source": [
        "loss_fn=F.cross_entropy"
      ],
      "metadata": {
        "id": "xZLuihSghj8_"
      },
      "execution_count": null,
      "outputs": []
    },
    {
      "cell_type": "code",
      "source": [
        "# loss for current batch of data\n",
        "loss=loss_fn(outputs,labels)\n",
        "print(loss)"
      ],
      "metadata": {
        "colab": {
          "base_uri": "https://localhost:8080/"
        },
        "id": "PaOF_35Biykv",
        "outputId": "0aa549da-6171-41d9-c115-fad7b1201ae5"
      },
      "execution_count": null,
      "outputs": [
        {
          "output_type": "stream",
          "name": "stdout",
          "text": [
            "tensor(2.3135, grad_fn=<NllLossBackward0>)\n"
          ]
        }
      ]
    },
    {
      "cell_type": "markdown",
      "source": [
        "softmax is used to predict one class not four,five etc."
      ],
      "metadata": {
        "id": "WAj1st8Kj_Xk"
      }
    },
    {
      "cell_type": "code",
      "source": [
        "F"
      ],
      "metadata": {
        "colab": {
          "base_uri": "https://localhost:8080/"
        },
        "id": "scBEuNODj_Ch",
        "outputId": "e7353206-346f-466d-fa5c-90dbc9c4ed4e"
      },
      "execution_count": null,
      "outputs": [
        {
          "output_type": "execute_result",
          "data": {
            "text/plain": [
              "<module 'torch.nn.functional' from '/usr/local/lib/python3.11/dist-packages/torch/nn/functional.py'>"
            ]
          },
          "metadata": {},
          "execution_count": 188
        }
      ]
    },
    {
      "cell_type": "markdown",
      "source": [
        "Since the cross entropy is neagtive log of the predicted probability of correct label over all training sample.\n",
        "\n",
        "2.23 = e^-2.23 = 0.1(pred prob of corrected label)\n",
        "\n",
        "Lower the loss,better the model"
      ],
      "metadata": {
        "id": "dseK7Ta5kzcU"
      }
    },
    {
      "cell_type": "markdown",
      "source": [
        "\n",
        "\n",
        "```\n",
        "for epoch in range(num_epochs):\n",
        "#Training phase\n",
        "for batch in train_loader:\n",
        "# Generate predictions\n",
        "# Calculate the loss\n",
        "# Compute the gradient\n",
        "# Update the weight\n",
        "# Reset the gradient\n",
        "\n",
        "Validation phase\n",
        "for batch in val_loader:\n",
        "# Generate predictions\n",
        "# Calculate the loss\n",
        "# Calculate the metrics(accuracy)\n",
        "# Calculate the average validation loss and metrics\n",
        "\n",
        "<!-- Log epoch,loss and metrics for inspection -->\n",
        "```\n",
        "\n"
      ],
      "metadata": {
        "id": "jL_rX-BLpTeo"
      }
    },
    {
      "cell_type": "code",
      "source": [
        "class MnistModel(nn.Module):\n",
        "  def __init__(self):\n",
        "    super().__init__()\n",
        "    self.linear=nn.Linear(input_size,num_classes)\n",
        "\n",
        "  def forward(self,xb):\n",
        "      xb=xb.reshape(-1,784)\n",
        "      out=self.linear(xb)\n",
        "      return out\n",
        "\n",
        "  def training_step(self,batch):\n",
        "    images,labels=batch\n",
        "    out=self(images)\n",
        "    # Think self as model and model is a callable function.\n",
        "    loss=F.cross_entropy(out,labels)\n",
        "    return loss\n",
        "\n",
        "  def validation_step(self,batch):\n",
        "    images,labels=batch\n",
        "    out=self(images)\n",
        "    loss=F.cross_entropy(out,labels)\n",
        "    acc=accuracy(out,labels)\n",
        "    return {'val_loss':loss,'val_acc':acc}\n",
        "\n",
        "  def validation_epoch_end(self,outputs):\n",
        "    batch_losses=[x['val_loss'] for x in outputs]\n",
        "    epoch_loss=torch.stack(batch_losses).mean()\n",
        "    batch_accs=[x['val_acc'] for x in outputs]\n",
        "    epoch_acc=torch.stack(batch_accs).mean()\n",
        "    return {'val_loss':(epoch_loss.item()),'val_acc':(epoch_acc.item())}\n",
        "\n",
        "  def epoch_end(self,epoch,result):\n",
        "    print(\"Epoch [{}],val_loss:{:.4f},val_acc:{:.4f}\".format(epoch,result['val_loss'],result['val_acc']))\n",
        "\n",
        "model=MnistModel()"
      ],
      "metadata": {
        "id": "x-3-cQHeqP0w"
      },
      "execution_count": null,
      "outputs": []
    },
    {
      "cell_type": "markdown",
      "source": [
        "batch_losses = [x['val_loss'] for x in outputs]: This line collects all the validation losses ('val_loss') from each element in outputs into a list.\n",
        "\n",
        "\n",
        "epoch_loss = torch.stack(batch_losses).mean(): This line stacks all the losses in batch_losses into a single tensor and computes the mean loss across all the batches.\n",
        "\n",
        "\n",
        "Make sure that outputs is a list of dictionaries, where each dictionary contains the key 'val_loss'. If outputs is structured differently, you'll need to adjust the code accordingly."
      ],
      "metadata": {
        "id": "bNJ4yd1LvH2k"
      }
    },
    {
      "cell_type": "code",
      "source": [
        "def evaluate(model,val_loader):\n",
        "  outputs=[model.validation_step(batch) for batch in val_loader]\n",
        "  return model.validation_epoch_end(outputs)"
      ],
      "metadata": {
        "id": "T7SE25LysWct"
      },
      "execution_count": null,
      "outputs": []
    },
    {
      "cell_type": "code",
      "source": [
        "result0=evaluate(model,val_loader)"
      ],
      "metadata": {
        "id": "IdMrQQOli_ip"
      },
      "execution_count": null,
      "outputs": []
    },
    {
      "cell_type": "code",
      "source": [
        "result0"
      ],
      "metadata": {
        "colab": {
          "base_uri": "https://localhost:8080/"
        },
        "id": "yQ0fzchwyrbn",
        "outputId": "ca3470bd-3916-472b-ec09-689f9cb5ba8c"
      },
      "execution_count": null,
      "outputs": [
        {
          "output_type": "execute_result",
          "data": {
            "text/plain": [
              "{'val_loss': 2.275470495223999, 'val_acc': 0.17424841225147247}"
            ]
          },
          "metadata": {},
          "execution_count": 192
        }
      ]
    },
    {
      "cell_type": "code",
      "source": [
        "def fit(epochs,lr,model,train_loader,val_loader,opt_fn=torch.optim.SGD):\n",
        "  history=[]\n",
        "  optimizer=opt_fn(model.parameters(),lr)\n",
        "  for epoch in range(epochs):\n",
        "    # Training phase\n",
        "    for batch in train_loader:\n",
        "      loss=model.training_step(batch)\n",
        "      loss.backward()\n",
        "      optimizer.step()\n",
        "      optimizer.zero_grad()\n",
        "\n",
        "      # Validation Phase\n",
        "      result=evaluate(model,val_loader)\n",
        "      model.epoch_end(epoch,result)\n",
        "    history.append(result)\n",
        "  return history"
      ],
      "metadata": {
        "id": "GwbegMRo2lhu"
      },
      "execution_count": null,
      "outputs": []
    },
    {
      "cell_type": "code",
      "source": [
        "history1=fit(5,0.001,model,train_loader,val_loader)"
      ],
      "metadata": {
        "colab": {
          "base_uri": "https://localhost:8080/",
          "height": 1000
        },
        "id": "HeouC7re37dh",
        "outputId": "209661de-988c-4f0e-c496-b29410ebb9b0"
      },
      "execution_count": null,
      "outputs": [
        {
          "output_type": "stream",
          "name": "stdout",
          "text": [
            "Epoch [0],val_loss:2.2466,val_acc:0.2112\n",
            "Epoch [0],val_loss:2.2456,val_acc:0.2132\n",
            "Epoch [0],val_loss:2.2446,val_acc:0.2151\n",
            "Epoch [0],val_loss:2.2435,val_acc:0.2163\n",
            "Epoch [0],val_loss:2.2426,val_acc:0.2174\n",
            "Epoch [0],val_loss:2.2414,val_acc:0.2183\n",
            "Epoch [0],val_loss:2.2403,val_acc:0.2188\n",
            "Epoch [0],val_loss:2.2394,val_acc:0.2208\n",
            "Epoch [0],val_loss:2.2383,val_acc:0.2221\n",
            "Epoch [0],val_loss:2.2372,val_acc:0.2229\n",
            "Epoch [0],val_loss:2.2362,val_acc:0.2247\n",
            "Epoch [0],val_loss:2.2350,val_acc:0.2258\n",
            "Epoch [0],val_loss:2.2339,val_acc:0.2274\n",
            "Epoch [0],val_loss:2.2330,val_acc:0.2278\n",
            "Epoch [0],val_loss:2.2319,val_acc:0.2301\n",
            "Epoch [0],val_loss:2.2309,val_acc:0.2318\n",
            "Epoch [0],val_loss:2.2299,val_acc:0.2334\n",
            "Epoch [0],val_loss:2.2289,val_acc:0.2349\n",
            "Epoch [0],val_loss:2.2277,val_acc:0.2369\n",
            "Epoch [0],val_loss:2.2267,val_acc:0.2378\n",
            "Epoch [0],val_loss:2.2256,val_acc:0.2401\n",
            "Epoch [0],val_loss:2.2246,val_acc:0.2421\n",
            "Epoch [0],val_loss:2.2236,val_acc:0.2438\n",
            "Epoch [0],val_loss:2.2225,val_acc:0.2455\n",
            "Epoch [0],val_loss:2.2214,val_acc:0.2469\n",
            "Epoch [0],val_loss:2.2204,val_acc:0.2487\n",
            "Epoch [0],val_loss:2.2193,val_acc:0.2507\n",
            "Epoch [0],val_loss:2.2183,val_acc:0.2514\n",
            "Epoch [0],val_loss:2.2173,val_acc:0.2521\n",
            "Epoch [0],val_loss:2.2164,val_acc:0.2529\n",
            "Epoch [0],val_loss:2.2155,val_acc:0.2545\n",
            "Epoch [0],val_loss:2.2144,val_acc:0.2558\n",
            "Epoch [0],val_loss:2.2134,val_acc:0.2578\n",
            "Epoch [0],val_loss:2.2122,val_acc:0.2582\n",
            "Epoch [0],val_loss:2.2113,val_acc:0.2597\n",
            "Epoch [0],val_loss:2.2103,val_acc:0.2612\n",
            "Epoch [0],val_loss:2.2093,val_acc:0.2626\n",
            "Epoch [0],val_loss:2.2083,val_acc:0.2647\n",
            "Epoch [0],val_loss:2.2073,val_acc:0.2658\n",
            "Epoch [0],val_loss:2.2064,val_acc:0.2674\n",
            "Epoch [0],val_loss:2.2053,val_acc:0.2692\n",
            "Epoch [0],val_loss:2.2043,val_acc:0.2699\n",
            "Epoch [0],val_loss:2.2034,val_acc:0.2718\n",
            "Epoch [0],val_loss:2.2023,val_acc:0.2733\n",
            "Epoch [0],val_loss:2.2012,val_acc:0.2749\n",
            "Epoch [0],val_loss:2.2002,val_acc:0.2762\n",
            "Epoch [0],val_loss:2.1993,val_acc:0.2768\n",
            "Epoch [0],val_loss:2.1982,val_acc:0.2773\n",
            "Epoch [0],val_loss:2.1973,val_acc:0.2785\n",
            "Epoch [0],val_loss:2.1964,val_acc:0.2805\n",
            "Epoch [0],val_loss:2.1954,val_acc:0.2813\n",
            "Epoch [0],val_loss:2.1944,val_acc:0.2833\n",
            "Epoch [0],val_loss:2.1933,val_acc:0.2842\n",
            "Epoch [0],val_loss:2.1923,val_acc:0.2870\n",
            "Epoch [0],val_loss:2.1914,val_acc:0.2883\n",
            "Epoch [0],val_loss:2.1903,val_acc:0.2901\n",
            "Epoch [0],val_loss:2.1892,val_acc:0.2907\n",
            "Epoch [0],val_loss:2.1882,val_acc:0.2923\n"
          ]
        },
        {
          "output_type": "error",
          "ename": "KeyboardInterrupt",
          "evalue": "",
          "traceback": [
            "\u001b[0;31m---------------------------------------------------------------------------\u001b[0m",
            "\u001b[0;31mKeyboardInterrupt\u001b[0m                         Traceback (most recent call last)",
            "\u001b[0;32m<ipython-input-196-30a5e981a2ca>\u001b[0m in \u001b[0;36m<cell line: 0>\u001b[0;34m()\u001b[0m\n\u001b[0;32m----> 1\u001b[0;31m \u001b[0mhistory1\u001b[0m\u001b[0;34m=\u001b[0m\u001b[0mfit\u001b[0m\u001b[0;34m(\u001b[0m\u001b[0;36m5\u001b[0m\u001b[0;34m,\u001b[0m\u001b[0;36m0.001\u001b[0m\u001b[0;34m,\u001b[0m\u001b[0mmodel\u001b[0m\u001b[0;34m,\u001b[0m\u001b[0mtrain_loader\u001b[0m\u001b[0;34m,\u001b[0m\u001b[0mval_loader\u001b[0m\u001b[0;34m)\u001b[0m\u001b[0;34m\u001b[0m\u001b[0;34m\u001b[0m\u001b[0m\n\u001b[0m",
            "\u001b[0;32m<ipython-input-193-d500048f54da>\u001b[0m in \u001b[0;36mfit\u001b[0;34m(epochs, lr, model, train_loader, val_loader, opt_fn)\u001b[0m\n\u001b[1;32m     11\u001b[0m \u001b[0;34m\u001b[0m\u001b[0m\n\u001b[1;32m     12\u001b[0m       \u001b[0;31m# Validation Phase\u001b[0m\u001b[0;34m\u001b[0m\u001b[0;34m\u001b[0m\u001b[0m\n\u001b[0;32m---> 13\u001b[0;31m       \u001b[0mresult\u001b[0m\u001b[0;34m=\u001b[0m\u001b[0mevaluate\u001b[0m\u001b[0;34m(\u001b[0m\u001b[0mmodel\u001b[0m\u001b[0;34m,\u001b[0m\u001b[0mval_loader\u001b[0m\u001b[0;34m)\u001b[0m\u001b[0;34m\u001b[0m\u001b[0;34m\u001b[0m\u001b[0m\n\u001b[0m\u001b[1;32m     14\u001b[0m       \u001b[0mmodel\u001b[0m\u001b[0;34m.\u001b[0m\u001b[0mepoch_end\u001b[0m\u001b[0;34m(\u001b[0m\u001b[0mepoch\u001b[0m\u001b[0;34m,\u001b[0m\u001b[0mresult\u001b[0m\u001b[0;34m)\u001b[0m\u001b[0;34m\u001b[0m\u001b[0;34m\u001b[0m\u001b[0m\n\u001b[1;32m     15\u001b[0m     \u001b[0mhistory\u001b[0m\u001b[0;34m.\u001b[0m\u001b[0mappend\u001b[0m\u001b[0;34m(\u001b[0m\u001b[0mresult\u001b[0m\u001b[0;34m)\u001b[0m\u001b[0;34m\u001b[0m\u001b[0;34m\u001b[0m\u001b[0m\n",
            "\u001b[0;32m<ipython-input-190-59a6dc9e50b8>\u001b[0m in \u001b[0;36mevaluate\u001b[0;34m(model, val_loader)\u001b[0m\n\u001b[1;32m      1\u001b[0m \u001b[0;32mdef\u001b[0m \u001b[0mevaluate\u001b[0m\u001b[0;34m(\u001b[0m\u001b[0mmodel\u001b[0m\u001b[0;34m,\u001b[0m\u001b[0mval_loader\u001b[0m\u001b[0;34m)\u001b[0m\u001b[0;34m:\u001b[0m\u001b[0;34m\u001b[0m\u001b[0;34m\u001b[0m\u001b[0m\n\u001b[0;32m----> 2\u001b[0;31m   \u001b[0moutputs\u001b[0m\u001b[0;34m=\u001b[0m\u001b[0;34m[\u001b[0m\u001b[0mmodel\u001b[0m\u001b[0;34m.\u001b[0m\u001b[0mvalidation_step\u001b[0m\u001b[0;34m(\u001b[0m\u001b[0mbatch\u001b[0m\u001b[0;34m)\u001b[0m \u001b[0;32mfor\u001b[0m \u001b[0mbatch\u001b[0m \u001b[0;32min\u001b[0m \u001b[0mval_loader\u001b[0m\u001b[0;34m]\u001b[0m\u001b[0;34m\u001b[0m\u001b[0;34m\u001b[0m\u001b[0m\n\u001b[0m\u001b[1;32m      3\u001b[0m   \u001b[0;32mreturn\u001b[0m \u001b[0mmodel\u001b[0m\u001b[0;34m.\u001b[0m\u001b[0mvalidation_epoch_end\u001b[0m\u001b[0;34m(\u001b[0m\u001b[0moutputs\u001b[0m\u001b[0;34m)\u001b[0m\u001b[0;34m\u001b[0m\u001b[0;34m\u001b[0m\u001b[0m\n",
            "\u001b[0;32m<ipython-input-190-59a6dc9e50b8>\u001b[0m in \u001b[0;36m<listcomp>\u001b[0;34m(.0)\u001b[0m\n\u001b[1;32m      1\u001b[0m \u001b[0;32mdef\u001b[0m \u001b[0mevaluate\u001b[0m\u001b[0;34m(\u001b[0m\u001b[0mmodel\u001b[0m\u001b[0;34m,\u001b[0m\u001b[0mval_loader\u001b[0m\u001b[0;34m)\u001b[0m\u001b[0;34m:\u001b[0m\u001b[0;34m\u001b[0m\u001b[0;34m\u001b[0m\u001b[0m\n\u001b[0;32m----> 2\u001b[0;31m   \u001b[0moutputs\u001b[0m\u001b[0;34m=\u001b[0m\u001b[0;34m[\u001b[0m\u001b[0mmodel\u001b[0m\u001b[0;34m.\u001b[0m\u001b[0mvalidation_step\u001b[0m\u001b[0;34m(\u001b[0m\u001b[0mbatch\u001b[0m\u001b[0;34m)\u001b[0m \u001b[0;32mfor\u001b[0m \u001b[0mbatch\u001b[0m \u001b[0;32min\u001b[0m \u001b[0mval_loader\u001b[0m\u001b[0;34m]\u001b[0m\u001b[0;34m\u001b[0m\u001b[0;34m\u001b[0m\u001b[0m\n\u001b[0m\u001b[1;32m      3\u001b[0m   \u001b[0;32mreturn\u001b[0m \u001b[0mmodel\u001b[0m\u001b[0;34m.\u001b[0m\u001b[0mvalidation_epoch_end\u001b[0m\u001b[0;34m(\u001b[0m\u001b[0moutputs\u001b[0m\u001b[0;34m)\u001b[0m\u001b[0;34m\u001b[0m\u001b[0;34m\u001b[0m\u001b[0m\n",
            "\u001b[0;32m/usr/local/lib/python3.11/dist-packages/torch/utils/data/dataloader.py\u001b[0m in \u001b[0;36m__next__\u001b[0;34m(self)\u001b[0m\n\u001b[1;32m    699\u001b[0m                 \u001b[0;31m# TODO(https://github.com/pytorch/pytorch/issues/76750)\u001b[0m\u001b[0;34m\u001b[0m\u001b[0;34m\u001b[0m\u001b[0m\n\u001b[1;32m    700\u001b[0m                 \u001b[0mself\u001b[0m\u001b[0;34m.\u001b[0m\u001b[0m_reset\u001b[0m\u001b[0;34m(\u001b[0m\u001b[0;34m)\u001b[0m  \u001b[0;31m# type: ignore[call-arg]\u001b[0m\u001b[0;34m\u001b[0m\u001b[0;34m\u001b[0m\u001b[0m\n\u001b[0;32m--> 701\u001b[0;31m             \u001b[0mdata\u001b[0m \u001b[0;34m=\u001b[0m \u001b[0mself\u001b[0m\u001b[0;34m.\u001b[0m\u001b[0m_next_data\u001b[0m\u001b[0;34m(\u001b[0m\u001b[0;34m)\u001b[0m\u001b[0;34m\u001b[0m\u001b[0;34m\u001b[0m\u001b[0m\n\u001b[0m\u001b[1;32m    702\u001b[0m             \u001b[0mself\u001b[0m\u001b[0;34m.\u001b[0m\u001b[0m_num_yielded\u001b[0m \u001b[0;34m+=\u001b[0m \u001b[0;36m1\u001b[0m\u001b[0;34m\u001b[0m\u001b[0;34m\u001b[0m\u001b[0m\n\u001b[1;32m    703\u001b[0m             if (\n",
            "\u001b[0;32m/usr/local/lib/python3.11/dist-packages/torch/utils/data/dataloader.py\u001b[0m in \u001b[0;36m_next_data\u001b[0;34m(self)\u001b[0m\n\u001b[1;32m    755\u001b[0m     \u001b[0;32mdef\u001b[0m \u001b[0m_next_data\u001b[0m\u001b[0;34m(\u001b[0m\u001b[0mself\u001b[0m\u001b[0;34m)\u001b[0m\u001b[0;34m:\u001b[0m\u001b[0;34m\u001b[0m\u001b[0;34m\u001b[0m\u001b[0m\n\u001b[1;32m    756\u001b[0m         \u001b[0mindex\u001b[0m \u001b[0;34m=\u001b[0m \u001b[0mself\u001b[0m\u001b[0;34m.\u001b[0m\u001b[0m_next_index\u001b[0m\u001b[0;34m(\u001b[0m\u001b[0;34m)\u001b[0m  \u001b[0;31m# may raise StopIteration\u001b[0m\u001b[0;34m\u001b[0m\u001b[0;34m\u001b[0m\u001b[0m\n\u001b[0;32m--> 757\u001b[0;31m         \u001b[0mdata\u001b[0m \u001b[0;34m=\u001b[0m \u001b[0mself\u001b[0m\u001b[0;34m.\u001b[0m\u001b[0m_dataset_fetcher\u001b[0m\u001b[0;34m.\u001b[0m\u001b[0mfetch\u001b[0m\u001b[0;34m(\u001b[0m\u001b[0mindex\u001b[0m\u001b[0;34m)\u001b[0m  \u001b[0;31m# may raise StopIteration\u001b[0m\u001b[0;34m\u001b[0m\u001b[0;34m\u001b[0m\u001b[0m\n\u001b[0m\u001b[1;32m    758\u001b[0m         \u001b[0;32mif\u001b[0m \u001b[0mself\u001b[0m\u001b[0;34m.\u001b[0m\u001b[0m_pin_memory\u001b[0m\u001b[0;34m:\u001b[0m\u001b[0;34m\u001b[0m\u001b[0;34m\u001b[0m\u001b[0m\n\u001b[1;32m    759\u001b[0m             \u001b[0mdata\u001b[0m \u001b[0;34m=\u001b[0m \u001b[0m_utils\u001b[0m\u001b[0;34m.\u001b[0m\u001b[0mpin_memory\u001b[0m\u001b[0;34m.\u001b[0m\u001b[0mpin_memory\u001b[0m\u001b[0;34m(\u001b[0m\u001b[0mdata\u001b[0m\u001b[0;34m,\u001b[0m \u001b[0mself\u001b[0m\u001b[0;34m.\u001b[0m\u001b[0m_pin_memory_device\u001b[0m\u001b[0;34m)\u001b[0m\u001b[0;34m\u001b[0m\u001b[0;34m\u001b[0m\u001b[0m\n",
            "\u001b[0;32m/usr/local/lib/python3.11/dist-packages/torch/utils/data/_utils/fetch.py\u001b[0m in \u001b[0;36mfetch\u001b[0;34m(self, possibly_batched_index)\u001b[0m\n\u001b[1;32m     48\u001b[0m         \u001b[0;32mif\u001b[0m \u001b[0mself\u001b[0m\u001b[0;34m.\u001b[0m\u001b[0mauto_collation\u001b[0m\u001b[0;34m:\u001b[0m\u001b[0;34m\u001b[0m\u001b[0;34m\u001b[0m\u001b[0m\n\u001b[1;32m     49\u001b[0m             \u001b[0;32mif\u001b[0m \u001b[0mhasattr\u001b[0m\u001b[0;34m(\u001b[0m\u001b[0mself\u001b[0m\u001b[0;34m.\u001b[0m\u001b[0mdataset\u001b[0m\u001b[0;34m,\u001b[0m \u001b[0;34m\"__getitems__\"\u001b[0m\u001b[0;34m)\u001b[0m \u001b[0;32mand\u001b[0m \u001b[0mself\u001b[0m\u001b[0;34m.\u001b[0m\u001b[0mdataset\u001b[0m\u001b[0;34m.\u001b[0m\u001b[0m__getitems__\u001b[0m\u001b[0;34m:\u001b[0m\u001b[0;34m\u001b[0m\u001b[0;34m\u001b[0m\u001b[0m\n\u001b[0;32m---> 50\u001b[0;31m                 \u001b[0mdata\u001b[0m \u001b[0;34m=\u001b[0m \u001b[0mself\u001b[0m\u001b[0;34m.\u001b[0m\u001b[0mdataset\u001b[0m\u001b[0;34m.\u001b[0m\u001b[0m__getitems__\u001b[0m\u001b[0;34m(\u001b[0m\u001b[0mpossibly_batched_index\u001b[0m\u001b[0;34m)\u001b[0m\u001b[0;34m\u001b[0m\u001b[0;34m\u001b[0m\u001b[0m\n\u001b[0m\u001b[1;32m     51\u001b[0m             \u001b[0;32melse\u001b[0m\u001b[0;34m:\u001b[0m\u001b[0;34m\u001b[0m\u001b[0;34m\u001b[0m\u001b[0m\n\u001b[1;32m     52\u001b[0m                 \u001b[0mdata\u001b[0m \u001b[0;34m=\u001b[0m \u001b[0;34m[\u001b[0m\u001b[0mself\u001b[0m\u001b[0;34m.\u001b[0m\u001b[0mdataset\u001b[0m\u001b[0;34m[\u001b[0m\u001b[0midx\u001b[0m\u001b[0;34m]\u001b[0m \u001b[0;32mfor\u001b[0m \u001b[0midx\u001b[0m \u001b[0;32min\u001b[0m \u001b[0mpossibly_batched_index\u001b[0m\u001b[0;34m]\u001b[0m\u001b[0;34m\u001b[0m\u001b[0;34m\u001b[0m\u001b[0m\n",
            "\u001b[0;32m/usr/local/lib/python3.11/dist-packages/torch/utils/data/dataset.py\u001b[0m in \u001b[0;36m__getitems__\u001b[0;34m(self, indices)\u001b[0m\n\u001b[1;32m    418\u001b[0m             \u001b[0;32mreturn\u001b[0m \u001b[0mself\u001b[0m\u001b[0;34m.\u001b[0m\u001b[0mdataset\u001b[0m\u001b[0;34m.\u001b[0m\u001b[0m__getitems__\u001b[0m\u001b[0;34m(\u001b[0m\u001b[0;34m[\u001b[0m\u001b[0mself\u001b[0m\u001b[0;34m.\u001b[0m\u001b[0mindices\u001b[0m\u001b[0;34m[\u001b[0m\u001b[0midx\u001b[0m\u001b[0;34m]\u001b[0m \u001b[0;32mfor\u001b[0m \u001b[0midx\u001b[0m \u001b[0;32min\u001b[0m \u001b[0mindices\u001b[0m\u001b[0;34m]\u001b[0m\u001b[0;34m)\u001b[0m  \u001b[0;31m# type: ignore[attr-defined]\u001b[0m\u001b[0;34m\u001b[0m\u001b[0;34m\u001b[0m\u001b[0m\n\u001b[1;32m    419\u001b[0m         \u001b[0;32melse\u001b[0m\u001b[0;34m:\u001b[0m\u001b[0;34m\u001b[0m\u001b[0;34m\u001b[0m\u001b[0m\n\u001b[0;32m--> 420\u001b[0;31m             \u001b[0;32mreturn\u001b[0m \u001b[0;34m[\u001b[0m\u001b[0mself\u001b[0m\u001b[0;34m.\u001b[0m\u001b[0mdataset\u001b[0m\u001b[0;34m[\u001b[0m\u001b[0mself\u001b[0m\u001b[0;34m.\u001b[0m\u001b[0mindices\u001b[0m\u001b[0;34m[\u001b[0m\u001b[0midx\u001b[0m\u001b[0;34m]\u001b[0m\u001b[0;34m]\u001b[0m \u001b[0;32mfor\u001b[0m \u001b[0midx\u001b[0m \u001b[0;32min\u001b[0m \u001b[0mindices\u001b[0m\u001b[0;34m]\u001b[0m\u001b[0;34m\u001b[0m\u001b[0;34m\u001b[0m\u001b[0m\n\u001b[0m\u001b[1;32m    421\u001b[0m \u001b[0;34m\u001b[0m\u001b[0m\n\u001b[1;32m    422\u001b[0m     \u001b[0;32mdef\u001b[0m \u001b[0m__len__\u001b[0m\u001b[0;34m(\u001b[0m\u001b[0mself\u001b[0m\u001b[0;34m)\u001b[0m\u001b[0;34m:\u001b[0m\u001b[0;34m\u001b[0m\u001b[0;34m\u001b[0m\u001b[0m\n",
            "\u001b[0;32m/usr/local/lib/python3.11/dist-packages/torch/utils/data/dataset.py\u001b[0m in \u001b[0;36m<listcomp>\u001b[0;34m(.0)\u001b[0m\n\u001b[1;32m    418\u001b[0m             \u001b[0;32mreturn\u001b[0m \u001b[0mself\u001b[0m\u001b[0;34m.\u001b[0m\u001b[0mdataset\u001b[0m\u001b[0;34m.\u001b[0m\u001b[0m__getitems__\u001b[0m\u001b[0;34m(\u001b[0m\u001b[0;34m[\u001b[0m\u001b[0mself\u001b[0m\u001b[0;34m.\u001b[0m\u001b[0mindices\u001b[0m\u001b[0;34m[\u001b[0m\u001b[0midx\u001b[0m\u001b[0;34m]\u001b[0m \u001b[0;32mfor\u001b[0m \u001b[0midx\u001b[0m \u001b[0;32min\u001b[0m \u001b[0mindices\u001b[0m\u001b[0;34m]\u001b[0m\u001b[0;34m)\u001b[0m  \u001b[0;31m# type: ignore[attr-defined]\u001b[0m\u001b[0;34m\u001b[0m\u001b[0;34m\u001b[0m\u001b[0m\n\u001b[1;32m    419\u001b[0m         \u001b[0;32melse\u001b[0m\u001b[0;34m:\u001b[0m\u001b[0;34m\u001b[0m\u001b[0;34m\u001b[0m\u001b[0m\n\u001b[0;32m--> 420\u001b[0;31m             \u001b[0;32mreturn\u001b[0m \u001b[0;34m[\u001b[0m\u001b[0mself\u001b[0m\u001b[0;34m.\u001b[0m\u001b[0mdataset\u001b[0m\u001b[0;34m[\u001b[0m\u001b[0mself\u001b[0m\u001b[0;34m.\u001b[0m\u001b[0mindices\u001b[0m\u001b[0;34m[\u001b[0m\u001b[0midx\u001b[0m\u001b[0;34m]\u001b[0m\u001b[0;34m]\u001b[0m \u001b[0;32mfor\u001b[0m \u001b[0midx\u001b[0m \u001b[0;32min\u001b[0m \u001b[0mindices\u001b[0m\u001b[0;34m]\u001b[0m\u001b[0;34m\u001b[0m\u001b[0;34m\u001b[0m\u001b[0m\n\u001b[0m\u001b[1;32m    421\u001b[0m \u001b[0;34m\u001b[0m\u001b[0m\n\u001b[1;32m    422\u001b[0m     \u001b[0;32mdef\u001b[0m \u001b[0m__len__\u001b[0m\u001b[0;34m(\u001b[0m\u001b[0mself\u001b[0m\u001b[0;34m)\u001b[0m\u001b[0;34m:\u001b[0m\u001b[0;34m\u001b[0m\u001b[0;34m\u001b[0m\u001b[0m\n",
            "\u001b[0;32m/usr/local/lib/python3.11/dist-packages/torchvision/datasets/mnist.py\u001b[0m in \u001b[0;36m__getitem__\u001b[0;34m(self, index)\u001b[0m\n\u001b[1;32m    137\u001b[0m             \u001b[0mtuple\u001b[0m\u001b[0;34m:\u001b[0m \u001b[0;34m(\u001b[0m\u001b[0mimage\u001b[0m\u001b[0;34m,\u001b[0m \u001b[0mtarget\u001b[0m\u001b[0;34m)\u001b[0m \u001b[0mwhere\u001b[0m \u001b[0mtarget\u001b[0m \u001b[0;32mis\u001b[0m \u001b[0mindex\u001b[0m \u001b[0mof\u001b[0m \u001b[0mthe\u001b[0m \u001b[0mtarget\u001b[0m \u001b[0;32mclass\u001b[0m\u001b[0;34m.\u001b[0m\u001b[0;34m\u001b[0m\u001b[0;34m\u001b[0m\u001b[0m\n\u001b[1;32m    138\u001b[0m         \"\"\"\n\u001b[0;32m--> 139\u001b[0;31m         \u001b[0mimg\u001b[0m\u001b[0;34m,\u001b[0m \u001b[0mtarget\u001b[0m \u001b[0;34m=\u001b[0m \u001b[0mself\u001b[0m\u001b[0;34m.\u001b[0m\u001b[0mdata\u001b[0m\u001b[0;34m[\u001b[0m\u001b[0mindex\u001b[0m\u001b[0;34m]\u001b[0m\u001b[0;34m,\u001b[0m \u001b[0mint\u001b[0m\u001b[0;34m(\u001b[0m\u001b[0mself\u001b[0m\u001b[0;34m.\u001b[0m\u001b[0mtargets\u001b[0m\u001b[0;34m[\u001b[0m\u001b[0mindex\u001b[0m\u001b[0;34m]\u001b[0m\u001b[0;34m)\u001b[0m\u001b[0;34m\u001b[0m\u001b[0;34m\u001b[0m\u001b[0m\n\u001b[0m\u001b[1;32m    140\u001b[0m \u001b[0;34m\u001b[0m\u001b[0m\n\u001b[1;32m    141\u001b[0m         \u001b[0;31m# doing this so that it is consistent with all other datasets\u001b[0m\u001b[0;34m\u001b[0m\u001b[0;34m\u001b[0m\u001b[0m\n",
            "\u001b[0;31mKeyboardInterrupt\u001b[0m: "
          ]
        }
      ]
    },
    {
      "cell_type": "markdown",
      "source": [
        "hyperparameters set:batch_size,lr\n",
        "\n",
        "fit function records validation loss and metrics from each epoch and record history of training process.\n",
        "\n",
        "This is useful for debugging and visualising the training process."
      ],
      "metadata": {
        "id": "vMo1GTnn7FIL"
      }
    },
    {
      "cell_type": "markdown",
      "source": [
        "We can achieve accuracy to certain limit,when it hits the limit.\n",
        "\n",
        "relationship between pixel intensities and label"
      ],
      "metadata": {
        "id": "5hkCXuOE_h4t"
      }
    },
    {
      "cell_type": "code",
      "source": [
        "# Replace these values with your results:\n",
        "history=[result0]+history1\n",
        "accuracies=[result['val_acc'] for result in history]\n",
        "plt.plot(accuracies,'-x')\n",
        "plt.xlabel('epoch')\n",
        "plt.ylabel('accuracy')\n",
        "plt.title('Accuracy vs. No. of epochs');"
      ],
      "metadata": {
        "colab": {
          "base_uri": "https://localhost:8080/",
          "height": 472
        },
        "id": "jXM5Ak9GANxt",
        "outputId": "38fc04c7-0ddc-41c5-eb66-94d943e1fd9a"
      },
      "execution_count": null,
      "outputs": [
        {
          "output_type": "display_data",
          "data": {
            "text/plain": [
              "<Figure size 640x480 with 1 Axes>"
            ],
            "image/png": "[encoded data removed]"
          },
          "metadata": {}
        }
      ]
    },
    {
      "cell_type": "markdown",
      "source": [
        "The '-x' argument means that we will get a line plot with markers (x) on each data point."
      ],
      "metadata": {
        "id": "qA_U_eF6BDVK"
      }
    },
    {
      "cell_type": "code",
      "source": [
        "test_dataset=MNIST(root=root,\n",
        "                   train=False,\n",
        "                   transform=transforms.ToTensor())"
      ],
      "metadata": {
        "id": "ml9ZfrfqA4J-"
      },
      "execution_count": null,
      "outputs": []
    },
    {
      "cell_type": "code",
      "source": [
        "img,label=test_dataset[0]\n",
        "plt.imshow(img[0],cmap='gray')\n",
        "print('label',label)\n",
        "print('Shape:',img.shape)"
      ],
      "metadata": {
        "colab": {
          "base_uri": "https://localhost:8080/",
          "height": 465
        },
        "id": "22xqhH33EC8W",
        "outputId": "4d7b934d-20a5-489d-bce7-0f4b34823dec"
      },
      "execution_count": null,
      "outputs": [
        {
          "output_type": "stream",
          "name": "stdout",
          "text": [
            "label 7\n",
            "Shape: torch.Size([1, 28, 28])\n"
          ]
        },
        {
          "output_type": "display_data",
          "data": {
            "text/plain": [
              "<Figure size 640x480 with 1 Axes>"
            ],
            "image/png": "[encoded data removed]"
          },
          "metadata": {}
        }
      ]
    },
    {
      "cell_type": "code",
      "source": [
        "img.unsqueeze(0).shape"
      ],
      "metadata": {
        "colab": {
          "base_uri": "https://localhost:8080/"
        },
        "id": "lQQPq-VeEXPo",
        "outputId": "f432f342-c2eb-4dca-a320-2a81e6ceb912"
      },
      "execution_count": null,
      "outputs": [
        {
          "output_type": "execute_result",
          "data": {
            "text/plain": [
              "torch.Size([1, 1, 28, 28])"
            ]
          },
          "metadata": {},
          "execution_count": 205
        }
      ]
    },
    {
      "cell_type": "markdown",
      "source": [
        "img.unsqueeze(0): This operation will add an additional dimension at the beginning, turning the shape from (height, width) to (1, height, width).\n",
        "\n",
        "This is typically used to create a batch of size 1, which is required when feeding data into a model, as most models expect the input shape to be (batch_size, channels, height, width)."
      ],
      "metadata": {
        "id": "B9HAi26hIESJ"
      }
    },
    {
      "cell_type": "code",
      "source": [
        "def predict_image(img,model):\n",
        "  xb=img.unsqueeze(0)\n",
        "  yb=model(xb)\n",
        "  _,preds=torch.max(yb,dim=1)\n",
        "  return preds[0].item()"
      ],
      "metadata": {
        "id": "3vYlE_oqEg-H"
      },
      "execution_count": null,
      "outputs": []
    },
    {
      "cell_type": "markdown",
      "source": [
        "img.unsqueeze adds the another dimension at the beginning og 1*28*28 tensor making it a 1*1*28*128 tensor making it this dim,which model view it as batch containing a single image."
      ],
      "metadata": {
        "id": "fUa_PELcE_xO"
      }
    },
    {
      "cell_type": "code",
      "source": [
        "img,label=test_dataset[0]\n",
        "plt.imshow(img[0],cmap='gray')\n",
        "print('Label:',label,'Predicted:',predict_image(img[0],model))"
      ],
      "metadata": {
        "colab": {
          "base_uri": "https://localhost:8080/",
          "height": 447
        },
        "id": "1ASCRbxJFWV3",
        "outputId": "315662ec-03d5-46ac-ff68-c8112bf23caa"
      },
      "execution_count": null,
      "outputs": [
        {
          "output_type": "stream",
          "name": "stdout",
          "text": [
            "Label: 7 Predicted: 5\n"
          ]
        },
        {
          "output_type": "display_data",
          "data": {
            "text/plain": [
              "<Figure size 640x480 with 1 Axes>"
            ],
            "image/png": "[encoded data removed]"
          },
          "metadata": {}
        }
      ]
    },
    {
      "cell_type": "code",
      "source": [
        "img,label=test_dataset[10]\n",
        "plt.imshow(img[0],cmap='gray')\n",
        "print('Label:',label,'Predicted:',predict_image(img[0],model))"
      ],
      "metadata": {
        "colab": {
          "base_uri": "https://localhost:8080/",
          "height": 447
        },
        "id": "yzAvgqiBGSuD",
        "outputId": "a88598e8-5d8e-400e-8f00-a142747baacb"
      },
      "execution_count": null,
      "outputs": [
        {
          "output_type": "stream",
          "name": "stdout",
          "text": [
            "Label: 0 Predicted: 8\n"
          ]
        },
        {
          "output_type": "display_data",
          "data": {
            "text/plain": [
              "<Figure size 640x480 with 1 Axes>"
            ],
            "image/png": "[encoded data removed]"
          },
          "metadata": {}
        }
      ]
    },
    {
      "cell_type": "code",
      "source": [
        "img,label=test_dataset[193]\n",
        "plt.imshow(img[0],cmap='gray')\n",
        "print('Label:',label,'Predicted:',predict_image(img[0],model))"
      ],
      "metadata": {
        "colab": {
          "base_uri": "https://localhost:8080/",
          "height": 447
        },
        "id": "KewZGLjVHbVC",
        "outputId": "e8cf5b71-c327-4904-9e5e-49ff1754a6b2"
      },
      "execution_count": null,
      "outputs": [
        {
          "output_type": "stream",
          "name": "stdout",
          "text": [
            "Label: 9 Predicted: 3\n"
          ]
        },
        {
          "output_type": "display_data",
          "data": {
            "text/plain": [
              "<Figure size 640x480 with 1 Axes>"
            ],
            "image/png": "[encoded data removed]"
          },
          "metadata": {}
        }
      ]
    },
    {
      "cell_type": "code",
      "source": [
        "img,label=test_dataset[1839]\n",
        "plt.imshow(img[0],cmap='gray')\n",
        "print('Label:',label,'Predicted:',predict_image(img[0],model))"
      ],
      "metadata": {
        "colab": {
          "base_uri": "https://localhost:8080/",
          "height": 447
        },
        "id": "rdOr6Q2IHhJY",
        "outputId": "0d979181-e07e-450d-8684-101b7117e6bc"
      },
      "execution_count": null,
      "outputs": [
        {
          "output_type": "stream",
          "name": "stdout",
          "text": [
            "Label: 2 Predicted: 3\n"
          ]
        },
        {
          "output_type": "display_data",
          "data": {
            "text/plain": [
              "<Figure size 640x480 with 1 Axes>"
            ],
            "image/png": "[encoded data removed]"
          },
          "metadata": {}
        }
      ]
    },
    {
      "cell_type": "markdown",
      "source": [
        "1.Increasing training data\n",
        "\n",
        "2.Regularising hyperparameters"
      ],
      "metadata": {
        "id": "E4UA15GXHpBF"
      }
    },
    {
      "cell_type": "code",
      "source": [
        "test_dataset"
      ],
      "metadata": {
        "colab": {
          "base_uri": "https://localhost:8080/"
        },
        "id": "LbJzDGVGHoV2",
        "outputId": "62857ab1-8b6e-471b-a003-a7d782cad6cb"
      },
      "execution_count": null,
      "outputs": [
        {
          "output_type": "execute_result",
          "data": {
            "text/plain": [
              "Dataset MNIST\n",
              "    Number of datapoints: 10000\n",
              "    Root location: C:\\Users\\Admin\\OneDrive\\Desktop\\DEEP_LEARNING\n",
              "    Split: Test\n",
              "    StandardTransform\n",
              "Transform: ToTensor()"
            ]
          },
          "metadata": {},
          "execution_count": 216
        }
      ]
    },
    {
      "cell_type": "code",
      "source": [
        "test_loader=DataLoader(test_dataset,batch_size=256)\n",
        "result=evaluate(model,test_loader)\n",
        "result"
      ],
      "metadata": {
        "colab": {
          "base_uri": "https://localhost:8080/"
        },
        "id": "H-8Qg2LAIzgN",
        "outputId": "d2f38f7f-e268-4923-8faa-27c7a9b0ae86"
      },
      "execution_count": null,
      "outputs": [
        {
          "output_type": "execute_result",
          "data": {
            "text/plain": [
              "{'val_loss': 2.1824803352355957, 'val_acc': 0.30341798067092896}"
            ]
          },
          "metadata": {},
          "execution_count": 217
        }
      ]
    },
    {
      "cell_type": "code",
      "source": [
        "# Saving and loading the model\n",
        "torch.save(model.state_dict(),'mnist-logistic-pth')"
      ],
      "metadata": {
        "id": "5srsdP-FJDLx"
      },
      "execution_count": null,
      "outputs": []
    },
    {
      "cell_type": "markdown",
      "source": [
        "This saves only the parameters (weights and biases) of the model to a file named 'mnist-logistic-pth'.\n",
        "\n",
        "You can later load this state dictionary using model.load_state_dict() to restore the model's learned parameters.\n",
        "\n"
      ],
      "metadata": {
        "id": "KA2qG8h8Jlle"
      }
    },
    {
      "cell_type": "code",
      "source": [
        "model.state_dict()"
      ],
      "metadata": {
        "colab": {
          "base_uri": "https://localhost:8080/"
        },
        "id": "7viP6M16JnJP",
        "outputId": "e7ee30ff-e639-42c6-c40d-121920461631"
      },
      "execution_count": null,
      "outputs": [
        {
          "output_type": "execute_result",
          "data": {
            "text/plain": [
              "OrderedDict([('linear.weight',\n",
              "              tensor([[-0.0204,  0.0230,  0.0256,  ..., -0.0057,  0.0121,  0.0214],\n",
              "                      [ 0.0009,  0.0048, -0.0215,  ..., -0.0029, -0.0080, -0.0181],\n",
              "                      [-0.0164, -0.0257, -0.0248,  ..., -0.0116, -0.0228, -0.0086],\n",
              "                      ...,\n",
              "                      [ 0.0196, -0.0019, -0.0219,  ..., -0.0050, -0.0213,  0.0039],\n",
              "                      [-0.0234, -0.0126,  0.0190,  ...,  0.0168, -0.0030,  0.0286],\n",
              "                      [-0.0205,  0.0019,  0.0269,  ..., -0.0213,  0.0078,  0.0138]])),\n",
              "             ('linear.bias',\n",
              "              tensor([ 0.0123,  0.0060, -0.0082,  0.0189,  0.0079,  0.0142, -0.0135, -0.0048,\n",
              "                       0.0251, -0.0273]))])"
            ]
          },
          "metadata": {},
          "execution_count": 221
        }
      ]
    },
    {
      "cell_type": "markdown",
      "source": [
        "It returns OrderedDict containing all weights,biases mapped to right attributes of model."
      ],
      "metadata": {
        "id": "Tye4HuJ9KAX0"
      }
    },
    {
      "cell_type": "markdown",
      "source": [
        "To load the model weights,we can instantiate a new object of class MnistModel and use the .load_state_dict"
      ],
      "metadata": {
        "id": "46vMm8orKWdl"
      }
    },
    {
      "cell_type": "code",
      "source": [
        "model2=MnistModel()\n",
        "model2.load_state_dict(torch.load('mnist-logistic-pth'))\n",
        "model.state_dict()"
      ],
      "metadata": {
        "colab": {
          "base_uri": "https://localhost:8080/"
        },
        "id": "k-Z4bTJ-J__T",
        "outputId": "7745ecbb-723d-480f-c9e4-7bcdb7d78dd3"
      },
      "execution_count": null,
      "outputs": [
        {
          "output_type": "stream",
          "name": "stderr",
          "text": [
            "<ipython-input-222-b458568cb24d>:2: FutureWarning: You are using `torch.load` with `weights_only=False` (the current default value), which uses the default pickle module implicitly. It is possible to construct malicious pickle data which will execute arbitrary code during unpickling (See https://github.com/pytorch/pytorch/blob/main/SECURITY.md#untrusted-models for more details). In a future release, the default value for `weights_only` will be flipped to `True`. This limits the functions that could be executed during unpickling. Arbitrary objects will no longer be allowed to be loaded via this mode unless they are explicitly allowlisted by the user via `torch.serialization.add_safe_globals`. We recommend you start setting `weights_only=True` for any use case where you don't have full control of the loaded file. Please open an issue on GitHub for any issues related to this experimental feature.\n",
            "  model2.load_state_dict(torch.load('mnist-logistic-pth'))\n"
          ]
        },
        {
          "output_type": "execute_result",
          "data": {
            "text/plain": [
              "OrderedDict([('linear.weight',\n",
              "              tensor([[-0.0204,  0.0230,  0.0256,  ..., -0.0057,  0.0121,  0.0214],\n",
              "                      [ 0.0009,  0.0048, -0.0215,  ..., -0.0029, -0.0080, -0.0181],\n",
              "                      [-0.0164, -0.0257, -0.0248,  ..., -0.0116, -0.0228, -0.0086],\n",
              "                      ...,\n",
              "                      [ 0.0196, -0.0019, -0.0219,  ..., -0.0050, -0.0213,  0.0039],\n",
              "                      [-0.0234, -0.0126,  0.0190,  ...,  0.0168, -0.0030,  0.0286],\n",
              "                      [-0.0205,  0.0019,  0.0269,  ..., -0.0213,  0.0078,  0.0138]])),\n",
              "             ('linear.bias',\n",
              "              tensor([ 0.0123,  0.0060, -0.0082,  0.0189,  0.0079,  0.0142, -0.0135, -0.0048,\n",
              "                       0.0251, -0.0273]))])"
            ]
          },
          "metadata": {},
          "execution_count": 222
        }
      ]
    },
    {
      "cell_type": "code",
      "source": [
        "test_loader=DataLoader(test_dataset,batch_size=256)\n",
        "result=evaluate(model2,test_loader)\n",
        "result"
      ],
      "metadata": {
        "colab": {
          "base_uri": "https://localhost:8080/"
        },
        "id": "2hgwsU-1JvEQ",
        "outputId": "d56e87fa-2e40-4bae-ba09-bc68de42ccaf"
      },
      "execution_count": null,
      "outputs": [
        {
          "output_type": "execute_result",
          "data": {
            "text/plain": [
              "{'val_loss': 2.1824803352355957, 'val_acc': 0.30341798067092896}"
            ]
          },
          "metadata": {},
          "execution_count": 223
        }
      ]
    }
  ]
}
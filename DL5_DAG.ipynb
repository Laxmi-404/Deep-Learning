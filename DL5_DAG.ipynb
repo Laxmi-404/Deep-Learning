{
  "nbformat": 4,
  "nbformat_minor": 0,
  "metadata": {
    "colab": {
      "provenance": [],
      "gpuType": "T4",
      "authorship_tag": "ABX9TyMC5Edd3f6gtAdyRgyRkS6p",
      "include_colab_link": true
    },
    "kernelspec": {
      "name": "python3",
      "display_name": "Python 3"
    },
    "language_info": {
      "name": "python"
    },
    "accelerator": "GPU"
  },
  "cells": [
    {
      "cell_type": "markdown",
      "metadata": {
        "id": "view-in-github",
        "colab_type": "text"
      },
      "source": [
        "<a href=\"https://colab.research.google.com/github/Laxmi-404/Deep-Learning/blob/main/DL5_DAG.ipynb\" target=\"_parent\"><img src=\"https://colab.research.google.com/assets/colab-badge.svg\" alt=\"Open In Colab\"/></a>"
      ]
    },
    {
      "cell_type": "markdown",
      "source": [
        "Data normalization\n",
        "\n",
        "Data augmentation\n",
        "\n",
        "Residual connections\n",
        "\n",
        "Batch normalization\n",
        "\n",
        "Learning rate scheduling\n",
        "\n",
        "Weight Decay\n",
        "\n",
        "Gradient clipping\n",
        "\n",
        "Adam optimizer\n",
        "\n"
      ],
      "metadata": {
        "id": "A1zyX-9mXVyb"
      }
    },
    {
      "cell_type": "markdown",
      "source": [
        "\n",
        "\n",
        "```\n",
        "# Uncomment and run the appropriate command for your operating system, if required\n",
        "# No installation is reqiured on Google Colab / Kaggle notebooks\n",
        "\n",
        "# Linux / Binder / Windows (No GPU)\n",
        "# !pip install numpy matplotlib torch==1.7.0+cpu torchvision==0.8.1+cpu torchaudio==0.7.0 -f https://download.pytorch.org/whl/torch_stable.html\n",
        "\n",
        "# Linux / Windows (GPU)\n",
        "# pip install torch==1.7.1+cu110 torchvision==0.8.2+cu110 torchaudio==0.7.2 -f https://download.pytorch.org/whl/torch_stable.html\n",
        "\n",
        "# MacOS (NO GPU)\n",
        "# !pip install numpy matplotlib torch torchvision torchaudio\n",
        "```\n",
        "\n"
      ],
      "metadata": {
        "id": "IzqEXYW_XzZg"
      }
    },
    {
      "cell_type": "code",
      "execution_count": null,
      "metadata": {
        "id": "qcQOUg5COmR9"
      },
      "outputs": [],
      "source": [
        "import os\n",
        "import torch\n",
        "import torchvision\n",
        "import tarfile\n",
        "import torch.nn as nn\n",
        "import numpy as np\n",
        "import torch.nn.functional as F\n",
        "from torchvision.datasets.utils import download_url\n",
        "from torchvision.datasets import ImageFolder\n",
        "from torch.utils.data import DataLoader\n",
        "import torchvision.transforms as tt\n",
        "from torch.utils.data import random_split\n",
        "from torchvision.utils import make_grid\n",
        "import matplotlib.pyplot as plt\n",
        "%matplotlib inline"
      ]
    },
    {
      "cell_type": "code",
      "source": [
        "# Download the dataset:\n",
        "root=r'C:\\Users\\Admin\\OneDrive\\Desktop\\DEEP_LEARNING'\n",
        "# dataset_url=\"https://files.fast.ai/data/cifar10.tgz\"\n",
        "dataset_url = \"https://s3.amazonaws.com/fast-ai-imageclas/cifar10.tgz\"\n",
        "download_url(dataset_url,root=root)\n",
        "\n",
        "# Extract from archive\n",
        "with tarfile.open(root+'/cifar10.tgz','r:gz') as tar:\n",
        "  tar.extractall(path=root)"
      ],
      "metadata": {
        "colab": {
          "base_uri": "https://localhost:8080/"
        },
        "id": "EZmGw9PvZdSp",
        "outputId": "4cb6e06d-295c-4d46-c04e-284b146e9b91"
      },
      "execution_count": null,
      "outputs": [
        {
          "output_type": "stream",
          "name": "stdout",
          "text": [
            "Using downloaded and verified file: C:\\Users\\Admin\\OneDrive\\Desktop\\DEEP_LEARNING/cifar10.tgz\n"
          ]
        }
      ]
    },
    {
      "cell_type": "code",
      "source": [
        "# Look into data directory:\n",
        "data_dir=root+'/cifar10'\n",
        "print(os.listdir(data_dir))\n",
        "classes=os.listdir(data_dir+'/train')\n",
        "classes"
      ],
      "metadata": {
        "colab": {
          "base_uri": "https://localhost:8080/"
        },
        "id": "7l8Z6-1WbA9I",
        "outputId": "c2c2f2b4-c334-4a64-a8c0-c2bb9e6f6dce",
        "collapsed": true
      },
      "execution_count": null,
      "outputs": [
        {
          "output_type": "stream",
          "name": "stdout",
          "text": [
            "['test', 'train']\n"
          ]
        },
        {
          "output_type": "execute_result",
          "data": {
            "text/plain": [
              "['truck',\n",
              " 'bird',\n",
              " 'deer',\n",
              " 'ship',\n",
              " 'horse',\n",
              " 'automobile',\n",
              " 'cat',\n",
              " 'frog',\n",
              " 'airplane',\n",
              " 'dog']"
            ]
          },
          "metadata": {},
          "execution_count": 4
        }
      ]
    },
    {
      "cell_type": "code",
      "source": [
        "os.listdir(data_dir+'/train/horse')"
      ],
      "metadata": {
        "colab": {
          "base_uri": "https://localhost:8080/"
        },
        "id": "PqT-JuXGbajq",
        "outputId": "3c0a04dd-0642-4348-f84d-7a12dd26152e",
        "collapsed": true
      },
      "execution_count": null,
      "outputs": [
        {
          "output_type": "execute_result",
          "data": {
            "text/plain": [
              "['1655.png',\n",
              " '0025.png',\n",
              " '1148.png',\n",
              " '1264.png',\n",
              " '0060.png',\n",
              " '4730.png',\n",
              " '0487.png',\n",
              " '1958.png',\n",
              " '0095.png',\n",
              " '0897.png',\n",
              " '1132.png',\n",
              " '2058.png',\n",
              " '3250.png',\n",
              " '4685.png',\n",
              " '3230.png',\n",
              " '2718.png',\n",
              " '2176.png',\n",
              " '1650.png',\n",
              " '0856.png',\n",
              " '1281.png',\n",
              " '2002.png',\n",
              " '3182.png',\n",
              " '4125.png',\n",
              " '4521.png',\n",
              " '3024.png',\n",
              " '0779.png',\n",
              " '0211.png',\n",
              " '4500.png',\n",
              " '4818.png',\n",
              " '0156.png',\n",
              " '4355.png',\n",
              " '3122.png',\n",
              " '0284.png',\n",
              " '0020.png',\n",
              " '0946.png',\n",
              " '2962.png',\n",
              " '2923.png',\n",
              " '1797.png',\n",
              " '0966.png',\n",
              " '3137.png',\n",
              " '0040.png',\n",
              " '3616.png',\n",
              " '0231.png',\n",
              " '4839.png',\n",
              " '0948.png',\n",
              " '1980.png',\n",
              " '2573.png',\n",
              " '1386.png',\n",
              " '3693.png',\n",
              " '2697.png',\n",
              " '1404.png',\n",
              " '1207.png',\n",
              " '0300.png',\n",
              " '0765.png',\n",
              " '2393.png',\n",
              " '3058.png',\n",
              " '2136.png',\n",
              " '3007.png',\n",
              " '4208.png',\n",
              " '1161.png',\n",
              " '1048.png',\n",
              " '3526.png',\n",
              " '2147.png',\n",
              " '0115.png',\n",
              " '1934.png',\n",
              " '0228.png',\n",
              " '0568.png',\n",
              " '3748.png',\n",
              " '1422.png',\n",
              " '2141.png',\n",
              " '1197.png',\n",
              " '3809.png',\n",
              " '4984.png',\n",
              " '2223.png',\n",
              " '2754.png',\n",
              " '0685.png',\n",
              " '0924.png',\n",
              " '4115.png',\n",
              " '3277.png',\n",
              " '2064.png',\n",
              " '2628.png',\n",
              " '0531.png',\n",
              " '4164.png',\n",
              " '0909.png',\n",
              " '0546.png',\n",
              " '2974.png',\n",
              " '0728.png',\n",
              " '4599.png',\n",
              " '1715.png',\n",
              " '3066.png',\n",
              " '1604.png',\n",
              " '0215.png',\n",
              " '2048.png',\n",
              " '1839.png',\n",
              " '2939.png',\n",
              " '3621.png',\n",
              " '3587.png',\n",
              " '1828.png',\n",
              " '2932.png',\n",
              " '3358.png',\n",
              " '3674.png',\n",
              " '3537.png',\n",
              " '1786.png',\n",
              " '1558.png',\n",
              " '0552.png',\n",
              " '1772.png',\n",
              " '2979.png',\n",
              " '3757.png',\n",
              " '0934.png',\n",
              " '3534.png',\n",
              " '3120.png',\n",
              " '0917.png',\n",
              " '2575.png',\n",
              " '4026.png',\n",
              " '0338.png',\n",
              " '0425.png',\n",
              " '0346.png',\n",
              " '0035.png',\n",
              " '0225.png',\n",
              " '4959.png',\n",
              " '4551.png',\n",
              " '2750.png',\n",
              " '4812.png',\n",
              " '1539.png',\n",
              " '2941.png',\n",
              " '4607.png',\n",
              " '3327.png',\n",
              " '0885.png',\n",
              " '4550.png',\n",
              " '0236.png',\n",
              " '2268.png',\n",
              " '2412.png',\n",
              " '1200.png',\n",
              " '2992.png',\n",
              " '3464.png',\n",
              " '2583.png',\n",
              " '3654.png',\n",
              " '3888.png',\n",
              " '2436.png',\n",
              " '3121.png',\n",
              " '3577.png',\n",
              " '4263.png',\n",
              " '2327.png',\n",
              " '0353.png',\n",
              " '2777.png',\n",
              " '1105.png',\n",
              " '1032.png',\n",
              " '3851.png',\n",
              " '0860.png',\n",
              " '4944.png',\n",
              " '2102.png',\n",
              " '4870.png',\n",
              " '0631.png',\n",
              " '1767.png',\n",
              " '4287.png',\n",
              " '1716.png',\n",
              " '2119.png',\n",
              " '2479.png',\n",
              " '2248.png',\n",
              " '0480.png',\n",
              " '3611.png',\n",
              " '4413.png',\n",
              " '1232.png',\n",
              " '4749.png',\n",
              " '3783.png',\n",
              " '1417.png',\n",
              " '0654.png',\n",
              " '4541.png',\n",
              " '4580.png',\n",
              " '2079.png',\n",
              " '3916.png',\n",
              " '4301.png',\n",
              " '4109.png',\n",
              " '0970.png',\n",
              " '2660.png',\n",
              " '4728.png',\n",
              " '1908.png',\n",
              " '3388.png',\n",
              " '2183.png',\n",
              " '3339.png',\n",
              " '1823.png',\n",
              " '1122.png',\n",
              " '2027.png',\n",
              " '3626.png',\n",
              " '0085.png',\n",
              " '1184.png',\n",
              " '0306.png',\n",
              " '3367.png',\n",
              " '2151.png',\n",
              " '3608.png',\n",
              " '0543.png',\n",
              " '3937.png',\n",
              " '2611.png',\n",
              " '2779.png',\n",
              " '3475.png',\n",
              " '4281.png',\n",
              " '0992.png',\n",
              " '4039.png',\n",
              " '4846.png',\n",
              " '3990.png',\n",
              " '3446.png',\n",
              " '1104.png',\n",
              " '4717.png',\n",
              " '2316.png',\n",
              " '4986.png',\n",
              " '3044.png',\n",
              " '0339.png',\n",
              " '2811.png',\n",
              " '2127.png',\n",
              " '1475.png',\n",
              " '2216.png',\n",
              " '4268.png',\n",
              " '3830.png',\n",
              " '2678.png',\n",
              " '1756.png',\n",
              " '0585.png',\n",
              " '4747.png',\n",
              " '4758.png',\n",
              " '3934.png',\n",
              " '2792.png',\n",
              " '4284.png',\n",
              " '2957.png',\n",
              " '4444.png',\n",
              " '1196.png',\n",
              " '0698.png',\n",
              " '1495.png',\n",
              " '1846.png',\n",
              " '2108.png',\n",
              " '3325.png',\n",
              " '1822.png',\n",
              " '4190.png',\n",
              " '1680.png',\n",
              " '4633.png',\n",
              " '4297.png',\n",
              " '3610.png',\n",
              " '1653.png',\n",
              " '4517.png',\n",
              " '1685.png',\n",
              " '2345.png',\n",
              " '0077.png',\n",
              " '4058.png',\n",
              " '2061.png',\n",
              " '3115.png',\n",
              " '4497.png',\n",
              " '0902.png',\n",
              " '3968.png',\n",
              " '4062.png',\n",
              " '4762.png',\n",
              " '1240.png',\n",
              " '3855.png',\n",
              " '4197.png',\n",
              " '0878.png',\n",
              " '3354.png',\n",
              " '0615.png',\n",
              " '1771.png',\n",
              " '4797.png',\n",
              " '2233.png',\n",
              " '1856.png',\n",
              " '1199.png',\n",
              " '2458.png',\n",
              " '2190.png',\n",
              " '0512.png',\n",
              " '3739.png',\n",
              " '3792.png',\n",
              " '0125.png',\n",
              " '2889.png',\n",
              " '3847.png',\n",
              " '1946.png',\n",
              " '4291.png',\n",
              " '2349.png',\n",
              " '2504.png',\n",
              " '2286.png',\n",
              " '1188.png',\n",
              " '1622.png',\n",
              " '1313.png',\n",
              " '0240.png',\n",
              " '4712.png',\n",
              " '1380.png',\n",
              " '4962.png',\n",
              " '2124.png',\n",
              " '1093.png',\n",
              " '2727.png',\n",
              " '4949.png',\n",
              " '4387.png',\n",
              " '1485.png',\n",
              " '2901.png',\n",
              " '0037.png',\n",
              " '4566.png',\n",
              " '2891.png',\n",
              " '4833.png',\n",
              " '1337.png',\n",
              " '1291.png',\n",
              " '2998.png',\n",
              " '2244.png',\n",
              " '4933.png',\n",
              " '1086.png',\n",
              " '3838.png',\n",
              " '0417.png',\n",
              " '2163.png',\n",
              " '2893.png',\n",
              " '0239.png',\n",
              " '1081.png',\n",
              " '0161.png',\n",
              " '1850.png',\n",
              " '3689.png',\n",
              " '3125.png',\n",
              " '4098.png',\n",
              " '3502.png',\n",
              " '1449.png',\n",
              " '4184.png',\n",
              " '0691.png',\n",
              " '2525.png',\n",
              " '2766.png',\n",
              " '3794.png',\n",
              " '1075.png',\n",
              " '2942.png',\n",
              " '3465.png',\n",
              " '4658.png',\n",
              " '4389.png',\n",
              " '0029.png',\n",
              " '1592.png',\n",
              " '1645.png',\n",
              " '3605.png',\n",
              " '4821.png',\n",
              " '1085.png',\n",
              " '4240.png',\n",
              " '2856.png',\n",
              " '4253.png',\n",
              " '0999.png',\n",
              " '4630.png',\n",
              " '4031.png',\n",
              " '1219.png',\n",
              " '0237.png',\n",
              " '0392.png',\n",
              " '2529.png',\n",
              " '1892.png',\n",
              " '3117.png',\n",
              " '1336.png',\n",
              " '3746.png',\n",
              " '5000.png',\n",
              " '0912.png',\n",
              " '4106.png',\n",
              " '1682.png',\n",
              " '0209.png',\n",
              " '4430.png',\n",
              " '1284.png',\n",
              " '1732.png',\n",
              " '1702.png',\n",
              " '2617.png',\n",
              " '4960.png',\n",
              " '4974.png',\n",
              " '4028.png',\n",
              " '1153.png',\n",
              " '1054.png',\n",
              " '0727.png',\n",
              " '1319.png',\n",
              " '2784.png',\n",
              " '1965.png',\n",
              " '4650.png',\n",
              " '1297.png',\n",
              " '2795.png',\n",
              " '4957.png',\n",
              " '0983.png',\n",
              " '3651.png',\n",
              " '4428.png',\n",
              " '2413.png',\n",
              " '2187.png',\n",
              " '2417.png',\n",
              " '3846.png',\n",
              " '0599.png',\n",
              " '3014.png',\n",
              " '0297.png',\n",
              " '2317.png',\n",
              " '1056.png',\n",
              " '3657.png',\n",
              " '2059.png',\n",
              " '3438.png',\n",
              " '3926.png',\n",
              " '3559.png',\n",
              " '1394.png',\n",
              " '0978.png',\n",
              " '4202.png',\n",
              " '1389.png',\n",
              " '4546.png',\n",
              " '1283.png',\n",
              " '0929.png',\n",
              " '0997.png',\n",
              " '3432.png',\n",
              " '3566.png',\n",
              " '1803.png',\n",
              " '0647.png',\n",
              " '3075.png',\n",
              " '1299.png',\n",
              " '1343.png',\n",
              " '3547.png',\n",
              " '3261.png',\n",
              " '1325.png',\n",
              " '3361.png',\n",
              " '0422.png',\n",
              " '1901.png',\n",
              " '1955.png',\n",
              " '3793.png',\n",
              " '1875.png',\n",
              " '4344.png',\n",
              " '1820.png',\n",
              " '1878.png',\n",
              " '3900.png',\n",
              " '4523.png',\n",
              " '3879.png',\n",
              " '3010.png',\n",
              " '2938.png',\n",
              " '2625.png',\n",
              " '3647.png',\n",
              " '4394.png',\n",
              " '4698.png',\n",
              " '4323.png',\n",
              " '1407.png',\n",
              " '4425.png',\n",
              " '3592.png',\n",
              " '1993.png',\n",
              " '0744.png',\n",
              " '4147.png',\n",
              " '3917.png',\n",
              " '1769.png',\n",
              " '3491.png',\n",
              " '0268.png',\n",
              " '2343.png',\n",
              " '3415.png',\n",
              " '2485.png',\n",
              " '4524.png',\n",
              " '2672.png',\n",
              " '3278.png',\n",
              " '0630.png',\n",
              " '4624.png',\n",
              " '0731.png',\n",
              " '2505.png',\n",
              " '3289.png',\n",
              " '0796.png',\n",
              " '2511.png',\n",
              " '3948.png',\n",
              " '3016.png',\n",
              " '2896.png',\n",
              " '1760.png',\n",
              " '0991.png',\n",
              " '2615.png',\n",
              " '0356.png',\n",
              " '0147.png',\n",
              " '0352.png',\n",
              " '0248.png',\n",
              " '3258.png',\n",
              " '4502.png',\n",
              " '4097.png',\n",
              " '1295.png',\n",
              " '1749.png',\n",
              " '1083.png',\n",
              " '2182.png',\n",
              " '2222.png',\n",
              " '4383.png',\n",
              " '3103.png',\n",
              " '2717.png',\n",
              " '4044.png',\n",
              " '3321.png',\n",
              " '3203.png',\n",
              " '1658.png',\n",
              " '0440.png',\n",
              " '0386.png',\n",
              " '3770.png',\n",
              " '2030.png',\n",
              " '4813.png',\n",
              " '2460.png',\n",
              " '1217.png',\n",
              " '0172.png',\n",
              " '3579.png',\n",
              " '1990.png',\n",
              " '4374.png',\n",
              " '4926.png',\n",
              " '1929.png',\n",
              " '0328.png',\n",
              " '3844.png',\n",
              " '2005.png',\n",
              " '4706.png',\n",
              " '1791.png',\n",
              " '2910.png',\n",
              " '3913.png',\n",
              " '4644.png',\n",
              " '3294.png',\n",
              " '4368.png',\n",
              " '4482.png',\n",
              " '1151.png',\n",
              " '4242.png',\n",
              " '2023.png',\n",
              " '4051.png',\n",
              " '3368.png',\n",
              " '3340.png',\n",
              " '3730.png',\n",
              " '1565.png',\n",
              " '1251.png',\n",
              " '4562.png',\n",
              " '3643.png',\n",
              " '1701.png',\n",
              " '2262.png',\n",
              " '3492.png',\n",
              " '3732.png',\n",
              " '2830.png',\n",
              " '0112.png',\n",
              " '1307.png',\n",
              " '4274.png',\n",
              " '1599.png',\n",
              " '1249.png',\n",
              " '4232.png',\n",
              " '2112.png',\n",
              " '4941.png',\n",
              " '1513.png',\n",
              " '2092.png',\n",
              " '2329.png',\n",
              " '2609.png',\n",
              " '3928.png',\n",
              " '2032.png',\n",
              " '0553.png',\n",
              " '2499.png',\n",
              " '0204.png',\n",
              " '0388.png',\n",
              " '1793.png',\n",
              " '2390.png',\n",
              " '2770.png',\n",
              " '3080.png',\n",
              " '0460.png',\n",
              " '1023.png',\n",
              " '2369.png',\n",
              " '2536.png',\n",
              " '0473.png',\n",
              " '0357.png',\n",
              " '1288.png',\n",
              " '1584.png',\n",
              " '1987.png',\n",
              " '3805.png',\n",
              " '0715.png',\n",
              " '2591.png',\n",
              " '1821.png',\n",
              " '0592.png',\n",
              " '4381.png',\n",
              " '2980.png',\n",
              " '3836.png',\n",
              " '4893.png',\n",
              " '3133.png',\n",
              " '0807.png',\n",
              " '0186.png',\n",
              " '2035.png',\n",
              " '1762.png',\n",
              " '4660.png',\n",
              " '4160.png',\n",
              " '4743.png',\n",
              " '1474.png',\n",
              " '3867.png',\n",
              " '0899.png',\n",
              " '0716.png',\n",
              " '4075.png',\n",
              " '2627.png',\n",
              " '2091.png',\n",
              " '3632.png',\n",
              " '0693.png',\n",
              " '3188.png',\n",
              " '1298.png',\n",
              " '0276.png',\n",
              " '1060.png',\n",
              " '4664.png',\n",
              " '1460.png',\n",
              " '3172.png',\n",
              " '0871.png',\n",
              " '2721.png',\n",
              " '3515.png',\n",
              " '1052.png',\n",
              " '0256.png',\n",
              " '2180.png',\n",
              " '0318.png',\n",
              " '1070.png',\n",
              " '0045.png',\n",
              " '2228.png',\n",
              " '3241.png',\n",
              " '2969.png',\n",
              " '0259.png',\n",
              " '0104.png',\n",
              " '1352.png',\n",
              " '0659.png',\n",
              " '0319.png',\n",
              " '3316.png',\n",
              " '0822.png',\n",
              " '3490.png',\n",
              " '1057.png',\n",
              " '1672.png',\n",
              " '4770.png',\n",
              " '3722.png',\n",
              " '1390.png',\n",
              " '4705.png',\n",
              " '3871.png',\n",
              " '4002.png',\n",
              " '0666.png',\n",
              " '3685.png',\n",
              " '1830.png',\n",
              " '2592.png',\n",
              " '0887.png',\n",
              " '1618.png',\n",
              " '2208.png',\n",
              " '0754.png',\n",
              " '1898.png',\n",
              " '1706.png',\n",
              " '2220.png',\n",
              " '1826.png',\n",
              " '4255.png',\n",
              " '3919.png',\n",
              " '1028.png',\n",
              " '4844.png',\n",
              " '0102.png',\n",
              " '2927.png',\n",
              " '2782.png',\n",
              " '2392.png',\n",
              " '1654.png',\n",
              " '2259.png',\n",
              " '3029.png',\n",
              " '0416.png',\n",
              " '1286.png',\n",
              " '2256.png',\n",
              " '0603.png',\n",
              " '3116.png',\n",
              " '3876.png',\n",
              " '0461.png',\n",
              " '4972.png',\n",
              " '0768.png',\n",
              " '2398.png',\n",
              " '1785.png',\n",
              " '3093.png',\n",
              " '2401.png',\n",
              " '3848.png',\n",
              " '2014.png',\n",
              " '1169.png',\n",
              " '3201.png',\n",
              " '1860.png',\n",
              " '1560.png',\n",
              " '0608.png',\n",
              " '3047.png',\n",
              " '2000.png',\n",
              " '3202.png',\n",
              " '4486.png',\n",
              " '0048.png',\n",
              " '2892.png',\n",
              " '4223.png',\n",
              " '3541.png',\n",
              " '0870.png',\n",
              " '2376.png',\n",
              " '1843.png',\n",
              " '1840.png',\n",
              " '3377.png',\n",
              " '4071.png',\n",
              " '4854.png',\n",
              " '0534.png',\n",
              " '0919.png',\n",
              " '2598.png',\n",
              " '1951.png',\n",
              " '4011.png',\n",
              " '1569.png',\n",
              " '1139.png',\n",
              " '2415.png',\n",
              " '3111.png',\n",
              " '1517.png',\n",
              " '0898.png',\n",
              " '2352.png',\n",
              " '0289.png',\n",
              " '3449.png',\n",
              " '1546.png',\n",
              " '1019.png',\n",
              " '3474.png',\n",
              " '3216.png',\n",
              " '0182.png',\n",
              " '4448.png',\n",
              " '3297.png',\n",
              " '3101.png',\n",
              " '1548.png',\n",
              " '2277.png',\n",
              " '2304.png',\n",
              " '2368.png',\n",
              " '2797.png',\n",
              " '4153.png',\n",
              " '1398.png',\n",
              " '3992.png',\n",
              " '1675.png',\n",
              " '0174.png',\n",
              " '4280.png',\n",
              " '3973.png',\n",
              " '4529.png',\n",
              " '2254.png',\n",
              " '4064.png',\n",
              " '1396.png',\n",
              " '3076.png',\n",
              " '4788.png',\n",
              " '4900.png',\n",
              " '4312.png',\n",
              " '4964.png',\n",
              " '3195.png',\n",
              " '0942.png',\n",
              " '0009.png',\n",
              " '4050.png',\n",
              " '2988.png',\n",
              " '4195.png',\n",
              " '0269.png',\n",
              " '1432.png',\n",
              " '4078.png',\n",
              " '1647.png',\n",
              " '0634.png',\n",
              " '1243.png',\n",
              " '4210.png',\n",
              " '4227.png',\n",
              " '2952.png',\n",
              " '4876.png',\n",
              " '1465.png',\n",
              " '1374.png',\n",
              " '3045.png',\n",
              " '0866.png',\n",
              " '0684.png',\n",
              " '1787.png',\n",
              " '2447.png',\n",
              " '3914.png',\n",
              " '0397.png',\n",
              " '1806.png',\n",
              " '0365.png',\n",
              " '3692.png',\n",
              " '0808.png',\n",
              " '1300.png',\n",
              " '1981.png',\n",
              " '1435.png',\n",
              " '4954.png',\n",
              " '4811.png',\n",
              " '1464.png',\n",
              " '2951.png',\n",
              " '3430.png',\n",
              " '2530.png',\n",
              " '2043.png',\n",
              " '2934.png',\n",
              " '4157.png',\n",
              " '3865.png',\n",
              " '2510.png',\n",
              " '4756.png',\n",
              " '1320.png',\n",
              " '0625.png',\n",
              " '2274.png',\n",
              " '1011.png',\n",
              " '3719.png',\n",
              " '2947.png',\n",
              " '4592.png',\n",
              " '3037.png',\n",
              " '2366.png',\n",
              " '1605.png',\n",
              " '1311.png',\n",
              " '4192.png',\n",
              " '3985.png',\n",
              " '2194.png',\n",
              " '3609.png',\n",
              " '3718.png',\n",
              " '1888.png',\n",
              " '2684.png',\n",
              " '1877.png',\n",
              " '1084.png',\n",
              " '2541.png',\n",
              " '1322.png',\n",
              " '4852.png',\n",
              " '1833.png',\n",
              " '2053.png',\n",
              " '4681.png',\n",
              " '2567.png',\n",
              " '0711.png',\n",
              " '1974.png',\n",
              " '1709.png',\n",
              " '4889.png',\n",
              " '1869.png',\n",
              " '0296.png',\n",
              " '2961.png',\n",
              " '1867.png',\n",
              " '1469.png',\n",
              " '1012.png',\n",
              " '3236.png',\n",
              " '0739.png',\n",
              " '2531.png',\n",
              " '4784.png',\n",
              " '0613.png',\n",
              " '2377.png',\n",
              " '0479.png',\n",
              " '4397.png',\n",
              " '2596.png',\n",
              " '3546.png',\n",
              " '1486.png',\n",
              " '4404.png',\n",
              " '2109.png',\n",
              " '0730.png',\n",
              " '3171.png',\n",
              " '4528.png',\n",
              " '2648.png',\n",
              " '2336.png',\n",
              " '3785.png',\n",
              " '4056.png',\n",
              " '1429.png',\n",
              " '2959.png',\n",
              " '2299.png',\n",
              " '0590.png',\n",
              " '0288.png',\n",
              " '4432.png',\n",
              " '4688.png',\n",
              " '4338.png',\n",
              " '1062.png',\n",
              " '3932.png',\n",
              " '1874.png',\n",
              " '1889.png',\n",
              " '0100.png',\n",
              " '1854.png',\n",
              " '0458.png',\n",
              " '0257.png',\n",
              " '2764.png',\n",
              " '1938.png',\n",
              " '3095.png',\n",
              " '4187.png',\n",
              " '4155.png',\n",
              " '0191.png',\n",
              " '1942.png',\n",
              " '4652.png',\n",
              " '1229.png',\n",
              " '3026.png',\n",
              " '4506.png',\n",
              " '1859.png',\n",
              " '0943.png',\n",
              " '3253.png',\n",
              " '1202.png',\n",
              " '3804.png',\n",
              " '0931.png',\n",
              " '2521.png',\n",
              " '0052.png',\n",
              " '1344.png',\n",
              " '0984.png',\n",
              " '0255.png',\n",
              " '2302.png',\n",
              " '3334.png',\n",
              " '0577.png',\n",
              " '3127.png',\n",
              " '0688.png',\n",
              " '0334.png',\n",
              " '2364.png',\n",
              " '3912.png',\n",
              " '4042.png',\n",
              " '2272.png',\n",
              " '3070.png',\n",
              " '0802.png',\n",
              " '3525.png',\n",
              " '4721.png',\n",
              " '3648.png',\n",
              " '4204.png',\n",
              " '0415.png',\n",
              " '3883.png',\n",
              " '1656.png',\n",
              " '1150.png',\n",
              " '3971.png',\n",
              " '4677.png',\n",
              " '2236.png',\n",
              " '2140.png',\n",
              " '3108.png',\n",
              " '0042.png',\n",
              " '4277.png',\n",
              " '4816.png',\n",
              " '2214.png',\n",
              " '4579.png',\n",
              " '2434.png',\n",
              " '2920.png',\n",
              " '3511.png',\n",
              " '4553.png',\n",
              " '2783.png',\n",
              " '2966.png',\n",
              " '2702.png',\n",
              " '1110.png',\n",
              " '1138.png',\n",
              " '2694.png',\n",
              " '3152.png',\n",
              " '1382.png',\n",
              " '3954.png',\n",
              " '1073.png',\n",
              " '1001.png',\n",
              " '4275.png',\n",
              " '3244.png',\n",
              " '1768.png',\n",
              " '2775.png',\n",
              " '2188.png',\n",
              " '0470.png',\n",
              " '2457.png',\n",
              " '2989.png',\n",
              " '3814.png',\n",
              " '2655.png',\n",
              " '0810.png',\n",
              " '4089.png',\n",
              " '1730.png',\n",
              " '2121.png',\n",
              " '1420.png',\n",
              " '0393.png',\n",
              " '2858.png',\n",
              " '2588.png',\n",
              " '3404.png',\n",
              " '1257.png',\n",
              " '0845.png',\n",
              " '0742.png',\n",
              " '1608.png',\n",
              " '4036.png',\n",
              " '3711.png',\n",
              " '3664.png',\n",
              " '0471.png',\n",
              " '4138.png',\n",
              " '1563.png',\n",
              " '3923.png',\n",
              " '3686.png',\n",
              " '0345.png',\n",
              " '3272.png',\n",
              " '4266.png',\n",
              " '4193.png',\n",
              " '2106.png',\n",
              " '1503.png',\n",
              " '1523.png',\n",
              " '0244.png',\n",
              " '0074.png',\n",
              " '3159.png',\n",
              " '2273.png',\n",
              " '4046.png',\n",
              " '3417.png',\n",
              " '4134.png',\n",
              " '0258.png',\n",
              " '2295.png',\n",
              " '3158.png',\n",
              " '1988.png',\n",
              " '4024.png',\n",
              " '1566.png',\n",
              " '1225.png',\n",
              " '4899.png',\n",
              " '1696.png',\n",
              " '1440.png',\n",
              " '2802.png',\n",
              " '0565.png',\n",
              " '0896.png',\n",
              " '3020.png',\n",
              " '4868.png',\n",
              " '0260.png',\n",
              " '0089.png',\n",
              " '4441.png',\n",
              " '1183.png',\n",
              " '2476.png',\n",
              " '0101.png',\n",
              " '2562.png',\n",
              " '0329.png',\n",
              " '1351.png',\n",
              " '1790.png',\n",
              " '0678.png',\n",
              " '4724.png',\n",
              " '4532.png',\n",
              " '2276.png',\n",
              " '3988.png',\n",
              " '2799.png',\n",
              " '3213.png',\n",
              " '3969.png',\n",
              " '0816.png',\n",
              " '0114.png',\n",
              " '3156.png',\n",
              " '2926.png',\n",
              " '3481.png',\n",
              " '4627.png',\n",
              " '1329.png',\n",
              " '2624.png',\n",
              " '0252.png',\n",
              " '4088.png',\n",
              " '4453.png',\n",
              " '4999.png',\n",
              " '3636.png',\n",
              " '2999.png',\n",
              " '1829.png',\n",
              " '1341.png',\n",
              " '3977.png',\n",
              " '0627.png',\n",
              " '2683.png',\n",
              " '1897.png',\n",
              " '1367.png',\n",
              " '1089.png',\n",
              " '4840.png',\n",
              " '4107.png',\n",
              " '3191.png',\n",
              " '4864.png',\n",
              " '1554.png',\n",
              " '2283.png',\n",
              " '1641.png',\n",
              " '1218.png',\n",
              " '2614.png',\n",
              " '1069.png',\n",
              " '0086.png',\n",
              " '1408.png',\n",
              " '3820.png',\n",
              " '4915.png',\n",
              " '2281.png',\n",
              " '4308.png',\n",
              " '4823.png',\n",
              " '1616.png',\n",
              " '3413.png',\n",
              " ...]"
            ]
          },
          "metadata": {},
          "execution_count": 5
        }
      ]
    },
    {
      "cell_type": "code",
      "source": [
        "len(os.listdir(data_dir+'/train/horse'))"
      ],
      "metadata": {
        "colab": {
          "base_uri": "https://localhost:8080/"
        },
        "id": "Y8yeijOcbuEP",
        "outputId": "dc5795ff-4ba5-4953-c322-25bbb2ca27a3"
      },
      "execution_count": null,
      "outputs": [
        {
          "output_type": "execute_result",
          "data": {
            "text/plain": [
              "5000"
            ]
          },
          "metadata": {},
          "execution_count": 6
        }
      ]
    },
    {
      "cell_type": "code",
      "source": [
        "len(os.listdir(data_dir+'/test/horse'))"
      ],
      "metadata": {
        "colab": {
          "base_uri": "https://localhost:8080/"
        },
        "id": "cYo1mV6xcRDD",
        "outputId": "631eeafe-0ac8-4fe9-d16c-07e141ac138e"
      },
      "execution_count": null,
      "outputs": [
        {
          "output_type": "execute_result",
          "data": {
            "text/plain": [
              "1000"
            ]
          },
          "metadata": {},
          "execution_count": 7
        }
      ]
    },
    {
      "cell_type": "markdown",
      "source": [
        "Use test set for validation:\n",
        "\n",
        "Instead of setting aside a fraction (e.g. 10%) of the data from the training set for validation, we'll simply use the test set as our validation set. This just gives a little more data to train with. In general, once you have picked the best model architecture & hypeparameters using a fixed validation set, it is a good idea to retrain the same model on the entire dataset just to give it a small final boost in performance.\n",
        "\n",
        "Channel-wise data normalization:\n",
        "\n",
        "We will normalize the image tensors by subtracting the mean and dividing by the standard deviation across each channel. As a result, the mean of the data across each channel is 0, and standard deviation is 1. Normalizing the data prevents the values from any one channel from disproportionately affecting the losses and gradients while training, simply by having a higher or wider range of values that others.\n",
        "\n",
        "Randomized data augmentations:\n",
        "\n",
        " We will apply randomly chosen transformations while loading images from the training dataset. Specifically, we will pad each image by 4 pixels, and then take a random crop of size 32 x 32 pixels, and then flip the image horizontally with a 50% probability. Since the transformation will be applied randomly and dynamically each time a particular image is loaded, the model sees slightly different images in each epoch of training, which allows it generalize better.\n",
        "\n",
        "Data Augmentation do no use for validation set."
      ],
      "metadata": {
        "id": "WJzZI4xRdJm5"
      }
    },
    {
      "cell_type": "code",
      "source": [
        "#Data transform(normalization data augmentation)\n",
        "stats=((0.4914,0.4822,0.4465),(0.2023,0.1994,0.2010))\n",
        "# mean and std dev\n",
        "train_tfms=tt.Compose([tt.RandomCrop(32,padding=4,padding_mode='reflect'),\n",
        "                       tt.RandomHorizontalFlip(),\n",
        "                       tt.ToTensor(),\n",
        "                       tt.Normalize(*stats,inplace=True)])\n",
        "valid_tfms=tt.Compose([tt.ToTensor(),tt.Normalize(*stats)])\n",
        "# normalize needs to work with train and val dataset both bcoz model now knows only the scaled pixel values."
      ],
      "metadata": {
        "id": "BdqqUKBbcd9n"
      },
      "execution_count": null,
      "outputs": []
    },
    {
      "cell_type": "markdown",
      "source": [
        "RandomCrop(32, padding=4, padding_mode='reflect'):\n",
        "This transformation randomly crops a 32x32 area from the image, adding padding of 4 pixels on all sides before the crop. The padding is filled using a reflect mode, meaning the padded area will mirror the edge values of the image."
      ],
      "metadata": {
        "id": "tywfZ7XTgiar"
      }
    },
    {
      "cell_type": "code",
      "source": [
        "train_ds=ImageFolder(data_dir+'/train',train_tfms)\n",
        "valid_ds=ImageFolder(data_dir+'/test',valid_tfms)"
      ],
      "metadata": {
        "id": "bHTNjJtMgsA8"
      },
      "execution_count": null,
      "outputs": []
    },
    {
      "cell_type": "code",
      "source": [
        "batch_size=400"
      ],
      "metadata": {
        "id": "mt6ukzDNjRd3"
      },
      "execution_count": null,
      "outputs": []
    },
    {
      "cell_type": "code",
      "source": [
        "from torch.utils.data import DataLoader\n",
        "train_dl=DataLoader(train_ds,batch_size,shuffle=True,num_workers=2,pin_memory=True)\n",
        "valid_dl=DataLoader(valid_ds,batch_size*2,num_workers=2,pin_memory=True)"
      ],
      "metadata": {
        "id": "CmN-Rn2cgPDc"
      },
      "execution_count": null,
      "outputs": []
    },
    {
      "cell_type": "markdown",
      "source": [
        "Next, we can create data loaders for retrieving images in batches. We'll use a relatively large batch size of 500 to utlize a larger portion of the GPU RAM. You can try reducing the batch size & restarting the kernel if you face an \"out of memory\" error."
      ],
      "metadata": {
        "id": "OFCjhaslj2eB"
      }
    },
    {
      "cell_type": "code",
      "source": [
        "def show_batch(dl):\n",
        "  for images,labels in dl:\n",
        "    fig,ax=plt.subplots(figsize=(12,12))\n",
        "    ax.set_xticks([])\n",
        "    ax.set_yticks([])\n",
        "    ax.imshow(make_grid(images[:64],nrow=8).permute(1,2,0))\n",
        "    break"
      ],
      "metadata": {
        "id": "u1PEiZGTjr4t"
      },
      "execution_count": null,
      "outputs": []
    },
    {
      "cell_type": "code",
      "source": [
        "show_batch(train_dl)"
      ],
      "metadata": {
        "colab": {
          "base_uri": "https://localhost:8080/",
          "height": 998
        },
        "id": "P_T8oGxClBOC",
        "outputId": "95978c99-1d65-4e4d-91fd-048f0fb9dc20"
      },
      "execution_count": null,
      "outputs": [
        {
          "output_type": "stream",
          "name": "stderr",
          "text": [
            "WARNING:matplotlib.image:Clipping input data to the valid range for imshow with RGB data ([0..1] for floats or [0..255] for integers). Got range [-2.4290657..2.7537313].\n"
          ]
        },
        {
          "output_type": "display_data",
          "data": {
            "text/plain": [
              "<Figure size 1200x1200 with 1 Axes>"
            ],
            "image/png": "[encoded data removed]"
          },
          "metadata": {}
        }
      ]
    },
    {
      "cell_type": "markdown",
      "source": [
        "scaled_values,so colors are slightly shifted and sharper.."
      ],
      "metadata": {
        "id": "T99HjTwkll13"
      }
    },
    {
      "cell_type": "code",
      "source": [
        "# Pick GPU if available else CPU\n",
        "def get_default_device():\n",
        "  if torch.cuda.is_available():\n",
        "    return torch.device('cuda')\n",
        "  else:\n",
        "    return torch.device('cpu')\n",
        "\n",
        "# Move tensor to hosen device\n",
        "def to_device(data,device):\n",
        "  if isinstance(data,(list,tuple)):\n",
        "    return [to_device(x,device) for x in data]\n",
        "  return data.to(device,non_blocking= True)\n",
        "\n",
        "# Wrap a dataloader to move data to device\n",
        "class DeviceDataLoader():\n",
        "  def __init__(self,dl,device):\n",
        "    self.dl=dl\n",
        "    self.device=device\n",
        "\n",
        "# Yield a batch of data after moving to device\n",
        "  def __iter__(self):\n",
        "    for b in self.dl:\n",
        "      yield to_device(b,self.device)\n",
        "\n",
        "# Number of batches\n",
        "  def __len__(self):\n",
        "    return len(self.dl)"
      ],
      "metadata": {
        "id": "uX6lkk7elL5U"
      },
      "execution_count": null,
      "outputs": []
    },
    {
      "cell_type": "markdown",
      "source": [
        "Check if data is a list or tuple:\n",
        "\n",
        "The isinstance(data, (list, tuple)) checks if data is either a list or a tuple. This is useful because sometimes, we might want to pass a list or tuple of tensors to the device. So, this condition allows the function to handle those cases.\n",
        "Recursively move each item in the list/tuple to the device:\n",
        "If data is a list or tuple, it iterates over each element (x) in the list/tuple and recursively calls to_device(x, device) to move each element to the specified device.\n",
        "The list comprehension [to_device(x, device) for x in data] handles that.\n",
        "\n",
        "Move a tensor to the device:\n",
        "If data is a single tensor (not a list or tuple), the function uses data.to(device, non_blocking=True) to move the tensor to the specified device (e.g., GPU or CPU).\n",
        "\n",
        "The non_blocking=True argument allows for asynchronous data transfer (useful if you're working with a GPU), meaning the operation can proceed without waiting for the data transfer to complete (useful for performance)."
      ],
      "metadata": {
        "id": "HB3ju3Eyngz_"
      }
    },
    {
      "cell_type": "code",
      "source": [
        "device=get_default_device()\n",
        "device"
      ],
      "metadata": {
        "colab": {
          "base_uri": "https://localhost:8080/"
        },
        "id": "WiDSto1JoNI4",
        "outputId": "021861c8-3071-482f-c86a-f93e965cd703"
      },
      "execution_count": null,
      "outputs": [
        {
          "output_type": "execute_result",
          "data": {
            "text/plain": [
              "device(type='cuda')"
            ]
          },
          "metadata": {},
          "execution_count": 15
        }
      ]
    },
    {
      "cell_type": "code",
      "source": [
        "train_dl=DeviceDataLoader(train_dl,device)\n",
        "valid_dl=DeviceDataLoader(valid_dl,device)\n",
        "# every epoch,diff trnsformation\n",
        "# rotation,hue"
      ],
      "metadata": {
        "id": "Ayhe6ErXofn1"
      },
      "execution_count": null,
      "outputs": []
    },
    {
      "cell_type": "markdown",
      "source": [
        "A residual block is a key concept in deep learning, especially in architectures like ResNet (Residual Networks). It allows the network to learn residual mappings instead of learning the desired underlying mapping directly. This helps overcome the problem of vanishing gradients and makes training deeper networks easier and more efficient.\n",
        "\n",
        "input+activation fn relu after applying convolution"
      ],
      "metadata": {
        "id": "Eqn2geHzsV_a"
      }
    },
    {
      "cell_type": "markdown",
      "source": [
        "Imagine you are processing an image with a 2D convolution. A ResNet block helps the network focus on what's different between the original input image and the processed features, rather than trying to recreate the image from scratch. By adding the original image back, it guides the network to learn the features it didn’t capture and to keep track of the important parts of the image.\n",
        "\n",
        "Imagine you're a teacher trying to help a student solve a difficult math problem. The student keeps making mistakes because the problem is too long and complicated. Instead of having the student start over from scratch each time, you decide to help by reminding them of their previous answer, so they don’t forget what they did before. This way, the student can build on their previous knowledge and not lose progress.\n",
        "\n",
        "In a ResNet block, instead of starting from scratch (layer after layer), we let the network remember what it has already learned and add that information to the next layer’s output. This makes learning easier and faster, especially when the network gets deeper.\n",
        "\n"
      ],
      "metadata": {
        "id": "-qm2Iggrt2qL"
      }
    },
    {
      "cell_type": "code",
      "source": [
        "class SimpleResidualBlock(nn.Module):\n",
        "  def __init__(self):\n",
        "    super().__init__()\n",
        "    self.conv1=nn.Conv2d(in_channels=3,out_channels=3,kernel_size=3,stride=1,padding=1)\n",
        "    self.relu1=nn.ReLU()\n",
        "    self.conv2=nn.Conv2d(in_channels=3,out_channels=3,kernel_size=3,stride=1,padding=1)\n",
        "    self.relu2=nn.ReLU()\n",
        "  def forward(self,x):\n",
        "    out=self.conv1(x)\n",
        "    out=self.relu1(out)\n",
        "    out=self.conv2(out)\n",
        "    # return self.relu(out+x)\n",
        "    return self.relu2(out)+x\n",
        "# ReLU can be applied before or after adding the input"
      ],
      "metadata": {
        "id": "nD27zoSdotKQ"
      },
      "execution_count": null,
      "outputs": []
    },
    {
      "cell_type": "markdown",
      "source": [
        "When you define a convolutional layer, you specify the number of filters (or kernels). These filters are learned during training, and their purpose is to detect different features from the image (such as edges, textures, or patterns).\n",
        "Each filter in a convolutional layer has the same number of channels as the input image.\n",
        "\n",
        "For example, if your input image has 3 channels (RGB), each filter will have 3 channels (one for each color).\n",
        "The kernel size of a filter could be something like 3x3, 5x5, etc., meaning it’s looking at a 3x3 or 5x5 region of the input image at a time."
      ],
      "metadata": {
        "id": "-MC7Aq-gkL-x"
      }
    },
    {
      "cell_type": "code",
      "source": [
        "simple_resnet=to_device(SimpleResidualBlock(),device)\n",
        "\n",
        "for images,labels in train_dl:\n",
        "  out=simple_resnet(images)\n",
        "  print(out.shape)\n",
        "  break\n",
        "\n",
        "del simple_resnet,images,labels\n",
        "torch.cuda.empty_cache()\n",
        "\n",
        "# input---->output(difference)"
      ],
      "metadata": {
        "colab": {
          "base_uri": "https://localhost:8080/"
        },
        "id": "F3jfsDwdllE-",
        "outputId": "cb2b1977-35cf-40ea-8099-beb081ae819c"
      },
      "execution_count": null,
      "outputs": [
        {
          "output_type": "stream",
          "name": "stdout",
          "text": [
            "torch.Size([400, 3, 32, 32])\n"
          ]
        }
      ]
    },
    {
      "cell_type": "markdown",
      "source": [
        "We cannot change channels in residual layer as it will not let elementwise addition possible."
      ],
      "metadata": {
        "id": "c52KIOI7glDS"
      }
    },
    {
      "cell_type": "markdown",
      "source": [
        "This seeming small change produces a drastic improvement in the performance of the model. Also, after each convolutional layer, we'll add a batch normalization layer, which normalizes the outputs of the previous layer.\n",
        "\n",
        "Go through the following blog posts to learn more:\n",
        "\n",
        "* Why and how residual blocks work: https://towardsdatascience.com/residual-blocks-building-blocks-of-resnet-fd90ca15d6ec\n",
        "* Batch normalization and dropout explained: https://towardsdatascience.com/batch-normalization-and-dropout-in-neural-networks-explained-with-pytorch-47d7a8459bcd\n",
        "\n",
        "We will use the ResNet9 architecture, as described in [this blog series](https://www.myrtle.ai/2018/09/24/how_to_train_your_resnet/) :\n",
        "\n",
        "![resnet-9](https://github.com/lambdal/cifar10-fast/raw/master/net.svg?sanitize=true)"
      ],
      "metadata": {
        "id": "cDe6_2e-nVkn"
      }
    },
    {
      "cell_type": "markdown",
      "source": [
        "output H(x) = convolutional layer(R(x))+ original input(x)"
      ],
      "metadata": {
        "id": "PC8p7zFzhZSS"
      }
    },
    {
      "cell_type": "markdown",
      "source": [
        "Batch Normalization(subtracts a mean and divide by standard deviation):normalize in same range the activations\n",
        "\n",
        "Purpose: ReLU is an activation function used to introduce non-linearity in neural networks, which allows them to model complex relationships in the data. It is applied after a convolutional layer or dense layer.\n",
        "\n",
        "The mathematical definition of ReLU:\n",
        "f(x)=max(0,x)\n",
        "\n",
        "If the output is negative, it is set to 0; otherwise, the output remains same.\n",
        "\n",
        "In the context of convolutional neural networks (CNNs), Batch Normalization (BN) is applied to the activations of a layer, typically before applying the ReLU activation function."
      ],
      "metadata": {
        "id": "uYLliyU8jHs0"
      }
    },
    {
      "cell_type": "markdown",
      "source": [
        "relued values can be normalized in same way after finding mean and standard deviation\n",
        "ChatGPT said:\n",
        "ChatGPT\n",
        "Yes, you can normalize the values after applying the ReLU activation, but the typical practice is to apply Batch Normalization before ReLU for the reasons we discussed earlier. However, if you choose to normalize the values after applying ReLU, you can indeed calculate the mean and standard deviation and normalize them, but it might not yield the same benefits as the conventional approach (Batch Normalization before ReLU).\n",
        "\n",
        "What Happens When You Apply Normalization After ReLU?\n",
        "If you apply ReLU first and then normalize, you would first have a mixture of zero values (because ReLU clips negative values to zero) and positive values. Then, after calculating the mean and standard deviation, you would normalize the values as follows:\n",
        "\n",
        "Steps for Normalization After ReLU:\n",
        "ReLU Activation:\n",
        "\n",
        "Apply the ReLU activation function to the input. ReLU will turn all negative values to zero, so you will have a set of activations where some values are positive and others are zero.\n",
        "Calculate Mean and Standard Deviation:\n",
        "\n",
        "After applying ReLU, compute the mean and standard deviation of the resulting activations.\n",
        "Normalization:\n",
        "\n",
        "normalized_value= value−mean/std_dev\n",
        "\n",
        "This will scale your activations to have a mean of zero and a standard deviation of one.\n",
        "Apply This Normalized Value:\n",
        "\n",
        "Use these normalized values as the inputs to the next layer.\n",
        "​\n",
        "\n"
      ],
      "metadata": {
        "id": "q4t3tQcEmTK6"
      }
    },
    {
      "cell_type": "markdown",
      "source": [
        "Yes, **Batch Normalization**, **ReLU**, and similar techniques are applied to **the outputs of convolutional layers**, which are based on pixel intensities and their transformations. Here's how these techniques work with respect to pixel intensities and their activations:\n",
        "\n",
        "### 1. **Convolutional Layers:**\n",
        "   - The convolutional layers in a CNN process **raw pixel intensities** from the input image. These pixels are typically in the form of a 3D tensor (height, width, channels) representing the image.\n",
        "   - The convolutional filter kernels slide over these pixel values and compute weighted sums (or dot products) of pixel values, which are then passed through a non-linear activation function like ReLU.\n",
        "\n",
        "### 2. **ReLU Activation:**\n",
        "   - After convolution, we apply **ReLU (Rectified Linear Unit)** to the output to introduce non-linearity. This means:\n",
        "     \\[\n",
        "     \\text{ReLU}(x) = \\max(0, x)\n",
        "     \\]\n",
        "     - **ReLU** sets negative values to zero and keeps positive values intact. This operation helps the network learn complex patterns and relationships from the input data (which in this case, are pixel intensities).\n",
        "   - After **ReLU**, the activations are not bounded and can take any positive value.\n",
        "\n",
        "### 3. **Normalization (e.g., Batch Normalization):**\n",
        "   - After applying ReLU, the activations (which are the output of the convolutional layers and ReLU) are **normalized**. This is where techniques like **Batch Normalization** come in.\n",
        "   \n",
        "   - **Batch Normalization** normalizes the activations of each feature (channel) over the entire mini-batch. The normalization is done using the **mean and standard deviation** of the activations for each channel across all the training samples in the mini-batch.\n",
        "   \n",
        "   - **Normalization** ensures that the activations are centered around zero and have a standard deviation of one. This prevents the model from having highly skewed or extremely large activation values, which can hinder learning.\n",
        "   - **The reason Batch Normalization is used after ReLU** is that it ensures the network doesn't have extreme values due to the non-linearity (ReLU), making the model more stable and improving training efficiency.\n",
        "\n",
        "### Pixel Intensities and Their Transformation:\n",
        "- Initially, **raw pixel intensities** are input into the CNN. These values can be between 0 and 255 (for RGB images), but it's common to **normalize** pixel values before feeding them into the network (e.g., dividing by 255 to bring them into the range [0, 1]).\n",
        "- During the convolution process, these pixel intensities are transformed via filters, and the resulting activations are passed through non-linearities like **ReLU**.\n",
        "- After **ReLU**, the resulting activations (which can be either zero or positive) are often normalized using techniques like **Batch Normalization** to stabilize training.\n",
        "\n",
        "### Example Flow for Image Pixel Processing:\n",
        "1. **Input Image**: The raw pixel intensities are taken from the image.\n",
        "   - Example: A 32x32 RGB image would have pixel values like:\n",
        "     \\[\n",
        "     \\text{Pixel values:} \\, [[0, 255, 128], [32, 45, 200], ...]\n",
        "     \\]\n",
        "\n",
        "2. **Convolution**: A convolutional filter is applied, and the resulting values are transformed.\n",
        "   - Example: After convolution with a 3x3 filter, the output might be something like:\n",
        "     \\[\n",
        "     \\text{Convolution output:} \\, [[4.5, 3.2, 1.1], [2.0, 4.5, 0.2], ...]\n",
        "     \\]\n",
        "\n",
        "3. **ReLU Activation**: The output of the convolution is passed through ReLU to remove negative values.\n",
        "   - Example (ReLU output):\n",
        "     \\[\n",
        "     \\text{ReLU output:} \\, [[4.5, 3.2, 1.1], [2.0, 4.5, 0.2], ...]\n",
        "     \\]\n",
        "   - Notice that negative values become zero (if any existed).\n",
        "\n",
        "4. **Normalization** (Batch Normalization): The activations are normalized using the mean and standard deviation across the batch. This is done to improve training stability and convergence.\n",
        "   - Example (Batch Normalized output):\n",
        "     \\[\n",
        "     \\text{Normalized output:} \\, [[-0.3, 0.1, 0.2], [0.5, -0.2, 0.1], ...]\n",
        "     \\]\n",
        "   - The result is that the activations now have a mean of 0 and standard deviation of 1, making them more suitable for further learning.\n",
        "\n",
        "### Why Apply These Techniques to Pixel Intensities?\n",
        "- **ReLU** is used after convolution to introduce non-linearity, allowing the model to learn more complex patterns from the data. It helps prevent the model from simply learning linear relationships.\n",
        "  \n",
        "- **Batch Normalization** helps stabilize the training by ensuring that the activations don't explode or vanish, and it speeds up convergence by keeping the activations in a reasonable range.\n",
        "\n",
        "### When Not to Normalize?\n",
        "- You don't typically apply normalization to the **input pixel values** (before the convolution), as normalizing the raw image data would already achieve a similar effect.\n",
        "\n",
        "Instead, normalization is done after ReLU activation for **convolutional layer outputs** to ensure that the model can learn more effectively.\n",
        "\n",
        "---\n",
        "\n",
        "### Summary:\n",
        "- The process starts with **raw pixel intensities** being passed through the convolutional layers, which extract features.\n",
        "\n",
        "- After convolution, **ReLU** is applied to introduce non-linearity and allow the model to learn more complex features.\n",
        "\n",
        "- **Batch Normalization** is often applied after ReLU to normalize the activations and ensure stable training.\n",
        "- This flow helps the model to learn better representations of the data while improving convergence and reducing training instability.\n",
        "\n",
        "If you are working with an image classification task and want to preprocess your data efficiently, applying ReLU followed by Batch Normalization is a well-established approach."
      ],
      "metadata": {
        "id": "E9tc76qFpZe2"
      }
    },
    {
      "cell_type": "markdown",
      "source": [
        "--->We are normalizing the features to do not let some features disproportionately affecting the results."
      ],
      "metadata": {
        "id": "pug8dfHMpt1M"
      }
    },
    {
      "cell_type": "code",
      "source": [
        "  def accuracy(outputs,labels):\n",
        "    _,preds=torch.max(outputs,dim=1)\n",
        "    return torch.tensor(torch.sum(preds==labels).item()/len(preds))\n",
        "\n",
        "  class ImageClassificationBase(nn.Module):\n",
        "    def training_step(self,batch):\n",
        "      images,labels=batch\n",
        "      out=self(images)\n",
        "      loss=F.cross_entropy(out,labels)\n",
        "      return loss\n",
        "\n",
        "    def validation_step(self,batch):\n",
        "      images,labels=batch\n",
        "      out=self(images)\n",
        "      loss=F.cross_entropy(out,labels)\n",
        "      acc=accuracy(out,labels)\n",
        "      return {'val_loss':loss.detach(),'val_acc':acc}\n",
        "\n",
        "    def validation_epoch_end(self,outputs):\n",
        "      batch_losses=[x['val_loss'] for x in outputs]\n",
        "      epoch_loss=torch.stack(batch_losses).mean()\n",
        "      batch_accs=[x['val_acc'] for x in outputs]\n",
        "      epoch_acc=torch.stack(batch_accs).mean()\n",
        "      return {'val_loss':epoch_loss.item(),'val_acc':epoch_acc.item()}\n",
        "\n",
        "    def epoch_end(self,epoch,result):\n",
        "      print(\"Epoch [{}],last_lr:{:.5f},train_loss:{:.4f},val_loss:{:.4f},val_acc{:.4f}\".format(epoch,result['lrs'][-1],\n",
        "                                                                                               result['train_loss'],\n",
        "                                                                                               result['val_loss'],\n",
        "                                                                                               result['val_acc']))"
      ],
      "metadata": {
        "id": "f2eBJbNPnU3P"
      },
      "execution_count": null,
      "outputs": []
    },
    {
      "cell_type": "code",
      "source": [
        "def conv_block(in_channels,out_channels,pool=False):\n",
        "  layers=[nn.Conv2d(in_channels,out_channels,kernel_size=3,padding=1),\n",
        "          nn.BatchNorm2d(out_channels),\n",
        "          nn.ReLU(inplace=True)]\n",
        "  if pool:\n",
        "    layers.append(nn.MaxPool2d(2))\n",
        "  return nn.Sequential(*layers)\n",
        "class ResNet9(ImageClassificationBase):\n",
        "  def __init__(self,in_channels,num_classes):\n",
        "    super().__init__()\n",
        "    self.conv1=conv_block(in_channels,64)   #3*64*32*32\n",
        "    self.conv2=conv_block(64,128,pool=True)  #128*16*16\n",
        "    self.res1=nn.Sequential(conv_block(128,128),\n",
        "                            conv_block(128,128))  #128*16*16:residual\n",
        "\n",
        "    self.conv3=conv_block(128,256,pool=True)  #256*8*8\n",
        "    self.conv4=conv_block(256,512,pool=True)  #512*4*4\n",
        "    self.res2=nn.Sequential(conv_block(512,512),\n",
        "                            conv_block(512,512))  #512*4*4\n",
        "\n",
        "    self.classifier=nn.Sequential(nn.MaxPool2d(4),#512*1*1\n",
        "                                 nn.Flatten(),   #512\n",
        "                                 nn.Linear(512,num_classes)\n",
        "                                 )#512 to 10 probab\n",
        "                                #  10 preds\n",
        "  def forward(self,xb):\n",
        "    x1=self.conv1(xb)\n",
        "    x2=self.conv2(x1)\n",
        "    x1_res=self.res1(x2)\n",
        "    x2= x2 + x1_res\n",
        "    x3=self.conv3(x2)\n",
        "    x4=self.conv4(x3)\n",
        "    x2_res=self.res2(x4)\n",
        "    x4= x4 + x2_res\n",
        "    out=self.classifier(x4)\n",
        "    return out"
      ],
      "metadata": {
        "id": "4OWwY6Qivfc1"
      },
      "execution_count": null,
      "outputs": []
    },
    {
      "cell_type": "code",
      "source": [
        "model=to_device(ResNet9(3,10),device)\n",
        "model"
      ],
      "metadata": {
        "colab": {
          "base_uri": "https://localhost:8080/"
        },
        "id": "sjpGi6ZxJ6Sf",
        "outputId": "be86f66d-8409-4cb2-f248-0723cc7fb657"
      },
      "execution_count": null,
      "outputs": [
        {
          "output_type": "execute_result",
          "data": {
            "text/plain": [
              "ResNet9(\n",
              "  (conv1): Sequential(\n",
              "    (0): Conv2d(3, 64, kernel_size=(3, 3), stride=(1, 1), padding=(1, 1))\n",
              "    (1): BatchNorm2d(64, eps=1e-05, momentum=0.1, affine=True, track_running_stats=True)\n",
              "    (2): ReLU(inplace=True)\n",
              "  )\n",
              "  (conv2): Sequential(\n",
              "    (0): Conv2d(64, 128, kernel_size=(3, 3), stride=(1, 1), padding=(1, 1))\n",
              "    (1): BatchNorm2d(128, eps=1e-05, momentum=0.1, affine=True, track_running_stats=True)\n",
              "    (2): ReLU(inplace=True)\n",
              "    (3): MaxPool2d(kernel_size=2, stride=2, padding=0, dilation=1, ceil_mode=False)\n",
              "  )\n",
              "  (res1): Sequential(\n",
              "    (0): Sequential(\n",
              "      (0): Conv2d(128, 128, kernel_size=(3, 3), stride=(1, 1), padding=(1, 1))\n",
              "      (1): BatchNorm2d(128, eps=1e-05, momentum=0.1, affine=True, track_running_stats=True)\n",
              "      (2): ReLU(inplace=True)\n",
              "    )\n",
              "    (1): Sequential(\n",
              "      (0): Conv2d(128, 128, kernel_size=(3, 3), stride=(1, 1), padding=(1, 1))\n",
              "      (1): BatchNorm2d(128, eps=1e-05, momentum=0.1, affine=True, track_running_stats=True)\n",
              "      (2): ReLU(inplace=True)\n",
              "    )\n",
              "  )\n",
              "  (conv3): Sequential(\n",
              "    (0): Conv2d(128, 256, kernel_size=(3, 3), stride=(1, 1), padding=(1, 1))\n",
              "    (1): BatchNorm2d(256, eps=1e-05, momentum=0.1, affine=True, track_running_stats=True)\n",
              "    (2): ReLU(inplace=True)\n",
              "    (3): MaxPool2d(kernel_size=2, stride=2, padding=0, dilation=1, ceil_mode=False)\n",
              "  )\n",
              "  (conv4): Sequential(\n",
              "    (0): Conv2d(256, 512, kernel_size=(3, 3), stride=(1, 1), padding=(1, 1))\n",
              "    (1): BatchNorm2d(512, eps=1e-05, momentum=0.1, affine=True, track_running_stats=True)\n",
              "    (2): ReLU(inplace=True)\n",
              "    (3): MaxPool2d(kernel_size=2, stride=2, padding=0, dilation=1, ceil_mode=False)\n",
              "  )\n",
              "  (res2): Sequential(\n",
              "    (0): Sequential(\n",
              "      (0): Conv2d(512, 512, kernel_size=(3, 3), stride=(1, 1), padding=(1, 1))\n",
              "      (1): BatchNorm2d(512, eps=1e-05, momentum=0.1, affine=True, track_running_stats=True)\n",
              "      (2): ReLU(inplace=True)\n",
              "    )\n",
              "    (1): Sequential(\n",
              "      (0): Conv2d(512, 512, kernel_size=(3, 3), stride=(1, 1), padding=(1, 1))\n",
              "      (1): BatchNorm2d(512, eps=1e-05, momentum=0.1, affine=True, track_running_stats=True)\n",
              "      (2): ReLU(inplace=True)\n",
              "    )\n",
              "  )\n",
              "  (classifier): Sequential(\n",
              "    (0): MaxPool2d(kernel_size=4, stride=4, padding=0, dilation=1, ceil_mode=False)\n",
              "    (1): Flatten(start_dim=1, end_dim=-1)\n",
              "    (2): Linear(in_features=512, out_features=10, bias=True)\n",
              "  )\n",
              ")"
            ]
          },
          "metadata": {},
          "execution_count": 42
        }
      ]
    },
    {
      "cell_type": "code",
      "source": [
        "# Check the indentation of functions in class"
      ],
      "metadata": {
        "id": "lWX1tHjhVBT2"
      },
      "execution_count": null,
      "outputs": []
    },
    {
      "cell_type": "markdown",
      "source": [
        "The **learning rate** in deep learning refers to the size of the steps the model takes when adjusting its weights during training to minimize the loss function. It determines how much the model's parameters are updated in response to the calculated gradient of the loss function.\n",
        "\n",
        "### **High Learning Rate:**\n",
        "- **Definition**: A high learning rate means the model makes **larger updates** to its weights after each step.\n",
        "- **Impact**:\n",
        "  - The model will **converge faster** initially, but it might \"overshoot\" the optimal point because the steps are too large.\n",
        "  - High learning rates can cause the model to **oscillate** around the optimal point and fail to settle at the best solution.\n",
        "  - It can lead to a **loss of stability** in training, and in the worst case, the model may diverge, meaning it never converges to a minimum.\n",
        "- **When to use**: High learning rates might be useful at the start of training when you're trying to quickly explore the parameter space, but they usually need to be reduced as training progresses (using techniques like learning rate schedules).\n",
        "\n",
        "### **Low Learning Rate:**\n",
        "- **Definition**: A low learning rate means the model makes **smaller updates** to its weights after each step.\n",
        "- **Impact**:\n",
        "  - The model will **converge more slowly** and require more iterations, but it has a better chance of **fine-tuning** the weights and finding the optimal solution.\n",
        "  - A low learning rate helps prevent overshooting, but it can get stuck in local minima (suboptimal solutions).\n",
        "  - It tends to lead to **more stable training** and is less likely to cause divergence.\n",
        "- **When to use**: Low learning rates are often preferred in the later stages of training, as they allow the model to gradually find a good minimum without overshooting.\n",
        "\n",
        "### **Balancing the Learning Rate:**\n",
        "- **Too High**: If the learning rate is too high, you risk overshooting the optimal solution, leading to poor performance or training instability.\n",
        "- **Too Low**: If the learning rate is too low, training may take an excessive amount of time and might get stuck in suboptimal points (local minima) without reaching the best possible solution.\n",
        "\n",
        "### **Finding the Right Learning Rate:**\n",
        "- **Learning Rate Scheduling**: Often, people start with a higher learning rate and gradually reduce it as training progresses. Techniques like **learning rate annealing**, **cyclical learning rates**, or **adaptive optimizers** like Adam can adjust the learning rate dynamically.\n",
        "- **Learning Rate Finder**: Some advanced techniques (e.g., \"learning rate finder\") can help you empirically find an optimal learning rate by experimenting with different values during training.\n",
        "\n",
        "\n",
        "![image.png](data:image/png;base64,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)\n",
        "\n",
        "Here in starting more learning rate to quickly learn more but less steps to learn every aspect and finally settling to minimum."
      ],
      "metadata": {
        "id": "ssBX84-AKJRi"
      }
    },
    {
      "cell_type": "markdown",
      "source": [
        "First we normalize the inputs to not let any input feature to affect much.(inputs in any channels do not become large!)\n",
        "\n",
        "none of the outputs become v.large(affect jada na kare)\n",
        "\n",
        "weight of layer disproportionately affects the loss and gradient.\n",
        "\n",
        "WEIGHT DECAY:\n",
        "Loss = MSE(y_hat, y) + wd * sum(w^2)\n",
        "\n",
        "minimize loss and weights low\n",
        "\n",
        "backpropagation:gradients get too large(we can be thrown off completely from the path when gradients get too large!)\n",
        "\n",
        "What gradient clipping do is that i will use gradient to decide how much step to take.But you do not want to use gradient for a large extent.If a gradient is larger than a particular value,i willjust threshold it..."
      ],
      "metadata": {
        "id": "sgCxaSWuNAgg"
      }
    },
    {
      "cell_type": "code",
      "source": [
        "@torch.no_grad()\n",
        "def evaluate(model,val_loader):\n",
        "  model.eval()\n",
        "  outputs=[model.validation_step(batch) for batch in val_loader]\n",
        "  return model.validation_epoch_end(outputs)"
      ],
      "metadata": {
        "id": "tOKfx7x8PYAZ"
      },
      "execution_count": null,
      "outputs": []
    },
    {
      "cell_type": "code",
      "source": [
        "def get_lr(optimizer):\n",
        "  for param_group in optimizer.param_groups:\n",
        "    return param_group['lr']"
      ],
      "metadata": {
        "id": "qb0r9fUlPxPB"
      },
      "execution_count": null,
      "outputs": []
    },
    {
      "cell_type": "markdown",
      "source": [
        "In PyTorch, optimizer.param_groups refers to a list of dictionaries containing the parameters of the model that are being optimized, along with the corresponding hyperparameters such as the learning rate, momentum, and weight decay.\n",
        "\n",
        "The param_groups is used when you have multiple sets of parameters in your model that you want to optimize with different settings. For example, you might want to apply different learning rates to different layers, or use different optimizers for specific parts of your model (like using a higher learning rate for the classifier layers and a lower one for the feature extractor layers)."
      ],
      "metadata": {
        "id": "DdnZX6onQM1D"
      }
    },
    {
      "cell_type": "code",
      "source": [
        "train_dl=DeviceDataLoader(train_dl,device)\n",
        "valid_dl=DeviceDataLoader(valid_dl,device)"
      ],
      "metadata": {
        "id": "cwnfjb7kFtQw"
      },
      "execution_count": null,
      "outputs": []
    },
    {
      "cell_type": "code",
      "source": [
        "def fit_one_cycle(epochs,max_lr,model,train_loader,val_loader,weight_decay=0,grad_clip=None,opt_func=torch.optim.SGD):\n",
        "  torch.cuda.empty_cache()\n",
        "  history=[]\n",
        "\n",
        "  # Setting up custom optimizer with weight decay:\n",
        "  optimizer=opt_func(model.parameters(),max_lr,weight_decay=weight_decay)\n",
        "# weight decay from-0.1 to .1\n",
        "\n",
        "  # Setting up one-cyclelearning rate scheduler:\n",
        "  sched=torch.optim.lr_scheduler.OneCycleLR(optimizer,max_lr,epochs=epochs,steps_per_epoch=len(train_loader))\n",
        "  # step per epoch tells how many batches trained per epoch.\n",
        "# Total no of batches being trained:step_per_epoch*epochs\n",
        "\n",
        "  for epoch in range(epochs):\n",
        "    # Trainig phase(dropout,shufling,batch normalization,Randomization)\n",
        "    model.train()\n",
        "    train_losses=[]\n",
        "    lrs=[]\n",
        "    for batch in train_loader:\n",
        "      loss=model.training_step(batch)\n",
        "      train_losses.append(loss)\n",
        "      loss.backward()\n",
        "      # gradients are calculated!\n",
        "\n",
        "      # Gradient clipping\n",
        "    if grad_clip:\n",
        "      nn.utils.clip_grad_value_(model.parameters(),grad_clip)\n",
        "\n",
        "      optimizer.step()#modify weights and bias\n",
        "      optimizer.zero_grad()\n",
        "\n",
        "      # Record and update learning rate\n",
        "      lrs.append(get_lr(optimizer))\n",
        "      sched.step()#optimize lrs(normal gradient descent achieve)\n",
        "\n",
        "    #Validation Phase\n",
        "    result=evaluate(model,val_loader)\n",
        "    result['train_loss']=torch.stack(train_losses).mean().item()\n",
        "    result['lrs']=lrs\n",
        "    model.epoch_end(epoch,result)\n",
        "    history.append(result)\n",
        "  return history"
      ],
      "metadata": {
        "id": "S-R85qJcQfYV"
      },
      "execution_count": null,
      "outputs": []
    },
    {
      "cell_type": "code",
      "source": [
        "history=[evaluate(model,valid_dl)]\n",
        "history"
      ],
      "metadata": {
        "colab": {
          "base_uri": "https://localhost:8080/"
        },
        "id": "iWpr4ukOEWHt",
        "outputId": "83bdb167-48e8-418a-e1f4-ca153d7a5c73"
      },
      "execution_count": null,
      "outputs": [
        {
          "output_type": "execute_result",
          "data": {
            "text/plain": [
              "[{'val_loss': 2.3004536628723145, 'val_acc': 0.12240384519100189}]"
            ]
          },
          "metadata": {},
          "execution_count": 59
        }
      ]
    },
    {
      "cell_type": "markdown",
      "source": [
        "SGD:What it does,it subtracts small value proprtional to gradient for each weight"
      ],
      "metadata": {
        "id": "GKMtZQ78H3lM"
      }
    },
    {
      "cell_type": "markdown",
      "source": [
        "Adam:adam optimizer uses momentum like using parameters from previous batch to achieve momentum.you dont bounce around too much.learn the direction to head.\n",
        "\n",
        "Adaptive learning rate4s:eachlayer,we have factor multiplied with lr."
      ],
      "metadata": {
        "id": "fNF8u-Z5IGxG"
      }
    },
    {
      "cell_type": "code",
      "source": [
        "epochs=16\n",
        "max_lr=0.01\n",
        "grad_clip=0.1\n",
        "weight_decay=1e-4\n",
        "opt_func=torch.optim.Adam"
      ],
      "metadata": {
        "id": "Qv-a4jaUH294"
      },
      "execution_count": null,
      "outputs": []
    },
    {
      "cell_type": "code",
      "source": [
        "%%time\n",
        "history+=fit_one_cycle(epochs,max_lr,model,train_dl,valid_dl,grad_clip=grad_clip,weight_decay=weight_decay,opt_func=opt_func)"
      ],
      "metadata": {
        "colab": {
          "base_uri": "https://localhost:8080/"
        },
        "id": "o7NaaPV6Iy-t",
        "outputId": "38217f4f-e8fd-4e60-c425-1d01ba0da1e8"
      },
      "execution_count": null,
      "outputs": [
        {
          "output_type": "stream",
          "name": "stdout",
          "text": [
            "Epoch [0],last_lr:0.00040,train_loss:1.5146,val_loss:5.2499,val_acc0.1802\n",
            "Epoch [1],last_lr:0.00040,train_loss:4.2288,val_loss:3.1285,val_acc0.2439\n",
            "Epoch [2],last_lr:0.00040,train_loss:2.9862,val_loss:2.4548,val_acc0.2512\n",
            "Epoch [3],last_lr:0.00040,train_loss:2.1238,val_loss:2.1366,val_acc0.2914\n",
            "Epoch [4],last_lr:0.00040,train_loss:1.7615,val_loss:1.7086,val_acc0.4024\n",
            "Epoch [5],last_lr:0.00040,train_loss:1.6586,val_loss:1.6767,val_acc0.4148\n",
            "Epoch [6],last_lr:0.00040,train_loss:1.5978,val_loss:1.7041,val_acc0.4209\n",
            "Epoch [7],last_lr:0.00040,train_loss:1.5667,val_loss:1.5031,val_acc0.4553\n",
            "Epoch [8],last_lr:0.00040,train_loss:1.5419,val_loss:1.4642,val_acc0.4549\n",
            "Epoch [9],last_lr:0.00041,train_loss:1.4824,val_loss:1.4234,val_acc0.4863\n",
            "Epoch [10],last_lr:0.00041,train_loss:1.4268,val_loss:1.4009,val_acc0.4991\n",
            "Epoch [11],last_lr:0.00041,train_loss:1.4013,val_loss:1.3205,val_acc0.5302\n",
            "Epoch [12],last_lr:0.00041,train_loss:1.3683,val_loss:1.2669,val_acc0.5452\n",
            "Epoch [13],last_lr:0.00041,train_loss:1.3289,val_loss:1.2635,val_acc0.5500\n",
            "Epoch [14],last_lr:0.00041,train_loss:1.3082,val_loss:1.2387,val_acc0.5619\n",
            "Epoch [15],last_lr:0.00041,train_loss:1.3036,val_loss:1.2001,val_acc0.5743\n",
            "CPU times: user 39.9 s, sys: 7.45 s, total: 47.3 s\n",
            "Wall time: 10min 1s\n"
          ]
        }
      ]
    },
    {
      "cell_type": "code",
      "source": [
        "def plot_accuracies(history):\n",
        "  accuracies=[x['val_acc'] for x in history]\n",
        "  plt.plot(accuracies,'-x')\n",
        "  plt.xlabel('epoch')\n",
        "  plt.ylabel('accuracy')\n",
        "  plt.title('No of epoch vs accuracy')"
      ],
      "metadata": {
        "id": "xAjFF5cDKbdC"
      },
      "execution_count": null,
      "outputs": []
    },
    {
      "cell_type": "code",
      "source": [
        "plot_accuracies(history)"
      ],
      "metadata": {
        "colab": {
          "base_uri": "https://localhost:8080/",
          "height": 472
        },
        "id": "t-FwmHLhO4G7",
        "outputId": "5fb94f21-7daa-4528-ead4-ff3a5846c78d"
      },
      "execution_count": null,
      "outputs": [
        {
          "output_type": "display_data",
          "data": {
            "text/plain": [
              "<Figure size 640x480 with 1 Axes>"
            ],
            "image/png": "[encoded data removed]"
          },
          "metadata": {}
        }
      ]
    },
    {
      "cell_type": "code",
      "source": [
        "def plot_losses(history):\n",
        "  train_losses=[x.get('train_loss') for x in history]\n",
        "  val_losses=[x['val_loss'] for x in history]\n",
        "  plt.plot(train_losses,'-bx')\n",
        "  plt.plot(val_losses,'-rx')\n",
        "  plt.xlabel('epoch')\n",
        "  plt.ylabel('loss')\n",
        "  plt.legend(['Training','Validation'])\n",
        "  plt.title('Loss vs no of epochs')"
      ],
      "metadata": {
        "id": "vAZopeI3MVrD"
      },
      "execution_count": null,
      "outputs": []
    },
    {
      "cell_type": "code",
      "source": [
        "plot_losses(history)"
      ],
      "metadata": {
        "colab": {
          "base_uri": "https://localhost:8080/",
          "height": 472
        },
        "id": "zQFbbJE3O9kO",
        "outputId": "813f0ce2-249b-404e-f657-45892e4155d6"
      },
      "execution_count": null,
      "outputs": [
        {
          "output_type": "display_data",
          "data": {
            "text/plain": [
              "<Figure size 640x480 with 1 Axes>"
            ],
            "image/png": "[encoded data removed]"
          },
          "metadata": {}
        }
      ]
    },
    {
      "cell_type": "markdown",
      "source": [
        "Reason for a drastic change?"
      ],
      "metadata": {
        "id": "yMY9FXJQPIFY"
      }
    },
    {
      "cell_type": "code",
      "source": [
        "def plot_lrs(history):\n",
        "  lrs=np.concatenate([x.get('lrs',[]) for x  in history])\n",
        "  plt.plot(lrs)\n",
        "  plt.xlabel('batch no')\n",
        "  plt.ylabel('Learning Rate')\n",
        "  plt.title('learning rate vs batch no')"
      ],
      "metadata": {
        "id": "qtNWK4d9NtR_"
      },
      "execution_count": null,
      "outputs": []
    },
    {
      "cell_type": "code",
      "source": [
        "plot_lrs(history)"
      ],
      "metadata": {
        "colab": {
          "base_uri": "https://localhost:8080/",
          "height": 472
        },
        "id": "9cg9xNv8PMPD",
        "outputId": "67e6963f-bc8b-440a-d883-951e9a47fcf4"
      },
      "execution_count": null,
      "outputs": [
        {
          "output_type": "display_data",
          "data": {
            "text/plain": [
              "<Figure size 640x480 with 1 Axes>"
            ],
            "image/png": "[encoded data removed]"
          },
          "metadata": {}
        }
      ]
    },
    {
      "cell_type": "markdown",
      "source": [
        "Wrong graph kyu??"
      ],
      "metadata": {
        "id": "Tc8hW5hZP_PR"
      }
    },
    {
      "cell_type": "code",
      "source": [
        "torch.save(model.state_dict(),'cifar10-resnet9.pth')"
      ],
      "metadata": {
        "id": "vhiWnEB_QGiH"
      },
      "execution_count": null,
      "outputs": []
    }
  ]
}